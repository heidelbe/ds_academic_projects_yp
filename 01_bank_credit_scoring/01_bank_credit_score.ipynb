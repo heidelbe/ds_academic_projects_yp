{
 "cells": [
  {
   "cell_type": "markdown",
   "metadata": {},
   "source": [
    "# Исследование надёжности заёмщиков\n",
    "\n",
    "**Заказчик**: кредитный отдел банка  \n",
    "**Задача**: выяснить, какие факторы (особенности заемщика) больше всего влияют на факт погашения кредита в срок  \n",
    "**Данные**: Предоставлены банком — статистика о платёжеспособности клиентов  \n",
    "\n",
    "Результаты исследования будут учтены при построении модели **кредитного скоринга** — специальной системы, которая оценивает способность потенциального заёмщика вернуть кредит банку."
   ]
  },
  {
   "cell_type": "markdown",
   "metadata": {
    "toc": true
   },
   "source": [
    "<h1>Table of Contents<span class=\"tocSkip\"></span></h1>\n",
    "<div class=\"toc\"><ul class=\"toc-item\"><li><span><a href=\"#Общая-информация-об-исходных-данных\" data-toc-modified-id=\"Общая-информация-об-исходных-данных-1\"><span class=\"toc-item-num\">1&nbsp;&nbsp;</span>Общая информация об исходных данных</a></span><ul class=\"toc-item\"><li><span><a href=\"#Вывод-(общая-информация)\" data-toc-modified-id=\"Вывод-(общая-информация)-1.1\"><span class=\"toc-item-num\">1.1&nbsp;&nbsp;</span>Вывод (общая информация)</a></span></li></ul></li><li><span><a href=\"#Предобработка-данных\" data-toc-modified-id=\"Предобработка-данных-2\"><span class=\"toc-item-num\">2&nbsp;&nbsp;</span>Предобработка данных</a></span><ul class=\"toc-item\"><li><span><a href=\"#Обработка-пропусков\" data-toc-modified-id=\"Обработка-пропусков-2.1\"><span class=\"toc-item-num\">2.1&nbsp;&nbsp;</span>Обработка пропусков</a></span><ul class=\"toc-item\"><li><span><a href=\"#Выявление-пропусков\" data-toc-modified-id=\"Выявление-пропусков-2.1.1\"><span class=\"toc-item-num\">2.1.1&nbsp;&nbsp;</span>Выявление пропусков</a></span></li><li><span><a href=\"#Столбец-days_employed,-обработка-пропусков\" data-toc-modified-id=\"Столбец-days_employed,-обработка-пропусков-2.1.2\"><span class=\"toc-item-num\">2.1.2&nbsp;&nbsp;</span>Столбец <code>days_employed</code>, обработка пропусков</a></span></li><li><span><a href=\"#Столбец-total_income,-обработка-пропусков\" data-toc-modified-id=\"Столбец-total_income,-обработка-пропусков-2.1.3\"><span class=\"toc-item-num\">2.1.3&nbsp;&nbsp;</span>Столбец <code>total_income</code>, обработка пропусков</a></span></li><li><span><a href=\"#Вывод-(обработка-пропусков)\" data-toc-modified-id=\"Вывод-(обработка-пропусков)-2.1.4\"><span class=\"toc-item-num\">2.1.4&nbsp;&nbsp;</span>Вывод (обработка пропусков)</a></span></li></ul></li><li><span><a href=\"#Замена-типов-данных\" data-toc-modified-id=\"Замена-типов-данных-2.2\"><span class=\"toc-item-num\">2.2&nbsp;&nbsp;</span>Замена типов данных</a></span><ul class=\"toc-item\"><li><span><a href=\"#Вывод-(замена-типов-данных)\" data-toc-modified-id=\"Вывод-(замена-типов-данных)-2.2.1\"><span class=\"toc-item-num\">2.2.1&nbsp;&nbsp;</span>Вывод (замена типов данных)</a></span></li></ul></li><li><span><a href=\"#Обработка-дубликатов\" data-toc-modified-id=\"Обработка-дубликатов-2.3\"><span class=\"toc-item-num\">2.3&nbsp;&nbsp;</span>Обработка дубликатов</a></span><ul class=\"toc-item\"><li><span><a href=\"#Полные-дубликаты-строк\" data-toc-modified-id=\"Полные-дубликаты-строк-2.3.1\"><span class=\"toc-item-num\">2.3.1&nbsp;&nbsp;</span>Полные дубликаты строк</a></span></li><li><span><a href=\"#Дубликаты-в-значениях-категориальных-переменных\" data-toc-modified-id=\"Дубликаты-в-значениях-категориальных-переменных-2.3.2\"><span class=\"toc-item-num\">2.3.2&nbsp;&nbsp;</span>Дубликаты в значениях категориальных переменных</a></span></li><li><span><a href=\"#Дубликаты-и-артефакты-в-значениях-количественных-переменных\" data-toc-modified-id=\"Дубликаты-и-артефакты-в-значениях-количественных-переменных-2.3.3\"><span class=\"toc-item-num\">2.3.3&nbsp;&nbsp;</span>Дубликаты и артефакты в значениях количественных переменных</a></span></li><li><span><a href=\"#Вывод-(обработка-дубликатов)\" data-toc-modified-id=\"Вывод-(обработка-дубликатов)-2.3.4\"><span class=\"toc-item-num\">2.3.4&nbsp;&nbsp;</span>Вывод (обработка дубликатов)</a></span></li></ul></li><li><span><a href=\"#Лемматизация\" data-toc-modified-id=\"Лемматизация-2.4\"><span class=\"toc-item-num\">2.4&nbsp;&nbsp;</span>Лемматизация</a></span><ul class=\"toc-item\"><li><span><a href=\"#Выделение-лемм-из-всего-ДФ\" data-toc-modified-id=\"Выделение-лемм-из-всего-ДФ-2.4.1\"><span class=\"toc-item-num\">2.4.1&nbsp;&nbsp;</span>Выделение лемм из всего ДФ</a></span></li><li><span><a href=\"#Веделение-всех-лемм-для-каждой-строки-ДФ\" data-toc-modified-id=\"Веделение-всех-лемм-для-каждой-строки-ДФ-2.4.2\"><span class=\"toc-item-num\">2.4.2&nbsp;&nbsp;</span>Веделение всех лемм для каждой строки ДФ</a></span></li><li><span><a href=\"#Выделение-значимых-лемм-для-каждой-строки-ДФ\" data-toc-modified-id=\"Выделение-значимых-лемм-для-каждой-строки-ДФ-2.4.3\"><span class=\"toc-item-num\">2.4.3&nbsp;&nbsp;</span>Выделение значимых лемм для каждой строки ДФ</a></span></li><li><span><a href=\"#Проверка-правильности-значимых-лемм\" data-toc-modified-id=\"Проверка-правильности-значимых-лемм-2.4.4\"><span class=\"toc-item-num\">2.4.4&nbsp;&nbsp;</span>Проверка правильности значимых лемм</a></span></li><li><span><a href=\"#Вывод-(лемматизация)\" data-toc-modified-id=\"Вывод-(лемматизация)-2.4.5\"><span class=\"toc-item-num\">2.4.5&nbsp;&nbsp;</span>Вывод (лемматизация)</a></span></li></ul></li><li><span><a href=\"#Категоризация-данных\" data-toc-modified-id=\"Категоризация-данных-2.5\"><span class=\"toc-item-num\">2.5&nbsp;&nbsp;</span>Категоризация данных</a></span><ul class=\"toc-item\"><li><span><a href=\"#Перенос-повторяющихся-параметров-в-словари\" data-toc-modified-id=\"Перенос-повторяющихся-параметров-в-словари-2.5.1\"><span class=\"toc-item-num\">2.5.1&nbsp;&nbsp;</span>Перенос повторяющихся параметров в словари</a></span></li><li><span><a href=\"#Классификация-по-значимым-признакам\" data-toc-modified-id=\"Классификация-по-значимым-признакам-2.5.2\"><span class=\"toc-item-num\">2.5.2&nbsp;&nbsp;</span>Классификация по значимым признакам</a></span><ul class=\"toc-item\"><li><span><a href=\"#Классификация-по-доходу\" data-toc-modified-id=\"Классификация-по-доходу-2.5.2.1\"><span class=\"toc-item-num\">2.5.2.1&nbsp;&nbsp;</span>Классификация по доходу</a></span></li><li><span><a href=\"#Классификация-по-возрасту\" data-toc-modified-id=\"Классификация-по-возрасту-2.5.2.2\"><span class=\"toc-item-num\">2.5.2.2&nbsp;&nbsp;</span>Классификация по возрасту</a></span></li></ul></li><li><span><a href=\"#Вывод-(категоризация-данных)\" data-toc-modified-id=\"Вывод-(категоризация-данных)-2.5.3\"><span class=\"toc-item-num\">2.5.3&nbsp;&nbsp;</span>Вывод (категоризация данных)</a></span></li></ul></li></ul></li><li><span><a href=\"#Какие-факторы-больше-всего-влияют-на-факт-погашения-кредита-в-срок\" data-toc-modified-id=\"Какие-факторы-больше-всего-влияют-на-факт-погашения-кредита-в-срок-3\"><span class=\"toc-item-num\">3&nbsp;&nbsp;</span>Какие факторы больше всего влияют на факт погашения кредита в срок</a></span><ul class=\"toc-item\"><li><span><a href=\"#Зависимость-между-наличием-детей-и-возвратом-кредита-в-срок\" data-toc-modified-id=\"Зависимость-между-наличием-детей-и-возвратом-кредита-в-срок-3.1\"><span class=\"toc-item-num\">3.1&nbsp;&nbsp;</span>Зависимость между наличием детей и возвратом кредита в срок</a></span><ul class=\"toc-item\"><li><span><a href=\"#Вывод\" data-toc-modified-id=\"Вывод-3.1.1\"><span class=\"toc-item-num\">3.1.1&nbsp;&nbsp;</span>Вывод</a></span></li></ul></li><li><span><a href=\"#Зависимость-между-семейным-положением-и-возвратом-кредита-в-срок\" data-toc-modified-id=\"Зависимость-между-семейным-положением-и-возвратом-кредита-в-срок-3.2\"><span class=\"toc-item-num\">3.2&nbsp;&nbsp;</span>Зависимость между семейным положением и возвратом кредита в срок</a></span><ul class=\"toc-item\"><li><span><a href=\"#Вывод\" data-toc-modified-id=\"Вывод-3.2.1\"><span class=\"toc-item-num\">3.2.1&nbsp;&nbsp;</span>Вывод</a></span></li></ul></li><li><span><a href=\"#Зависимость-между-уровнем-дохода-и-возвратом-кредита-в-срок\" data-toc-modified-id=\"Зависимость-между-уровнем-дохода-и-возвратом-кредита-в-срок-3.3\"><span class=\"toc-item-num\">3.3&nbsp;&nbsp;</span>Зависимость между уровнем дохода и возвратом кредита в срок</a></span><ul class=\"toc-item\"><li><span><a href=\"#Вывод\" data-toc-modified-id=\"Вывод-3.3.1\"><span class=\"toc-item-num\">3.3.1&nbsp;&nbsp;</span>Вывод</a></span></li></ul></li><li><span><a href=\"#Как-разные-цели-кредита-влияют-на-его-возврат-в-срок\" data-toc-modified-id=\"Как-разные-цели-кредита-влияют-на-его-возврат-в-срок-3.4\"><span class=\"toc-item-num\">3.4&nbsp;&nbsp;</span>Как разные цели кредита влияют на его возврат в срок</a></span><ul class=\"toc-item\"><li><span><a href=\"#Вывод\" data-toc-modified-id=\"Вывод-3.4.1\"><span class=\"toc-item-num\">3.4.1&nbsp;&nbsp;</span>Вывод</a></span></li></ul></li><li><span><a href=\"#Влияет-ли-тип-занятости--заемщика-на-возврат-кредита-в-срок\" data-toc-modified-id=\"Влияет-ли-тип-занятости--заемщика-на-возврат-кредита-в-срок-3.5\"><span class=\"toc-item-num\">3.5&nbsp;&nbsp;</span>Влияет ли тип занятости  заемщика на возврат кредита в срок</a></span></li><li><span><a href=\"#Влияет-ли-возраст-заемщика-на-возврат-кредита-в-срок\" data-toc-modified-id=\"Влияет-ли-возраст-заемщика-на-возврат-кредита-в-срок-3.6\"><span class=\"toc-item-num\">3.6&nbsp;&nbsp;</span>Влияет ли возраст заемщика на возврат кредита в срок</a></span></li><li><span><a href=\"#Влияет-ли-образование-заемщика-на-возврат-кредита-в-срок\" data-toc-modified-id=\"Влияет-ли-образование-заемщика-на-возврат-кредита-в-срок-3.7\"><span class=\"toc-item-num\">3.7&nbsp;&nbsp;</span>Влияет ли образование заемщика на возврат кредита в срок</a></span></li><li><span><a href=\"#Влияет-ли-пол-заемщика-на-возврат-кредита-в-срок\" data-toc-modified-id=\"Влияет-ли-пол-заемщика-на-возврат-кредита-в-срок-3.8\"><span class=\"toc-item-num\">3.8&nbsp;&nbsp;</span>Влияет ли пол заемщика на возврат кредита в срок</a></span><ul class=\"toc-item\"><li><span><a href=\"#Вывод\" data-toc-modified-id=\"Вывод-3.8.1\"><span class=\"toc-item-num\">3.8.1&nbsp;&nbsp;</span>Вывод</a></span></li></ul></li><li><span><a href=\"#Цели-кредита-для-разных-категорий-заемщиков\" data-toc-modified-id=\"Цели-кредита-для-разных-категорий-заемщиков-3.9\"><span class=\"toc-item-num\">3.9&nbsp;&nbsp;</span>Цели кредита для разных категорий заемщиков</a></span><ul class=\"toc-item\"><li><span><a href=\"#Цели-кредита-в-зависимости-от-уровня-дохода\" data-toc-modified-id=\"Цели-кредита-в-зависимости-от-уровня-дохода-3.9.1\"><span class=\"toc-item-num\">3.9.1&nbsp;&nbsp;</span>Цели кредита в зависимости от уровня дохода</a></span></li><li><span><a href=\"#Цели-кредита-в-зависимости-от-семеного-положения\" data-toc-modified-id=\"Цели-кредита-в-зависимости-от-семеного-положения-3.9.2\"><span class=\"toc-item-num\">3.9.2&nbsp;&nbsp;</span>Цели кредита в зависимости от семеного положения</a></span></li><li><span><a href=\"#Цели-кредита-в-зависимости-от-типа--занятости\" data-toc-modified-id=\"Цели-кредита-в-зависимости-от-типа--занятости-3.9.3\"><span class=\"toc-item-num\">3.9.3&nbsp;&nbsp;</span>Цели кредита в зависимости от типа  занятости</a></span></li><li><span><a href=\"#Цели-кредита-в-зависимости-от-наличия-детей\" data-toc-modified-id=\"Цели-кредита-в-зависимости-от-наличия-детей-3.9.4\"><span class=\"toc-item-num\">3.9.4&nbsp;&nbsp;</span>Цели кредита в зависимости от наличия детей</a></span></li><li><span><a href=\"#Цели-кредита-в-зависимости-от-возраста\" data-toc-modified-id=\"Цели-кредита-в-зависимости-от-возраста-3.9.5\"><span class=\"toc-item-num\">3.9.5&nbsp;&nbsp;</span>Цели кредита в зависимости от возраста</a></span></li><li><span><a href=\"#Цели-кредита-в-зависимости-от-образования\" data-toc-modified-id=\"Цели-кредита-в-зависимости-от-образования-3.9.6\"><span class=\"toc-item-num\">3.9.6&nbsp;&nbsp;</span>Цели кредита в зависимости от образования</a></span></li><li><span><a href=\"#Цели-кредита-в-зависимости-от-пола\" data-toc-modified-id=\"Цели-кредита-в-зависимости-от-пола-3.9.7\"><span class=\"toc-item-num\">3.9.7&nbsp;&nbsp;</span>Цели кредита в зависимости от пола</a></span></li><li><span><a href=\"#Вывод\" data-toc-modified-id=\"Вывод-3.9.8\"><span class=\"toc-item-num\">3.9.8&nbsp;&nbsp;</span>Вывод</a></span></li></ul></li><li><span><a href=\"#Комбинации-самых-благонадежных-и-неблагонадежных-заемщиков\" data-toc-modified-id=\"Комбинации-самых-благонадежных-и-неблагонадежных-заемщиков-3.10\"><span class=\"toc-item-num\">3.10&nbsp;&nbsp;</span>Комбинации самых благонадежных и неблагонадежных заемщиков</a></span><ul class=\"toc-item\"><li><span><a href=\"#Вывод\" data-toc-modified-id=\"Вывод-3.10.1\"><span class=\"toc-item-num\">3.10.1&nbsp;&nbsp;</span>Вывод</a></span></li></ul></li></ul></li><li><span><a href=\"#Общий-вывод\" data-toc-modified-id=\"Общий-вывод-4\"><span class=\"toc-item-num\">4&nbsp;&nbsp;</span>Общий вывод</a></span></li></ul></div>"
   ]
  },
  {
   "cell_type": "markdown",
   "metadata": {},
   "source": [
    "## Общая информация об исходных данных"
   ]
  },
  {
   "cell_type": "code",
   "execution_count": 1,
   "metadata": {},
   "outputs": [],
   "source": [
    "# импорт библиотек\n",
    "import pandas as pd\n",
    "\n",
    "from pymystem3 import Mystem # для лемматизации\n",
    "from collections import Counter # для подсчета лемм\n",
    "\n",
    "import warnings\n",
    "warnings.filterwarnings(\"ignore\") "
   ]
  },
  {
   "cell_type": "markdown",
   "metadata": {},
   "source": [
    "Прочитаем файл `/datasets/data.csv` в переменную `df`  "
   ]
  },
  {
   "cell_type": "code",
   "execution_count": 2,
   "metadata": {},
   "outputs": [],
   "source": [
    "try:\n",
    "    df = pd.read_csv('/datasets/data.csv')\n",
    "except:\n",
    "    df = pd.read_csv('data.csv')"
   ]
  },
  {
   "cell_type": "markdown",
   "metadata": {},
   "source": [
    "Прочтем первые 5 строк таблицы для ознакомления"
   ]
  },
  {
   "cell_type": "code",
   "execution_count": 3,
   "metadata": {},
   "outputs": [
    {
     "data": {
      "text/html": [
       "<div>\n",
       "<style scoped>\n",
       "    .dataframe tbody tr th:only-of-type {\n",
       "        vertical-align: middle;\n",
       "    }\n",
       "\n",
       "    .dataframe tbody tr th {\n",
       "        vertical-align: top;\n",
       "    }\n",
       "\n",
       "    .dataframe thead th {\n",
       "        text-align: right;\n",
       "    }\n",
       "</style>\n",
       "<table border=\"1\" class=\"dataframe\">\n",
       "  <thead>\n",
       "    <tr style=\"text-align: right;\">\n",
       "      <th></th>\n",
       "      <th>children</th>\n",
       "      <th>days_employed</th>\n",
       "      <th>dob_years</th>\n",
       "      <th>education</th>\n",
       "      <th>education_id</th>\n",
       "      <th>family_status</th>\n",
       "      <th>family_status_id</th>\n",
       "      <th>gender</th>\n",
       "      <th>income_type</th>\n",
       "      <th>debt</th>\n",
       "      <th>total_income</th>\n",
       "      <th>purpose</th>\n",
       "    </tr>\n",
       "  </thead>\n",
       "  <tbody>\n",
       "    <tr>\n",
       "      <td>0</td>\n",
       "      <td>1</td>\n",
       "      <td>-8437.673028</td>\n",
       "      <td>42</td>\n",
       "      <td>высшее</td>\n",
       "      <td>0</td>\n",
       "      <td>женат / замужем</td>\n",
       "      <td>0</td>\n",
       "      <td>F</td>\n",
       "      <td>сотрудник</td>\n",
       "      <td>0</td>\n",
       "      <td>253875.639453</td>\n",
       "      <td>покупка жилья</td>\n",
       "    </tr>\n",
       "    <tr>\n",
       "      <td>1</td>\n",
       "      <td>1</td>\n",
       "      <td>-4024.803754</td>\n",
       "      <td>36</td>\n",
       "      <td>среднее</td>\n",
       "      <td>1</td>\n",
       "      <td>женат / замужем</td>\n",
       "      <td>0</td>\n",
       "      <td>F</td>\n",
       "      <td>сотрудник</td>\n",
       "      <td>0</td>\n",
       "      <td>112080.014102</td>\n",
       "      <td>приобретение автомобиля</td>\n",
       "    </tr>\n",
       "    <tr>\n",
       "      <td>2</td>\n",
       "      <td>0</td>\n",
       "      <td>-5623.422610</td>\n",
       "      <td>33</td>\n",
       "      <td>Среднее</td>\n",
       "      <td>1</td>\n",
       "      <td>женат / замужем</td>\n",
       "      <td>0</td>\n",
       "      <td>M</td>\n",
       "      <td>сотрудник</td>\n",
       "      <td>0</td>\n",
       "      <td>145885.952297</td>\n",
       "      <td>покупка жилья</td>\n",
       "    </tr>\n",
       "    <tr>\n",
       "      <td>3</td>\n",
       "      <td>3</td>\n",
       "      <td>-4124.747207</td>\n",
       "      <td>32</td>\n",
       "      <td>среднее</td>\n",
       "      <td>1</td>\n",
       "      <td>женат / замужем</td>\n",
       "      <td>0</td>\n",
       "      <td>M</td>\n",
       "      <td>сотрудник</td>\n",
       "      <td>0</td>\n",
       "      <td>267628.550329</td>\n",
       "      <td>дополнительное образование</td>\n",
       "    </tr>\n",
       "    <tr>\n",
       "      <td>4</td>\n",
       "      <td>0</td>\n",
       "      <td>340266.072047</td>\n",
       "      <td>53</td>\n",
       "      <td>среднее</td>\n",
       "      <td>1</td>\n",
       "      <td>гражданский брак</td>\n",
       "      <td>1</td>\n",
       "      <td>F</td>\n",
       "      <td>пенсионер</td>\n",
       "      <td>0</td>\n",
       "      <td>158616.077870</td>\n",
       "      <td>сыграть свадьбу</td>\n",
       "    </tr>\n",
       "  </tbody>\n",
       "</table>\n",
       "</div>"
      ],
      "text/plain": [
       "   children  days_employed  dob_years education  education_id  \\\n",
       "0         1   -8437.673028         42    высшее             0   \n",
       "1         1   -4024.803754         36   среднее             1   \n",
       "2         0   -5623.422610         33   Среднее             1   \n",
       "3         3   -4124.747207         32   среднее             1   \n",
       "4         0  340266.072047         53   среднее             1   \n",
       "\n",
       "      family_status  family_status_id gender income_type  debt   total_income  \\\n",
       "0   женат / замужем                 0      F   сотрудник     0  253875.639453   \n",
       "1   женат / замужем                 0      F   сотрудник     0  112080.014102   \n",
       "2   женат / замужем                 0      M   сотрудник     0  145885.952297   \n",
       "3   женат / замужем                 0      M   сотрудник     0  267628.550329   \n",
       "4  гражданский брак                 1      F   пенсионер     0  158616.077870   \n",
       "\n",
       "                      purpose  \n",
       "0               покупка жилья  \n",
       "1     приобретение автомобиля  \n",
       "2               покупка жилья  \n",
       "3  дополнительное образование  \n",
       "4             сыграть свадьбу  "
      ]
     },
     "execution_count": 3,
     "metadata": {},
     "output_type": "execute_result"
    }
   ],
   "source": [
    "df.head()"
   ]
  },
  {
   "cell_type": "markdown",
   "metadata": {},
   "source": [
    "ДФ доступен для понимания. Визуально определяются: \n",
    " - артефакты (минусовое или неадекватно большое количесто дней занятости)\n",
    " - дубликаты (вернхний/нижний регистр в столбце \"образование\").  \n",
    " \n",
    "Имеются данные, необходимые для решения поставленной задачи: целевой признак  `debt`, и факторы, которые могут полиять на целевой признак."
   ]
  },
  {
   "cell_type": "markdown",
   "metadata": {},
   "source": [
    "-------\n",
    "Вызовем метод `.info()` чтобы получить информацию о количестве столбцов и строк, а также типах данных в ДФ"
   ]
  },
  {
   "cell_type": "code",
   "execution_count": 4,
   "metadata": {},
   "outputs": [
    {
     "name": "stdout",
     "output_type": "stream",
     "text": [
      "<class 'pandas.core.frame.DataFrame'>\n",
      "RangeIndex: 21525 entries, 0 to 21524\n",
      "Data columns (total 12 columns):\n",
      "children            21525 non-null int64\n",
      "days_employed       19351 non-null float64\n",
      "dob_years           21525 non-null int64\n",
      "education           21525 non-null object\n",
      "education_id        21525 non-null int64\n",
      "family_status       21525 non-null object\n",
      "family_status_id    21525 non-null int64\n",
      "gender              21525 non-null object\n",
      "income_type         21525 non-null object\n",
      "debt                21525 non-null int64\n",
      "total_income        19351 non-null float64\n",
      "purpose             21525 non-null object\n",
      "dtypes: float64(2), int64(5), object(5)\n",
      "memory usage: 2.0+ MB\n"
     ]
    }
   ],
   "source": [
    "df.info()"
   ]
  },
  {
   "cell_type": "markdown",
   "metadata": {},
   "source": [
    "* ДФ содержит 21525 строк (выборка достаточного объема) и 12 столбцов  \n",
    "* Типы данных в большинстве столбцов адекватны. В столбцах `days_employed` и `total_income` более уместным типом данных были бы целые числа (это можно исправить позже)  \n",
    "* Определяются пропуски данных в некоторых столбцах"
   ]
  },
  {
   "cell_type": "markdown",
   "metadata": {},
   "source": [
    "--------------\n",
    "Вызовем метод `.columns` чтобы посмотреть в каком состоянии названия колонок"
   ]
  },
  {
   "cell_type": "code",
   "execution_count": 5,
   "metadata": {},
   "outputs": [
    {
     "name": "stdout",
     "output_type": "stream",
     "text": [
      "Index(['children', 'days_employed', 'dob_years', 'education', 'education_id',\n",
      "       'family_status', 'family_status_id', 'gender', 'income_type', 'debt',\n",
      "       'total_income', 'purpose'],\n",
      "      dtype='object')\n"
     ]
    }
   ],
   "source": [
    "print(df.columns)"
   ]
  },
  {
   "cell_type": "markdown",
   "metadata": {},
   "source": [
    "Названия столбцов: \n",
    "* отражают сущность представленных в них данных.  \n",
    "* состоят из латинских букв нижнего регистра и нижних подчеркиваний, пробелов не имеют. "
   ]
  },
  {
   "cell_type": "markdown",
   "metadata": {},
   "source": [
    "### Вывод (общая информация)"
   ]
  },
  {
   "cell_type": "markdown",
   "metadata": {},
   "source": [
    "* ДФ читабелен\n",
    "* Размер выборки достаточный\n",
    "* ДФ содержит необходимую информацию\n",
    "* ДФ содержит ошибки  \n",
    "* Требуется предобработка данных"
   ]
  },
  {
   "cell_type": "markdown",
   "metadata": {},
   "source": [
    "## Предобработка данных"
   ]
  },
  {
   "cell_type": "markdown",
   "metadata": {},
   "source": [
    "### Обработка пропусков"
   ]
  },
  {
   "cell_type": "markdown",
   "metadata": {},
   "source": [
    "#### Выявление пропусков\n",
    "Вызовем метод `.isna()` с методом `.sum()`, чтобы получить представление о количестве пропусков  "
   ]
  },
  {
   "cell_type": "code",
   "execution_count": 6,
   "metadata": {},
   "outputs": [
    {
     "data": {
      "text/plain": [
       "children               0\n",
       "days_employed       2174\n",
       "dob_years              0\n",
       "education              0\n",
       "education_id           0\n",
       "family_status          0\n",
       "family_status_id       0\n",
       "gender                 0\n",
       "income_type            0\n",
       "debt                   0\n",
       "total_income        2174\n",
       "purpose                0\n",
       "dtype: int64"
      ]
     },
     "execution_count": 6,
     "metadata": {},
     "output_type": "execute_result"
    }
   ],
   "source": [
    "df.isna().sum()"
   ]
  },
  {
   "cell_type": "markdown",
   "metadata": {},
   "source": [
    "Что видим:\n",
    "* Столбцы `days_employed` и `total_income` имеют по 2174 пропущенных значения\n",
    "\n",
    "Нужно понять природу пропусков и решить что с ними делать (удалять строки, заменять значения и тп). \n",
    "Для этого ответим на вопросы:  \n",
    "1. В - Какое общее число строк, где хотя бы одно значение пропущено? Всегда ли пропуск в `days_employed` означает пропуск в `total_income`?  \n",
    "   О - Одинаковое количество пропусков намекает на то что да, всегда. В таком случае 10% строк ДФ содержат пустые значения (2174 из 21525). А что если пропуски в этих столбцах независимы друг от друга? Вероятность этого мала, но ее нельзя исключить, в таком случае до 20% сторок ДФ могут содержать пустые значения. Проверим.\n",
    "   \n",
    "2. В - Можно ли удалить строки с пустыми значениями?  \n",
    "   О - Даже 10% - это достаточно большой процент строк, а значит совсем удалить эти строки не желательно (в них есть релевантная информация в других столбцах)\n",
    "\n",
    "3.  В - Чем заменить пропуски?  \n",
    "    О - Данные в столбцах `days_employed` и `total_income` представляют собой число с плавающей точкой, и следовательно являются количественной переменной. В этом случае допустима замена на характерные значения."
   ]
  },
  {
   "cell_type": "markdown",
   "metadata": {},
   "source": [
    "**Уточнение количества строк с пропусками**  \n",
    "\n",
    "\n",
    "Чтобы узнать общее число строк, где хотя бы одно значение пропущено, проверим, действительно ли пропуск в `days_employed` означает пропуск в `total_income` (посмотрим количество строк в ДФ, отфильтрованном по пропущенным значениям `days_employed` И `total_income`)"
   ]
  },
  {
   "cell_type": "code",
   "execution_count": 7,
   "metadata": {
    "scrolled": true
   },
   "outputs": [
    {
     "data": {
      "text/plain": [
       "2174"
      ]
     },
     "execution_count": 7,
     "metadata": {},
     "output_type": "execute_result"
    }
   ],
   "source": [
    "df_na = df[(df['days_employed'].isna()) & (df['total_income'].isna())]\n",
    "len(df_na)"
   ]
  },
  {
   "cell_type": "markdown",
   "metadata": {},
   "source": [
    "* Данные пропущены в 2174 строках, (~ 10% от всех строк ДФ), а значит:\n",
    "* Пропускам значений `days_employed` соответствуют пропуски значений `total_income`\n",
    "* Пропуски в данных не случайны"
   ]
  },
  {
   "cell_type": "markdown",
   "metadata": {},
   "source": [
    "**Возможные причины пропусков:** \n",
    "* ДФ был склеен из нескольких (возможно ДФы разных банков или отделений, или старая/новая форма заявки). В одном или более из исходных ДФов столбцы стаж и доход отсутствовали.  \n",
    "* На некоторые виды/цели кредита не требуется заполнение полей о стаже и доходе (маловероятно)\n",
    "* На суммы кредита ниже определенной или на процентные ставки выше определенной или для держателей зарплатных карт банка не требуется указания стажа и дохода.\n",
    "* Пропуски означают отсутсвие занятости и следовательно дохода (хотя вряд ли банк выдавал бы таким людям кредиты). Проверим эту гипотезу."
   ]
  },
  {
   "cell_type": "code",
   "execution_count": 8,
   "metadata": {},
   "outputs": [
    {
     "data": {
      "text/plain": [
       "сотрудник          1105\n",
       "компаньон           508\n",
       "пенсионер           413\n",
       "госслужащий         147\n",
       "предприниматель       1\n",
       "Name: income_type, dtype: int64"
      ]
     },
     "execution_count": 8,
     "metadata": {},
     "output_type": "execute_result"
    }
   ],
   "source": [
    "# проверим что за тип занятости у людей с пропущенным стажем и доходом\n",
    "df_na['income_type'].value_counts()"
   ]
  },
  {
   "cell_type": "markdown",
   "metadata": {},
   "source": [
    "Гипотеза не подтвердилась. Отусутвие стажа и дохода не говорит об отсутствии занятости. Придется исходить из того что данные просто отсутствуют."
   ]
  },
  {
   "cell_type": "markdown",
   "metadata": {},
   "source": [
    "#### Столбец `days_employed`, обработка пропусков\n",
    "Пропуски в столбцах `days_employed` и `total_income`мы решили заменить характерными значениями, тк тип данных в этих столбцах позволяет это сделать.\n",
    "Прежде чем что-то менять, оценим размах в этих столбцах - посмотрим максимальное и минимальное значения.  "
   ]
  },
  {
   "cell_type": "markdown",
   "metadata": {},
   "source": [
    "Сперва для столбца `days_employed`.  "
   ]
  },
  {
   "cell_type": "code",
   "execution_count": 9,
   "metadata": {},
   "outputs": [
    {
     "data": {
      "text/plain": [
       "count      53.016438\n",
       "mean      172.730131\n",
       "std       385.828252\n",
       "min       -50.380685\n",
       "25%        -7.527188\n",
       "50%        -3.296903\n",
       "75%        -0.797523\n",
       "max      1100.699727\n",
       "Name: days_employed, dtype: float64"
      ]
     },
     "execution_count": 9,
     "metadata": {},
     "output_type": "execute_result"
    }
   ],
   "source": [
    "# выведем мин и макс кол-во рабочих дней, среднее, медиану, и разделим на кол-во дней в году чтобы получить стаж в годах\n",
    "df['days_employed'].describe() / 365"
   ]
  },
  {
   "cell_type": "markdown",
   "metadata": {},
   "source": [
    "Что видим: \n",
    "* самый большой стаж 1100 лет, самый маленький - отрицательный\n",
    "* в среднем люди работали по 172 года (+ медиана отрицательная)  \n",
    "\n",
    "Что-то пошло не так при заполнении данного столбца.\n",
    "Отсортируем таблицу по столбцу `days_employed` и ради интереса посмотрим на данные по стажу из разных частей таблицы."
   ]
  },
  {
   "cell_type": "markdown",
   "metadata": {},
   "source": [
    "**Начало таблицы**"
   ]
  },
  {
   "cell_type": "code",
   "execution_count": 10,
   "metadata": {},
   "outputs": [
    {
     "name": "stdout",
     "output_type": "stream",
     "text": [
      "10     401575.196728\n",
      "11     401573.905288\n",
      "12     401556.753550\n",
      "13     401524.259153\n",
      "14     401517.276388\n",
      "           ...      \n",
      "146    398431.149722\n",
      "147    398430.883402\n",
      "148    398425.610289\n",
      "149    398408.183052\n",
      "150    398390.775395\n",
      "Name: days_employed, Length: 141, dtype: float64\n"
     ]
    }
   ],
   "source": [
    "days_employed_sort = df.sort_values(by='days_employed', ascending=False).reset_index(drop=True)\n",
    "print(days_employed_sort['days_employed'].loc[10:150])"
   ]
  },
  {
   "cell_type": "markdown",
   "metadata": {},
   "source": [
    "Строки ближе к началу - неправдоподобно большие числа"
   ]
  },
  {
   "cell_type": "markdown",
   "metadata": {},
   "source": [
    "**Середина таблицы**"
   ]
  },
  {
   "cell_type": "code",
   "execution_count": 11,
   "metadata": {},
   "outputs": [
    {
     "name": "stdout",
     "output_type": "stream",
     "text": [
      "3000     338225.348240\n",
      "3001     338149.190396\n",
      "3002     338136.571070\n",
      "3003     338113.529892\n",
      "3004     338099.318407\n",
      "             ...      \n",
      "14996     -2967.292449\n",
      "14997     -2967.395051\n",
      "14998     -2967.560890\n",
      "14999     -2968.324198\n",
      "15000     -2968.507884\n",
      "Name: days_employed, Length: 12001, dtype: float64\n"
     ]
    }
   ],
   "source": [
    "print(days_employed_sort['days_employed'].loc[3000:15000])"
   ]
  },
  {
   "cell_type": "markdown",
   "metadata": {},
   "source": [
    "Строки из середины - неправдоподобно большие и отрицательные числа"
   ]
  },
  {
   "cell_type": "markdown",
   "metadata": {},
   "source": [
    "**Конец таблицы**"
   ]
  },
  {
   "cell_type": "code",
   "execution_count": 12,
   "metadata": {},
   "outputs": [
    {
     "name": "stdout",
     "output_type": "stream",
     "text": [
      "19000   -9302.734157\n",
      "19001   -9319.721416\n",
      "19002   -9327.745665\n",
      "19003   -9330.106000\n",
      "19004   -9366.156430\n",
      "            ...     \n",
      "20996            NaN\n",
      "20997            NaN\n",
      "20998            NaN\n",
      "20999            NaN\n",
      "21000            NaN\n",
      "Name: days_employed, Length: 2001, dtype: float64\n"
     ]
    }
   ],
   "source": [
    "print(days_employed_sort['days_employed'].loc[19000:21000])"
   ]
  },
  {
   "cell_type": "markdown",
   "metadata": {},
   "source": [
    "Строки ближе к концу - отрицательные числа и отсутствующие значения"
   ]
  },
  {
   "cell_type": "markdown",
   "metadata": {},
   "source": [
    "Что видим:  \n",
    "\n",
    "* Возможно ошибка в хранении или при переносе данных, тк значения неадекватны для этого параметра\n",
    "* Заменять отсутствующие данные средним или медианой нет смысла. Данные столбца не получится использовать по назначению для решения нашей задачи, поэтому столбец удалим (перезапишем ДФ без него)."
   ]
  },
  {
   "cell_type": "code",
   "execution_count": 13,
   "metadata": {},
   "outputs": [
    {
     "name": "stdout",
     "output_type": "stream",
     "text": [
      "<class 'pandas.core.frame.DataFrame'>\n",
      "RangeIndex: 21525 entries, 0 to 21524\n",
      "Data columns (total 11 columns):\n",
      "children            21525 non-null int64\n",
      "dob_years           21525 non-null int64\n",
      "education           21525 non-null object\n",
      "education_id        21525 non-null int64\n",
      "family_status       21525 non-null object\n",
      "family_status_id    21525 non-null int64\n",
      "gender              21525 non-null object\n",
      "income_type         21525 non-null object\n",
      "debt                21525 non-null int64\n",
      "total_income        19351 non-null float64\n",
      "purpose             21525 non-null object\n",
      "dtypes: float64(1), int64(5), object(5)\n",
      "memory usage: 1.8+ MB\n"
     ]
    }
   ],
   "source": [
    "df = df.drop(['days_employed'], axis='columns')\n",
    "df.info()"
   ]
  },
  {
   "cell_type": "markdown",
   "metadata": {},
   "source": [
    "Осталось 11 столбцов. Столбец `days_employed` с неадекватными данными мы исключили из ДФ за непригодностью."
   ]
  },
  {
   "cell_type": "markdown",
   "metadata": {},
   "source": [
    "#### Столбец `total_income`, обработка пропусков\n",
    "Аналогичным образом проверим столбец `total_income`. Оценим размах - посмотрим максимальное и минимальное значения, а также найдем среднее и медиану. Применим метод `.agg()`"
   ]
  },
  {
   "cell_type": "code",
   "execution_count": 14,
   "metadata": {},
   "outputs": [
    {
     "data": {
      "text/html": [
       "<div>\n",
       "<style scoped>\n",
       "    .dataframe tbody tr th:only-of-type {\n",
       "        vertical-align: middle;\n",
       "    }\n",
       "\n",
       "    .dataframe tbody tr th {\n",
       "        vertical-align: top;\n",
       "    }\n",
       "\n",
       "    .dataframe thead th {\n",
       "        text-align: right;\n",
       "    }\n",
       "</style>\n",
       "<table border=\"1\" class=\"dataframe\">\n",
       "  <thead>\n",
       "    <tr style=\"text-align: right;\">\n",
       "      <th></th>\n",
       "      <th>total_income</th>\n",
       "    </tr>\n",
       "  </thead>\n",
       "  <tbody>\n",
       "    <tr>\n",
       "      <td>min</td>\n",
       "      <td>20667</td>\n",
       "    </tr>\n",
       "    <tr>\n",
       "      <td>max</td>\n",
       "      <td>2265604</td>\n",
       "    </tr>\n",
       "    <tr>\n",
       "      <td>mean</td>\n",
       "      <td>167422</td>\n",
       "    </tr>\n",
       "    <tr>\n",
       "      <td>median</td>\n",
       "      <td>145017</td>\n",
       "    </tr>\n",
       "  </tbody>\n",
       "</table>\n",
       "</div>"
      ],
      "text/plain": [
       "        total_income\n",
       "min            20667\n",
       "max          2265604\n",
       "mean          167422\n",
       "median        145017"
      ]
     },
     "execution_count": 14,
     "metadata": {},
     "output_type": "execute_result"
    }
   ],
   "source": [
    "df.agg({'total_income':['min','max','mean','median',]}).astype('int')"
   ]
  },
  {
   "cell_type": "markdown",
   "metadata": {},
   "source": [
    "Что видим:  \n",
    "* Размах дохода достаточно большой (но правдоподобный, без минусов)\n",
    "* Среднее арифметическое выше медианы: выборка имеет длинный хвост вправо (небольшое количество людей имеет очень высокий относительно всей выборки доход, смещая среднее). Значит для замены пропущенных значений лучше воспользоваться медианой  \n",
    "\n",
    "Нужно проверить:  \n",
    "1. Тк мы увидели большой размах в доходе, представляется, что доход (`total_income`) будет коррелировать с типом занятости (`income_type`), поэтому характерные значения для каждого типа занятости будут разными.  \n",
    "2. Нужно посмотреть какое отношение пропущенных и непропущенных значений имеет каждый тип занятости, чтобы понять достаточна ли выборка непропущенных значений для того, чтобы присваивать ее медиану пропущенным значениям."
   ]
  },
  {
   "cell_type": "markdown",
   "metadata": {},
   "source": [
    "Сперва выявим возможную корреляцию между типом занятости и доходом. Найдем среднее и медиану для каждого типа занятости."
   ]
  },
  {
   "cell_type": "code",
   "execution_count": 15,
   "metadata": {},
   "outputs": [
    {
     "data": {
      "text/plain": [
       "income_type\n",
       "предприниматель    499163.144947\n",
       "компаньон          202417.461462\n",
       "госслужащий        170898.309923\n",
       "сотрудник          161380.260488\n",
       "пенсионер          137127.465690\n",
       "безработный        131339.751676\n",
       "студент             98201.625314\n",
       "в декрете           53829.130729\n",
       "Name: total_income, dtype: float64"
      ]
     },
     "execution_count": 15,
     "metadata": {},
     "output_type": "execute_result"
    }
   ],
   "source": [
    "# среднее\n",
    "mean_by_income = df.groupby('income_type')['total_income'].mean().sort_values(ascending=False)\n",
    "mean_by_income"
   ]
  },
  {
   "cell_type": "code",
   "execution_count": 16,
   "metadata": {},
   "outputs": [
    {
     "data": {
      "text/plain": [
       "income_type\n",
       "предприниматель    499163.144947\n",
       "компаньон          172357.950966\n",
       "госслужащий        150447.935283\n",
       "сотрудник          142594.396847\n",
       "безработный        131339.751676\n",
       "пенсионер          118514.486412\n",
       "студент             98201.625314\n",
       "в декрете           53829.130729\n",
       "Name: total_income, dtype: float64"
      ]
     },
     "execution_count": 16,
     "metadata": {},
     "output_type": "execute_result"
    }
   ],
   "source": [
    "# медиана\n",
    "median_by_income = df.groupby('income_type')['total_income'].median().sort_values(ascending=False)\n",
    "median_by_income"
   ]
  },
  {
   "cell_type": "markdown",
   "metadata": {},
   "source": [
    "Что видим:\n",
    "\n",
    "* Корреляция дохода и типа занятости прослеживается довольно четко, и выглядит правдоподобно  \n",
    "* В большинстве случаев среднее арифметическое выше медианы, как и во всей выборке (а значит для замены лучше использовать медиану)  "
   ]
  },
  {
   "cell_type": "markdown",
   "metadata": {},
   "source": [
    "А теперь посмотрим какое соотношение пропущенных и непропущенных значений дохода у каждого типа занятости. "
   ]
  },
  {
   "cell_type": "code",
   "execution_count": 17,
   "metadata": {},
   "outputs": [
    {
     "data": {
      "text/plain": [
       "сотрудник          1105\n",
       "компаньон           508\n",
       "пенсионер           413\n",
       "госслужащий         147\n",
       "предприниматель       1\n",
       "Name: income_type, dtype: int64"
      ]
     },
     "execution_count": 17,
     "metadata": {},
     "output_type": "execute_result"
    }
   ],
   "source": [
    "# У каких типов занятости были пропущены значения дохода и сколько раз\n",
    "df_na['income_type'].value_counts()"
   ]
  },
  {
   "cell_type": "code",
   "execution_count": 18,
   "metadata": {},
   "outputs": [
    {
     "data": {
      "text/plain": [
       "сотрудник          11119\n",
       "компаньон           5085\n",
       "пенсионер           3856\n",
       "госслужащий         1459\n",
       "безработный            2\n",
       "предприниматель        2\n",
       "студент                1\n",
       "в декрете              1\n",
       "Name: income_type, dtype: int64"
      ]
     },
     "execution_count": 18,
     "metadata": {},
     "output_type": "execute_result"
    }
   ],
   "source": [
    "# Размер групп каждого типа занятости\n",
    "df['income_type'].value_counts()"
   ]
  },
  {
   "cell_type": "code",
   "execution_count": 19,
   "metadata": {},
   "outputs": [
    {
     "data": {
      "text/plain": [
       "безработный             NaN\n",
       "в декрете               NaN\n",
       "госслужащий        0.100754\n",
       "компаньон          0.099902\n",
       "пенсионер          0.107106\n",
       "предприниматель    0.500000\n",
       "сотрудник          0.099379\n",
       "студент                 NaN\n",
       "Name: income_type, dtype: float64"
      ]
     },
     "execution_count": 19,
     "metadata": {},
     "output_type": "execute_result"
    }
   ],
   "source": [
    "# Доля пропущенного дохода в каждом типе занятости\n",
    "df_na['income_type'].value_counts() / df['income_type'].value_counts()"
   ]
  },
  {
   "cell_type": "markdown",
   "metadata": {},
   "source": [
    "Видим что:  \n",
    "* В каждом типе занятости пропуски дохода составляют ~ 10% (у предпринимателей 50% тк пропущен 1 из 2)\n",
    "* Значит доля непропущенных доходов достаточна, чтобы использовать ее характерное значение для заполнения пропущенных доходов."
   ]
  },
  {
   "cell_type": "markdown",
   "metadata": {},
   "source": [
    "Заменим отсутствующие значения столбца `total_income` на медианные значения этого столбца для каждого типа занятости. Для этого создадим словарь, где ключом будем тип занятости, а значением - медианный доход для этого типа занятости. Напишем функцию которая будет при помощи словаря заполнять отсутствующее значение столбца `total_income` медианным значением дохода для типа занятости данной строки. С помощью метода `.apply()`применим к столбцу `total_income`"
   ]
  },
  {
   "cell_type": "code",
   "execution_count": 20,
   "metadata": {},
   "outputs": [],
   "source": [
    "median_incomes = df.groupby('income_type')['total_income'].median().to_dict() \n",
    " \n",
    "def fill_income(row):\n",
    "    if pd.isna(row['total_income']):\n",
    "        return median_incomes.get(row['income_type'])\n",
    "    return row['total_income']\n",
    " \n",
    "df['total_income'] = df.apply(fill_income, axis=1)"
   ]
  },
  {
   "cell_type": "code",
   "execution_count": 21,
   "metadata": {},
   "outputs": [
    {
     "data": {
      "text/plain": [
       "children            0\n",
       "dob_years           0\n",
       "education           0\n",
       "education_id        0\n",
       "family_status       0\n",
       "family_status_id    0\n",
       "gender              0\n",
       "income_type         0\n",
       "debt                0\n",
       "total_income        0\n",
       "purpose             0\n",
       "dtype: int64"
      ]
     },
     "execution_count": 21,
     "metadata": {},
     "output_type": "execute_result"
    }
   ],
   "source": [
    "# проверим количество пропусков\n",
    "df.isna().sum()"
   ]
  },
  {
   "cell_type": "markdown",
   "metadata": {},
   "source": [
    "От пропусков избавились, на всякий случай проверим еще столбец `total_income` на предмет медианы и среднего"
   ]
  },
  {
   "cell_type": "code",
   "execution_count": 22,
   "metadata": {},
   "outputs": [
    {
     "data": {
      "text/html": [
       "<div>\n",
       "<style scoped>\n",
       "    .dataframe tbody tr th:only-of-type {\n",
       "        vertical-align: middle;\n",
       "    }\n",
       "\n",
       "    .dataframe tbody tr th {\n",
       "        vertical-align: top;\n",
       "    }\n",
       "\n",
       "    .dataframe thead th {\n",
       "        text-align: right;\n",
       "    }\n",
       "</style>\n",
       "<table border=\"1\" class=\"dataframe\">\n",
       "  <thead>\n",
       "    <tr style=\"text-align: right;\">\n",
       "      <th></th>\n",
       "      <th>total_income</th>\n",
       "    </tr>\n",
       "  </thead>\n",
       "  <tbody>\n",
       "    <tr>\n",
       "      <td>mean</td>\n",
       "      <td>165225</td>\n",
       "    </tr>\n",
       "    <tr>\n",
       "      <td>median</td>\n",
       "      <td>142594</td>\n",
       "    </tr>\n",
       "  </tbody>\n",
       "</table>\n",
       "</div>"
      ],
      "text/plain": [
       "        total_income\n",
       "mean          165225\n",
       "median        142594"
      ]
     },
     "execution_count": 22,
     "metadata": {},
     "output_type": "execute_result"
    }
   ],
   "source": [
    "df.agg({'total_income':['mean','median',]}).astype('int')"
   ]
  },
  {
   "cell_type": "markdown",
   "metadata": {},
   "source": [
    "Медиана и среднее стали чуть меньше, что ожидаемо, тк стало больше людей со умеренным доходом, а предприниматель с высоким доходом добавился только один"
   ]
  },
  {
   "cell_type": "markdown",
   "metadata": {},
   "source": [
    "#### Вывод (обработка пропусков)"
   ]
  },
  {
   "cell_type": "markdown",
   "metadata": {},
   "source": [
    "* В ДФ были обнаружены пропуски в столбцах `days_employed` и `total_income`:\n",
    "     * `days_employed` был уделен в связи с непригодностью данных для использования\n",
    "     * в `total_income` пропущенные значения были заменены медианой для каждого типа занятости\n",
    "* Пропуски в данных неслучайны и могли появиться в связи с отсутствием соответствующих полей в некоторых кредитных заявках или в исходных ДФ (в случае если ДФ был склеен)"
   ]
  },
  {
   "cell_type": "markdown",
   "metadata": {},
   "source": [
    "### Замена типов данных"
   ]
  },
  {
   "cell_type": "markdown",
   "metadata": {},
   "source": [
    "Посмотрим еще раз на типы данных в ДФ"
   ]
  },
  {
   "cell_type": "code",
   "execution_count": 23,
   "metadata": {},
   "outputs": [
    {
     "data": {
      "text/plain": [
       "children              int64\n",
       "dob_years             int64\n",
       "education            object\n",
       "education_id          int64\n",
       "family_status        object\n",
       "family_status_id      int64\n",
       "gender               object\n",
       "income_type          object\n",
       "debt                  int64\n",
       "total_income        float64\n",
       "purpose              object\n",
       "dtype: object"
      ]
     },
     "execution_count": 23,
     "metadata": {},
     "output_type": "execute_result"
    }
   ],
   "source": [
    "df.dtypes"
   ]
  },
  {
   "cell_type": "markdown",
   "metadata": {},
   "source": [
    "Типы данных кажутся адекватными. Можно заменить тип данных в `total_income` с плавающей точки на цельночисловой: так его будет удобнее воспринимать, да и годовой доход с точностью до копеек/центов нам знать не обязательно."
   ]
  },
  {
   "cell_type": "markdown",
   "metadata": {},
   "source": [
    "Воспользуемся методом `.astype()`"
   ]
  },
  {
   "cell_type": "code",
   "execution_count": 24,
   "metadata": {},
   "outputs": [],
   "source": [
    "df['total_income'] = df['total_income'].astype('int')"
   ]
  },
  {
   "cell_type": "markdown",
   "metadata": {},
   "source": [
    "Проверим что получилось - посмотрим верхние 5 строк дохода"
   ]
  },
  {
   "cell_type": "code",
   "execution_count": 25,
   "metadata": {},
   "outputs": [
    {
     "data": {
      "text/plain": [
       "0    253875\n",
       "1    112080\n",
       "2    145885\n",
       "3    267628\n",
       "4    158616\n",
       "Name: total_income, dtype: int64"
      ]
     },
     "execution_count": 25,
     "metadata": {},
     "output_type": "execute_result"
    }
   ],
   "source": [
    "df['total_income'].head()"
   ]
  },
  {
   "cell_type": "markdown",
   "metadata": {},
   "source": [
    "Числа целые, тип данных цельночисловой.  "
   ]
  },
  {
   "cell_type": "code",
   "execution_count": 26,
   "metadata": {},
   "outputs": [
    {
     "data": {
      "text/plain": [
       "dtype('int64')"
      ]
     },
     "execution_count": 26,
     "metadata": {},
     "output_type": "execute_result"
    }
   ],
   "source": [
    "# перепроверим тип данных\n",
    "df['total_income'].dtypes"
   ]
  },
  {
   "cell_type": "markdown",
   "metadata": {},
   "source": [
    "Тип данных столбца `total_income` изменился с плавающей точки на цельночисловой. Преобразование типов данных прошло успешно"
   ]
  },
  {
   "cell_type": "markdown",
   "metadata": {},
   "source": [
    "#### Вывод (замена типов данных)"
   ]
  },
  {
   "cell_type": "markdown",
   "metadata": {},
   "source": [
    "Мы заменили тип данных в `total_income` с плавающей точки на цельночисловой. Теперь он занимает меньше места и его удобнее воспринимать."
   ]
  },
  {
   "cell_type": "markdown",
   "metadata": {},
   "source": [
    "### Обработка дубликатов"
   ]
  },
  {
   "cell_type": "markdown",
   "metadata": {},
   "source": [
    "#### Полные дубликаты строк"
   ]
  },
  {
   "cell_type": "markdown",
   "metadata": {},
   "source": [
    "Первым делом проверим ДФ на полностью задублированные строки. Применим метод `.duplicated()` и метод `.sum()`."
   ]
  },
  {
   "cell_type": "code",
   "execution_count": 27,
   "metadata": {},
   "outputs": [
    {
     "data": {
      "text/plain": [
       "54"
      ]
     },
     "execution_count": 27,
     "metadata": {},
     "output_type": "execute_result"
    }
   ],
   "source": [
    "df.duplicated().sum()"
   ]
  },
  {
   "cell_type": "markdown",
   "metadata": {},
   "source": [
    "Есть 54 строки-дубля. Вероятность того, что две или более реальные заявки могли иметь абсолютно одинаковое наполнение конечно есть, но в данном случае будем считать, что такая вероятность очень мала, и следовательно можно рассматривать такие строки как дубли. Прежде чем избавиться от них, посмотрим какой процент ДФ они составляют. "
   ]
  },
  {
   "cell_type": "code",
   "execution_count": 28,
   "metadata": {},
   "outputs": [
    {
     "data": {
      "text/plain": [
       "0.0025087108013937282"
      ]
     },
     "execution_count": 28,
     "metadata": {},
     "output_type": "execute_result"
    }
   ],
   "source": [
    "df.duplicated().sum() / len(df)"
   ]
  },
  {
   "cell_type": "markdown",
   "metadata": {},
   "source": [
    "Менее одного процента (а именно, всего 1/4 процента). Удаление такого процента строк не должно исказить распределение, так что можем удалять. "
   ]
  },
  {
   "cell_type": "markdown",
   "metadata": {},
   "source": [
    "Для удаления дублей строк используем метод `.drop_duplicates()`. Также сбосим старые индексы и заменим их на новые с помощью `.reset_index()`. Перезапишем ДФ без дубликатов"
   ]
  },
  {
   "cell_type": "code",
   "execution_count": 29,
   "metadata": {},
   "outputs": [],
   "source": [
    "df = df.drop_duplicates().reset_index(drop=True)"
   ]
  },
  {
   "cell_type": "markdown",
   "metadata": {},
   "source": [
    "Проверим что задублированных строк не осталось"
   ]
  },
  {
   "cell_type": "code",
   "execution_count": 30,
   "metadata": {},
   "outputs": [
    {
     "data": {
      "text/plain": [
       "0"
      ]
     },
     "execution_count": 30,
     "metadata": {},
     "output_type": "execute_result"
    }
   ],
   "source": [
    "df.duplicated().sum()"
   ]
  },
  {
   "cell_type": "markdown",
   "metadata": {},
   "source": [
    "От задублированных строк избавились. Посмотрим информацию о количестве строк ДФ на всякий случай"
   ]
  },
  {
   "cell_type": "code",
   "execution_count": 31,
   "metadata": {},
   "outputs": [
    {
     "data": {
      "text/plain": [
       "21471"
      ]
     },
     "execution_count": 31,
     "metadata": {},
     "output_type": "execute_result"
    }
   ],
   "source": [
    "len(df)"
   ]
  },
  {
   "cell_type": "markdown",
   "metadata": {},
   "source": [
    "Осталось 21471 строка. А было 21525 строк"
   ]
  },
  {
   "cell_type": "code",
   "execution_count": 32,
   "metadata": {},
   "outputs": [
    {
     "data": {
      "text/plain": [
       "54"
      ]
     },
     "execution_count": 32,
     "metadata": {},
     "output_type": "execute_result"
    }
   ],
   "source": [
    "21525 - len(df)"
   ]
  },
  {
   "cell_type": "markdown",
   "metadata": {},
   "source": [
    "Все верно, 54 полных дубликата строк мы удалили"
   ]
  },
  {
   "cell_type": "markdown",
   "metadata": {},
   "source": [
    "#### Дубликаты в значениях категориальных переменных"
   ]
  },
  {
   "cell_type": "markdown",
   "metadata": {},
   "source": [
    "Столбцы с типом данных `object` содержат категориальные переменные и следовательно могут потенциально иметь дубликаты. Посмотрим какие это столбцы"
   ]
  },
  {
   "cell_type": "code",
   "execution_count": 33,
   "metadata": {},
   "outputs": [
    {
     "name": "stdout",
     "output_type": "stream",
     "text": [
      "<class 'pandas.core.frame.DataFrame'>\n",
      "RangeIndex: 21471 entries, 0 to 21470\n",
      "Data columns (total 11 columns):\n",
      "children            21471 non-null int64\n",
      "dob_years           21471 non-null int64\n",
      "education           21471 non-null object\n",
      "education_id        21471 non-null int64\n",
      "family_status       21471 non-null object\n",
      "family_status_id    21471 non-null int64\n",
      "gender              21471 non-null object\n",
      "income_type         21471 non-null object\n",
      "debt                21471 non-null int64\n",
      "total_income        21471 non-null int64\n",
      "purpose             21471 non-null object\n",
      "dtypes: int64(6), object(5)\n",
      "memory usage: 1.8+ MB\n"
     ]
    }
   ],
   "source": [
    "df.info()"
   ]
  },
  {
   "cell_type": "markdown",
   "metadata": {},
   "source": [
    "Столбцов с типом данных `object` у нас 5 : это `education`, `family_status`, `gender`, `income_type`, `purpose`"
   ]
  },
  {
   "cell_type": "markdown",
   "metadata": {},
   "source": [
    "Применим к каждому из них них метод `.value_counts()` (он выдает значения в столбик, так их удобно просматривать). Чтобы не делать этого вручную для каждого столбца, напишем короткую функцию, которая будет принимать в качестве аргументов ДФ и список столбцов, а возвращать будет значения в столбце и количество их упоминания."
   ]
  },
  {
   "cell_type": "code",
   "execution_count": 34,
   "metadata": {
    "scrolled": true
   },
   "outputs": [
    {
     "name": "stdout",
     "output_type": "stream",
     "text": [
      "* education\n",
      "среднее                13705\n",
      "высшее                  4710\n",
      "СРЕДНЕЕ                  772\n",
      "Среднее                  711\n",
      "неоконченное высшее      668\n",
      "ВЫСШЕЕ                   273\n",
      "Высшее                   268\n",
      "начальное                250\n",
      "Неоконченное высшее       47\n",
      "НЕОКОНЧЕННОЕ ВЫСШЕЕ       29\n",
      "НАЧАЛЬНОЕ                 17\n",
      "Начальное                 15\n",
      "ученая степень             4\n",
      "Ученая степень             1\n",
      "УЧЕНАЯ СТЕПЕНЬ             1\n",
      "Name: education, dtype: int64\n",
      "---------\n",
      "* family_status\n",
      "женат / замужем          12344\n",
      "гражданский брак          4163\n",
      "Не женат / не замужем     2810\n",
      "в разводе                 1195\n",
      "вдовец / вдова             959\n",
      "Name: family_status, dtype: int64\n",
      "---------\n",
      "* gender\n",
      "F      14189\n",
      "M       7281\n",
      "XNA        1\n",
      "Name: gender, dtype: int64\n",
      "---------\n",
      "* income_type\n",
      "сотрудник          11091\n",
      "компаньон           5080\n",
      "пенсионер           3837\n",
      "госслужащий         1457\n",
      "безработный            2\n",
      "предприниматель        2\n",
      "студент                1\n",
      "в декрете              1\n",
      "Name: income_type, dtype: int64\n",
      "---------\n",
      "* purpose\n",
      "свадьба                                   793\n",
      "на проведение свадьбы                     773\n",
      "сыграть свадьбу                           769\n",
      "операции с недвижимостью                  675\n",
      "покупка коммерческой недвижимости         662\n",
      "операции с жильем                         652\n",
      "покупка жилья для сдачи                   652\n",
      "операции с коммерческой недвижимостью     650\n",
      "покупка жилья                             646\n",
      "жилье                                     646\n",
      "покупка жилья для семьи                   638\n",
      "строительство собственной недвижимости    635\n",
      "недвижимость                              633\n",
      "операции со своей недвижимостью           627\n",
      "строительство жилой недвижимости          625\n",
      "покупка недвижимости                      621\n",
      "покупка своего жилья                      620\n",
      "строительство недвижимости                619\n",
      "ремонт жилью                              607\n",
      "покупка жилой недвижимости                606\n",
      "на покупку своего автомобиля              505\n",
      "заняться высшим образованием              496\n",
      "автомобиль                                494\n",
      "сделка с подержанным автомобилем          486\n",
      "свой автомобиль                           479\n",
      "автомобили                                478\n",
      "на покупку подержанного автомобиля        478\n",
      "на покупку автомобиля                     472\n",
      "приобретение автомобиля                   461\n",
      "дополнительное образование                460\n",
      "сделка с автомобилем                      455\n",
      "высшее образование                        452\n",
      "получение дополнительного образования     447\n",
      "образование                               447\n",
      "получение образования                     442\n",
      "профильное образование                    436\n",
      "получение высшего образования             426\n",
      "заняться образованием                     408\n",
      "Name: purpose, dtype: int64\n",
      "---------\n"
     ]
    }
   ],
   "source": [
    "object_type = ['education', 'family_status', 'gender', 'income_type', 'purpose']\n",
    "\n",
    "\n",
    "def check_dups(df,columns):\n",
    "    for item in columns:\n",
    "        print('*', item)\n",
    "        result = df[item].value_counts()\n",
    "        print(result)\n",
    "        print('---------')\n",
    "\n",
    "check_dups(df,object_type)"
   ]
  },
  {
   "cell_type": "markdown",
   "metadata": {},
   "source": [
    "Что видим: \n",
    " * столбцы `family_status`, `gender`, `income_type` выглядят нормально, дубликатов не наблюдаем\n",
    " * в столбце `purpose` налицо дубликаты из-за использования разных формулировок. Их можно будет обработать позже с помощью лемматизации, так как разные формулировки целей не позволят использовать прочие методы. \n",
    " * в столбце `education` налицо дубликаты из-за использования разных регистров. Нужно привести к одному регистру\n",
    " \n",
    "Возможные причины дубликатов: \n",
    "* Разные формулировки целей могут быть связаны с тем, что заявки заполнялись в разных формах (или даже разных банках), а некоторые цели возможно заполнялись произвольными формулировками, а не шаблонными.\n",
    "* Использование разных регистров может быть связано с разным написанием в разных формах заявок, или с некорректным хранением / переносом данных."
   ]
  },
  {
   "cell_type": "markdown",
   "metadata": {},
   "source": [
    "Для приведения значений к нижнему регистру в столбце `education` применим метод `.str.lower()`"
   ]
  },
  {
   "cell_type": "code",
   "execution_count": 35,
   "metadata": {},
   "outputs": [],
   "source": [
    "df['education'] = df['education'].str.lower()"
   ]
  },
  {
   "cell_type": "markdown",
   "metadata": {},
   "source": [
    "Проверим что получилось, вызовем метод `.value_counts()` к столбцу `education`"
   ]
  },
  {
   "cell_type": "code",
   "execution_count": 36,
   "metadata": {},
   "outputs": [
    {
     "data": {
      "text/plain": [
       "среднее                15188\n",
       "высшее                  5251\n",
       "неоконченное высшее      744\n",
       "начальное                282\n",
       "ученая степень             6\n",
       "Name: education, dtype: int64"
      ]
     },
     "execution_count": 36,
     "metadata": {},
     "output_type": "execute_result"
    }
   ],
   "source": [
    "df['education'].value_counts()"
   ]
  },
  {
   "cell_type": "markdown",
   "metadata": {},
   "source": [
    "Регистр унифицирован, дубли в столбце `education` устранены"
   ]
  },
  {
   "cell_type": "markdown",
   "metadata": {},
   "source": [
    "#### Дубликаты и артефакты в значениях количественных переменных\n"
   ]
  },
  {
   "cell_type": "markdown",
   "metadata": {},
   "source": [
    "Посмотрим на всякий случай на количественные переменные. Сложно представить какие там могут быть дубликаты, тем не менее, убедимся что с ними все в порядке."
   ]
  },
  {
   "cell_type": "code",
   "execution_count": 37,
   "metadata": {},
   "outputs": [
    {
     "name": "stdout",
     "output_type": "stream",
     "text": [
      "<class 'pandas.core.frame.DataFrame'>\n",
      "RangeIndex: 21471 entries, 0 to 21470\n",
      "Data columns (total 11 columns):\n",
      "children            21471 non-null int64\n",
      "dob_years           21471 non-null int64\n",
      "education           21471 non-null object\n",
      "education_id        21471 non-null int64\n",
      "family_status       21471 non-null object\n",
      "family_status_id    21471 non-null int64\n",
      "gender              21471 non-null object\n",
      "income_type         21471 non-null object\n",
      "debt                21471 non-null int64\n",
      "total_income        21471 non-null int64\n",
      "purpose             21471 non-null object\n",
      "dtypes: int64(6), object(5)\n",
      "memory usage: 1.8+ MB\n"
     ]
    }
   ],
   "source": [
    "df.info()"
   ]
  },
  {
   "cell_type": "markdown",
   "metadata": {},
   "source": [
    "Количественные переменные в данном случае имеют цельночисловой тип данных `int64`. Таких столбцов у нас 6, это: `children`, `dob_years`, `education_id`, `family_status_id`, `debt`, `total_income`  \n",
    "Столбец `total_income` проверять на дубли не будем (они там точно есть), а вот остальные проверим\n",
    "Применим нашу функицю `check_dups` к списку из 5 столбцов с типом данных `int64`"
   ]
  },
  {
   "cell_type": "code",
   "execution_count": 38,
   "metadata": {
    "scrolled": true
   },
   "outputs": [
    {
     "name": "stdout",
     "output_type": "stream",
     "text": [
      "* children\n",
      " 0     14107\n",
      " 1      4809\n",
      " 2      2052\n",
      " 3       330\n",
      " 20       76\n",
      "-1        47\n",
      " 4        41\n",
      " 5         9\n",
      "Name: children, dtype: int64\n",
      "---------\n",
      "* dob_years\n",
      "35    616\n",
      "40    607\n",
      "41    606\n",
      "34    601\n",
      "38    597\n",
      "42    596\n",
      "33    581\n",
      "39    572\n",
      "31    559\n",
      "36    554\n",
      "44    545\n",
      "29    544\n",
      "30    538\n",
      "48    537\n",
      "37    536\n",
      "50    513\n",
      "43    512\n",
      "32    509\n",
      "49    508\n",
      "28    503\n",
      "45    497\n",
      "27    493\n",
      "56    484\n",
      "52    484\n",
      "47    477\n",
      "54    476\n",
      "46    473\n",
      "53    459\n",
      "57    456\n",
      "58    456\n",
      "51    448\n",
      "55    443\n",
      "59    443\n",
      "26    408\n",
      "60    374\n",
      "25    357\n",
      "61    354\n",
      "62    349\n",
      "63    269\n",
      "24    264\n",
      "64    262\n",
      "23    253\n",
      "65    194\n",
      "22    183\n",
      "66    182\n",
      "67    167\n",
      "21    111\n",
      "0     101\n",
      "68     99\n",
      "69     85\n",
      "70     65\n",
      "71     58\n",
      "20     51\n",
      "72     33\n",
      "19     14\n",
      "73      8\n",
      "74      6\n",
      "75      1\n",
      "Name: dob_years, dtype: int64\n",
      "---------\n",
      "* education_id\n",
      "1    15188\n",
      "0     5251\n",
      "2      744\n",
      "3      282\n",
      "4        6\n",
      "Name: education_id, dtype: int64\n",
      "---------\n",
      "* family_status_id\n",
      "0    12344\n",
      "1     4163\n",
      "4     2810\n",
      "3     1195\n",
      "2      959\n",
      "Name: family_status_id, dtype: int64\n",
      "---------\n",
      "* debt\n",
      "0    19730\n",
      "1     1741\n",
      "Name: debt, dtype: int64\n",
      "---------\n"
     ]
    }
   ],
   "source": [
    "int_type = ['children', 'dob_years', 'education_id', 'family_status_id', 'debt']\n",
    "\n",
    "check_dups(df,int_type)"
   ]
  },
  {
   "cell_type": "markdown",
   "metadata": {},
   "source": [
    "Что видим: \n",
    "* столбцы `education_id`, `family_status_id`, `debt` не имеют дублей\n",
    "* столбец `children` имеет артефакты: минусовое количество детей и 20 детей. Нужно с этим разобраться  \n",
    "* столбец `dob_years` имеет артефакты: возраст заемщиков 0 лет. С этим тоже разберемся"
   ]
  },
  {
   "cell_type": "markdown",
   "metadata": {},
   "source": [
    "**Столбец `children`**"
   ]
  },
  {
   "cell_type": "code",
   "execution_count": 39,
   "metadata": {},
   "outputs": [
    {
     "data": {
      "text/plain": [
       " 0     14107\n",
       " 1      4809\n",
       " 2      2052\n",
       " 3       330\n",
       " 20       76\n",
       "-1        47\n",
       " 4        41\n",
       " 5         9\n",
       "Name: children, dtype: int64"
      ]
     },
     "execution_count": 39,
     "metadata": {},
     "output_type": "execute_result"
    }
   ],
   "source": [
    "df['children'].value_counts()"
   ]
  },
  {
   "cell_type": "markdown",
   "metadata": {},
   "source": [
    "Минусовое количество детей невозможно. Минус мог закрасться при некорректном переносе данных, или (но менее вероятно) при заведении данных в анкету заемщика, где минус, возможно, использовали как дефис (например, строка могла выглядеть так: \"Число детей -1\"). В любом случае, самое правдоподобное объяснение - у 47 заемщиков не по -1 ребенку, а по 1.   \n",
    "Чтобы это исправить, произведем замену -1 на 1. Воспользуемся методом `.abs()`, который приведет все числа в столбце `children` к их модулю."
   ]
  },
  {
   "cell_type": "code",
   "execution_count": 40,
   "metadata": {},
   "outputs": [],
   "source": [
    "df['children'] = df['children'].abs()"
   ]
  },
  {
   "cell_type": "markdown",
   "metadata": {},
   "source": [
    "Проверим что получилось"
   ]
  },
  {
   "cell_type": "code",
   "execution_count": 41,
   "metadata": {},
   "outputs": [
    {
     "data": {
      "text/plain": [
       "0     14107\n",
       "1      4856\n",
       "2      2052\n",
       "3       330\n",
       "20       76\n",
       "4        41\n",
       "5         9\n",
       "Name: children, dtype: int64"
      ]
     },
     "execution_count": 41,
     "metadata": {},
     "output_type": "execute_result"
    }
   ],
   "source": [
    "df['children'].value_counts()"
   ]
  },
  {
   "cell_type": "markdown",
   "metadata": {},
   "source": [
    "Минусовых детей не осталось, они перешли в значение 1. Выглядит нормально.  "
   ]
  },
  {
   "cell_type": "markdown",
   "metadata": {},
   "source": [
    "Остаются 76 заемщиков у которых по 20 детей. И хотя в теории это возможно, вероятность того, что ни у одного заемщика нет 6-19 или 21+ детей, а сразу у 76 заемщиков есть именно 20 детей - очень мала. Более правдоподобно выглядит вариант, при котором 2 превратились в 20 (Например, при некорректном переводе числа с плавающей точкой 2.0 в целое число, или при неправильном хранении или переносе данных. Опечатка очень маловероятна: нужно было опечататься нулем 76 раз в цифре 2 и не разу в остальных цифрах).   \n",
    "  \n",
    "Посмотрим на всякий случай на этих людей с 20 детьми."
   ]
  },
  {
   "cell_type": "code",
   "execution_count": 42,
   "metadata": {},
   "outputs": [
    {
     "data": {
      "text/html": [
       "<div>\n",
       "<style scoped>\n",
       "    .dataframe tbody tr th:only-of-type {\n",
       "        vertical-align: middle;\n",
       "    }\n",
       "\n",
       "    .dataframe tbody tr th {\n",
       "        vertical-align: top;\n",
       "    }\n",
       "\n",
       "    .dataframe thead th {\n",
       "        text-align: right;\n",
       "    }\n",
       "</style>\n",
       "<table border=\"1\" class=\"dataframe\">\n",
       "  <thead>\n",
       "    <tr style=\"text-align: right;\">\n",
       "      <th></th>\n",
       "      <th>children</th>\n",
       "      <th>dob_years</th>\n",
       "      <th>education</th>\n",
       "      <th>education_id</th>\n",
       "      <th>family_status</th>\n",
       "      <th>family_status_id</th>\n",
       "      <th>gender</th>\n",
       "      <th>income_type</th>\n",
       "      <th>debt</th>\n",
       "      <th>total_income</th>\n",
       "      <th>purpose</th>\n",
       "    </tr>\n",
       "  </thead>\n",
       "  <tbody>\n",
       "    <tr>\n",
       "      <td>606</td>\n",
       "      <td>20</td>\n",
       "      <td>21</td>\n",
       "      <td>среднее</td>\n",
       "      <td>1</td>\n",
       "      <td>женат / замужем</td>\n",
       "      <td>0</td>\n",
       "      <td>M</td>\n",
       "      <td>компаньон</td>\n",
       "      <td>0</td>\n",
       "      <td>145334</td>\n",
       "      <td>покупка жилья</td>\n",
       "    </tr>\n",
       "    <tr>\n",
       "      <td>720</td>\n",
       "      <td>20</td>\n",
       "      <td>44</td>\n",
       "      <td>среднее</td>\n",
       "      <td>1</td>\n",
       "      <td>женат / замужем</td>\n",
       "      <td>0</td>\n",
       "      <td>F</td>\n",
       "      <td>компаньон</td>\n",
       "      <td>0</td>\n",
       "      <td>112998</td>\n",
       "      <td>покупка недвижимости</td>\n",
       "    </tr>\n",
       "    <tr>\n",
       "      <td>1074</td>\n",
       "      <td>20</td>\n",
       "      <td>56</td>\n",
       "      <td>среднее</td>\n",
       "      <td>1</td>\n",
       "      <td>женат / замужем</td>\n",
       "      <td>0</td>\n",
       "      <td>F</td>\n",
       "      <td>сотрудник</td>\n",
       "      <td>1</td>\n",
       "      <td>229518</td>\n",
       "      <td>получение образования</td>\n",
       "    </tr>\n",
       "    <tr>\n",
       "      <td>2510</td>\n",
       "      <td>20</td>\n",
       "      <td>59</td>\n",
       "      <td>высшее</td>\n",
       "      <td>0</td>\n",
       "      <td>вдовец / вдова</td>\n",
       "      <td>2</td>\n",
       "      <td>F</td>\n",
       "      <td>сотрудник</td>\n",
       "      <td>0</td>\n",
       "      <td>264474</td>\n",
       "      <td>операции с коммерческой недвижимостью</td>\n",
       "    </tr>\n",
       "    <tr>\n",
       "      <td>2940</td>\n",
       "      <td>20</td>\n",
       "      <td>0</td>\n",
       "      <td>среднее</td>\n",
       "      <td>1</td>\n",
       "      <td>женат / замужем</td>\n",
       "      <td>0</td>\n",
       "      <td>F</td>\n",
       "      <td>сотрудник</td>\n",
       "      <td>0</td>\n",
       "      <td>199739</td>\n",
       "      <td>на покупку автомобиля</td>\n",
       "    </tr>\n",
       "    <tr>\n",
       "      <td>...</td>\n",
       "      <td>...</td>\n",
       "      <td>...</td>\n",
       "      <td>...</td>\n",
       "      <td>...</td>\n",
       "      <td>...</td>\n",
       "      <td>...</td>\n",
       "      <td>...</td>\n",
       "      <td>...</td>\n",
       "      <td>...</td>\n",
       "      <td>...</td>\n",
       "      <td>...</td>\n",
       "    </tr>\n",
       "    <tr>\n",
       "      <td>20958</td>\n",
       "      <td>20</td>\n",
       "      <td>40</td>\n",
       "      <td>среднее</td>\n",
       "      <td>1</td>\n",
       "      <td>женат / замужем</td>\n",
       "      <td>0</td>\n",
       "      <td>F</td>\n",
       "      <td>сотрудник</td>\n",
       "      <td>1</td>\n",
       "      <td>133524</td>\n",
       "      <td>свой автомобиль</td>\n",
       "    </tr>\n",
       "    <tr>\n",
       "      <td>21272</td>\n",
       "      <td>20</td>\n",
       "      <td>37</td>\n",
       "      <td>среднее</td>\n",
       "      <td>1</td>\n",
       "      <td>женат / замужем</td>\n",
       "      <td>0</td>\n",
       "      <td>F</td>\n",
       "      <td>компаньон</td>\n",
       "      <td>0</td>\n",
       "      <td>102986</td>\n",
       "      <td>профильное образование</td>\n",
       "    </tr>\n",
       "    <tr>\n",
       "      <td>21337</td>\n",
       "      <td>20</td>\n",
       "      <td>53</td>\n",
       "      <td>среднее</td>\n",
       "      <td>1</td>\n",
       "      <td>женат / замужем</td>\n",
       "      <td>0</td>\n",
       "      <td>M</td>\n",
       "      <td>компаньон</td>\n",
       "      <td>0</td>\n",
       "      <td>172357</td>\n",
       "      <td>покупка жилой недвижимости</td>\n",
       "    </tr>\n",
       "    <tr>\n",
       "      <td>21351</td>\n",
       "      <td>20</td>\n",
       "      <td>52</td>\n",
       "      <td>среднее</td>\n",
       "      <td>1</td>\n",
       "      <td>женат / замужем</td>\n",
       "      <td>0</td>\n",
       "      <td>M</td>\n",
       "      <td>компаньон</td>\n",
       "      <td>0</td>\n",
       "      <td>156629</td>\n",
       "      <td>операции со своей недвижимостью</td>\n",
       "    </tr>\n",
       "    <tr>\n",
       "      <td>21437</td>\n",
       "      <td>20</td>\n",
       "      <td>27</td>\n",
       "      <td>среднее</td>\n",
       "      <td>1</td>\n",
       "      <td>женат / замужем</td>\n",
       "      <td>0</td>\n",
       "      <td>F</td>\n",
       "      <td>сотрудник</td>\n",
       "      <td>0</td>\n",
       "      <td>155520</td>\n",
       "      <td>на покупку подержанного автомобиля</td>\n",
       "    </tr>\n",
       "  </tbody>\n",
       "</table>\n",
       "<p>76 rows × 11 columns</p>\n",
       "</div>"
      ],
      "text/plain": [
       "       children  dob_years education  education_id    family_status  \\\n",
       "606          20         21   среднее             1  женат / замужем   \n",
       "720          20         44   среднее             1  женат / замужем   \n",
       "1074         20         56   среднее             1  женат / замужем   \n",
       "2510         20         59    высшее             0   вдовец / вдова   \n",
       "2940         20          0   среднее             1  женат / замужем   \n",
       "...         ...        ...       ...           ...              ...   \n",
       "20958        20         40   среднее             1  женат / замужем   \n",
       "21272        20         37   среднее             1  женат / замужем   \n",
       "21337        20         53   среднее             1  женат / замужем   \n",
       "21351        20         52   среднее             1  женат / замужем   \n",
       "21437        20         27   среднее             1  женат / замужем   \n",
       "\n",
       "       family_status_id gender income_type  debt  total_income  \\\n",
       "606                   0      M   компаньон     0        145334   \n",
       "720                   0      F   компаньон     0        112998   \n",
       "1074                  0      F   сотрудник     1        229518   \n",
       "2510                  2      F   сотрудник     0        264474   \n",
       "2940                  0      F   сотрудник     0        199739   \n",
       "...                 ...    ...         ...   ...           ...   \n",
       "20958                 0      F   сотрудник     1        133524   \n",
       "21272                 0      F   компаньон     0        102986   \n",
       "21337                 0      M   компаньон     0        172357   \n",
       "21351                 0      M   компаньон     0        156629   \n",
       "21437                 0      F   сотрудник     0        155520   \n",
       "\n",
       "                                     purpose  \n",
       "606                            покупка жилья  \n",
       "720                     покупка недвижимости  \n",
       "1074                   получение образования  \n",
       "2510   операции с коммерческой недвижимостью  \n",
       "2940                   на покупку автомобиля  \n",
       "...                                      ...  \n",
       "20958                        свой автомобиль  \n",
       "21272                 профильное образование  \n",
       "21337             покупка жилой недвижимости  \n",
       "21351        операции со своей недвижимостью  \n",
       "21437     на покупку подержанного автомобиля  \n",
       "\n",
       "[76 rows x 11 columns]"
      ]
     },
     "execution_count": 42,
     "metadata": {},
     "output_type": "execute_result"
    }
   ],
   "source": [
    "df[df['children'] == 20]"
   ]
  },
  {
   "cell_type": "markdown",
   "metadata": {},
   "source": [
    "Люди как люди, пусть у них будет по 2 ребенка, а не по 20. Для этого воспользуемся заменой с помощью метода логической индексации"
   ]
  },
  {
   "cell_type": "code",
   "execution_count": 43,
   "metadata": {},
   "outputs": [],
   "source": [
    "df.loc[df['children'] == 20, 'children'] = 2"
   ]
  },
  {
   "cell_type": "markdown",
   "metadata": {},
   "source": [
    "Проверим что получилось"
   ]
  },
  {
   "cell_type": "code",
   "execution_count": 44,
   "metadata": {},
   "outputs": [
    {
     "data": {
      "text/plain": [
       "0    14107\n",
       "1     4856\n",
       "2     2128\n",
       "3      330\n",
       "4       41\n",
       "5        9\n",
       "Name: children, dtype: int64"
      ]
     },
     "execution_count": 44,
     "metadata": {},
     "output_type": "execute_result"
    }
   ],
   "source": [
    "df['children'].value_counts()"
   ]
  },
  {
   "cell_type": "markdown",
   "metadata": {},
   "source": [
    "Значения 20 перешли в значение 2. Выглядит нормально."
   ]
  },
  {
   "cell_type": "markdown",
   "metadata": {},
   "source": [
    "**Столбец `dob_years`**"
   ]
  },
  {
   "cell_type": "markdown",
   "metadata": {},
   "source": [
    "У нас обнаружились заемщики возрастом 0 лет. Посмотрим кто они"
   ]
  },
  {
   "cell_type": "code",
   "execution_count": 45,
   "metadata": {},
   "outputs": [
    {
     "data": {
      "text/plain": [
       "сотрудник      55\n",
       "пенсионер      20\n",
       "компаньон      20\n",
       "госслужащий     6\n",
       "Name: income_type, dtype: int64"
      ]
     },
     "execution_count": 45,
     "metadata": {},
     "output_type": "execute_result"
    }
   ],
   "source": [
    "df[df['dob_years'] == 0]['income_type'].value_counts()"
   ]
  },
  {
   "cell_type": "markdown",
   "metadata": {},
   "source": [
    "Часть из них пенсионеры, они наверное старше, так что не хотелось бы усреднять возраст всех. Посмотрим среднее и медиану каждой из этих групп."
   ]
  },
  {
   "cell_type": "code",
   "execution_count": 46,
   "metadata": {},
   "outputs": [
    {
     "data": {
      "text/html": [
       "<div>\n",
       "<style scoped>\n",
       "    .dataframe tbody tr th:only-of-type {\n",
       "        vertical-align: middle;\n",
       "    }\n",
       "\n",
       "    .dataframe tbody tr th {\n",
       "        vertical-align: top;\n",
       "    }\n",
       "\n",
       "    .dataframe thead tr th {\n",
       "        text-align: left;\n",
       "    }\n",
       "\n",
       "    .dataframe thead tr:last-of-type th {\n",
       "        text-align: right;\n",
       "    }\n",
       "</style>\n",
       "<table border=\"1\" class=\"dataframe\">\n",
       "  <thead>\n",
       "    <tr>\n",
       "      <th></th>\n",
       "      <th colspan=\"2\" halign=\"left\">dob_years</th>\n",
       "    </tr>\n",
       "    <tr>\n",
       "      <th></th>\n",
       "      <th>mean</th>\n",
       "      <th>median</th>\n",
       "    </tr>\n",
       "    <tr>\n",
       "      <th>income_type</th>\n",
       "      <th></th>\n",
       "      <th></th>\n",
       "    </tr>\n",
       "  </thead>\n",
       "  <tbody>\n",
       "    <tr>\n",
       "      <td>безработный</td>\n",
       "      <td>38.000000</td>\n",
       "      <td>38.0</td>\n",
       "    </tr>\n",
       "    <tr>\n",
       "      <td>в декрете</td>\n",
       "      <td>39.000000</td>\n",
       "      <td>39.0</td>\n",
       "    </tr>\n",
       "    <tr>\n",
       "      <td>госслужащий</td>\n",
       "      <td>40.815300</td>\n",
       "      <td>40.0</td>\n",
       "    </tr>\n",
       "    <tr>\n",
       "      <td>компаньон</td>\n",
       "      <td>39.853557</td>\n",
       "      <td>39.0</td>\n",
       "    </tr>\n",
       "    <tr>\n",
       "      <td>пенсионер</td>\n",
       "      <td>59.368090</td>\n",
       "      <td>60.0</td>\n",
       "    </tr>\n",
       "    <tr>\n",
       "      <td>предприниматель</td>\n",
       "      <td>42.500000</td>\n",
       "      <td>42.5</td>\n",
       "    </tr>\n",
       "    <tr>\n",
       "      <td>сотрудник</td>\n",
       "      <td>40.008427</td>\n",
       "      <td>39.0</td>\n",
       "    </tr>\n",
       "    <tr>\n",
       "      <td>студент</td>\n",
       "      <td>22.000000</td>\n",
       "      <td>22.0</td>\n",
       "    </tr>\n",
       "  </tbody>\n",
       "</table>\n",
       "</div>"
      ],
      "text/plain": [
       "                 dob_years       \n",
       "                      mean median\n",
       "income_type                      \n",
       "безработный      38.000000   38.0\n",
       "в декрете        39.000000   39.0\n",
       "госслужащий      40.815300   40.0\n",
       "компаньон        39.853557   39.0\n",
       "пенсионер        59.368090   60.0\n",
       "предприниматель  42.500000   42.5\n",
       "сотрудник        40.008427   39.0\n",
       "студент          22.000000   22.0"
      ]
     },
     "execution_count": 46,
     "metadata": {},
     "output_type": "execute_result"
    }
   ],
   "source": [
    "df[df['dob_years'] != 0].groupby('income_type').agg({'dob_years':['mean','median']})"
   ]
  },
  {
   "cell_type": "markdown",
   "metadata": {},
   "source": [
    "Что видим: \n",
    "* Медиана и реднее практически не различаются, значит распределение значений нормлальное\n",
    "* Пенсионеры действительно старше  \n",
    "\n",
    "Используем медиану каждой из этих групп чтобы заменить нулевой возраст. Сделаем все по аналогии с доходом: в словарь запишем данные о медиане возраста для разных типов занятости, и функцией раздадим медианные значения в строки с нулевым возрастом, и методом `.apply()` применим это все к столбцу `dob_years`"
   ]
  },
  {
   "cell_type": "code",
   "execution_count": 47,
   "metadata": {},
   "outputs": [],
   "source": [
    "median_ages = df.groupby('income_type')['dob_years'].median().to_dict()\n",
    " \n",
    "def fill_age(row):\n",
    "    if (row['dob_years']) == 0:\n",
    "        return median_ages.get(row['income_type'])\n",
    "    return row['dob_years']\n",
    " \n",
    "df['dob_years'] = df.apply(fill_age, axis=1).astype('int')"
   ]
  },
  {
   "cell_type": "markdown",
   "metadata": {},
   "source": [
    "Проверим остались ли заемщики с нулевым возрастом"
   ]
  },
  {
   "cell_type": "code",
   "execution_count": 48,
   "metadata": {},
   "outputs": [
    {
     "data": {
      "text/plain": [
       "Series([], Name: income_type, dtype: int64)"
      ]
     },
     "execution_count": 48,
     "metadata": {},
     "output_type": "execute_result"
    }
   ],
   "source": [
    "df[df['dob_years'] == 0]['income_type'].value_counts()"
   ]
  },
  {
   "cell_type": "markdown",
   "metadata": {},
   "source": [
    "Похоже что нет. Посмотрим какие самые молодые."
   ]
  },
  {
   "cell_type": "code",
   "execution_count": 49,
   "metadata": {},
   "outputs": [
    {
     "data": {
      "text/plain": [
       "19"
      ]
     },
     "execution_count": 49,
     "metadata": {},
     "output_type": "execute_result"
    }
   ],
   "source": [
    "df['dob_years'].min()"
   ]
  },
  {
   "cell_type": "markdown",
   "metadata": {},
   "source": [
    "Моложе 19 лет заемщиков нет.  \n",
    "Таким образом от нулевого возраста мы избавились"
   ]
  },
  {
   "cell_type": "markdown",
   "metadata": {},
   "source": [
    "#### Вывод (обработка дубликатов)"
   ]
  },
  {
   "cell_type": "markdown",
   "metadata": {},
   "source": [
    "* Мы удалили полностью задублированные строки методом `.drop_duplicates()`\n",
    "* Устранили дубликаты в категориальных переменных, применив метод `.str.lower()` для приведения записей в нижний регистр  \n",
    "* Обнаружили и устранили артефакты и дубликаты в количественных переменных\n",
    "* Описали некоторые возможные причины появления дубликатов, среди которых самая частая возможная причина - ошибка при переносе данных."
   ]
  },
  {
   "cell_type": "markdown",
   "metadata": {},
   "source": [
    "### Лемматизация"
   ]
  },
  {
   "cell_type": "markdown",
   "metadata": {},
   "source": [
    "Столбец `purpose` требует лемматизации из-за использования разных формулировок для одних и тех же целей кредита.  "
   ]
  },
  {
   "cell_type": "markdown",
   "metadata": {},
   "source": [
    "**План такой:** \n",
    "1. Сначала возьмем все цели из ДФ, превратим их в одну строку, из строки извлечем леммы. Так будет удобно оценить общее количество лемм, и главное визуально выделить значимые и незначимые леммы. Сделаем список значимых лемм.\n",
    "2. Далее создадим новый столбец `lemma_strings` в ДФ, куда выведем списком все леммы столбца `purpose`, которые встретятся в данной строке. \n",
    "3. Создадим новый столбец `purpose_lemma`, куда при помощи сверки значений столбца `lemma_strings` со списком значимых лемм будем отправлять только значимые леммы.\n",
    "4. Удостоверимся что значимые леммы выделены правильно"
   ]
  },
  {
   "cell_type": "markdown",
   "metadata": {},
   "source": [
    "#### Выделение лемм из всего ДФ"
   ]
  },
  {
   "cell_type": "markdown",
   "metadata": {},
   "source": [
    "Возьмем все цели из ДФ, превратим их в одну строку, из строки извлечем леммы. Так будет удобно оценить общее количество лемм, и главное визуально выделить значимые и незначимые леммы. Сделаем список значимых лемм."
   ]
  },
  {
   "cell_type": "code",
   "execution_count": 50,
   "metadata": {},
   "outputs": [],
   "source": [
    "#  Все цели кредита превратим из `Series` в `список`\n",
    "to_lemmatize = df['purpose'].tolist()"
   ]
  },
  {
   "cell_type": "code",
   "execution_count": 51,
   "metadata": {},
   "outputs": [
    {
     "data": {
      "text/plain": [
       "True"
      ]
     },
     "execution_count": 51,
     "metadata": {},
     "output_type": "execute_result"
    }
   ],
   "source": [
    "# самопроверка. сравним количество строк в ДФ и длину списка\n",
    "len(df) == len(to_lemmatize)"
   ]
  },
  {
   "cell_type": "code",
   "execution_count": 52,
   "metadata": {},
   "outputs": [],
   "source": [
    "# Превратим список в строку чтобы передать для лемматизации\n",
    "to_lemmatize = ' '.join(to_lemmatize)"
   ]
  },
  {
   "cell_type": "code",
   "execution_count": 53,
   "metadata": {},
   "outputs": [
    {
     "data": {
      "text/plain": [
       "492084"
      ]
     },
     "execution_count": 53,
     "metadata": {},
     "output_type": "execute_result"
    }
   ],
   "source": [
    "# Посмотрим длину этой сторки\n",
    "len(to_lemmatize)"
   ]
  },
  {
   "cell_type": "markdown",
   "metadata": {},
   "source": [
    "Почти полмиллиона слов!"
   ]
  },
  {
   "cell_type": "code",
   "execution_count": 54,
   "metadata": {},
   "outputs": [],
   "source": [
    "# Передадим строку для лемматизации\n",
    "m = Mystem()\n",
    "lemmas = m.lemmatize(to_lemmatize)"
   ]
  },
  {
   "cell_type": "code",
   "execution_count": 55,
   "metadata": {},
   "outputs": [
    {
     "data": {
      "text/plain": [
       "Counter({'покупка': 5900,\n",
       "         ' ': 55066,\n",
       "         'жилье': 4461,\n",
       "         'приобретение': 461,\n",
       "         'автомобиль': 4308,\n",
       "         'дополнительный': 907,\n",
       "         'образование': 4014,\n",
       "         'сыграть': 769,\n",
       "         'свадьба': 2335,\n",
       "         'операция': 2604,\n",
       "         'с': 2918,\n",
       "         'на': 2228,\n",
       "         'проведение': 773,\n",
       "         'для': 1290,\n",
       "         'семья': 638,\n",
       "         'недвижимость': 6353,\n",
       "         'коммерческий': 1312,\n",
       "         'жилой': 1231,\n",
       "         'строительство': 1879,\n",
       "         'собственный': 635,\n",
       "         'подержать': 853,\n",
       "         'свой': 2231,\n",
       "         'со': 627,\n",
       "         'заниматься': 904,\n",
       "         'сделка': 941,\n",
       "         'получение': 1315,\n",
       "         'высокий': 1374,\n",
       "         'подержанный': 111,\n",
       "         'профильный': 436,\n",
       "         'сдача': 652,\n",
       "         'ремонт': 607,\n",
       "         '\\n': 1})"
      ]
     },
     "execution_count": 55,
     "metadata": {},
     "output_type": "execute_result"
    }
   ],
   "source": [
    "# Передадим полученные леммы для подсчета\n",
    "dict_lemmas = Counter(lemmas)\n",
    "dict_lemmas"
   ]
  },
  {
   "cell_type": "markdown",
   "metadata": {},
   "source": [
    "Лемм получилось совсем не много, посмотрим сколько"
   ]
  },
  {
   "cell_type": "code",
   "execution_count": 56,
   "metadata": {},
   "outputs": [
    {
     "data": {
      "text/plain": [
       "32"
      ]
     },
     "execution_count": 56,
     "metadata": {},
     "output_type": "execute_result"
    }
   ],
   "source": [
    "len(dict_lemmas)"
   ]
  },
  {
   "cell_type": "markdown",
   "metadata": {},
   "source": [
    "Из полумиллиона слов выделено всего 32 леммы. Посмотрим на них глазами и решим какие нужны, а какие можно отбросить: \n",
    "* сразу отбрасываем пробелы и служебные слова (с, со, для, на и тп)\n",
    "* значимые леммы это `['недвижимость', 'жилье', 'автомобиль', 'образование', 'свадьба', 'ремонт']` - в дальнейшем используем этот список значимых лемм чтобы выделять значимые леммы для каждой строки\n",
    "* под вопросом значимость лемм `['строительство', 'операция', 'семья']` - надо будет их проверить в том случае, если останутся незаполенные значимые леммы\n",
    "* остальные леммы можно считать не значимыми, тк понятно, что если это жилье - то его покупают, если это образование - то его получают, если свадьба - ее играют и тп"
   ]
  },
  {
   "cell_type": "markdown",
   "metadata": {},
   "source": [
    "#### Веделение всех лемм для каждой строки ДФ"
   ]
  },
  {
   "cell_type": "markdown",
   "metadata": {},
   "source": [
    "Создадим новый столбец `lemma_strings` в ДФ, куда выведем все леммы столбца `purpose`, которые встретятся в данной строке. Для этого напишем функцию, которая будет принимать в качестве аргумента значение столбца `purpose`, и возвращать список лемм"
   ]
  },
  {
   "cell_type": "code",
   "execution_count": 57,
   "metadata": {
    "scrolled": true
   },
   "outputs": [],
   "source": [
    "def purpose_to_lemma_strings(purpose):\n",
    "    lemmas_for_row = m.lemmatize(purpose)\n",
    "    return lemmas_for_row\n",
    "\n",
    "df['lemma_strings'] = df['purpose'].apply(purpose_to_lemma_strings)"
   ]
  },
  {
   "cell_type": "markdown",
   "metadata": {},
   "source": [
    "Проверим что получилось"
   ]
  },
  {
   "cell_type": "code",
   "execution_count": 58,
   "metadata": {},
   "outputs": [
    {
     "data": {
      "text/html": [
       "<div>\n",
       "<style scoped>\n",
       "    .dataframe tbody tr th:only-of-type {\n",
       "        vertical-align: middle;\n",
       "    }\n",
       "\n",
       "    .dataframe tbody tr th {\n",
       "        vertical-align: top;\n",
       "    }\n",
       "\n",
       "    .dataframe thead th {\n",
       "        text-align: right;\n",
       "    }\n",
       "</style>\n",
       "<table border=\"1\" class=\"dataframe\">\n",
       "  <thead>\n",
       "    <tr style=\"text-align: right;\">\n",
       "      <th></th>\n",
       "      <th>purpose</th>\n",
       "      <th>lemma_strings</th>\n",
       "    </tr>\n",
       "  </thead>\n",
       "  <tbody>\n",
       "    <tr>\n",
       "      <td>0</td>\n",
       "      <td>покупка жилья</td>\n",
       "      <td>[покупка,  , жилье, \\n]</td>\n",
       "    </tr>\n",
       "    <tr>\n",
       "      <td>1</td>\n",
       "      <td>приобретение автомобиля</td>\n",
       "      <td>[приобретение,  , автомобиль, \\n]</td>\n",
       "    </tr>\n",
       "    <tr>\n",
       "      <td>2</td>\n",
       "      <td>покупка жилья</td>\n",
       "      <td>[покупка,  , жилье, \\n]</td>\n",
       "    </tr>\n",
       "    <tr>\n",
       "      <td>3</td>\n",
       "      <td>дополнительное образование</td>\n",
       "      <td>[дополнительный,  , образование, \\n]</td>\n",
       "    </tr>\n",
       "    <tr>\n",
       "      <td>4</td>\n",
       "      <td>сыграть свадьбу</td>\n",
       "      <td>[сыграть,  , свадьба, \\n]</td>\n",
       "    </tr>\n",
       "  </tbody>\n",
       "</table>\n",
       "</div>"
      ],
      "text/plain": [
       "                      purpose                         lemma_strings\n",
       "0               покупка жилья               [покупка,  , жилье, \\n]\n",
       "1     приобретение автомобиля     [приобретение,  , автомобиль, \\n]\n",
       "2               покупка жилья               [покупка,  , жилье, \\n]\n",
       "3  дополнительное образование  [дополнительный,  , образование, \\n]\n",
       "4             сыграть свадьбу             [сыграть,  , свадьба, \\n]"
      ]
     },
     "execution_count": 58,
     "metadata": {},
     "output_type": "execute_result"
    }
   ],
   "source": [
    "df[['purpose', 'lemma_strings']].head()"
   ]
  },
  {
   "cell_type": "markdown",
   "metadata": {},
   "source": [
    "Теперь у нас есть столбец `lemma_strings` со списком лемм для каждой строки. Однако, все леммы нам не нужны, а нужны только значимые. В следующем шаге разберемся с этим."
   ]
  },
  {
   "cell_type": "markdown",
   "metadata": {},
   "source": [
    "#### Выделение значимых лемм для каждой строки ДФ"
   ]
  },
  {
   "cell_type": "markdown",
   "metadata": {},
   "source": [
    "Выделим значимые леммы из столбца `lemma_strings` , и поместим их в отдельный столбец `purpose_lemma`.\n",
    "Для этого методу `.apply()` передадим функцию, которая будет сверять списки лемм для каждой строки со списком значимых лемм (который мы возьмем из пункта [**2-04-01**](#2-04-01)), и возвращать только значимые леммы для каждой строки.  "
   ]
  },
  {
   "cell_type": "code",
   "execution_count": 59,
   "metadata": {
    "scrolled": true
   },
   "outputs": [],
   "source": [
    "def strings_to_purpose_lemma(lemma_strings):\n",
    "    purpose_lemma_list = ['недвижимость', 'жилье', 'автомобиль', 'образование', 'свадьба', 'ремонт']\n",
    "    for item in lemma_strings:\n",
    "        for lemma in purpose_lemma_list:\n",
    "            if lemma == item:\n",
    "                return lemma\n",
    "\n",
    "\n",
    "df['purpose_lemma'] = df['lemma_strings'].apply(strings_to_purpose_lemma)"
   ]
  },
  {
   "cell_type": "markdown",
   "metadata": {},
   "source": [
    "Проверим что получилось"
   ]
  },
  {
   "cell_type": "code",
   "execution_count": 60,
   "metadata": {},
   "outputs": [
    {
     "data": {
      "text/html": [
       "<div>\n",
       "<style scoped>\n",
       "    .dataframe tbody tr th:only-of-type {\n",
       "        vertical-align: middle;\n",
       "    }\n",
       "\n",
       "    .dataframe tbody tr th {\n",
       "        vertical-align: top;\n",
       "    }\n",
       "\n",
       "    .dataframe thead th {\n",
       "        text-align: right;\n",
       "    }\n",
       "</style>\n",
       "<table border=\"1\" class=\"dataframe\">\n",
       "  <thead>\n",
       "    <tr style=\"text-align: right;\">\n",
       "      <th></th>\n",
       "      <th>purpose</th>\n",
       "      <th>lemma_strings</th>\n",
       "      <th>purpose_lemma</th>\n",
       "    </tr>\n",
       "  </thead>\n",
       "  <tbody>\n",
       "    <tr>\n",
       "      <td>0</td>\n",
       "      <td>покупка жилья</td>\n",
       "      <td>[покупка,  , жилье, \\n]</td>\n",
       "      <td>жилье</td>\n",
       "    </tr>\n",
       "    <tr>\n",
       "      <td>1</td>\n",
       "      <td>приобретение автомобиля</td>\n",
       "      <td>[приобретение,  , автомобиль, \\n]</td>\n",
       "      <td>автомобиль</td>\n",
       "    </tr>\n",
       "    <tr>\n",
       "      <td>2</td>\n",
       "      <td>покупка жилья</td>\n",
       "      <td>[покупка,  , жилье, \\n]</td>\n",
       "      <td>жилье</td>\n",
       "    </tr>\n",
       "    <tr>\n",
       "      <td>3</td>\n",
       "      <td>дополнительное образование</td>\n",
       "      <td>[дополнительный,  , образование, \\n]</td>\n",
       "      <td>образование</td>\n",
       "    </tr>\n",
       "    <tr>\n",
       "      <td>4</td>\n",
       "      <td>сыграть свадьбу</td>\n",
       "      <td>[сыграть,  , свадьба, \\n]</td>\n",
       "      <td>свадьба</td>\n",
       "    </tr>\n",
       "  </tbody>\n",
       "</table>\n",
       "</div>"
      ],
      "text/plain": [
       "                      purpose                         lemma_strings  \\\n",
       "0               покупка жилья               [покупка,  , жилье, \\n]   \n",
       "1     приобретение автомобиля     [приобретение,  , автомобиль, \\n]   \n",
       "2               покупка жилья               [покупка,  , жилье, \\n]   \n",
       "3  дополнительное образование  [дополнительный,  , образование, \\n]   \n",
       "4             сыграть свадьбу             [сыграть,  , свадьба, \\n]   \n",
       "\n",
       "  purpose_lemma  \n",
       "0         жилье  \n",
       "1    автомобиль  \n",
       "2         жилье  \n",
       "3   образование  \n",
       "4       свадьба  "
      ]
     },
     "execution_count": 60,
     "metadata": {},
     "output_type": "execute_result"
    }
   ],
   "source": [
    "df[['purpose','lemma_strings','purpose_lemma']].head()"
   ]
  },
  {
   "cell_type": "markdown",
   "metadata": {},
   "source": [
    "Теперь у нас есть столбец `purpose_lemma`, где для каждой строки указана значимая лемма, на которую можно ориентироваться.  \n",
    "Проверим что каждой строке присвоена значимая лемма (посчитаем количество строк, у которых есть пропуск в столбце `purpose_lemma`). "
   ]
  },
  {
   "cell_type": "code",
   "execution_count": 61,
   "metadata": {},
   "outputs": [
    {
     "data": {
      "text/plain": [
       "0"
      ]
     },
     "execution_count": 61,
     "metadata": {},
     "output_type": "execute_result"
    }
   ],
   "source": [
    "df['purpose_lemma'].isna().sum()"
   ]
  },
  {
   "cell_type": "markdown",
   "metadata": {},
   "source": [
    "Пустых значений в столбце `purpose_lemma` не осталось, значит всем присвоены значимые леммы."
   ]
  },
  {
   "cell_type": "markdown",
   "metadata": {},
   "source": [
    "#### Проверка правильности значимых лемм"
   ]
  },
  {
   "cell_type": "markdown",
   "metadata": {},
   "source": [
    "Сначала посмотрим как часто и на что брали кредиты"
   ]
  },
  {
   "cell_type": "code",
   "execution_count": 62,
   "metadata": {},
   "outputs": [
    {
     "data": {
      "text/plain": [
       "недвижимость    6353\n",
       "автомобиль      4308\n",
       "образование     4014\n",
       "жилье           3854\n",
       "свадьба         2335\n",
       "ремонт           607\n",
       "Name: purpose_lemma, dtype: int64"
      ]
     },
     "execution_count": 62,
     "metadata": {},
     "output_type": "execute_result"
    }
   ],
   "source": [
    "df['purpose_lemma'].value_counts()"
   ]
  },
  {
   "cell_type": "markdown",
   "metadata": {},
   "source": [
    "Чаще всего брали на недвижимость, если прибавить туда еще и жилье, то это примено 50% всех кредитов.  \n",
    "Примерно по 20% приходится на образование и авто, и около 10% на свадьбы. На ремонт приходтся лишь малая часть кредитов, по которой нельзя будет сделать стаистически значимый вывод"
   ]
  },
  {
   "cell_type": "markdown",
   "metadata": {},
   "source": [
    "Возникает пара вопросов:  \n",
    "* Объединять ли жилье и недвижимость?   \n",
    "Конечно, жилье и недвижимость имеют больше общего чем жилье и автомобиль, например. Однако, представляется, что жилье это что-то необходимое для жизни, тогда как недвижимость - скорее актив. Возможно это даже будут разные категории заемщиков, поэтому объединять их пока не будем.\n",
    "* Выделять ли ремонт отдельно?  \n",
    "Что это за ремонт? Ради интереса посмотрим что ремонтировали."
   ]
  },
  {
   "cell_type": "code",
   "execution_count": 63,
   "metadata": {},
   "outputs": [
    {
     "data": {
      "text/plain": [
       "array(['ремонт жилью'], dtype=object)"
      ]
     },
     "execution_count": 63,
     "metadata": {},
     "output_type": "execute_result"
    }
   ],
   "source": [
    "remont = df[df['purpose_lemma'] == 'ремонт']\n",
    "remont['purpose'].unique()"
   ]
  },
  {
   "cell_type": "markdown",
   "metadata": {},
   "source": [
    "Ремонтировали жилье.  \n",
    "Представляется, что ремонт жилья все же имеет смысл выделять отдельной леммой (хоть это и совсем небольшая группа), а не относить его к жилью. Покупка жилья и ремонт жилья это все-таки разные вещи (и бюджеты), а возможно и разные категории заемщиков."
   ]
  },
  {
   "cell_type": "markdown",
   "metadata": {},
   "source": [
    "Леммы, значимость которых была под вопросом (`['строительство', 'операция', 'семья']`) можно смело отметать: все они по сымслу относятся к жилью/недвижимости."
   ]
  },
  {
   "cell_type": "markdown",
   "metadata": {},
   "source": [
    "#### Вывод (лемматизация)"
   ]
  },
  {
   "cell_type": "markdown",
   "metadata": {},
   "source": [
    "Мы провели лемматизацию столбца `purpose`, в итоге получили новый столбец `purpose_lemma`, где однозначно указана значимая лемма для каждой строки. По ходу этого всего у нас добавилось столбцов в таблице, но мы это поправим когда будем категоризировать данные.  \n",
    "В итоге целей кредита оказалось всего 6 - не так много, как казалось вначале из-за различных формулировок одних и тех же целей. "
   ]
  },
  {
   "cell_type": "markdown",
   "metadata": {},
   "source": [
    "### Категоризация данных"
   ]
  },
  {
   "cell_type": "markdown",
   "metadata": {},
   "source": [
    "План такой:  \n",
    "1. Сначала сделаем словари по типам данных чтобы разгрузить ДФ чтобы он стал более удобным для восприятия. Для параметров, у которых есть также id, оставим в ДФ id, а соответствия id и их параметров будем хранить в отдельных ДФ (\"словарях\")\n",
    "2. Посмотрим по каким признакам можно классифицировать заемщиков (пока предполагаем что по возрасту и доходу), и по каким они уже классифицированы."
   ]
  },
  {
   "cell_type": "markdown",
   "metadata": {},
   "source": [
    "#### Перенос повторяющихся параметров в словари"
   ]
  },
  {
   "cell_type": "markdown",
   "metadata": {},
   "source": [
    "Для начала посмотрим какие параметры повторяются в ДФ, то есть имеют значения и id"
   ]
  },
  {
   "cell_type": "code",
   "execution_count": 64,
   "metadata": {
    "scrolled": true
   },
   "outputs": [
    {
     "data": {
      "text/plain": [
       "Index(['children', 'dob_years', 'education', 'education_id', 'family_status',\n",
       "       'family_status_id', 'gender', 'income_type', 'debt', 'total_income',\n",
       "       'purpose', 'lemma_strings', 'purpose_lemma'],\n",
       "      dtype='object')"
      ]
     },
     "execution_count": 64,
     "metadata": {},
     "output_type": "execute_result"
    }
   ],
   "source": [
    "df.columns"
   ]
  },
  {
   "cell_type": "markdown",
   "metadata": {},
   "source": [
    "Видим, что параметры с id это: \n",
    "1. `education` с id `education_id`\n",
    "2. `family_status` с id `family_status_id`"
   ]
  },
  {
   "cell_type": "markdown",
   "metadata": {},
   "source": [
    "Отвравим их в отдельные ДФы, чтобы они не загружали таблицу.  \n",
    "Для этого сохраним столбцы `education` и `education_id` в переменной `education_dict`, а столбцы `family_status` и `family_status_id` в переменной `family_status_dict`"
   ]
  },
  {
   "cell_type": "code",
   "execution_count": 65,
   "metadata": {},
   "outputs": [],
   "source": [
    "education_dict = df[['education', 'education_id']]\n",
    "family_status_dict = df[['family_status', 'family_status_id']]"
   ]
  },
  {
   "cell_type": "markdown",
   "metadata": {},
   "source": [
    "Посмотрим что получилось"
   ]
  },
  {
   "cell_type": "code",
   "execution_count": 66,
   "metadata": {},
   "outputs": [
    {
     "name": "stdout",
     "output_type": "stream",
     "text": [
      "<class 'pandas.core.frame.DataFrame'>\n",
      "RangeIndex: 21471 entries, 0 to 21470\n",
      "Data columns (total 2 columns):\n",
      "education       21471 non-null object\n",
      "education_id    21471 non-null int64\n",
      "dtypes: int64(1), object(1)\n",
      "memory usage: 335.6+ KB\n"
     ]
    },
    {
     "data": {
      "text/html": [
       "<div>\n",
       "<style scoped>\n",
       "    .dataframe tbody tr th:only-of-type {\n",
       "        vertical-align: middle;\n",
       "    }\n",
       "\n",
       "    .dataframe tbody tr th {\n",
       "        vertical-align: top;\n",
       "    }\n",
       "\n",
       "    .dataframe thead th {\n",
       "        text-align: right;\n",
       "    }\n",
       "</style>\n",
       "<table border=\"1\" class=\"dataframe\">\n",
       "  <thead>\n",
       "    <tr style=\"text-align: right;\">\n",
       "      <th></th>\n",
       "      <th>education</th>\n",
       "      <th>education_id</th>\n",
       "    </tr>\n",
       "  </thead>\n",
       "  <tbody>\n",
       "    <tr>\n",
       "      <td>0</td>\n",
       "      <td>высшее</td>\n",
       "      <td>0</td>\n",
       "    </tr>\n",
       "    <tr>\n",
       "      <td>1</td>\n",
       "      <td>среднее</td>\n",
       "      <td>1</td>\n",
       "    </tr>\n",
       "    <tr>\n",
       "      <td>2</td>\n",
       "      <td>среднее</td>\n",
       "      <td>1</td>\n",
       "    </tr>\n",
       "    <tr>\n",
       "      <td>3</td>\n",
       "      <td>среднее</td>\n",
       "      <td>1</td>\n",
       "    </tr>\n",
       "    <tr>\n",
       "      <td>4</td>\n",
       "      <td>среднее</td>\n",
       "      <td>1</td>\n",
       "    </tr>\n",
       "  </tbody>\n",
       "</table>\n",
       "</div>"
      ],
      "text/plain": [
       "  education  education_id\n",
       "0    высшее             0\n",
       "1   среднее             1\n",
       "2   среднее             1\n",
       "3   среднее             1\n",
       "4   среднее             1"
      ]
     },
     "execution_count": 66,
     "metadata": {},
     "output_type": "execute_result"
    }
   ],
   "source": [
    "education_dict.info()\n",
    "education_dict.head()"
   ]
  },
  {
   "cell_type": "code",
   "execution_count": 67,
   "metadata": {},
   "outputs": [
    {
     "name": "stdout",
     "output_type": "stream",
     "text": [
      "<class 'pandas.core.frame.DataFrame'>\n",
      "RangeIndex: 21471 entries, 0 to 21470\n",
      "Data columns (total 2 columns):\n",
      "family_status       21471 non-null object\n",
      "family_status_id    21471 non-null int64\n",
      "dtypes: int64(1), object(1)\n",
      "memory usage: 335.6+ KB\n"
     ]
    },
    {
     "data": {
      "text/html": [
       "<div>\n",
       "<style scoped>\n",
       "    .dataframe tbody tr th:only-of-type {\n",
       "        vertical-align: middle;\n",
       "    }\n",
       "\n",
       "    .dataframe tbody tr th {\n",
       "        vertical-align: top;\n",
       "    }\n",
       "\n",
       "    .dataframe thead th {\n",
       "        text-align: right;\n",
       "    }\n",
       "</style>\n",
       "<table border=\"1\" class=\"dataframe\">\n",
       "  <thead>\n",
       "    <tr style=\"text-align: right;\">\n",
       "      <th></th>\n",
       "      <th>family_status</th>\n",
       "      <th>family_status_id</th>\n",
       "    </tr>\n",
       "  </thead>\n",
       "  <tbody>\n",
       "    <tr>\n",
       "      <td>0</td>\n",
       "      <td>женат / замужем</td>\n",
       "      <td>0</td>\n",
       "    </tr>\n",
       "    <tr>\n",
       "      <td>1</td>\n",
       "      <td>женат / замужем</td>\n",
       "      <td>0</td>\n",
       "    </tr>\n",
       "    <tr>\n",
       "      <td>2</td>\n",
       "      <td>женат / замужем</td>\n",
       "      <td>0</td>\n",
       "    </tr>\n",
       "    <tr>\n",
       "      <td>3</td>\n",
       "      <td>женат / замужем</td>\n",
       "      <td>0</td>\n",
       "    </tr>\n",
       "    <tr>\n",
       "      <td>4</td>\n",
       "      <td>гражданский брак</td>\n",
       "      <td>1</td>\n",
       "    </tr>\n",
       "  </tbody>\n",
       "</table>\n",
       "</div>"
      ],
      "text/plain": [
       "      family_status  family_status_id\n",
       "0   женат / замужем                 0\n",
       "1   женат / замужем                 0\n",
       "2   женат / замужем                 0\n",
       "3   женат / замужем                 0\n",
       "4  гражданский брак                 1"
      ]
     },
     "execution_count": 67,
     "metadata": {},
     "output_type": "execute_result"
    }
   ],
   "source": [
    "family_status_dict.info()\n",
    "family_status_dict.head()"
   ]
  },
  {
   "cell_type": "markdown",
   "metadata": {},
   "source": [
    "Видим что новых ДФ столько же строк сколько в исходном. Визуально определяются дубли, удалим их из обоих ДФ методом `.drop_duplicates()` и заодно обнулим индексы методом `.reset_index()`. Перезапишем \"словари\" без дубликатов."
   ]
  },
  {
   "cell_type": "code",
   "execution_count": 68,
   "metadata": {},
   "outputs": [],
   "source": [
    "education_dict = education_dict.drop_duplicates().reset_index(drop=True)\n",
    "family_status_dict = family_status_dict.drop_duplicates().reset_index(drop=True)"
   ]
  },
  {
   "cell_type": "markdown",
   "metadata": {},
   "source": [
    "Проверим что получилось:"
   ]
  },
  {
   "cell_type": "code",
   "execution_count": 69,
   "metadata": {},
   "outputs": [
    {
     "name": "stdout",
     "output_type": "stream",
     "text": [
      "<class 'pandas.core.frame.DataFrame'>\n",
      "RangeIndex: 5 entries, 0 to 4\n",
      "Data columns (total 2 columns):\n",
      "education       5 non-null object\n",
      "education_id    5 non-null int64\n",
      "dtypes: int64(1), object(1)\n",
      "memory usage: 208.0+ bytes\n"
     ]
    },
    {
     "data": {
      "text/html": [
       "<div>\n",
       "<style scoped>\n",
       "    .dataframe tbody tr th:only-of-type {\n",
       "        vertical-align: middle;\n",
       "    }\n",
       "\n",
       "    .dataframe tbody tr th {\n",
       "        vertical-align: top;\n",
       "    }\n",
       "\n",
       "    .dataframe thead th {\n",
       "        text-align: right;\n",
       "    }\n",
       "</style>\n",
       "<table border=\"1\" class=\"dataframe\">\n",
       "  <thead>\n",
       "    <tr style=\"text-align: right;\">\n",
       "      <th></th>\n",
       "      <th>education</th>\n",
       "      <th>education_id</th>\n",
       "    </tr>\n",
       "  </thead>\n",
       "  <tbody>\n",
       "    <tr>\n",
       "      <td>0</td>\n",
       "      <td>высшее</td>\n",
       "      <td>0</td>\n",
       "    </tr>\n",
       "    <tr>\n",
       "      <td>1</td>\n",
       "      <td>среднее</td>\n",
       "      <td>1</td>\n",
       "    </tr>\n",
       "    <tr>\n",
       "      <td>2</td>\n",
       "      <td>неоконченное высшее</td>\n",
       "      <td>2</td>\n",
       "    </tr>\n",
       "    <tr>\n",
       "      <td>3</td>\n",
       "      <td>начальное</td>\n",
       "      <td>3</td>\n",
       "    </tr>\n",
       "    <tr>\n",
       "      <td>4</td>\n",
       "      <td>ученая степень</td>\n",
       "      <td>4</td>\n",
       "    </tr>\n",
       "  </tbody>\n",
       "</table>\n",
       "</div>"
      ],
      "text/plain": [
       "             education  education_id\n",
       "0               высшее             0\n",
       "1              среднее             1\n",
       "2  неоконченное высшее             2\n",
       "3            начальное             3\n",
       "4       ученая степень             4"
      ]
     },
     "execution_count": 69,
     "metadata": {},
     "output_type": "execute_result"
    }
   ],
   "source": [
    "education_dict.info()\n",
    "education_dict.head()"
   ]
  },
  {
   "cell_type": "code",
   "execution_count": 70,
   "metadata": {},
   "outputs": [
    {
     "name": "stdout",
     "output_type": "stream",
     "text": [
      "<class 'pandas.core.frame.DataFrame'>\n",
      "RangeIndex: 5 entries, 0 to 4\n",
      "Data columns (total 2 columns):\n",
      "family_status       5 non-null object\n",
      "family_status_id    5 non-null int64\n",
      "dtypes: int64(1), object(1)\n",
      "memory usage: 208.0+ bytes\n"
     ]
    },
    {
     "data": {
      "text/html": [
       "<div>\n",
       "<style scoped>\n",
       "    .dataframe tbody tr th:only-of-type {\n",
       "        vertical-align: middle;\n",
       "    }\n",
       "\n",
       "    .dataframe tbody tr th {\n",
       "        vertical-align: top;\n",
       "    }\n",
       "\n",
       "    .dataframe thead th {\n",
       "        text-align: right;\n",
       "    }\n",
       "</style>\n",
       "<table border=\"1\" class=\"dataframe\">\n",
       "  <thead>\n",
       "    <tr style=\"text-align: right;\">\n",
       "      <th></th>\n",
       "      <th>family_status</th>\n",
       "      <th>family_status_id</th>\n",
       "    </tr>\n",
       "  </thead>\n",
       "  <tbody>\n",
       "    <tr>\n",
       "      <td>0</td>\n",
       "      <td>женат / замужем</td>\n",
       "      <td>0</td>\n",
       "    </tr>\n",
       "    <tr>\n",
       "      <td>1</td>\n",
       "      <td>гражданский брак</td>\n",
       "      <td>1</td>\n",
       "    </tr>\n",
       "    <tr>\n",
       "      <td>2</td>\n",
       "      <td>вдовец / вдова</td>\n",
       "      <td>2</td>\n",
       "    </tr>\n",
       "    <tr>\n",
       "      <td>3</td>\n",
       "      <td>в разводе</td>\n",
       "      <td>3</td>\n",
       "    </tr>\n",
       "    <tr>\n",
       "      <td>4</td>\n",
       "      <td>Не женат / не замужем</td>\n",
       "      <td>4</td>\n",
       "    </tr>\n",
       "  </tbody>\n",
       "</table>\n",
       "</div>"
      ],
      "text/plain": [
       "           family_status  family_status_id\n",
       "0        женат / замужем                 0\n",
       "1       гражданский брак                 1\n",
       "2         вдовец / вдова                 2\n",
       "3              в разводе                 3\n",
       "4  Не женат / не замужем                 4"
      ]
     },
     "execution_count": 70,
     "metadata": {},
     "output_type": "execute_result"
    }
   ],
   "source": [
    "family_status_dict.info()\n",
    "family_status_dict.head()"
   ]
  },
  {
   "cell_type": "markdown",
   "metadata": {},
   "source": [
    "В итоге получили по два коротких понятных ДФ, длиной по 5 строк каждый. На них можно будет ссылаться, если потребуется."
   ]
  },
  {
   "cell_type": "markdown",
   "metadata": {},
   "source": [
    "Еще на всякий случай сделаем \"словарь\" для целей кредиата: у нас получилось целых три столбца, которые отвечают за цели, оставим только один - `purpose_lemma`. А из всех трех сделаем один ДФ `purpose_dict` - \"словарь\", мало ли потребуется посмотреть изначальную формулировку цели кредита."
   ]
  },
  {
   "cell_type": "code",
   "execution_count": 71,
   "metadata": {},
   "outputs": [
    {
     "data": {
      "text/html": [
       "<div>\n",
       "<style scoped>\n",
       "    .dataframe tbody tr th:only-of-type {\n",
       "        vertical-align: middle;\n",
       "    }\n",
       "\n",
       "    .dataframe tbody tr th {\n",
       "        vertical-align: top;\n",
       "    }\n",
       "\n",
       "    .dataframe thead th {\n",
       "        text-align: right;\n",
       "    }\n",
       "</style>\n",
       "<table border=\"1\" class=\"dataframe\">\n",
       "  <thead>\n",
       "    <tr style=\"text-align: right;\">\n",
       "      <th></th>\n",
       "      <th>purpose</th>\n",
       "      <th>lemma_strings</th>\n",
       "      <th>purpose_lemma</th>\n",
       "    </tr>\n",
       "  </thead>\n",
       "  <tbody>\n",
       "    <tr>\n",
       "      <td>0</td>\n",
       "      <td>покупка жилья</td>\n",
       "      <td>[покупка,  , жилье, \\n]</td>\n",
       "      <td>жилье</td>\n",
       "    </tr>\n",
       "    <tr>\n",
       "      <td>1</td>\n",
       "      <td>приобретение автомобиля</td>\n",
       "      <td>[приобретение,  , автомобиль, \\n]</td>\n",
       "      <td>автомобиль</td>\n",
       "    </tr>\n",
       "    <tr>\n",
       "      <td>2</td>\n",
       "      <td>покупка жилья</td>\n",
       "      <td>[покупка,  , жилье, \\n]</td>\n",
       "      <td>жилье</td>\n",
       "    </tr>\n",
       "    <tr>\n",
       "      <td>3</td>\n",
       "      <td>дополнительное образование</td>\n",
       "      <td>[дополнительный,  , образование, \\n]</td>\n",
       "      <td>образование</td>\n",
       "    </tr>\n",
       "    <tr>\n",
       "      <td>4</td>\n",
       "      <td>сыграть свадьбу</td>\n",
       "      <td>[сыграть,  , свадьба, \\n]</td>\n",
       "      <td>свадьба</td>\n",
       "    </tr>\n",
       "  </tbody>\n",
       "</table>\n",
       "</div>"
      ],
      "text/plain": [
       "                      purpose                         lemma_strings  \\\n",
       "0               покупка жилья               [покупка,  , жилье, \\n]   \n",
       "1     приобретение автомобиля     [приобретение,  , автомобиль, \\n]   \n",
       "2               покупка жилья               [покупка,  , жилье, \\n]   \n",
       "3  дополнительное образование  [дополнительный,  , образование, \\n]   \n",
       "4             сыграть свадьбу             [сыграть,  , свадьба, \\n]   \n",
       "\n",
       "  purpose_lemma  \n",
       "0         жилье  \n",
       "1    автомобиль  \n",
       "2         жилье  \n",
       "3   образование  \n",
       "4       свадьба  "
      ]
     },
     "execution_count": 71,
     "metadata": {},
     "output_type": "execute_result"
    }
   ],
   "source": [
    "purpose_dict = df[['purpose', 'lemma_strings', 'purpose_lemma']]\n",
    "purpose_dict.head()"
   ]
  },
  {
   "cell_type": "code",
   "execution_count": 72,
   "metadata": {},
   "outputs": [
    {
     "name": "stdout",
     "output_type": "stream",
     "text": [
      "<class 'pandas.core.frame.DataFrame'>\n",
      "RangeIndex: 21471 entries, 0 to 21470\n",
      "Data columns (total 3 columns):\n",
      "purpose          21471 non-null object\n",
      "lemma_strings    21471 non-null object\n",
      "purpose_lemma    21471 non-null object\n",
      "dtypes: object(3)\n",
      "memory usage: 503.4+ KB\n"
     ]
    }
   ],
   "source": [
    "purpose_dict.info()"
   ]
  },
  {
   "cell_type": "markdown",
   "metadata": {},
   "source": [
    "Выглядит нормально, количество строк осталось прежним."
   ]
  },
  {
   "cell_type": "markdown",
   "metadata": {},
   "source": [
    "Здесь же можем и подчистить наш изначальный ДФ. Его можно перезаписать без следующих столбцов:\n",
    "* `education` и `family_status` - они не требуются тк теперь они есть в \"словарях\", а в основном ДФ будут представлены  айдишниками\n",
    "* `purpose` и `lemma_strings` - они нам теперь никак не помогут, вместо них есть один понятный столбец `purpose_lemma`, куда вынесена значимая лемма цели кредита"
   ]
  },
  {
   "cell_type": "markdown",
   "metadata": {},
   "source": [
    "Запишем обновленный улучшенный ДФ в новую переменную, на всякий случай (мало ли нужно будет позже обратиться к полной версии ДФ)"
   ]
  },
  {
   "cell_type": "code",
   "execution_count": 73,
   "metadata": {},
   "outputs": [
    {
     "data": {
      "text/html": [
       "<div>\n",
       "<style scoped>\n",
       "    .dataframe tbody tr th:only-of-type {\n",
       "        vertical-align: middle;\n",
       "    }\n",
       "\n",
       "    .dataframe tbody tr th {\n",
       "        vertical-align: top;\n",
       "    }\n",
       "\n",
       "    .dataframe thead th {\n",
       "        text-align: right;\n",
       "    }\n",
       "</style>\n",
       "<table border=\"1\" class=\"dataframe\">\n",
       "  <thead>\n",
       "    <tr style=\"text-align: right;\">\n",
       "      <th></th>\n",
       "      <th>children</th>\n",
       "      <th>dob_years</th>\n",
       "      <th>education_id</th>\n",
       "      <th>family_status_id</th>\n",
       "      <th>gender</th>\n",
       "      <th>income_type</th>\n",
       "      <th>debt</th>\n",
       "      <th>total_income</th>\n",
       "      <th>purpose_lemma</th>\n",
       "    </tr>\n",
       "  </thead>\n",
       "  <tbody>\n",
       "    <tr>\n",
       "      <td>0</td>\n",
       "      <td>1</td>\n",
       "      <td>42</td>\n",
       "      <td>0</td>\n",
       "      <td>0</td>\n",
       "      <td>F</td>\n",
       "      <td>сотрудник</td>\n",
       "      <td>0</td>\n",
       "      <td>253875</td>\n",
       "      <td>жилье</td>\n",
       "    </tr>\n",
       "    <tr>\n",
       "      <td>1</td>\n",
       "      <td>1</td>\n",
       "      <td>36</td>\n",
       "      <td>1</td>\n",
       "      <td>0</td>\n",
       "      <td>F</td>\n",
       "      <td>сотрудник</td>\n",
       "      <td>0</td>\n",
       "      <td>112080</td>\n",
       "      <td>автомобиль</td>\n",
       "    </tr>\n",
       "    <tr>\n",
       "      <td>2</td>\n",
       "      <td>0</td>\n",
       "      <td>33</td>\n",
       "      <td>1</td>\n",
       "      <td>0</td>\n",
       "      <td>M</td>\n",
       "      <td>сотрудник</td>\n",
       "      <td>0</td>\n",
       "      <td>145885</td>\n",
       "      <td>жилье</td>\n",
       "    </tr>\n",
       "    <tr>\n",
       "      <td>3</td>\n",
       "      <td>3</td>\n",
       "      <td>32</td>\n",
       "      <td>1</td>\n",
       "      <td>0</td>\n",
       "      <td>M</td>\n",
       "      <td>сотрудник</td>\n",
       "      <td>0</td>\n",
       "      <td>267628</td>\n",
       "      <td>образование</td>\n",
       "    </tr>\n",
       "    <tr>\n",
       "      <td>4</td>\n",
       "      <td>0</td>\n",
       "      <td>53</td>\n",
       "      <td>1</td>\n",
       "      <td>1</td>\n",
       "      <td>F</td>\n",
       "      <td>пенсионер</td>\n",
       "      <td>0</td>\n",
       "      <td>158616</td>\n",
       "      <td>свадьба</td>\n",
       "    </tr>\n",
       "  </tbody>\n",
       "</table>\n",
       "</div>"
      ],
      "text/plain": [
       "   children  dob_years  education_id  family_status_id gender income_type  \\\n",
       "0         1         42             0                 0      F   сотрудник   \n",
       "1         1         36             1                 0      F   сотрудник   \n",
       "2         0         33             1                 0      M   сотрудник   \n",
       "3         3         32             1                 0      M   сотрудник   \n",
       "4         0         53             1                 1      F   пенсионер   \n",
       "\n",
       "   debt  total_income purpose_lemma  \n",
       "0     0        253875         жилье  \n",
       "1     0        112080    автомобиль  \n",
       "2     0        145885         жилье  \n",
       "3     0        267628   образование  \n",
       "4     0        158616       свадьба  "
      ]
     },
     "execution_count": 73,
     "metadata": {},
     "output_type": "execute_result"
    }
   ],
   "source": [
    "df_scoring = df[['children', 'dob_years', 'education_id', 'family_status_id', 'gender',\n",
    "                 'income_type', 'debt', 'total_income', 'purpose_lemma']]\n",
    "df_scoring.head()"
   ]
  },
  {
   "cell_type": "markdown",
   "metadata": {},
   "source": [
    "Стало визуально лучше. Проверим на всякий случай информацию об этом новом ДФ, сравним с тем, что было."
   ]
  },
  {
   "cell_type": "code",
   "execution_count": 74,
   "metadata": {},
   "outputs": [
    {
     "name": "stdout",
     "output_type": "stream",
     "text": [
      "<class 'pandas.core.frame.DataFrame'>\n",
      "RangeIndex: 21471 entries, 0 to 21470\n",
      "Data columns (total 13 columns):\n",
      "children            21471 non-null int64\n",
      "dob_years           21471 non-null int64\n",
      "education           21471 non-null object\n",
      "education_id        21471 non-null int64\n",
      "family_status       21471 non-null object\n",
      "family_status_id    21471 non-null int64\n",
      "gender              21471 non-null object\n",
      "income_type         21471 non-null object\n",
      "debt                21471 non-null int64\n",
      "total_income        21471 non-null int64\n",
      "purpose             21471 non-null object\n",
      "lemma_strings       21471 non-null object\n",
      "purpose_lemma       21471 non-null object\n",
      "dtypes: int64(6), object(7)\n",
      "memory usage: 2.1+ MB\n"
     ]
    }
   ],
   "source": [
    "# Было так:\n",
    "df.info()"
   ]
  },
  {
   "cell_type": "code",
   "execution_count": 75,
   "metadata": {},
   "outputs": [
    {
     "name": "stdout",
     "output_type": "stream",
     "text": [
      "<class 'pandas.core.frame.DataFrame'>\n",
      "RangeIndex: 21471 entries, 0 to 21470\n",
      "Data columns (total 9 columns):\n",
      "children            21471 non-null int64\n",
      "dob_years           21471 non-null int64\n",
      "education_id        21471 non-null int64\n",
      "family_status_id    21471 non-null int64\n",
      "gender              21471 non-null object\n",
      "income_type         21471 non-null object\n",
      "debt                21471 non-null int64\n",
      "total_income        21471 non-null int64\n",
      "purpose_lemma       21471 non-null object\n",
      "dtypes: int64(6), object(3)\n",
      "memory usage: 1.5+ MB\n"
     ]
    }
   ],
   "source": [
    "# Стало так\n",
    "df_scoring.info()"
   ]
  },
  {
   "cell_type": "markdown",
   "metadata": {},
   "source": [
    "Видим что: \n",
    "* Было 13 колонок, осталось 9. \n",
    "* Количество строк не изменилось. \n",
    "* С типами данных все в порядке. \n",
    "* Новый ДФ занимает меньше места.  "
   ]
  },
  {
   "cell_type": "markdown",
   "metadata": {},
   "source": [
    "Проверим на дубликаты на всякий случай, ведь теперь разнородные формулировки целей кредита заменены на значимые леммы (коотрых всего 6)."
   ]
  },
  {
   "cell_type": "code",
   "execution_count": 76,
   "metadata": {},
   "outputs": [
    {
     "data": {
      "text/plain": [
       "248"
      ]
     },
     "execution_count": 76,
     "metadata": {},
     "output_type": "execute_result"
    }
   ],
   "source": [
    "df_scoring.duplicated().sum()"
   ]
  },
  {
   "cell_type": "markdown",
   "metadata": {},
   "source": [
    "Чтобы понять, можно ли удалить эти дубликаты, проверим значения столбца `total_income` и `dob_years` для всех этих дубликатов. Не те ли это строки, которым мы присваивали медианные значения дохода и возраста."
   ]
  },
  {
   "cell_type": "code",
   "execution_count": 77,
   "metadata": {},
   "outputs": [
    {
     "data": {
      "text/plain": [
       "142594    132\n",
       "118514     78\n",
       "172357     34\n",
       "150447      4\n",
       "Name: total_income, dtype: int64"
      ]
     },
     "execution_count": 77,
     "metadata": {},
     "output_type": "execute_result"
    }
   ],
   "source": [
    "df_scoring[df_scoring.duplicated()]['total_income'].value_counts()"
   ]
  },
  {
   "cell_type": "code",
   "execution_count": 78,
   "metadata": {},
   "outputs": [
    {
     "data": {
      "text/plain": [
       "47    11\n",
       "49    11\n",
       "42    10\n",
       "64    10\n",
       "57    10\n",
       "60     9\n",
       "58     9\n",
       "56     9\n",
       "54     8\n",
       "50     8\n",
       "53     8\n",
       "33     7\n",
       "43     7\n",
       "52     7\n",
       "23     7\n",
       "62     7\n",
       "55     6\n",
       "45     6\n",
       "30     6\n",
       "35     6\n",
       "39     6\n",
       "40     6\n",
       "51     6\n",
       "63     6\n",
       "48     5\n",
       "44     5\n",
       "41     5\n",
       "28     5\n",
       "66     4\n",
       "29     4\n",
       "36     4\n",
       "61     4\n",
       "31     3\n",
       "27     3\n",
       "71     3\n",
       "46     3\n",
       "59     3\n",
       "65     3\n",
       "67     2\n",
       "38     2\n",
       "32     1\n",
       "34     1\n",
       "26     1\n",
       "68     1\n",
       "Name: dob_years, dtype: int64"
      ]
     },
     "execution_count": 78,
     "metadata": {},
     "output_type": "execute_result"
    }
   ],
   "source": [
    "df_scoring[df_scoring.duplicated()]['dob_years'].value_counts()"
   ]
  },
  {
   "cell_type": "markdown",
   "metadata": {},
   "source": [
    "Что видим: \n",
    "* Глядя на значения дохода для задублированных строк видим, что это действительно те 4 медианных значения дохода, которые мы присвоили вместо пустых. \n",
    "* С возрастом сложнее: мы присваивали 4 медианных значения, а здесь значений явно больше. \n",
    "\n",
    "Что думаем:\n",
    "* То есть какая-то часть из этих заемщиков в изначальном ДФ имела возраст, но никто из них не имел дохода. То есть все они находились среди этих 2174 строк, которые имели пропуск в доходе и стаже.\n",
    "* Мы помним что эти 2174 строк составляли всего 10% изначального ДФ. При этом когда мы выявляли полные дубликаты в ДФ их было ~ 50 на ~20000 строк. А после преобразования цели в леммы, здесь их стало 248 на 2174 строк. В процентном соотношении раз в 40 больше. \n",
    "* Учитывая что эти 2174 строки уже изначально вызывали подозрение в неправильном хранении или переносе данных, можно допустить что и цели кредита хранились в них неправильно. Все больше и больше выглядит так, что это действительно задублированные строки, и можно от них избавиться, тем более что это всего чуть больше 1% ДФ."
   ]
  },
  {
   "cell_type": "code",
   "execution_count": 79,
   "metadata": {},
   "outputs": [
    {
     "data": {
      "text/plain": [
       "0"
      ]
     },
     "execution_count": 79,
     "metadata": {},
     "output_type": "execute_result"
    }
   ],
   "source": [
    "# Избавимся от дубликатов\n",
    "df_scoring = df_scoring.drop_duplicates().reset_index()\n",
    "# Проверим что их не осталось\n",
    "df_scoring.duplicated().sum()"
   ]
  },
  {
   "cell_type": "code",
   "execution_count": 80,
   "metadata": {},
   "outputs": [
    {
     "name": "stdout",
     "output_type": "stream",
     "text": [
      "<class 'pandas.core.frame.DataFrame'>\n",
      "RangeIndex: 21223 entries, 0 to 21222\n",
      "Data columns (total 10 columns):\n",
      "index               21223 non-null int64\n",
      "children            21223 non-null int64\n",
      "dob_years           21223 non-null int64\n",
      "education_id        21223 non-null int64\n",
      "family_status_id    21223 non-null int64\n",
      "gender              21223 non-null object\n",
      "income_type         21223 non-null object\n",
      "debt                21223 non-null int64\n",
      "total_income        21223 non-null int64\n",
      "purpose_lemma       21223 non-null object\n",
      "dtypes: int64(7), object(3)\n",
      "memory usage: 1.6+ MB\n"
     ]
    }
   ],
   "source": [
    "# проверим на всякий случай инфо о ДФ\n",
    "df_scoring.info()"
   ]
  },
  {
   "cell_type": "markdown",
   "metadata": {},
   "source": [
    "В этом пункте мы: \n",
    "* перенесли повторяющиеся параметры в \"словари\"\n",
    "* удалили несколько ненужных столбцов из ДФ `df`\n",
    "* перезаписали ДФ в новую переменную `df_scoring`\n",
    "* удалили дубли строк которые образовались в связи заменой столбца `purpose` на `purpose_lemma`"
   ]
  },
  {
   "cell_type": "markdown",
   "metadata": {},
   "source": [
    "#### Классификация по значимым признакам"
   ]
  },
  {
   "cell_type": "markdown",
   "metadata": {},
   "source": [
    "Посмотрим по каким признакам заемщики уже классифицированы, и по каким еще признакам можно их классифицировать"
   ]
  },
  {
   "cell_type": "code",
   "execution_count": 81,
   "metadata": {},
   "outputs": [
    {
     "data": {
      "text/html": [
       "<div>\n",
       "<style scoped>\n",
       "    .dataframe tbody tr th:only-of-type {\n",
       "        vertical-align: middle;\n",
       "    }\n",
       "\n",
       "    .dataframe tbody tr th {\n",
       "        vertical-align: top;\n",
       "    }\n",
       "\n",
       "    .dataframe thead th {\n",
       "        text-align: right;\n",
       "    }\n",
       "</style>\n",
       "<table border=\"1\" class=\"dataframe\">\n",
       "  <thead>\n",
       "    <tr style=\"text-align: right;\">\n",
       "      <th></th>\n",
       "      <th>index</th>\n",
       "      <th>children</th>\n",
       "      <th>dob_years</th>\n",
       "      <th>education_id</th>\n",
       "      <th>family_status_id</th>\n",
       "      <th>gender</th>\n",
       "      <th>income_type</th>\n",
       "      <th>debt</th>\n",
       "      <th>total_income</th>\n",
       "      <th>purpose_lemma</th>\n",
       "    </tr>\n",
       "  </thead>\n",
       "  <tbody>\n",
       "    <tr>\n",
       "      <td>0</td>\n",
       "      <td>0</td>\n",
       "      <td>1</td>\n",
       "      <td>42</td>\n",
       "      <td>0</td>\n",
       "      <td>0</td>\n",
       "      <td>F</td>\n",
       "      <td>сотрудник</td>\n",
       "      <td>0</td>\n",
       "      <td>253875</td>\n",
       "      <td>жилье</td>\n",
       "    </tr>\n",
       "    <tr>\n",
       "      <td>1</td>\n",
       "      <td>1</td>\n",
       "      <td>1</td>\n",
       "      <td>36</td>\n",
       "      <td>1</td>\n",
       "      <td>0</td>\n",
       "      <td>F</td>\n",
       "      <td>сотрудник</td>\n",
       "      <td>0</td>\n",
       "      <td>112080</td>\n",
       "      <td>автомобиль</td>\n",
       "    </tr>\n",
       "    <tr>\n",
       "      <td>2</td>\n",
       "      <td>2</td>\n",
       "      <td>0</td>\n",
       "      <td>33</td>\n",
       "      <td>1</td>\n",
       "      <td>0</td>\n",
       "      <td>M</td>\n",
       "      <td>сотрудник</td>\n",
       "      <td>0</td>\n",
       "      <td>145885</td>\n",
       "      <td>жилье</td>\n",
       "    </tr>\n",
       "    <tr>\n",
       "      <td>3</td>\n",
       "      <td>3</td>\n",
       "      <td>3</td>\n",
       "      <td>32</td>\n",
       "      <td>1</td>\n",
       "      <td>0</td>\n",
       "      <td>M</td>\n",
       "      <td>сотрудник</td>\n",
       "      <td>0</td>\n",
       "      <td>267628</td>\n",
       "      <td>образование</td>\n",
       "    </tr>\n",
       "    <tr>\n",
       "      <td>4</td>\n",
       "      <td>4</td>\n",
       "      <td>0</td>\n",
       "      <td>53</td>\n",
       "      <td>1</td>\n",
       "      <td>1</td>\n",
       "      <td>F</td>\n",
       "      <td>пенсионер</td>\n",
       "      <td>0</td>\n",
       "      <td>158616</td>\n",
       "      <td>свадьба</td>\n",
       "    </tr>\n",
       "  </tbody>\n",
       "</table>\n",
       "</div>"
      ],
      "text/plain": [
       "   index  children  dob_years  education_id  family_status_id gender  \\\n",
       "0      0         1         42             0                 0      F   \n",
       "1      1         1         36             1                 0      F   \n",
       "2      2         0         33             1                 0      M   \n",
       "3      3         3         32             1                 0      M   \n",
       "4      4         0         53             1                 1      F   \n",
       "\n",
       "  income_type  debt  total_income purpose_lemma  \n",
       "0   сотрудник     0        253875         жилье  \n",
       "1   сотрудник     0        112080    автомобиль  \n",
       "2   сотрудник     0        145885         жилье  \n",
       "3   сотрудник     0        267628   образование  \n",
       "4   пенсионер     0        158616       свадьба  "
      ]
     },
     "execution_count": 81,
     "metadata": {},
     "output_type": "execute_result"
    }
   ],
   "source": [
    "df_scoring.head()"
   ]
  },
  {
   "cell_type": "markdown",
   "metadata": {},
   "source": [
    "Похоже, что заемщики уже классифицированы по следующим признакам:\n",
    "* количество детей\n",
    "* образование\n",
    "* семейное положение\n",
    "* пол\n",
    "* тип занятости\n",
    "* наличие/отсутствие задолженности\n",
    "* лемма цели кредита  \n",
    "\n",
    "Похоже, что заемщиков также можно классифицировать по следующим признакам:\n",
    "* возраст\n",
    "* доход"
   ]
  },
  {
   "cell_type": "markdown",
   "metadata": {},
   "source": [
    "Стобцы `dob_years` и `total_income` содержат количественные переменные, поэтому нужно придумать как их классифицировать.  \n",
    "\n",
    "Например, по уровню дохода классификация может быть такая:\n",
    "* Богатые\n",
    "* Середнячки\n",
    "* Бедные\n",
    "\n",
    "По возрасту, например так:\n",
    "* Молодые\n",
    "* Взрослые\n",
    "* Пожилые\n",
    "\n",
    "Вот только как придумать эту границу, где заканчивается одна группа и начинается другая. И если с возрастом еще более или менее понятно, то с доходом все сложнее. "
   ]
  },
  {
   "cell_type": "markdown",
   "metadata": {},
   "source": [
    "##### Классификация по доходу"
   ]
  },
  {
   "cell_type": "markdown",
   "metadata": {},
   "source": [
    "Можно например: \n",
    "* Использовать стандартное отклонение\n",
    "* Использовать квантили\n",
    "* Использовать интерквартильный размах\n",
    "* Прикинуть на глаз\n",
    "\n",
    "Проблема стандартного отклонения в том, что его можно использовать только в нормальном распределении, а это распределение, как мы уже видели не совсем нормальное, имеет хвост вправо (среднее больше медианы).  \n",
    "\n",
    "Как частный случай квантилей можно использовать интерквартальный размах. Правда крайние группы будут в два раза меньше средней. \n",
    "\n",
    "Прикидывать на глаз кажется очень проблематичным в связи с большим размером выборки.  \n",
    "\n",
    "Таким образом деление на квантили пока остается нашим единственным вариантом."
   ]
  },
  {
   "cell_type": "markdown",
   "metadata": {},
   "source": [
    "Будем рассуждать по ходу. Начнем с того, что посмотрим минимальный и максимальный доход, определим размах."
   ]
  },
  {
   "cell_type": "code",
   "execution_count": 82,
   "metadata": {},
   "outputs": [
    {
     "name": "stdout",
     "output_type": "stream",
     "text": [
      "Минимальный доход = 20667\n",
      "Максимальный доход = 2265604\n",
      "Размах дохода = 2244937\n",
      "Минимальный и максимальный доход отличаются в 109.62423186722795 раз\n"
     ]
    }
   ],
   "source": [
    "income_min_scoring = df_scoring['total_income'].min()\n",
    "income_max_scoring = df_scoring['total_income'].max()\n",
    "income_range = income_max_scoring - income_min_scoring\n",
    "print('Минимальный доход =', income_min_scoring)\n",
    "print('Максимальный доход =', income_max_scoring)\n",
    "print('Размах дохода =', income_range)\n",
    "print('Минимальный и максимальный доход отличаются в', income_max_scoring / income_min_scoring, 'раз')"
   ]
  },
  {
   "cell_type": "markdown",
   "metadata": {},
   "source": [
    "Попробуем, например, воспользоваться функцией `.qcut()` которая режет Series на квантили с одинаковым количеством элементов. Для начала порежем на 4 квартиля. "
   ]
  },
  {
   "cell_type": "code",
   "execution_count": 83,
   "metadata": {},
   "outputs": [
    {
     "data": {
      "text/plain": [
       "0        (196580.5, 2265604.0]\n",
       "1         (106992.0, 142594.0]\n",
       "2         (142594.0, 196580.5]\n",
       "3        (196580.5, 2265604.0]\n",
       "4         (142594.0, 196580.5]\n",
       "                 ...          \n",
       "21218    (196580.5, 2265604.0]\n",
       "21219     (142594.0, 196580.5]\n",
       "21220    (20666.999, 106992.0]\n",
       "21221    (196580.5, 2265604.0]\n",
       "21222    (20666.999, 106992.0]\n",
       "Name: total_income, Length: 21223, dtype: category\n",
       "Categories (4, interval[float64]): [(20666.999, 106992.0] < (106992.0, 142594.0] < (142594.0, 196580.5] < (196580.5, 2265604.0]]"
      ]
     },
     "execution_count": 83,
     "metadata": {},
     "output_type": "execute_result"
    }
   ],
   "source": [
    "pd.qcut(df_scoring['total_income'],4)"
   ]
  },
  {
   "cell_type": "markdown",
   "metadata": {},
   "source": [
    "Что видим:\n",
    "* Размах внутри групп не одинаковый.\n",
    "* Особенно настораживает четвертый квартиль: вряд ли будет удачной идеей считать одинаково богатыми людей, которые зарабатывают в 10 раз больше минимума и в 100 раз больше минимума. \n",
    "* Тольшой размах в четвертом квартиле говорит о том, что у распределения очень длинный хвост вправо.  "
   ]
  },
  {
   "cell_type": "markdown",
   "metadata": {},
   "source": [
    "Посмотрим ради интереса какая нижняя граница дохода у заемщиков в 99 персентиле.  "
   ]
  },
  {
   "cell_type": "markdown",
   "metadata": {},
   "source": [
    "Сначала узнаем сколько заемщиков в 99 персентиле"
   ]
  },
  {
   "cell_type": "code",
   "execution_count": 84,
   "metadata": {},
   "outputs": [
    {
     "data": {
      "text/plain": [
       "212.23000000000002"
      ]
     },
     "execution_count": 84,
     "metadata": {},
     "output_type": "execute_result"
    }
   ],
   "source": [
    "(len(df_scoring) * 0.01)"
   ]
  },
  {
   "cell_type": "markdown",
   "metadata": {},
   "source": [
    "Будем считать что 212. Теперь отсотрируем наш ДФ по убыванию дохода, переназначим индексы, и посмотрим значение дохода под индексом 211"
   ]
  },
  {
   "cell_type": "code",
   "execution_count": 85,
   "metadata": {},
   "outputs": [
    {
     "data": {
      "text/plain": [
       "506773"
      ]
     },
     "execution_count": 85,
     "metadata": {},
     "output_type": "execute_result"
    }
   ],
   "source": [
    "min_income_top_1 = df_scoring.sort_values(by='total_income',ascending=False).reset_index(drop=True)['total_income'][211]\n",
    "min_income_top_1"
   ]
  },
  {
   "cell_type": "markdown",
   "metadata": {},
   "source": [
    "А вот это интересно, в 99 персентиле минимальный доход равен 506773. Посчитаем размах в 99 персентиле:"
   ]
  },
  {
   "cell_type": "code",
   "execution_count": 86,
   "metadata": {},
   "outputs": [
    {
     "data": {
      "text/plain": [
       "1758831"
      ]
     },
     "execution_count": 86,
     "metadata": {},
     "output_type": "execute_result"
    }
   ],
   "source": [
    "top_pctl_range = income_max_scoring - min_income_top_1\n",
    "top_pctl_range"
   ]
  },
  {
   "cell_type": "markdown",
   "metadata": {},
   "source": [
    "Примерно 1,76 млн! И это в то время, как общий размах дохода всей выборки равен примерно 2,24 млн (проверим)"
   ]
  },
  {
   "cell_type": "code",
   "execution_count": 87,
   "metadata": {},
   "outputs": [
    {
     "data": {
      "text/plain": [
       "2244937"
      ]
     },
     "execution_count": 87,
     "metadata": {},
     "output_type": "execute_result"
    }
   ],
   "source": [
    "income_range"
   ]
  },
  {
   "cell_type": "markdown",
   "metadata": {},
   "source": [
    "То есть получется что:"
   ]
  },
  {
   "cell_type": "code",
   "execution_count": 88,
   "metadata": {},
   "outputs": [
    {
     "name": "stdout",
     "output_type": "stream",
     "text": [
      "99% выборки имеет доход в диапазоне от 20667 до 506773\n",
      "То есть размах дохода для 99% выборки составляет всего 486106\n"
     ]
    }
   ],
   "source": [
    "print('99% выборки имеет доход в диапазоне от', income_min_scoring, 'до', min_income_top_1)\n",
    "print('То есть размах дохода для 99% выборки составляет всего', min_income_top_1 - income_min_scoring)"
   ]
  },
  {
   "cell_type": "markdown",
   "metadata": {},
   "source": [
    "Всего 486 тыс! Это не 2,24 млн. Доходы 506773 и более имеют всего 1% выборки. Хвост вправо действительно длинюющий.  \n",
    "Представляется, что мы можем этот 1% причислить к супер богатым, а 99% данных (практически весь оставшийся объем данных!) еще раз прогнать по квартилям. Сделаем новый ДФ с доходом меньшим 506773 и разделим на квартили."
   ]
  },
  {
   "cell_type": "code",
   "execution_count": 89,
   "metadata": {},
   "outputs": [
    {
     "data": {
      "text/plain": [
       "0         (194431.0, 506283.0]\n",
       "1         (106601.5, 142594.0]\n",
       "2         (142594.0, 194431.0]\n",
       "3         (194431.0, 506283.0]\n",
       "4         (142594.0, 194431.0]\n",
       "                 ...          \n",
       "21218     (194431.0, 506283.0]\n",
       "21219     (142594.0, 194431.0]\n",
       "21220    (20666.999, 106601.5]\n",
       "21221     (194431.0, 506283.0]\n",
       "21222    (20666.999, 106601.5]\n",
       "Name: total_income, Length: 21011, dtype: category\n",
       "Categories (4, interval[float64]): [(20666.999, 106601.5] < (106601.5, 142594.0] < (142594.0, 194431.0] < (194431.0, 506283.0]]"
      ]
     },
     "execution_count": 89,
     "metadata": {},
     "output_type": "execute_result"
    }
   ],
   "source": [
    "df_scoring_99 = df_scoring[df_scoring['total_income'] < 506773]\n",
    "pd.qcut(df_scoring_99['total_income'],4)"
   ]
  },
  {
   "cell_type": "markdown",
   "metadata": {},
   "source": [
    "Это уже другое дело. Первые три квартиля почти не изменились, а вот четвертый выглядит более адекватно.  \n",
    "Используем эти 4 группы для классификации, и пятой маленькой группой будут супер богатые люди. Это будет маленькая группа, и по ним мы не сможем сделать статистически значимого вывода, но представляется что причислять их к обычным богатым людфм было бы неправильно."
   ]
  },
  {
   "cell_type": "markdown",
   "metadata": {},
   "source": [
    "**5 категорий по уровню дохода:** \n",
    "\n",
    "1. Бедные (первый квартиль из 99% данных: **`total_income` <= 106601**)\n",
    "2. Ниже среднего (второй квартиль из 99% данных: **106601 < `total_income` <= 142594**)\n",
    "3. Выше среднего (третий квартиль из 99% данных: **142594 < `total_income` <= 194431**)\n",
    "4. Богатые (четвертый квартиль из 99% данных: **194431 < `total_income` <= 506283**)\n",
    "4. Зажиточные (1% из 99% данных: **`total_income` > 506283**)"
   ]
  },
  {
   "cell_type": "markdown",
   "metadata": {},
   "source": [
    "Сделаем сразу \"словарь\", чтобы хранить эти соответствия"
   ]
  },
  {
   "cell_type": "code",
   "execution_count": 90,
   "metadata": {},
   "outputs": [
    {
     "data": {
      "text/html": [
       "<div>\n",
       "<style scoped>\n",
       "    .dataframe tbody tr th:only-of-type {\n",
       "        vertical-align: middle;\n",
       "    }\n",
       "\n",
       "    .dataframe tbody tr th {\n",
       "        vertical-align: top;\n",
       "    }\n",
       "\n",
       "    .dataframe thead th {\n",
       "        text-align: right;\n",
       "    }\n",
       "</style>\n",
       "<table border=\"1\" class=\"dataframe\">\n",
       "  <thead>\n",
       "    <tr style=\"text-align: right;\">\n",
       "      <th></th>\n",
       "      <th>income_class</th>\n",
       "      <th>&gt;</th>\n",
       "      <th>&lt;=</th>\n",
       "    </tr>\n",
       "  </thead>\n",
       "  <tbody>\n",
       "    <tr>\n",
       "      <td>0</td>\n",
       "      <td>бедные</td>\n",
       "      <td>20666</td>\n",
       "      <td>106601</td>\n",
       "    </tr>\n",
       "    <tr>\n",
       "      <td>1</td>\n",
       "      <td>ниже сред</td>\n",
       "      <td>106601</td>\n",
       "      <td>142594</td>\n",
       "    </tr>\n",
       "    <tr>\n",
       "      <td>2</td>\n",
       "      <td>выше сред</td>\n",
       "      <td>142594</td>\n",
       "      <td>194431</td>\n",
       "    </tr>\n",
       "    <tr>\n",
       "      <td>3</td>\n",
       "      <td>богатые</td>\n",
       "      <td>194431</td>\n",
       "      <td>506283</td>\n",
       "    </tr>\n",
       "    <tr>\n",
       "      <td>4</td>\n",
       "      <td>зажиточные</td>\n",
       "      <td>506283</td>\n",
       "      <td>2265604</td>\n",
       "    </tr>\n",
       "  </tbody>\n",
       "</table>\n",
       "</div>"
      ],
      "text/plain": [
       "  income_class       >       <=\n",
       "0       бедные   20666   106601\n",
       "1    ниже сред  106601   142594\n",
       "2    выше сред  142594   194431\n",
       "3      богатые  194431   506283\n",
       "4   зажиточные  506283  2265604"
      ]
     },
     "execution_count": 90,
     "metadata": {},
     "output_type": "execute_result"
    }
   ],
   "source": [
    "inc_data = [\n",
    "    ['бедные',20666,106601 ],\n",
    "    ['ниже сред', 106601, 142594],\n",
    "    ['выше сред', 142594, 194431],\n",
    "    ['богатые', 194431, 506283],\n",
    "    ['зажиточные', 506283, 2265604]\n",
    "]\n",
    "inc_col = ['income_class', '>', '<=']\n",
    "income_dict = pd.DataFrame(data=inc_data,columns=inc_col)\n",
    "income_dict"
   ]
  },
  {
   "cell_type": "markdown",
   "metadata": {},
   "source": [
    "Нужно теперь создать новый столбец `income_class` в ДФ `df_scoring` и в нем для каждой строки проставить одну из четырех категорий согласно уровню дохода. Для этого напишем функцию которая будет принимать в качестве аргумента значение столбца `total_income`, а возвращать соответствующее значение категории дохода. И с помощью метода `.apply()` применим эту функцию к столбцу `total_income`"
   ]
  },
  {
   "cell_type": "code",
   "execution_count": 91,
   "metadata": {},
   "outputs": [],
   "source": [
    "def assign_income_class(total_income):\n",
    "    if total_income <= 106601:\n",
    "        return 'бедные'\n",
    "    elif 106601 < total_income <= 142594:\n",
    "        return 'ниже сред'\n",
    "    elif 142594 < total_income <= 194431:\n",
    "        return 'выше сред'\n",
    "    elif 194431 < total_income <= 506283:\n",
    "        return 'богатые'\n",
    "    else:\n",
    "        return 'зажиточные'\n",
    "    \n",
    "\n",
    "df_scoring['income_class'] = df_scoring['total_income'].apply(assign_income_class)"
   ]
  },
  {
   "cell_type": "code",
   "execution_count": 92,
   "metadata": {},
   "outputs": [
    {
     "data": {
      "text/html": [
       "<div>\n",
       "<style scoped>\n",
       "    .dataframe tbody tr th:only-of-type {\n",
       "        vertical-align: middle;\n",
       "    }\n",
       "\n",
       "    .dataframe tbody tr th {\n",
       "        vertical-align: top;\n",
       "    }\n",
       "\n",
       "    .dataframe thead th {\n",
       "        text-align: right;\n",
       "    }\n",
       "</style>\n",
       "<table border=\"1\" class=\"dataframe\">\n",
       "  <thead>\n",
       "    <tr style=\"text-align: right;\">\n",
       "      <th></th>\n",
       "      <th>index</th>\n",
       "      <th>children</th>\n",
       "      <th>dob_years</th>\n",
       "      <th>education_id</th>\n",
       "      <th>family_status_id</th>\n",
       "      <th>gender</th>\n",
       "      <th>income_type</th>\n",
       "      <th>debt</th>\n",
       "      <th>total_income</th>\n",
       "      <th>purpose_lemma</th>\n",
       "      <th>income_class</th>\n",
       "    </tr>\n",
       "  </thead>\n",
       "  <tbody>\n",
       "    <tr>\n",
       "      <td>0</td>\n",
       "      <td>0</td>\n",
       "      <td>1</td>\n",
       "      <td>42</td>\n",
       "      <td>0</td>\n",
       "      <td>0</td>\n",
       "      <td>F</td>\n",
       "      <td>сотрудник</td>\n",
       "      <td>0</td>\n",
       "      <td>253875</td>\n",
       "      <td>жилье</td>\n",
       "      <td>богатые</td>\n",
       "    </tr>\n",
       "    <tr>\n",
       "      <td>1</td>\n",
       "      <td>1</td>\n",
       "      <td>1</td>\n",
       "      <td>36</td>\n",
       "      <td>1</td>\n",
       "      <td>0</td>\n",
       "      <td>F</td>\n",
       "      <td>сотрудник</td>\n",
       "      <td>0</td>\n",
       "      <td>112080</td>\n",
       "      <td>автомобиль</td>\n",
       "      <td>ниже сред</td>\n",
       "    </tr>\n",
       "    <tr>\n",
       "      <td>2</td>\n",
       "      <td>2</td>\n",
       "      <td>0</td>\n",
       "      <td>33</td>\n",
       "      <td>1</td>\n",
       "      <td>0</td>\n",
       "      <td>M</td>\n",
       "      <td>сотрудник</td>\n",
       "      <td>0</td>\n",
       "      <td>145885</td>\n",
       "      <td>жилье</td>\n",
       "      <td>выше сред</td>\n",
       "    </tr>\n",
       "    <tr>\n",
       "      <td>3</td>\n",
       "      <td>3</td>\n",
       "      <td>3</td>\n",
       "      <td>32</td>\n",
       "      <td>1</td>\n",
       "      <td>0</td>\n",
       "      <td>M</td>\n",
       "      <td>сотрудник</td>\n",
       "      <td>0</td>\n",
       "      <td>267628</td>\n",
       "      <td>образование</td>\n",
       "      <td>богатые</td>\n",
       "    </tr>\n",
       "    <tr>\n",
       "      <td>4</td>\n",
       "      <td>4</td>\n",
       "      <td>0</td>\n",
       "      <td>53</td>\n",
       "      <td>1</td>\n",
       "      <td>1</td>\n",
       "      <td>F</td>\n",
       "      <td>пенсионер</td>\n",
       "      <td>0</td>\n",
       "      <td>158616</td>\n",
       "      <td>свадьба</td>\n",
       "      <td>выше сред</td>\n",
       "    </tr>\n",
       "  </tbody>\n",
       "</table>\n",
       "</div>"
      ],
      "text/plain": [
       "   index  children  dob_years  education_id  family_status_id gender  \\\n",
       "0      0         1         42             0                 0      F   \n",
       "1      1         1         36             1                 0      F   \n",
       "2      2         0         33             1                 0      M   \n",
       "3      3         3         32             1                 0      M   \n",
       "4      4         0         53             1                 1      F   \n",
       "\n",
       "  income_type  debt  total_income purpose_lemma income_class  \n",
       "0   сотрудник     0        253875         жилье      богатые  \n",
       "1   сотрудник     0        112080    автомобиль    ниже сред  \n",
       "2   сотрудник     0        145885         жилье    выше сред  \n",
       "3   сотрудник     0        267628   образование      богатые  \n",
       "4   пенсионер     0        158616       свадьба    выше сред  "
      ]
     },
     "execution_count": 92,
     "metadata": {},
     "output_type": "execute_result"
    }
   ],
   "source": [
    "df_scoring.head()"
   ]
  },
  {
   "cell_type": "markdown",
   "metadata": {},
   "source": [
    "Выглядит нормально. Проверим что никто не остался без класса по уровню дохода"
   ]
  },
  {
   "cell_type": "code",
   "execution_count": 93,
   "metadata": {},
   "outputs": [
    {
     "data": {
      "text/plain": [
       "0"
      ]
     },
     "execution_count": 93,
     "metadata": {},
     "output_type": "execute_result"
    }
   ],
   "source": [
    "df_scoring['income_class'].isna().sum()"
   ]
  },
  {
   "cell_type": "markdown",
   "metadata": {},
   "source": [
    "Класс дохода всем присвоен. И еще проверим размер получившихся групп"
   ]
  },
  {
   "cell_type": "code",
   "execution_count": 94,
   "metadata": {},
   "outputs": [
    {
     "data": {
      "text/plain": [
       "ниже сред     5395\n",
       "бедные        5253\n",
       "богатые       5253\n",
       "выше сред     5110\n",
       "зажиточные     212\n",
       "Name: income_class, dtype: int64"
      ]
     },
     "execution_count": 94,
     "metadata": {},
     "output_type": "execute_result"
    }
   ],
   "source": [
    "df_scoring['income_class'].value_counts()"
   ]
  },
  {
   "cell_type": "markdown",
   "metadata": {},
   "source": [
    "Итого: \n",
    "* Получилось 4 примерно одинаковые группы, плюс одна очень маленькая группа зажиточных людей. \n",
    "* Сложно сказать обращаются ли они за кредитами относительно реже, чем  люди с более низким доходом, ведь зажиточных в реальной жизни в абсолютных цифрах меньньше чем не зажиточных. Возможно они обращаются с той же интенсивностью. А может быть они и обращаются относительно реже, ведь они зажиточные, и на большинство нужд деньги у них есть. Интересно будет потом посмотреть на что эти люди вообще берут кредиты."
   ]
  },
  {
   "cell_type": "markdown",
   "metadata": {},
   "source": [
    "##### Классификация по возрасту"
   ]
  },
  {
   "cell_type": "markdown",
   "metadata": {},
   "source": [
    "Теперь нужно категоризировать по возрасту, это должно быть проще."
   ]
  },
  {
   "cell_type": "markdown",
   "metadata": {},
   "source": [
    "Сначала посмотрим минимальный и максимальный возраст"
   ]
  },
  {
   "cell_type": "code",
   "execution_count": 95,
   "metadata": {},
   "outputs": [
    {
     "data": {
      "text/plain": [
       "19"
      ]
     },
     "execution_count": 95,
     "metadata": {},
     "output_type": "execute_result"
    }
   ],
   "source": [
    "df_scoring['dob_years'].min()"
   ]
  },
  {
   "cell_type": "code",
   "execution_count": 96,
   "metadata": {},
   "outputs": [
    {
     "data": {
      "text/plain": [
       "75"
      ]
     },
     "execution_count": 96,
     "metadata": {},
     "output_type": "execute_result"
    }
   ],
   "source": [
    "df_scoring['dob_years'].max()"
   ]
  },
  {
   "cell_type": "markdown",
   "metadata": {},
   "source": [
    "Заемщикам от 19 до 75 лет"
   ]
  },
  {
   "cell_type": "markdown",
   "metadata": {},
   "source": [
    "Мы знаем что среди заемщиков есть пенсионеры. Можно ли причислить всех пенсионеров к старшей возрастной группе? Будет хорошей идеей посмотреть минимальный возраст пенсионера, и максимальный возраст не пенсионера.  \n",
    "\n",
    "Сначала посмотрим пятерку самых молодых пенсионеров."
   ]
  },
  {
   "cell_type": "code",
   "execution_count": 97,
   "metadata": {},
   "outputs": [
    {
     "data": {
      "text/html": [
       "<div>\n",
       "<style scoped>\n",
       "    .dataframe tbody tr th:only-of-type {\n",
       "        vertical-align: middle;\n",
       "    }\n",
       "\n",
       "    .dataframe tbody tr th {\n",
       "        vertical-align: top;\n",
       "    }\n",
       "\n",
       "    .dataframe thead th {\n",
       "        text-align: right;\n",
       "    }\n",
       "</style>\n",
       "<table border=\"1\" class=\"dataframe\">\n",
       "  <thead>\n",
       "    <tr style=\"text-align: right;\">\n",
       "      <th></th>\n",
       "      <th>index</th>\n",
       "      <th>children</th>\n",
       "      <th>dob_years</th>\n",
       "      <th>education_id</th>\n",
       "      <th>family_status_id</th>\n",
       "      <th>gender</th>\n",
       "      <th>income_type</th>\n",
       "      <th>debt</th>\n",
       "      <th>total_income</th>\n",
       "      <th>purpose_lemma</th>\n",
       "      <th>income_class</th>\n",
       "    </tr>\n",
       "  </thead>\n",
       "  <tbody>\n",
       "    <tr>\n",
       "      <td>1239</td>\n",
       "      <td>1242</td>\n",
       "      <td>0</td>\n",
       "      <td>22</td>\n",
       "      <td>1</td>\n",
       "      <td>4</td>\n",
       "      <td>F</td>\n",
       "      <td>пенсионер</td>\n",
       "      <td>0</td>\n",
       "      <td>89368</td>\n",
       "      <td>образование</td>\n",
       "      <td>бедные</td>\n",
       "    </tr>\n",
       "    <tr>\n",
       "      <td>3606</td>\n",
       "      <td>3618</td>\n",
       "      <td>0</td>\n",
       "      <td>24</td>\n",
       "      <td>1</td>\n",
       "      <td>0</td>\n",
       "      <td>F</td>\n",
       "      <td>пенсионер</td>\n",
       "      <td>0</td>\n",
       "      <td>118514</td>\n",
       "      <td>жилье</td>\n",
       "      <td>ниже сред</td>\n",
       "    </tr>\n",
       "    <tr>\n",
       "      <td>19187</td>\n",
       "      <td>19395</td>\n",
       "      <td>0</td>\n",
       "      <td>26</td>\n",
       "      <td>0</td>\n",
       "      <td>0</td>\n",
       "      <td>F</td>\n",
       "      <td>пенсионер</td>\n",
       "      <td>0</td>\n",
       "      <td>214963</td>\n",
       "      <td>недвижимость</td>\n",
       "      <td>богатые</td>\n",
       "    </tr>\n",
       "    <tr>\n",
       "      <td>15995</td>\n",
       "      <td>16139</td>\n",
       "      <td>0</td>\n",
       "      <td>26</td>\n",
       "      <td>1</td>\n",
       "      <td>1</td>\n",
       "      <td>M</td>\n",
       "      <td>пенсионер</td>\n",
       "      <td>0</td>\n",
       "      <td>80044</td>\n",
       "      <td>автомобиль</td>\n",
       "      <td>бедные</td>\n",
       "    </tr>\n",
       "    <tr>\n",
       "      <td>12404</td>\n",
       "      <td>12491</td>\n",
       "      <td>0</td>\n",
       "      <td>27</td>\n",
       "      <td>1</td>\n",
       "      <td>4</td>\n",
       "      <td>F</td>\n",
       "      <td>пенсионер</td>\n",
       "      <td>0</td>\n",
       "      <td>50969</td>\n",
       "      <td>автомобиль</td>\n",
       "      <td>бедные</td>\n",
       "    </tr>\n",
       "  </tbody>\n",
       "</table>\n",
       "</div>"
      ],
      "text/plain": [
       "       index  children  dob_years  education_id  family_status_id gender  \\\n",
       "1239    1242         0         22             1                 4      F   \n",
       "3606    3618         0         24             1                 0      F   \n",
       "19187  19395         0         26             0                 0      F   \n",
       "15995  16139         0         26             1                 1      M   \n",
       "12404  12491         0         27             1                 4      F   \n",
       "\n",
       "      income_type  debt  total_income purpose_lemma income_class  \n",
       "1239    пенсионер     0         89368   образование       бедные  \n",
       "3606    пенсионер     0        118514         жилье    ниже сред  \n",
       "19187   пенсионер     0        214963  недвижимость      богатые  \n",
       "15995   пенсионер     0         80044    автомобиль       бедные  \n",
       "12404   пенсионер     0         50969    автомобиль       бедные  "
      ]
     },
     "execution_count": 97,
     "metadata": {},
     "output_type": "execute_result"
    }
   ],
   "source": [
    "df_scoring[df_scoring['income_type'] == 'пенсионер'].sort_values(by='dob_years').head()"
   ]
  },
  {
   "cell_type": "markdown",
   "metadata": {},
   "source": [
    "Вот это поворот. То есть мы не можем причислить людей в старшую возрастную группу только на основании того что они пенсионеры."
   ]
  },
  {
   "cell_type": "markdown",
   "metadata": {},
   "source": [
    "А теперь посмотрим пятерку самых возрастных не пенсионеров"
   ]
  },
  {
   "cell_type": "code",
   "execution_count": 98,
   "metadata": {},
   "outputs": [
    {
     "data": {
      "text/html": [
       "<div>\n",
       "<style scoped>\n",
       "    .dataframe tbody tr th:only-of-type {\n",
       "        vertical-align: middle;\n",
       "    }\n",
       "\n",
       "    .dataframe tbody tr th {\n",
       "        vertical-align: top;\n",
       "    }\n",
       "\n",
       "    .dataframe thead th {\n",
       "        text-align: right;\n",
       "    }\n",
       "</style>\n",
       "<table border=\"1\" class=\"dataframe\">\n",
       "  <thead>\n",
       "    <tr style=\"text-align: right;\">\n",
       "      <th></th>\n",
       "      <th>index</th>\n",
       "      <th>children</th>\n",
       "      <th>dob_years</th>\n",
       "      <th>education_id</th>\n",
       "      <th>family_status_id</th>\n",
       "      <th>gender</th>\n",
       "      <th>income_type</th>\n",
       "      <th>debt</th>\n",
       "      <th>total_income</th>\n",
       "      <th>purpose_lemma</th>\n",
       "      <th>income_class</th>\n",
       "    </tr>\n",
       "  </thead>\n",
       "  <tbody>\n",
       "    <tr>\n",
       "      <td>8829</td>\n",
       "      <td>8874</td>\n",
       "      <td>0</td>\n",
       "      <td>75</td>\n",
       "      <td>1</td>\n",
       "      <td>2</td>\n",
       "      <td>F</td>\n",
       "      <td>госслужащий</td>\n",
       "      <td>0</td>\n",
       "      <td>153282</td>\n",
       "      <td>образование</td>\n",
       "      <td>выше сред</td>\n",
       "    </tr>\n",
       "    <tr>\n",
       "      <td>11445</td>\n",
       "      <td>11519</td>\n",
       "      <td>0</td>\n",
       "      <td>74</td>\n",
       "      <td>1</td>\n",
       "      <td>1</td>\n",
       "      <td>F</td>\n",
       "      <td>сотрудник</td>\n",
       "      <td>0</td>\n",
       "      <td>98945</td>\n",
       "      <td>свадьба</td>\n",
       "      <td>бедные</td>\n",
       "    </tr>\n",
       "    <tr>\n",
       "      <td>12219</td>\n",
       "      <td>12303</td>\n",
       "      <td>0</td>\n",
       "      <td>74</td>\n",
       "      <td>1</td>\n",
       "      <td>0</td>\n",
       "      <td>M</td>\n",
       "      <td>компаньон</td>\n",
       "      <td>0</td>\n",
       "      <td>124830</td>\n",
       "      <td>недвижимость</td>\n",
       "      <td>ниже сред</td>\n",
       "    </tr>\n",
       "    <tr>\n",
       "      <td>15295</td>\n",
       "      <td>15423</td>\n",
       "      <td>0</td>\n",
       "      <td>73</td>\n",
       "      <td>1</td>\n",
       "      <td>0</td>\n",
       "      <td>F</td>\n",
       "      <td>компаньон</td>\n",
       "      <td>0</td>\n",
       "      <td>183306</td>\n",
       "      <td>недвижимость</td>\n",
       "      <td>выше сред</td>\n",
       "    </tr>\n",
       "    <tr>\n",
       "      <td>8714</td>\n",
       "      <td>8759</td>\n",
       "      <td>0</td>\n",
       "      <td>72</td>\n",
       "      <td>0</td>\n",
       "      <td>3</td>\n",
       "      <td>F</td>\n",
       "      <td>компаньон</td>\n",
       "      <td>0</td>\n",
       "      <td>168429</td>\n",
       "      <td>жилье</td>\n",
       "      <td>выше сред</td>\n",
       "    </tr>\n",
       "  </tbody>\n",
       "</table>\n",
       "</div>"
      ],
      "text/plain": [
       "       index  children  dob_years  education_id  family_status_id gender  \\\n",
       "8829    8874         0         75             1                 2      F   \n",
       "11445  11519         0         74             1                 1      F   \n",
       "12219  12303         0         74             1                 0      M   \n",
       "15295  15423         0         73             1                 0      F   \n",
       "8714    8759         0         72             0                 3      F   \n",
       "\n",
       "       income_type  debt  total_income purpose_lemma income_class  \n",
       "8829   госслужащий     0        153282   образование    выше сред  \n",
       "11445    сотрудник     0         98945       свадьба       бедные  \n",
       "12219    компаньон     0        124830  недвижимость    ниже сред  \n",
       "15295    компаньон     0        183306  недвижимость    выше сред  \n",
       "8714     компаньон     0        168429         жилье    выше сред  "
      ]
     },
     "execution_count": 98,
     "metadata": {},
     "output_type": "execute_result"
    }
   ],
   "source": [
    "df_scoring[df_scoring['income_type'] != 'пенсионер'].sort_values(by='dob_years', ascending=False).head()"
   ]
  },
  {
   "cell_type": "markdown",
   "metadata": {},
   "source": [
    "Мы также не можем утверждать что человек пенсионер только потому что он в уже в возрасте."
   ]
  },
  {
   "cell_type": "markdown",
   "metadata": {},
   "source": [
    "Что ж, воспользуемся методом разрезки на квантили, и сделаем несколько примерно равных групп.  \n",
    "Порежем для начала на квартили. "
   ]
  },
  {
   "cell_type": "code",
   "execution_count": 99,
   "metadata": {},
   "outputs": [
    {
     "data": {
      "text/plain": [
       "0          (33.0, 42.0]\n",
       "1          (33.0, 42.0]\n",
       "2        (18.999, 33.0]\n",
       "3        (18.999, 33.0]\n",
       "4          (42.0, 53.0]\n",
       "              ...      \n",
       "21218      (42.0, 53.0]\n",
       "21219      (53.0, 75.0]\n",
       "21220      (33.0, 42.0]\n",
       "21221      (33.0, 42.0]\n",
       "21222      (33.0, 42.0]\n",
       "Name: dob_years, Length: 21223, dtype: category\n",
       "Categories (4, interval[float64]): [(18.999, 33.0] < (33.0, 42.0] < (42.0, 53.0] < (53.0, 75.0]]"
      ]
     },
     "execution_count": 99,
     "metadata": {},
     "output_type": "execute_result"
    }
   ],
   "source": [
    "pd.qcut(df_scoring['dob_years'],4)"
   ]
  },
  {
   "cell_type": "markdown",
   "metadata": {},
   "source": [
    "Аналогичную ситуацию видели в доходе - последний квартиль имеет больший размах чем остальные. То есть людей от 53 до 75 лет примерно в 2 раза меньше чем людей от 33 до 53 лет, хотя размах примерно одинаковый. Это может говорить о том что люди в возрасте 33-53 лет чаще других возрастных групп обращаются за кредитом."
   ]
  },
  {
   "cell_type": "markdown",
   "metadata": {},
   "source": [
    "Посмотрим ради интереса какая нижняя граница возраста у заемщиков в 99 персентиле.(В 99 персентиле выборки 212 людей, как мы уже ранее выяснили)"
   ]
  },
  {
   "cell_type": "code",
   "execution_count": 100,
   "metadata": {},
   "outputs": [
    {
     "data": {
      "text/plain": [
       "69"
      ]
     },
     "execution_count": 100,
     "metadata": {},
     "output_type": "execute_result"
    }
   ],
   "source": [
    "df_scoring.sort_values(by='dob_years',ascending=False).reset_index(drop=True)['dob_years'][211]"
   ]
  },
  {
   "cell_type": "markdown",
   "metadata": {},
   "source": [
    "Всего 69 лет. Картина не такая драматичная как в доходе. Выделять отдельно супер взрослых не имеет смысла."
   ]
  },
  {
   "cell_type": "markdown",
   "metadata": {},
   "source": [
    "А в чем есть смысл, наверное, так это в том чтобы использовать интерквартильный размах в данном случае как одну группу - взрослые, и крайние группы сделать молодыми и зрелыми. Группы конечно получатся разными по размеру, но зато будут лучше отражать жизненный цикл человека и иметь примерно одинаковый размах, и опять же, не порежем по медиане, где большое скопление людей."
   ]
  },
  {
   "cell_type": "markdown",
   "metadata": {},
   "source": [
    "**3 категории по возрасту:** \n",
    "1. Молодые (первый квартиль: **`total_income` <= 33**)\n",
    "2. Взрослые (интерквартильный размах: **33 < `total_income` <= 53**)\n",
    "3. Зрелые (послендний квартиль:**`total_income` > 53**)"
   ]
  },
  {
   "cell_type": "markdown",
   "metadata": {},
   "source": [
    "Сразу сделаем словарь, чтобы хранить эти соответствия"
   ]
  },
  {
   "cell_type": "code",
   "execution_count": 101,
   "metadata": {},
   "outputs": [
    {
     "data": {
      "text/html": [
       "<div>\n",
       "<style scoped>\n",
       "    .dataframe tbody tr th:only-of-type {\n",
       "        vertical-align: middle;\n",
       "    }\n",
       "\n",
       "    .dataframe tbody tr th {\n",
       "        vertical-align: top;\n",
       "    }\n",
       "\n",
       "    .dataframe thead th {\n",
       "        text-align: right;\n",
       "    }\n",
       "</style>\n",
       "<table border=\"1\" class=\"dataframe\">\n",
       "  <thead>\n",
       "    <tr style=\"text-align: right;\">\n",
       "      <th></th>\n",
       "      <th>age_class</th>\n",
       "      <th>&gt;</th>\n",
       "      <th>&lt;=</th>\n",
       "    </tr>\n",
       "  </thead>\n",
       "  <tbody>\n",
       "    <tr>\n",
       "      <td>0</td>\n",
       "      <td>молодые</td>\n",
       "      <td>18</td>\n",
       "      <td>33</td>\n",
       "    </tr>\n",
       "    <tr>\n",
       "      <td>1</td>\n",
       "      <td>взрослые</td>\n",
       "      <td>33</td>\n",
       "      <td>53</td>\n",
       "    </tr>\n",
       "    <tr>\n",
       "      <td>2</td>\n",
       "      <td>зрелые</td>\n",
       "      <td>53</td>\n",
       "      <td>75</td>\n",
       "    </tr>\n",
       "  </tbody>\n",
       "</table>\n",
       "</div>"
      ],
      "text/plain": [
       "  age_class   >  <=\n",
       "0   молодые  18  33\n",
       "1  взрослые  33  53\n",
       "2    зрелые  53  75"
      ]
     },
     "execution_count": 101,
     "metadata": {},
     "output_type": "execute_result"
    }
   ],
   "source": [
    "age_data = [\n",
    "    ['молодые',18,33],\n",
    "    ['взрослые', 33, 53],\n",
    "    ['зрелые', 53, 75]\n",
    "]\n",
    "age_col = ['age_class', '>', '<=']\n",
    "age_dict = pd.DataFrame(data=age_data,columns=age_col)\n",
    "age_dict"
   ]
  },
  {
   "cell_type": "markdown",
   "metadata": {},
   "source": [
    "Создадим новый столбец `age_class` и  заполним его по аналогии с `income_class`"
   ]
  },
  {
   "cell_type": "code",
   "execution_count": 102,
   "metadata": {},
   "outputs": [],
   "source": [
    "def assign_age_class(dob_years):\n",
    "    if dob_years <= 33:\n",
    "        return 'молодые'\n",
    "    elif 33 < dob_years <= 53:\n",
    "        return 'взрослые'\n",
    "    else:\n",
    "        return 'зрелые'\n",
    "    \n",
    "\n",
    "df_scoring['age_class'] = df_scoring['dob_years'].apply(assign_age_class)"
   ]
  },
  {
   "cell_type": "code",
   "execution_count": 103,
   "metadata": {},
   "outputs": [
    {
     "data": {
      "text/html": [
       "<div>\n",
       "<style scoped>\n",
       "    .dataframe tbody tr th:only-of-type {\n",
       "        vertical-align: middle;\n",
       "    }\n",
       "\n",
       "    .dataframe tbody tr th {\n",
       "        vertical-align: top;\n",
       "    }\n",
       "\n",
       "    .dataframe thead th {\n",
       "        text-align: right;\n",
       "    }\n",
       "</style>\n",
       "<table border=\"1\" class=\"dataframe\">\n",
       "  <thead>\n",
       "    <tr style=\"text-align: right;\">\n",
       "      <th></th>\n",
       "      <th>index</th>\n",
       "      <th>children</th>\n",
       "      <th>dob_years</th>\n",
       "      <th>education_id</th>\n",
       "      <th>family_status_id</th>\n",
       "      <th>gender</th>\n",
       "      <th>income_type</th>\n",
       "      <th>debt</th>\n",
       "      <th>total_income</th>\n",
       "      <th>purpose_lemma</th>\n",
       "      <th>income_class</th>\n",
       "      <th>age_class</th>\n",
       "    </tr>\n",
       "  </thead>\n",
       "  <tbody>\n",
       "    <tr>\n",
       "      <td>0</td>\n",
       "      <td>0</td>\n",
       "      <td>1</td>\n",
       "      <td>42</td>\n",
       "      <td>0</td>\n",
       "      <td>0</td>\n",
       "      <td>F</td>\n",
       "      <td>сотрудник</td>\n",
       "      <td>0</td>\n",
       "      <td>253875</td>\n",
       "      <td>жилье</td>\n",
       "      <td>богатые</td>\n",
       "      <td>взрослые</td>\n",
       "    </tr>\n",
       "    <tr>\n",
       "      <td>1</td>\n",
       "      <td>1</td>\n",
       "      <td>1</td>\n",
       "      <td>36</td>\n",
       "      <td>1</td>\n",
       "      <td>0</td>\n",
       "      <td>F</td>\n",
       "      <td>сотрудник</td>\n",
       "      <td>0</td>\n",
       "      <td>112080</td>\n",
       "      <td>автомобиль</td>\n",
       "      <td>ниже сред</td>\n",
       "      <td>взрослые</td>\n",
       "    </tr>\n",
       "    <tr>\n",
       "      <td>2</td>\n",
       "      <td>2</td>\n",
       "      <td>0</td>\n",
       "      <td>33</td>\n",
       "      <td>1</td>\n",
       "      <td>0</td>\n",
       "      <td>M</td>\n",
       "      <td>сотрудник</td>\n",
       "      <td>0</td>\n",
       "      <td>145885</td>\n",
       "      <td>жилье</td>\n",
       "      <td>выше сред</td>\n",
       "      <td>молодые</td>\n",
       "    </tr>\n",
       "    <tr>\n",
       "      <td>3</td>\n",
       "      <td>3</td>\n",
       "      <td>3</td>\n",
       "      <td>32</td>\n",
       "      <td>1</td>\n",
       "      <td>0</td>\n",
       "      <td>M</td>\n",
       "      <td>сотрудник</td>\n",
       "      <td>0</td>\n",
       "      <td>267628</td>\n",
       "      <td>образование</td>\n",
       "      <td>богатые</td>\n",
       "      <td>молодые</td>\n",
       "    </tr>\n",
       "    <tr>\n",
       "      <td>4</td>\n",
       "      <td>4</td>\n",
       "      <td>0</td>\n",
       "      <td>53</td>\n",
       "      <td>1</td>\n",
       "      <td>1</td>\n",
       "      <td>F</td>\n",
       "      <td>пенсионер</td>\n",
       "      <td>0</td>\n",
       "      <td>158616</td>\n",
       "      <td>свадьба</td>\n",
       "      <td>выше сред</td>\n",
       "      <td>взрослые</td>\n",
       "    </tr>\n",
       "  </tbody>\n",
       "</table>\n",
       "</div>"
      ],
      "text/plain": [
       "   index  children  dob_years  education_id  family_status_id gender  \\\n",
       "0      0         1         42             0                 0      F   \n",
       "1      1         1         36             1                 0      F   \n",
       "2      2         0         33             1                 0      M   \n",
       "3      3         3         32             1                 0      M   \n",
       "4      4         0         53             1                 1      F   \n",
       "\n",
       "  income_type  debt  total_income purpose_lemma income_class age_class  \n",
       "0   сотрудник     0        253875         жилье      богатые  взрослые  \n",
       "1   сотрудник     0        112080    автомобиль    ниже сред  взрослые  \n",
       "2   сотрудник     0        145885         жилье    выше сред   молодые  \n",
       "3   сотрудник     0        267628   образование      богатые   молодые  \n",
       "4   пенсионер     0        158616       свадьба    выше сред  взрослые  "
      ]
     },
     "execution_count": 103,
     "metadata": {},
     "output_type": "execute_result"
    }
   ],
   "source": [
    "df_scoring.head()"
   ]
  },
  {
   "cell_type": "markdown",
   "metadata": {},
   "source": [
    "Выглядит нормально. Проверим что никто не остался без класса по возрасту"
   ]
  },
  {
   "cell_type": "code",
   "execution_count": 104,
   "metadata": {},
   "outputs": [
    {
     "data": {
      "text/plain": [
       "0"
      ]
     },
     "execution_count": 104,
     "metadata": {},
     "output_type": "execute_result"
    }
   ],
   "source": [
    "df_scoring['age_class'].isna().sum()"
   ]
  },
  {
   "cell_type": "markdown",
   "metadata": {},
   "source": [
    "Класс по возрасту всем присвоили. И еще посмотрим на размер групп по возрасту"
   ]
  },
  {
   "cell_type": "code",
   "execution_count": 105,
   "metadata": {},
   "outputs": [
    {
     "data": {
      "text/plain": [
       "взрослые    10702\n",
       "молодые      5331\n",
       "зрелые       5190\n",
       "Name: age_class, dtype: int64"
      ]
     },
     "execution_count": 105,
     "metadata": {},
     "output_type": "execute_result"
    }
   ],
   "source": [
    "df_scoring['age_class'].value_counts()"
   ]
  },
  {
   "cell_type": "markdown",
   "metadata": {},
   "source": [
    "Группы получились разные по количеству, но зато, как мы видели ранее, плюс минус одинаковые по размаху возраста внутри каждой группы. Тот факт что взрослых больше всего, может говорить о том, что данная возрастная группа в целом чаще обращается за кредитом (или, что даже более вероятно, данной возрастной группе чаще всего одобряют кредит) потому они чаще попадают в эту выборку."
   ]
  },
  {
   "cell_type": "markdown",
   "metadata": {},
   "source": [
    "#### Вывод (категоризация данных)"
   ]
  },
  {
   "cell_type": "markdown",
   "metadata": {},
   "source": [
    "Мы категоризировали данные, а именно: \n",
    "1. Отправили в \"словари\" те параметры, которые имели дубли (`education` и `family_status`). В основном ДФ оставили только их `id`.\n",
    "2. Перезаписали ДФ в новую переменную `df_scoring`, исключив ненужные столбцы. ДФ стал более удобным для восприятия\n",
    "3. Удалили дубликаты, которые образовались после приведения целей кредита к лемме.\n",
    "4. Классифицировали данные на основании количественных признаков - возраст и доход, и добавили соответствующие столбцы в ДФ.\n",
    "    * получили 5 групп по уровню дохода: бедные, ниже среднего, выше среднего, богатые, зажиточные. Зажиточные составляют сего 1% от всей выборки, а следовательно мы не сможем получить какие-бы то ни было статистически значимые данные по этой группе в связи с недостаточным размером выборки. \n",
    "    * получили 3 группы по возрасту: молодые, взрослые, зрелые. Размах возраста в них примерно одинаковый, но группа взрослые составляет примерно половину численности всех заемщиков."
   ]
  },
  {
   "cell_type": "markdown",
   "metadata": {},
   "source": [
    "## Какие факторы больше всего влияют на факт погашения кредита в срок"
   ]
  },
  {
   "cell_type": "markdown",
   "metadata": {},
   "source": [
    "Для начала посмотрим, какой общий процент должников в выборке"
   ]
  },
  {
   "cell_type": "code",
   "execution_count": 106,
   "metadata": {},
   "outputs": [
    {
     "data": {
      "text/plain": [
       "0.08198652405409226"
      ]
     },
     "execution_count": 106,
     "metadata": {},
     "output_type": "execute_result"
    }
   ],
   "source": [
    "df_scoring['debt'].sum() / len(df_scoring)"
   ]
  },
  {
   "cell_type": "markdown",
   "metadata": {},
   "source": [
    "То есть если допустить, что выборка была непредвзятой, то экстраполируя этот вывод на будущих заемщиков, можно ожидать, что в среднем 8,1% заемщиков не будут погашать кредит в срок. Банк, понятное дело, хочет снизить этот процент.\n",
    "Теперь можно рассчитать вероятность задолженности в разрезе разных категорий заемщиков. "
   ]
  },
  {
   "cell_type": "markdown",
   "metadata": {},
   "source": [
    "### Зависимость между наличием детей и возвратом кредита в срок"
   ]
  },
  {
   "cell_type": "markdown",
   "metadata": {},
   "source": [
    "Чтобы ответить на этот вопрос, добавим в ДФ столбец `children_id` с фактом наличия детей, где наличие будет обозначено 1, а отсутствие 0. Сделаем это с помощью функции, которая будет в качестве аргумента принимать количество детей, а возвращать 0 или 1 в зависимости от наличия детей. Методом `.apply()` применим ко всему столбцу `children`."
   ]
  },
  {
   "cell_type": "code",
   "execution_count": 107,
   "metadata": {},
   "outputs": [],
   "source": [
    "def assign_children_id(children):\n",
    "    if children == 0:\n",
    "        return 0\n",
    "    else:\n",
    "        return 1\n",
    "\n",
    "df_scoring['children_id'] = df_scoring['children'].apply(assign_children_id)"
   ]
  },
  {
   "cell_type": "code",
   "execution_count": 108,
   "metadata": {},
   "outputs": [
    {
     "data": {
      "text/html": [
       "<div>\n",
       "<style scoped>\n",
       "    .dataframe tbody tr th:only-of-type {\n",
       "        vertical-align: middle;\n",
       "    }\n",
       "\n",
       "    .dataframe tbody tr th {\n",
       "        vertical-align: top;\n",
       "    }\n",
       "\n",
       "    .dataframe thead th {\n",
       "        text-align: right;\n",
       "    }\n",
       "</style>\n",
       "<table border=\"1\" class=\"dataframe\">\n",
       "  <thead>\n",
       "    <tr style=\"text-align: right;\">\n",
       "      <th></th>\n",
       "      <th>index</th>\n",
       "      <th>children</th>\n",
       "      <th>dob_years</th>\n",
       "      <th>education_id</th>\n",
       "      <th>family_status_id</th>\n",
       "      <th>gender</th>\n",
       "      <th>income_type</th>\n",
       "      <th>debt</th>\n",
       "      <th>total_income</th>\n",
       "      <th>purpose_lemma</th>\n",
       "      <th>income_class</th>\n",
       "      <th>age_class</th>\n",
       "      <th>children_id</th>\n",
       "    </tr>\n",
       "  </thead>\n",
       "  <tbody>\n",
       "    <tr>\n",
       "      <td>0</td>\n",
       "      <td>0</td>\n",
       "      <td>1</td>\n",
       "      <td>42</td>\n",
       "      <td>0</td>\n",
       "      <td>0</td>\n",
       "      <td>F</td>\n",
       "      <td>сотрудник</td>\n",
       "      <td>0</td>\n",
       "      <td>253875</td>\n",
       "      <td>жилье</td>\n",
       "      <td>богатые</td>\n",
       "      <td>взрослые</td>\n",
       "      <td>1</td>\n",
       "    </tr>\n",
       "    <tr>\n",
       "      <td>1</td>\n",
       "      <td>1</td>\n",
       "      <td>1</td>\n",
       "      <td>36</td>\n",
       "      <td>1</td>\n",
       "      <td>0</td>\n",
       "      <td>F</td>\n",
       "      <td>сотрудник</td>\n",
       "      <td>0</td>\n",
       "      <td>112080</td>\n",
       "      <td>автомобиль</td>\n",
       "      <td>ниже сред</td>\n",
       "      <td>взрослые</td>\n",
       "      <td>1</td>\n",
       "    </tr>\n",
       "    <tr>\n",
       "      <td>2</td>\n",
       "      <td>2</td>\n",
       "      <td>0</td>\n",
       "      <td>33</td>\n",
       "      <td>1</td>\n",
       "      <td>0</td>\n",
       "      <td>M</td>\n",
       "      <td>сотрудник</td>\n",
       "      <td>0</td>\n",
       "      <td>145885</td>\n",
       "      <td>жилье</td>\n",
       "      <td>выше сред</td>\n",
       "      <td>молодые</td>\n",
       "      <td>0</td>\n",
       "    </tr>\n",
       "  </tbody>\n",
       "</table>\n",
       "</div>"
      ],
      "text/plain": [
       "   index  children  dob_years  education_id  family_status_id gender  \\\n",
       "0      0         1         42             0                 0      F   \n",
       "1      1         1         36             1                 0      F   \n",
       "2      2         0         33             1                 0      M   \n",
       "\n",
       "  income_type  debt  total_income purpose_lemma income_class age_class  \\\n",
       "0   сотрудник     0        253875         жилье      богатые  взрослые   \n",
       "1   сотрудник     0        112080    автомобиль    ниже сред  взрослые   \n",
       "2   сотрудник     0        145885         жилье    выше сред   молодые   \n",
       "\n",
       "   children_id  \n",
       "0            1  \n",
       "1            1  \n",
       "2            0  "
      ]
     },
     "execution_count": 108,
     "metadata": {},
     "output_type": "execute_result"
    }
   ],
   "source": [
    "df_scoring.head(3)"
   ]
  },
  {
   "cell_type": "markdown",
   "metadata": {},
   "source": [
    "Выглядит нормально, проверим чтобы не осталось пропусков"
   ]
  },
  {
   "cell_type": "code",
   "execution_count": 109,
   "metadata": {},
   "outputs": [
    {
     "data": {
      "text/plain": [
       "0"
      ]
     },
     "execution_count": 109,
     "metadata": {},
     "output_type": "execute_result"
    }
   ],
   "source": [
    "df_scoring['children_id'].isna().sum()"
   ]
  },
  {
   "cell_type": "markdown",
   "metadata": {},
   "source": [
    "Пропусков не осталось, все получили 1 или 0 в зависимости от наличия или отсутствия детей.  \n"
   ]
  },
  {
   "cell_type": "markdown",
   "metadata": {},
   "source": [
    "**С детьми vs без детей**"
   ]
  },
  {
   "cell_type": "markdown",
   "metadata": {},
   "source": [
    "Посмотрим насколько хорошо представлены группы заемщиков с детьми и без детей. "
   ]
  },
  {
   "cell_type": "code",
   "execution_count": 110,
   "metadata": {},
   "outputs": [
    {
     "data": {
      "text/plain": [
       "0    0.655044\n",
       "1    0.344956\n",
       "Name: children_id, dtype: float64"
      ]
     },
     "execution_count": 110,
     "metadata": {},
     "output_type": "execute_result"
    }
   ],
   "source": [
    "df_scoring['children_id'].value_counts(normalize=True)"
   ]
  },
  {
   "cell_type": "markdown",
   "metadata": {},
   "source": [
    "Заемщики с детьми составляют 34,5% от всех заемщиков. Обе группы представлены хорошо.  \n",
    "Теперь можно перейти к расчетам.  \n",
    "При расчетах будем обращаться к столбцу `children_id` ДФ `df_scoring`. Сначала найдем количество заемщиков с детьми и без детей, потом вычислим количество должников в этих группах, разделим должников на общее количество, и наконец приведем все в удобно читаемый вид."
   ]
  },
  {
   "cell_type": "code",
   "execution_count": 111,
   "metadata": {},
   "outputs": [
    {
     "data": {
      "text/html": [
       "<div>\n",
       "<style scoped>\n",
       "    .dataframe tbody tr th:only-of-type {\n",
       "        vertical-align: middle;\n",
       "    }\n",
       "\n",
       "    .dataframe tbody tr th {\n",
       "        vertical-align: top;\n",
       "    }\n",
       "\n",
       "    .dataframe thead th {\n",
       "        text-align: right;\n",
       "    }\n",
       "</style>\n",
       "<table border=\"1\" class=\"dataframe\">\n",
       "  <thead>\n",
       "    <tr style=\"text-align: right;\">\n",
       "      <th></th>\n",
       "      <th>children_id</th>\n",
       "      <th>debt</th>\n",
       "    </tr>\n",
       "  </thead>\n",
       "  <tbody>\n",
       "    <tr>\n",
       "      <td>1</td>\n",
       "      <td>1</td>\n",
       "      <td>0.092610</td>\n",
       "    </tr>\n",
       "    <tr>\n",
       "      <td>0</td>\n",
       "      <td>0</td>\n",
       "      <td>0.076392</td>\n",
       "    </tr>\n",
       "  </tbody>\n",
       "</table>\n",
       "</div>"
      ],
      "text/plain": [
       "   children_id      debt\n",
       "1            1  0.092610\n",
       "0            0  0.076392"
      ]
     },
     "execution_count": 111,
     "metadata": {},
     "output_type": "execute_result"
    }
   ],
   "source": [
    "# кол-во заемщиков с детьми и без детей\n",
    "by_children_id_all = df_scoring.groupby('children_id')['debt'].count().to_frame()\n",
    "# количество заемщиков с долгом среди людей с детьми и без детей\n",
    "by_children_id_debt = df_scoring.groupby('children_id')['debt'].sum().to_frame()\n",
    "# доля должников среди людей с детьми и без детей\n",
    "by_children_id = (by_children_id_debt['debt'] / by_children_id_all['debt'])\n",
    "# перевод в ДФ, обнуление индексов, сортировка от большего к меньшему по столбцу с долгом\n",
    "by_children_id = by_children_id.to_frame().reset_index().sort_values(by='debt', ascending=False)\n",
    "by_children_id"
   ]
  },
  {
   "cell_type": "markdown",
   "metadata": {},
   "source": [
    "Что видим: \n",
    "* Среди заемщиков с детьми должников больше. К счастью для банка они составляют меньшую долю заемщиков - чуть более 30% (может и не случайно)\n",
    "* Среди заемщиков без детей должников значительно меньше."
   ]
  },
  {
   "cell_type": "markdown",
   "metadata": {},
   "source": [
    "**По количеству детей**"
   ]
  },
  {
   "cell_type": "markdown",
   "metadata": {},
   "source": [
    "Также будет интересно посмотреть, есть ли какое-то соотношение между наличием долга и количеством детей. Но сначала проверим как разное количество детей представлено в выборке."
   ]
  },
  {
   "cell_type": "code",
   "execution_count": 112,
   "metadata": {},
   "outputs": [
    {
     "data": {
      "text/plain": [
       "1    0.658790\n",
       "2    0.289441\n",
       "3    0.044939\n",
       "4    0.005600\n",
       "5    0.001229\n",
       "Name: children, dtype: float64"
      ]
     },
     "execution_count": 112,
     "metadata": {},
     "output_type": "execute_result"
    }
   ],
   "source": [
    "# делим на длину выборки с детьми для начала\n",
    "df_scoring[df_scoring['children'] != 0]['children'].value_counts() / len(df_scoring[df_scoring['children'] != 0])"
   ]
  },
  {
   "cell_type": "markdown",
   "metadata": {},
   "source": [
    "Похоже, что абсолютное большинство людей с детьми составляют люди с 1-2 детьми (94,8%). Заемщики с 3-5 детьми представлены недостаточно даже относительно выборки с детьми, а значит относительно всей выборки этот процент будет еще меньше. Это ожидаемо, ведь таких и в реальной жизни меньшинство. К сожалению не получится сделать значимые выводы о заемщиках с 3-5 детьми.  \n",
    "Проведем рассчеты для людей с разным количеством детей (принцип такой же как выше). При расчетах будем обращаться к столбцу `children` ДФ `df_scoring`, но на этот раз применим фильтр, и оставим только тех, кто имеет детей."
   ]
  },
  {
   "cell_type": "code",
   "execution_count": 113,
   "metadata": {},
   "outputs": [
    {
     "data": {
      "text/html": [
       "<div>\n",
       "<style scoped>\n",
       "    .dataframe tbody tr th:only-of-type {\n",
       "        vertical-align: middle;\n",
       "    }\n",
       "\n",
       "    .dataframe tbody tr th {\n",
       "        vertical-align: top;\n",
       "    }\n",
       "\n",
       "    .dataframe thead th {\n",
       "        text-align: right;\n",
       "    }\n",
       "</style>\n",
       "<table border=\"1\" class=\"dataframe\">\n",
       "  <thead>\n",
       "    <tr style=\"text-align: right;\">\n",
       "      <th></th>\n",
       "      <th>children</th>\n",
       "      <th>debt</th>\n",
       "    </tr>\n",
       "  </thead>\n",
       "  <tbody>\n",
       "    <tr>\n",
       "      <td>3</td>\n",
       "      <td>4</td>\n",
       "      <td>0.097561</td>\n",
       "    </tr>\n",
       "    <tr>\n",
       "      <td>1</td>\n",
       "      <td>2</td>\n",
       "      <td>0.095328</td>\n",
       "    </tr>\n",
       "    <tr>\n",
       "      <td>0</td>\n",
       "      <td>1</td>\n",
       "      <td>0.092266</td>\n",
       "    </tr>\n",
       "    <tr>\n",
       "      <td>2</td>\n",
       "      <td>3</td>\n",
       "      <td>0.082067</td>\n",
       "    </tr>\n",
       "    <tr>\n",
       "      <td>4</td>\n",
       "      <td>5</td>\n",
       "      <td>0.000000</td>\n",
       "    </tr>\n",
       "  </tbody>\n",
       "</table>\n",
       "</div>"
      ],
      "text/plain": [
       "   children      debt\n",
       "3         4  0.097561\n",
       "1         2  0.095328\n",
       "0         1  0.092266\n",
       "2         3  0.082067\n",
       "4         5  0.000000"
      ]
     },
     "execution_count": 113,
     "metadata": {},
     "output_type": "execute_result"
    }
   ],
   "source": [
    "# кол-во заемщиков с разным количеством детей\n",
    "by_children_all = df_scoring[df_scoring['children'] != 0].groupby('children')['debt'].count().to_frame()\n",
    "# количество заемщиков с долгом среди людей с разным количеством детей\n",
    "by_children_debt = df_scoring[df_scoring['children'] != 0].groupby('children')['debt'].sum().to_frame()\n",
    "# доля должников среди людей с разным количеством детей\n",
    "by_children = (by_children_debt['debt'] / by_children_all['debt'])\n",
    "# перевод в ДФ, обнуление индексов, сортировка от большего к меньшему по столбцу с долгом\n",
    "by_children = by_children.to_frame().reset_index().sort_values(by='debt', ascending=False)\n",
    "by_children"
   ]
  },
  {
   "cell_type": "markdown",
   "metadata": {},
   "source": [
    "Что видим: \n",
    "   * Заемщики с двумя детьми имеют долг по кредиту чаще, чем заемщики с одним ребенком, что ожидаемо.\n",
    "   * Забавно, что среди заемщиков с пятью детьми должников не было, а у заемщиков с 4 детьми - процент должников самый большой из всех. Вряд ли это отражает настоящее положение дел, скорее просто перекос из-за недостаточного объема выборки."
   ]
  },
  {
   "cell_type": "markdown",
   "metadata": {},
   "source": [
    "Ответим на поставленный вопрос:  \n",
    "**- Есть ли зависимость между наличием детей и возвратом кредита в срок?**  \n",
    "\n",
    "Да, существует корреляция между наличием детей и наличием задолженности по кредиту. Заемщики с детьми имеют долг по кредиту чаще, чем заемщики без детей, при этом чаще имеют задолженность заемщики с двумя детьми, чем с одним ребенком."
   ]
  },
  {
   "cell_type": "markdown",
   "metadata": {},
   "source": [
    "#### Вывод"
   ]
  },
  {
   "cell_type": "markdown",
   "metadata": {},
   "source": [
    "Мы выяснили, что:\n",
    "* Факт наличия детей коррелирует с фактом наличия задолженности по кредиту: заемщики с детьми платят хуже чем без детей (см таблицу ниже)\n",
    "* Есть линейная корреляция между количеством детей и вероятностью задолженности: с увеличением количества детей с 1 до 2 вырастает вероятность задолженности. Если отборсить статистически незначимые выборки по заемщикам с 3-5 детьми, то тенденция указывает на то, что чем больше у заемщика будет детей тем хуже будет процент возврата по кредиту.\n",
    "* Большинство заемщиков (более 60%) это люди без детей \n",
    "* Более предпочтительными заемщиками для банка являются люди без детей  \n",
    "\n",
    "Цифры по задолженности приведем в таблицах."
   ]
  },
  {
   "cell_type": "code",
   "execution_count": 114,
   "metadata": {},
   "outputs": [
    {
     "data": {
      "text/html": [
       "<div>\n",
       "<style scoped>\n",
       "    .dataframe tbody tr th:only-of-type {\n",
       "        vertical-align: middle;\n",
       "    }\n",
       "\n",
       "    .dataframe tbody tr th {\n",
       "        vertical-align: top;\n",
       "    }\n",
       "\n",
       "    .dataframe thead th {\n",
       "        text-align: right;\n",
       "    }\n",
       "</style>\n",
       "<table border=\"1\" class=\"dataframe\">\n",
       "  <thead>\n",
       "    <tr style=\"text-align: right;\">\n",
       "      <th></th>\n",
       "      <th>children_id</th>\n",
       "      <th>debt</th>\n",
       "    </tr>\n",
       "  </thead>\n",
       "  <tbody>\n",
       "    <tr>\n",
       "      <td>1</td>\n",
       "      <td>1</td>\n",
       "      <td>0.092610</td>\n",
       "    </tr>\n",
       "    <tr>\n",
       "      <td>0</td>\n",
       "      <td>0</td>\n",
       "      <td>0.076392</td>\n",
       "    </tr>\n",
       "  </tbody>\n",
       "</table>\n",
       "</div>"
      ],
      "text/plain": [
       "   children_id      debt\n",
       "1            1  0.092610\n",
       "0            0  0.076392"
      ]
     },
     "execution_count": 114,
     "metadata": {},
     "output_type": "execute_result"
    }
   ],
   "source": [
    "# должники с детьми и без детей\n",
    "by_children_id"
   ]
  },
  {
   "cell_type": "code",
   "execution_count": 115,
   "metadata": {},
   "outputs": [
    {
     "data": {
      "text/html": [
       "<div>\n",
       "<style scoped>\n",
       "    .dataframe tbody tr th:only-of-type {\n",
       "        vertical-align: middle;\n",
       "    }\n",
       "\n",
       "    .dataframe tbody tr th {\n",
       "        vertical-align: top;\n",
       "    }\n",
       "\n",
       "    .dataframe thead th {\n",
       "        text-align: right;\n",
       "    }\n",
       "</style>\n",
       "<table border=\"1\" class=\"dataframe\">\n",
       "  <thead>\n",
       "    <tr style=\"text-align: right;\">\n",
       "      <th></th>\n",
       "      <th>children</th>\n",
       "      <th>debt</th>\n",
       "    </tr>\n",
       "  </thead>\n",
       "  <tbody>\n",
       "    <tr>\n",
       "      <td>3</td>\n",
       "      <td>4</td>\n",
       "      <td>0.097561</td>\n",
       "    </tr>\n",
       "    <tr>\n",
       "      <td>1</td>\n",
       "      <td>2</td>\n",
       "      <td>0.095328</td>\n",
       "    </tr>\n",
       "    <tr>\n",
       "      <td>0</td>\n",
       "      <td>1</td>\n",
       "      <td>0.092266</td>\n",
       "    </tr>\n",
       "    <tr>\n",
       "      <td>2</td>\n",
       "      <td>3</td>\n",
       "      <td>0.082067</td>\n",
       "    </tr>\n",
       "    <tr>\n",
       "      <td>4</td>\n",
       "      <td>5</td>\n",
       "      <td>0.000000</td>\n",
       "    </tr>\n",
       "  </tbody>\n",
       "</table>\n",
       "</div>"
      ],
      "text/plain": [
       "   children      debt\n",
       "3         4  0.097561\n",
       "1         2  0.095328\n",
       "0         1  0.092266\n",
       "2         3  0.082067\n",
       "4         5  0.000000"
      ]
     },
     "execution_count": 115,
     "metadata": {},
     "output_type": "execute_result"
    }
   ],
   "source": [
    "# должники с разным количеством детей\n",
    "by_children"
   ]
  },
  {
   "cell_type": "code",
   "execution_count": 116,
   "metadata": {},
   "outputs": [],
   "source": [
    "# Закинем лучшие и худшие показатели в список с данными (потом сделаем сводный ДФ)\n",
    "# Это лист для данных сводного дата фрейма\n",
    "worst_best_data = []\n",
    "# Это имена столбцов сводного дата фрейма\n",
    "worst_best_col = ['parameter','worst', 'worst_%', 'best', 'best_%']\n",
    "\n",
    "children_id_sum_data = ['children_id', 1, 0.092610, 0, 0.076392]\n",
    "worst_best_data.append(children_id_sum_data)"
   ]
  },
  {
   "cell_type": "markdown",
   "metadata": {},
   "source": [
    "### Зависимость между семейным положением и возвратом кредита в срок"
   ]
  },
  {
   "cell_type": "markdown",
   "metadata": {},
   "source": [
    "Сначала посмотрим, все ли категории заемщиков по семейному положению представлены одинаково хорошо"
   ]
  },
  {
   "cell_type": "code",
   "execution_count": 117,
   "metadata": {},
   "outputs": [
    {
     "data": {
      "text/html": [
       "<div>\n",
       "<style scoped>\n",
       "    .dataframe tbody tr th:only-of-type {\n",
       "        vertical-align: middle;\n",
       "    }\n",
       "\n",
       "    .dataframe tbody tr th {\n",
       "        vertical-align: top;\n",
       "    }\n",
       "\n",
       "    .dataframe thead th {\n",
       "        text-align: right;\n",
       "    }\n",
       "</style>\n",
       "<table border=\"1\" class=\"dataframe\">\n",
       "  <thead>\n",
       "    <tr style=\"text-align: right;\">\n",
       "      <th></th>\n",
       "      <th>family_status_id</th>\n",
       "      <th>prs</th>\n",
       "      <th>family_status</th>\n",
       "    </tr>\n",
       "  </thead>\n",
       "  <tbody>\n",
       "    <tr>\n",
       "      <td>0</td>\n",
       "      <td>0</td>\n",
       "      <td>0.573058</td>\n",
       "      <td>женат / замужем</td>\n",
       "    </tr>\n",
       "    <tr>\n",
       "      <td>1</td>\n",
       "      <td>1</td>\n",
       "      <td>0.194553</td>\n",
       "      <td>гражданский брак</td>\n",
       "    </tr>\n",
       "    <tr>\n",
       "      <td>2</td>\n",
       "      <td>4</td>\n",
       "      <td>0.131555</td>\n",
       "      <td>Не женат / не замужем</td>\n",
       "    </tr>\n",
       "    <tr>\n",
       "      <td>3</td>\n",
       "      <td>3</td>\n",
       "      <td>0.056213</td>\n",
       "      <td>в разводе</td>\n",
       "    </tr>\n",
       "    <tr>\n",
       "      <td>4</td>\n",
       "      <td>2</td>\n",
       "      <td>0.044621</td>\n",
       "      <td>вдовец / вдова</td>\n",
       "    </tr>\n",
       "  </tbody>\n",
       "</table>\n",
       "</div>"
      ],
      "text/plain": [
       "   family_status_id       prs          family_status\n",
       "0                 0  0.573058        женат / замужем\n",
       "1                 1  0.194553       гражданский брак\n",
       "2                 4  0.131555  Не женат / не замужем\n",
       "3                 3  0.056213              в разводе\n",
       "4                 2  0.044621         вдовец / вдова"
      ]
     },
     "execution_count": 117,
     "metadata": {},
     "output_type": "execute_result"
    }
   ],
   "source": [
    "family_status_id_rep = df_scoring['family_status_id'].value_counts().to_frame().reset_index()\n",
    "family_status_id_rep.set_axis(['family_status_id', 'prs'],axis='columns',inplace=True)\n",
    "family_status_id_rep = family_status_id_rep.merge(family_status_dict) \n",
    "family_status_id_rep['prs']  =  family_status_id_rep['prs'] / len(df_scoring)\n",
    "family_status_id_rep"
   ]
  },
  {
   "cell_type": "markdown",
   "metadata": {},
   "source": [
    "Хорошо представлены только три категории. Слабо представлены вдовцы/вдовы и заемщики в разводе"
   ]
  },
  {
   "cell_type": "markdown",
   "metadata": {},
   "source": [
    "Проведем рассчеты для заемщиков с разным семейным пололжением аналогично тому, как мы проводили их для заемщиков с разным количеством детей. При расчетах будем обращаться к столбцу `family_status_id` ДФ `df_scoring`"
   ]
  },
  {
   "cell_type": "code",
   "execution_count": 118,
   "metadata": {},
   "outputs": [
    {
     "data": {
      "text/html": [
       "<div>\n",
       "<style scoped>\n",
       "    .dataframe tbody tr th:only-of-type {\n",
       "        vertical-align: middle;\n",
       "    }\n",
       "\n",
       "    .dataframe tbody tr th {\n",
       "        vertical-align: top;\n",
       "    }\n",
       "\n",
       "    .dataframe thead th {\n",
       "        text-align: right;\n",
       "    }\n",
       "</style>\n",
       "<table border=\"1\" class=\"dataframe\">\n",
       "  <thead>\n",
       "    <tr style=\"text-align: right;\">\n",
       "      <th></th>\n",
       "      <th>family_status_id</th>\n",
       "      <th>debt</th>\n",
       "      <th>family_status</th>\n",
       "    </tr>\n",
       "  </thead>\n",
       "  <tbody>\n",
       "    <tr>\n",
       "      <td>0</td>\n",
       "      <td>4</td>\n",
       "      <td>0.098138</td>\n",
       "      <td>Не женат / не замужем</td>\n",
       "    </tr>\n",
       "    <tr>\n",
       "      <td>1</td>\n",
       "      <td>1</td>\n",
       "      <td>0.093969</td>\n",
       "      <td>гражданский брак</td>\n",
       "    </tr>\n",
       "    <tr>\n",
       "      <td>2</td>\n",
       "      <td>0</td>\n",
       "      <td>0.076468</td>\n",
       "      <td>женат / замужем</td>\n",
       "    </tr>\n",
       "    <tr>\n",
       "      <td>3</td>\n",
       "      <td>3</td>\n",
       "      <td>0.071249</td>\n",
       "      <td>в разводе</td>\n",
       "    </tr>\n",
       "    <tr>\n",
       "      <td>4</td>\n",
       "      <td>2</td>\n",
       "      <td>0.066526</td>\n",
       "      <td>вдовец / вдова</td>\n",
       "    </tr>\n",
       "  </tbody>\n",
       "</table>\n",
       "</div>"
      ],
      "text/plain": [
       "   family_status_id      debt          family_status\n",
       "0                 4  0.098138  Не женат / не замужем\n",
       "1                 1  0.093969       гражданский брак\n",
       "2                 0  0.076468        женат / замужем\n",
       "3                 3  0.071249              в разводе\n",
       "4                 2  0.066526         вдовец / вдова"
      ]
     },
     "execution_count": 118,
     "metadata": {},
     "output_type": "execute_result"
    }
   ],
   "source": [
    "# кол-во заемщиков для каждого вида кредита\n",
    "by_family_status_id_all = df_scoring.groupby('family_status_id')['debt'].count().to_frame()\n",
    "# количество заемщиков с долгом для каждого вида кредита\n",
    "by_family_status_id_debt = df_scoring.groupby('family_status_id')['debt'].sum().to_frame()\n",
    "# доля должников для каждого вида кредита\n",
    "by_family_status_id = (by_family_status_id_debt['debt'] / by_family_status_id_all['debt'])\n",
    "# перевод в ДФ, обнуление индексов, сортировка от большего к меньшему по столбцу с долгом\n",
    "by_family_status_id = by_family_status_id.to_frame().reset_index().sort_values(by='debt', ascending=False)\n",
    "# добавим словарь по семейному положению для удобства\n",
    "by_family_status_id_merged = by_family_status_id.merge(family_status_dict)\n",
    "by_family_status_id_merged"
   ]
  },
  {
   "cell_type": "markdown",
   "metadata": {},
   "source": [
    "Что видим: \n",
    "* Хуже всех выплачивают кредиты не женатые / не замужние, но их, к счастью для банка, всего 13,2%.\n",
    "* Сразу следом за ними следуют заемщики, состоящие в гражданском браке, и их доля выше - 19,5%.\n",
    "* Далее идут женатые / замужние, они же составляют и самую крупную группу заемщиков - 57,3%.\n",
    "* Хорошие показатели у заемщиков в разводе, но их всего чуть больше 5% среди заемщиков.\n",
    "* Лучшие показатели у группы вдовцы / вдовы, но их менее 5%.\n",
    "\n",
    "Таким образом:\n",
    "* Выглядит, что заемщики, которые состоят или когда либо состояли в официальном браке (женатые, разведенные, вдовцы), платят лучше чем те, кто никогода не состоял в официальном браке. Может быть потому что они знают, что такое обязательства?\n",
    "* Заемщики выплачивающие хуже (не связанные офиц обязательствами) составляют чуть более 30% в общей массе заемщиков. Похожая картина была у заемщиков с детьми.\n",
    "* Чем лучше показатели возврата кредита, тем лучше группа представлена среди заемщиков. Вряд ли можно считать это совпадением. Выглядит, что банк уже проводит неплохую работу по соблюдению баланса благонадежных и не очень заемщиков. "
   ]
  },
  {
   "cell_type": "markdown",
   "metadata": {},
   "source": [
    "Ответим на поставленный вопрос:  \n",
    "**- Есть ли зависимость между семейным положением и возвратом кредита в срок?**  \n",
    "\n",
    "Да, существует корреляция между семейным положением и задолженностью по кредиту "
   ]
  },
  {
   "cell_type": "markdown",
   "metadata": {},
   "source": [
    "#### Вывод"
   ]
  },
  {
   "cell_type": "markdown",
   "metadata": {},
   "source": [
    "Мы выяснили, что:\n",
    "* Семейное положение коррелирует с фактом наличия задолженности по кредиту: заемщики состоящие (или когда либо состоявшие) официальном браке платят лучше, чем те кто никогда в официальном браке не состоял. \n",
    "* Более предпочтительными заемщиками для банка являются люди, состоящие (или когда либо состоявшие) официальном браке (женатые / замужние, разведенные, вдовцы / вдовы)\n",
    "* Большинство заемщиков это женатые/замужние люди. Если докинуть туда же вдовцов и разведенных то это более 60% всех заемщиков. Возможно это неспроста.\n",
    "* Похоже, что банк уже проводит неплохую работу по соблюдению баланса благонадежных и не очень заемщиков.  \n",
    "\n",
    "Доли должников среди заемщиков по разому семейному положению приведем в виде таблицы."
   ]
  },
  {
   "cell_type": "code",
   "execution_count": 119,
   "metadata": {},
   "outputs": [
    {
     "data": {
      "text/html": [
       "<div>\n",
       "<style scoped>\n",
       "    .dataframe tbody tr th:only-of-type {\n",
       "        vertical-align: middle;\n",
       "    }\n",
       "\n",
       "    .dataframe tbody tr th {\n",
       "        vertical-align: top;\n",
       "    }\n",
       "\n",
       "    .dataframe thead th {\n",
       "        text-align: right;\n",
       "    }\n",
       "</style>\n",
       "<table border=\"1\" class=\"dataframe\">\n",
       "  <thead>\n",
       "    <tr style=\"text-align: right;\">\n",
       "      <th></th>\n",
       "      <th>family_status_id</th>\n",
       "      <th>debt</th>\n",
       "      <th>family_status</th>\n",
       "    </tr>\n",
       "  </thead>\n",
       "  <tbody>\n",
       "    <tr>\n",
       "      <td>0</td>\n",
       "      <td>4</td>\n",
       "      <td>0.098138</td>\n",
       "      <td>Не женат / не замужем</td>\n",
       "    </tr>\n",
       "    <tr>\n",
       "      <td>1</td>\n",
       "      <td>1</td>\n",
       "      <td>0.093969</td>\n",
       "      <td>гражданский брак</td>\n",
       "    </tr>\n",
       "    <tr>\n",
       "      <td>2</td>\n",
       "      <td>0</td>\n",
       "      <td>0.076468</td>\n",
       "      <td>женат / замужем</td>\n",
       "    </tr>\n",
       "    <tr>\n",
       "      <td>3</td>\n",
       "      <td>3</td>\n",
       "      <td>0.071249</td>\n",
       "      <td>в разводе</td>\n",
       "    </tr>\n",
       "    <tr>\n",
       "      <td>4</td>\n",
       "      <td>2</td>\n",
       "      <td>0.066526</td>\n",
       "      <td>вдовец / вдова</td>\n",
       "    </tr>\n",
       "  </tbody>\n",
       "</table>\n",
       "</div>"
      ],
      "text/plain": [
       "   family_status_id      debt          family_status\n",
       "0                 4  0.098138  Не женат / не замужем\n",
       "1                 1  0.093969       гражданский брак\n",
       "2                 0  0.076468        женат / замужем\n",
       "3                 3  0.071249              в разводе\n",
       "4                 2  0.066526         вдовец / вдова"
      ]
     },
     "execution_count": 119,
     "metadata": {},
     "output_type": "execute_result"
    }
   ],
   "source": [
    "by_family_status_id_merged"
   ]
  },
  {
   "cell_type": "markdown",
   "metadata": {},
   "source": [
    "Комментарий: будем считать группу женатые / замужние самыми добросовестными заемщиками в рамках данной классификации, тк вдовцы / вдовы и люди в разводе слабо представлены, и выводы по этим двум группам нужно воспринимать с долей скептицизма. \n",
    "\n",
    "Возможные причины почему группы вдовцы / вдовы и развденные представлены слабо:\n",
    "* Вдов/вдовцов в реальной жизни возможно меньше чем остальных категорий людей. Плюс они как правило в преклонном возрасте, и вряд ли банки хотят выдавать кредиты тем, кто имеет высокую вероятность умереть раньше, чем выплатит кредит. \n",
    "* Почему в выборке так мало разведенных - это вопрос. Если взять статистику по разводам практически в любой развитой стране, то в реальной жизни разведенных должно быть не намного меньше женатых/замужних. Возможно развденные уже успели взять кредиты пока все еще были женаты/замужем и все еще выплачивают их? Возможно также что банк неохотно выдавал кредиты разведенным."
   ]
  },
  {
   "cell_type": "code",
   "execution_count": 120,
   "metadata": {},
   "outputs": [],
   "source": [
    "# Закинем лучшие и худшие показатели в список с данными (потом сделаем сводный ДФ)\n",
    "family_sum_data = ['family', 'Не женат / не замужем', 0.098138, 'женат / замужем', 0.076468]\n",
    "worst_best_data.append(family_sum_data)"
   ]
  },
  {
   "cell_type": "markdown",
   "metadata": {},
   "source": [
    "### Зависимость между уровнем дохода и возвратом кредита в срок"
   ]
  },
  {
   "cell_type": "markdown",
   "metadata": {},
   "source": [
    "Сначала вспомним, как представлены разные группы по уровню дохода в выборке. У нас должны быть 4 примерно равные группы, и 1% зажиточных людей "
   ]
  },
  {
   "cell_type": "code",
   "execution_count": 121,
   "metadata": {},
   "outputs": [
    {
     "data": {
      "text/plain": [
       "ниже сред     0.254205\n",
       "бедные        0.247514\n",
       "богатые       0.247514\n",
       "выше сред     0.240777\n",
       "зажиточные    0.009989\n",
       "Name: income_class, dtype: float64"
      ]
     },
     "execution_count": 121,
     "metadata": {},
     "output_type": "execute_result"
    }
   ],
   "source": [
    "df_scoring['income_class'].value_counts() / len(df_scoring)"
   ]
  },
  {
   "cell_type": "markdown",
   "metadata": {},
   "source": [
    "Проведем рассчеты для заемщиков с разным уровнем дохода аналогично тому, как мы проводили их в двух предыдущих пунктах. При расчетах будем обращаться к столбцу `income_class` ДФ `df_scoring`"
   ]
  },
  {
   "cell_type": "code",
   "execution_count": 122,
   "metadata": {},
   "outputs": [
    {
     "data": {
      "text/html": [
       "<div>\n",
       "<style scoped>\n",
       "    .dataframe tbody tr th:only-of-type {\n",
       "        vertical-align: middle;\n",
       "    }\n",
       "\n",
       "    .dataframe tbody tr th {\n",
       "        vertical-align: top;\n",
       "    }\n",
       "\n",
       "    .dataframe thead th {\n",
       "        text-align: right;\n",
       "    }\n",
       "</style>\n",
       "<table border=\"1\" class=\"dataframe\">\n",
       "  <thead>\n",
       "    <tr style=\"text-align: right;\">\n",
       "      <th></th>\n",
       "      <th>income_class</th>\n",
       "      <th>debt</th>\n",
       "    </tr>\n",
       "  </thead>\n",
       "  <tbody>\n",
       "    <tr>\n",
       "      <td>4</td>\n",
       "      <td>ниже сред</td>\n",
       "      <td>0.092308</td>\n",
       "    </tr>\n",
       "    <tr>\n",
       "      <td>2</td>\n",
       "      <td>выше сред</td>\n",
       "      <td>0.085323</td>\n",
       "    </tr>\n",
       "    <tr>\n",
       "      <td>0</td>\n",
       "      <td>бедные</td>\n",
       "      <td>0.078241</td>\n",
       "    </tr>\n",
       "    <tr>\n",
       "      <td>1</td>\n",
       "      <td>богатые</td>\n",
       "      <td>0.072530</td>\n",
       "    </tr>\n",
       "    <tr>\n",
       "      <td>3</td>\n",
       "      <td>зажиточные</td>\n",
       "      <td>0.066038</td>\n",
       "    </tr>\n",
       "  </tbody>\n",
       "</table>\n",
       "</div>"
      ],
      "text/plain": [
       "  income_class      debt\n",
       "4    ниже сред  0.092308\n",
       "2    выше сред  0.085323\n",
       "0       бедные  0.078241\n",
       "1      богатые  0.072530\n",
       "3   зажиточные  0.066038"
      ]
     },
     "execution_count": 122,
     "metadata": {},
     "output_type": "execute_result"
    }
   ],
   "source": [
    "# кол-во заемщиков для каждого уровня дохода\n",
    "by_income_class_all = df_scoring.groupby('income_class')['debt'].count().to_frame()\n",
    "# количество заемщиков с долгом для каждого уровня дохода\n",
    "by_income_class_debt = df_scoring.groupby('income_class')['debt'].sum().to_frame()\n",
    "# доля должников для каждого уровня дохода\n",
    "by_income_class = (by_income_class_debt['debt'] / by_income_class_all['debt'])\n",
    "# перевод в ДФ, обнуление индексов, сортировка от большего к меньшему по столбцу с долгом\n",
    "by_income_class = by_income_class.to_frame().reset_index().sort_values(by='debt', ascending=False)\n",
    "by_income_class"
   ]
  },
  {
   "cell_type": "markdown",
   "metadata": {},
   "source": [
    "Что видим:\n",
    "\n",
    "* Неожиданно, но самый большой процент должников не среди бедных, а среди середнячков. При делении на категории дохода мы их разбили на две группы для ровного количества, но по сути их можно было бы оставить в одной группе (использовать интерквартильный размах), тк их показатели довольно близки. Вместе они составляют примерно 50% заемщиков.\n",
    "* Как ни странно, среди бедных должников меньше, хотя казалось бы, более низкий уровень дохода должен означать большую вероятность задолженности. Доля должников даже ниже чем в среднем по выборке.\n",
    "* В богатой группе должников заментно меньше, что как раз-таки ожидаемо, ведь больший уровень дохода ассоциируется обычно с платежеспособностью. Однако, сам факт хорошего дохода не означает, что у заемщика не будет долга.\n",
    "* Должники есть, как ни странно, и среди зажиточных, которые входят в топ 1% выборки по уровню дохода. Их конечно меньше чем в любой другой группе но они есть. Эта группа очень мала, так что сделать статистически значимый вывод по ней не получится. Если бы мы не отделяли эту группу, то она бы немного потянула процент для группы богатых людей вниз, и выглядело бы так, что богатые отдают кредиты еще лучше (но незначительно)."
   ]
  },
  {
   "cell_type": "markdown",
   "metadata": {},
   "source": [
    "Ответим на поставленный вопрос:  \n",
    "**- Есть ли зависимость между уровнем дохода и возвратом кредита в срок?**  \n",
    "Да, уровень дохода коррелирует с вероятностью задолженности, однако корреляция эта не линейная: середнячки имеют задолженность чаще других, а богатые заемщики - самые добросовестные плательщики. Бедные расположились где-то посередине."
   ]
  },
  {
   "cell_type": "markdown",
   "metadata": {},
   "source": [
    "#### Вывод"
   ]
  },
  {
   "cell_type": "markdown",
   "metadata": {},
   "source": [
    "Мы выяснили что: \n",
    "* Есть корреляция между уровнем дохода и возвратом кредита в срок: заемщики со средним доходом имеют худшие показатели выплат,  хорошие показатели имеют бедные заемщики, лучшие - богатые. \n",
    "* Среди богатых и зажиточных есть должники.\n",
    "* Высокий доход заемщика не гарантирует 100% выплату по кредиту. \n",
    "* Более предпочтительными заемщиками для банка являются богатые люди\n",
    "\n",
    "Комментарий: будем считать группу богатые самыми добросовестными заемщиками в рамках данной классификации, тк зажиточные слабо представлены, и выводы по ним нужно воспринимать с долей скептицизма. Возможные причины почему зажиточные представлены слабо мы уже приводили ранее когда выделяли эту группу. Интересно будет посмотреть на что зажиточные люди берут кредиты.  \n",
    "\n",
    "\n",
    "Доли должников среди заемщиков по разому семейному положению приведем в виде таблицы."
   ]
  },
  {
   "cell_type": "code",
   "execution_count": 123,
   "metadata": {},
   "outputs": [
    {
     "data": {
      "text/html": [
       "<div>\n",
       "<style scoped>\n",
       "    .dataframe tbody tr th:only-of-type {\n",
       "        vertical-align: middle;\n",
       "    }\n",
       "\n",
       "    .dataframe tbody tr th {\n",
       "        vertical-align: top;\n",
       "    }\n",
       "\n",
       "    .dataframe thead th {\n",
       "        text-align: right;\n",
       "    }\n",
       "</style>\n",
       "<table border=\"1\" class=\"dataframe\">\n",
       "  <thead>\n",
       "    <tr style=\"text-align: right;\">\n",
       "      <th></th>\n",
       "      <th>income_class</th>\n",
       "      <th>debt</th>\n",
       "    </tr>\n",
       "  </thead>\n",
       "  <tbody>\n",
       "    <tr>\n",
       "      <td>4</td>\n",
       "      <td>ниже сред</td>\n",
       "      <td>0.092308</td>\n",
       "    </tr>\n",
       "    <tr>\n",
       "      <td>2</td>\n",
       "      <td>выше сред</td>\n",
       "      <td>0.085323</td>\n",
       "    </tr>\n",
       "    <tr>\n",
       "      <td>0</td>\n",
       "      <td>бедные</td>\n",
       "      <td>0.078241</td>\n",
       "    </tr>\n",
       "    <tr>\n",
       "      <td>1</td>\n",
       "      <td>богатые</td>\n",
       "      <td>0.072530</td>\n",
       "    </tr>\n",
       "    <tr>\n",
       "      <td>3</td>\n",
       "      <td>зажиточные</td>\n",
       "      <td>0.066038</td>\n",
       "    </tr>\n",
       "  </tbody>\n",
       "</table>\n",
       "</div>"
      ],
      "text/plain": [
       "  income_class      debt\n",
       "4    ниже сред  0.092308\n",
       "2    выше сред  0.085323\n",
       "0       бедные  0.078241\n",
       "1      богатые  0.072530\n",
       "3   зажиточные  0.066038"
      ]
     },
     "execution_count": 123,
     "metadata": {},
     "output_type": "execute_result"
    }
   ],
   "source": [
    "by_income_class"
   ]
  },
  {
   "cell_type": "code",
   "execution_count": 124,
   "metadata": {},
   "outputs": [],
   "source": [
    "# Закинем лучшие и худшие показатели в список с данными (потом сделаем сводный ДФ)\n",
    "income_class_sum_data = ['income_class', 'ниже сред', 0.092308, 'богатые', 0.072530]\n",
    "worst_best_data.append(income_class_sum_data)"
   ]
  },
  {
   "cell_type": "markdown",
   "metadata": {},
   "source": [
    "### Как разные цели кредита влияют на его возврат в срок"
   ]
  },
  {
   "cell_type": "markdown",
   "metadata": {},
   "source": [
    "Сначала посмотрим все ли виды кредитов представлены одинаково хорошо"
   ]
  },
  {
   "cell_type": "code",
   "execution_count": 125,
   "metadata": {},
   "outputs": [
    {
     "data": {
      "text/plain": [
       "недвижимость    0.294916\n",
       "автомобиль      0.201291\n",
       "образование     0.186778\n",
       "жилье           0.179758\n",
       "свадьба         0.108656\n",
       "ремонт          0.028601\n",
       "Name: purpose_lemma, dtype: float64"
      ]
     },
     "execution_count": 125,
     "metadata": {},
     "output_type": "execute_result"
    }
   ],
   "source": [
    "df_scoring['purpose_lemma'].value_counts() / len(df_scoring)"
   ]
  },
  {
   "cell_type": "markdown",
   "metadata": {},
   "source": [
    "Почти все кредиты представлены хорошо, кроме кредитов на ремонт. Не будем их учитывать.\n",
    "Проведем рассчеты для разных целей кредита аналогично тому, как мы проводили их в предыдущих пунктах. При расчетах будем обращаться к столбцу `purpose_lemma` ДФ `df_scoring`"
   ]
  },
  {
   "cell_type": "code",
   "execution_count": 126,
   "metadata": {},
   "outputs": [
    {
     "data": {
      "text/html": [
       "<div>\n",
       "<style scoped>\n",
       "    .dataframe tbody tr th:only-of-type {\n",
       "        vertical-align: middle;\n",
       "    }\n",
       "\n",
       "    .dataframe tbody tr th {\n",
       "        vertical-align: top;\n",
       "    }\n",
       "\n",
       "    .dataframe thead th {\n",
       "        text-align: right;\n",
       "    }\n",
       "</style>\n",
       "<table border=\"1\" class=\"dataframe\">\n",
       "  <thead>\n",
       "    <tr style=\"text-align: right;\">\n",
       "      <th></th>\n",
       "      <th>purpose_lemma</th>\n",
       "      <th>debt</th>\n",
       "    </tr>\n",
       "  </thead>\n",
       "  <tbody>\n",
       "    <tr>\n",
       "      <td>0</td>\n",
       "      <td>автомобиль</td>\n",
       "      <td>0.094101</td>\n",
       "    </tr>\n",
       "    <tr>\n",
       "      <td>3</td>\n",
       "      <td>образование</td>\n",
       "      <td>0.093340</td>\n",
       "    </tr>\n",
       "    <tr>\n",
       "      <td>5</td>\n",
       "      <td>свадьба</td>\n",
       "      <td>0.080659</td>\n",
       "    </tr>\n",
       "    <tr>\n",
       "      <td>2</td>\n",
       "      <td>недвижимость</td>\n",
       "      <td>0.075731</td>\n",
       "    </tr>\n",
       "    <tr>\n",
       "      <td>1</td>\n",
       "      <td>жилье</td>\n",
       "      <td>0.071560</td>\n",
       "    </tr>\n",
       "    <tr>\n",
       "      <td>4</td>\n",
       "      <td>ремонт</td>\n",
       "      <td>0.057661</td>\n",
       "    </tr>\n",
       "  </tbody>\n",
       "</table>\n",
       "</div>"
      ],
      "text/plain": [
       "  purpose_lemma      debt\n",
       "0    автомобиль  0.094101\n",
       "3   образование  0.093340\n",
       "5       свадьба  0.080659\n",
       "2  недвижимость  0.075731\n",
       "1         жилье  0.071560\n",
       "4        ремонт  0.057661"
      ]
     },
     "execution_count": 126,
     "metadata": {},
     "output_type": "execute_result"
    }
   ],
   "source": [
    "# кол-во заемщиков для каждого вида кредита\n",
    "by_purpose_lemma_all = df_scoring.groupby('purpose_lemma')['debt'].count().to_frame()\n",
    "# количество заемщиков с долгом для каждого вида кредита\n",
    "by_purpose_lemma_debt = df_scoring.groupby('purpose_lemma')['debt'].sum().to_frame()\n",
    "# доля должников для каждого вида кредита\n",
    "by_purpose_lemma = (by_purpose_lemma_debt['debt'] / by_purpose_lemma_all['debt'])\n",
    "# перевод в ДФ, обнуление индексов, сортировка от большего к меньшему по столбцу с долгом\n",
    "by_purpose_lemma = by_purpose_lemma.to_frame().reset_index().sort_values(by='debt', ascending=False)\n",
    "by_purpose_lemma"
   ]
  },
  {
   "cell_type": "markdown",
   "metadata": {},
   "source": [
    "Что видим: \n",
    "* Хуже всего выплачивали кредиты за авто, и почти так же плохо за образование, при том что вместе они составляют почти 40% всех кредитов. \n",
    "* Лучше всего (со статистически значимым результатом) выплачивали за недвижимость и жилье. Вместе они составляют почти половину всех кредитов. \n",
    "* Кредиты на жилье/недвижимость представляются более крупными чем за авто и образования. К тому же кредиты за жилье страшно не выплачивать, ведь никто не хочет чтобы его жилье отошло банку. Авто еще куда ни шло ~~а образование и свадьбу банк не отзовет~~\n",
    "* Ремонты составяют мене 3% от всех кредитов, по ним делать какие-то однозначные выводы не стоит. Если бы мы присоединили ремонт к жилью на этапе лемматизации, то ремонт бы немного потянул процент задолженности за жилье вниз. Наверное это было бы не очень критично здесь, но возможно критично по другим показателям, которые мы еще не рассматривали.\n",
    "\n",
    "Что думаем:  \n",
    "\n",
    "Корреляция между целями кредита и задолженностью прослеживатся, однако на данном этапе будет необоснованным утверждать, что  цели кредита сами по себе прямо **влияют** на  вероятность задолженности по этому кредиту. Это может быть комбинация разных факторов, включая и то, как распределены заемщики с разной платежеспособностью внутри каждого вида кредита. Например, если автокредит выдавался больше заемщикам со средним доходом и неженатым/незамужним - то эти категории заемщиков, ввиду своей неплатежеспособности, будут увеличивать процент невозврата по кредиту."
   ]
  },
  {
   "cell_type": "markdown",
   "metadata": {},
   "source": [
    "Ответим на поставленный вопрос:  \n",
    "**- Как разные цели кредита влияют на его возврат в срок?**  \n",
    "\n",
    "Цель кредита коррелирует с наличием задолженности:\n",
    "* Хуже всего выплачивают кредиты за авто и образование\n",
    "* Далее следуют свадьбы\n",
    "* За недвижимость выплачивают лучше, а лучше всего (со стаистически значимым результатом) - за жилье  "
   ]
  },
  {
   "cell_type": "markdown",
   "metadata": {},
   "source": [
    "#### Вывод"
   ]
  },
  {
   "cell_type": "markdown",
   "metadata": {},
   "source": [
    "Мы выяснили что: \n",
    "* Есть корреляция между целями кредита и возвратом кредита в срок.\n",
    "* Хуже всего возвращают автокредиты, лучше всего - за жилье.\n",
    "* Примерно половина всех кредитов - это жилье и недвижимость, они же возвращаются лучше всего.\n",
    "\n",
    "Доли должников для разных целей кредитов приведем в виде таблицы."
   ]
  },
  {
   "cell_type": "code",
   "execution_count": 127,
   "metadata": {},
   "outputs": [
    {
     "data": {
      "text/html": [
       "<div>\n",
       "<style scoped>\n",
       "    .dataframe tbody tr th:only-of-type {\n",
       "        vertical-align: middle;\n",
       "    }\n",
       "\n",
       "    .dataframe tbody tr th {\n",
       "        vertical-align: top;\n",
       "    }\n",
       "\n",
       "    .dataframe thead th {\n",
       "        text-align: right;\n",
       "    }\n",
       "</style>\n",
       "<table border=\"1\" class=\"dataframe\">\n",
       "  <thead>\n",
       "    <tr style=\"text-align: right;\">\n",
       "      <th></th>\n",
       "      <th>purpose_lemma</th>\n",
       "      <th>debt</th>\n",
       "    </tr>\n",
       "  </thead>\n",
       "  <tbody>\n",
       "    <tr>\n",
       "      <td>0</td>\n",
       "      <td>автомобиль</td>\n",
       "      <td>0.094101</td>\n",
       "    </tr>\n",
       "    <tr>\n",
       "      <td>3</td>\n",
       "      <td>образование</td>\n",
       "      <td>0.093340</td>\n",
       "    </tr>\n",
       "    <tr>\n",
       "      <td>5</td>\n",
       "      <td>свадьба</td>\n",
       "      <td>0.080659</td>\n",
       "    </tr>\n",
       "    <tr>\n",
       "      <td>2</td>\n",
       "      <td>недвижимость</td>\n",
       "      <td>0.075731</td>\n",
       "    </tr>\n",
       "    <tr>\n",
       "      <td>1</td>\n",
       "      <td>жилье</td>\n",
       "      <td>0.071560</td>\n",
       "    </tr>\n",
       "    <tr>\n",
       "      <td>4</td>\n",
       "      <td>ремонт</td>\n",
       "      <td>0.057661</td>\n",
       "    </tr>\n",
       "  </tbody>\n",
       "</table>\n",
       "</div>"
      ],
      "text/plain": [
       "  purpose_lemma      debt\n",
       "0    автомобиль  0.094101\n",
       "3   образование  0.093340\n",
       "5       свадьба  0.080659\n",
       "2  недвижимость  0.075731\n",
       "1         жилье  0.071560\n",
       "4        ремонт  0.057661"
      ]
     },
     "execution_count": 127,
     "metadata": {},
     "output_type": "execute_result"
    }
   ],
   "source": [
    "by_purpose_lemma"
   ]
  },
  {
   "cell_type": "code",
   "execution_count": 128,
   "metadata": {},
   "outputs": [],
   "source": [
    "# Закинем лучшие и худшие показатели в список с данными (потом сделаем сводный ДФ)\n",
    "purpose_sum_data = ['purpose', 'автомобиль', 0.094101, 'жилье', 0.071560]\n",
    "worst_best_data.append(purpose_sum_data)"
   ]
  },
  {
   "cell_type": "markdown",
   "metadata": {},
   "source": [
    "### Влияет ли тип занятости  заемщика на возврат кредита в срок"
   ]
  },
  {
   "cell_type": "markdown",
   "metadata": {},
   "source": [
    "Проверим как вообще представлены разные типы занятости в выборке."
   ]
  },
  {
   "cell_type": "code",
   "execution_count": 129,
   "metadata": {},
   "outputs": [
    {
     "data": {
      "text/plain": [
       "сотрудник          0.516374\n",
       "компаньон          0.237761\n",
       "пенсионер          0.177119\n",
       "госслужащий        0.068463\n",
       "безработный        0.000094\n",
       "предприниматель    0.000094\n",
       "студент            0.000047\n",
       "в декрете          0.000047\n",
       "Name: income_type, dtype: float64"
      ]
     },
     "execution_count": 129,
     "metadata": {},
     "output_type": "execute_result"
    }
   ],
   "source": [
    "df_scoring['income_type'].value_counts() / len(df_scoring)"
   ]
  },
  {
   "cell_type": "markdown",
   "metadata": {},
   "source": [
    "Хорошо представлены только 3 категории: сотрудники, компаньоны, пенсионеры. Можно в с большим натягом посчитать и госслужащих (их 6,8%), но из-за нельбольшого размера выборки в абсолютных числах их немного, всего 1457 человек. Когда они размажутся на разные цели кредитов, выводы по ним будут не очень то значимыми. Каким-то непонятным образом кредит одобрили студенту, декретнице и даже двум безработным. "
   ]
  },
  {
   "cell_type": "code",
   "execution_count": 130,
   "metadata": {},
   "outputs": [
    {
     "data": {
      "text/html": [
       "<div>\n",
       "<style scoped>\n",
       "    .dataframe tbody tr th:only-of-type {\n",
       "        vertical-align: middle;\n",
       "    }\n",
       "\n",
       "    .dataframe tbody tr th {\n",
       "        vertical-align: top;\n",
       "    }\n",
       "\n",
       "    .dataframe thead th {\n",
       "        text-align: right;\n",
       "    }\n",
       "</style>\n",
       "<table border=\"1\" class=\"dataframe\">\n",
       "  <thead>\n",
       "    <tr style=\"text-align: right;\">\n",
       "      <th></th>\n",
       "      <th>income_type</th>\n",
       "      <th>debt</th>\n",
       "    </tr>\n",
       "  </thead>\n",
       "  <tbody>\n",
       "    <tr>\n",
       "      <td>1</td>\n",
       "      <td>в декрете</td>\n",
       "      <td>1.000000</td>\n",
       "    </tr>\n",
       "    <tr>\n",
       "      <td>0</td>\n",
       "      <td>безработный</td>\n",
       "      <td>0.500000</td>\n",
       "    </tr>\n",
       "    <tr>\n",
       "      <td>6</td>\n",
       "      <td>сотрудник</td>\n",
       "      <td>0.096724</td>\n",
       "    </tr>\n",
       "    <tr>\n",
       "      <td>3</td>\n",
       "      <td>компаньон</td>\n",
       "      <td>0.074514</td>\n",
       "    </tr>\n",
       "    <tr>\n",
       "      <td>2</td>\n",
       "      <td>госслужащий</td>\n",
       "      <td>0.059188</td>\n",
       "    </tr>\n",
       "    <tr>\n",
       "      <td>4</td>\n",
       "      <td>пенсионер</td>\n",
       "      <td>0.057462</td>\n",
       "    </tr>\n",
       "    <tr>\n",
       "      <td>5</td>\n",
       "      <td>предприниматель</td>\n",
       "      <td>0.000000</td>\n",
       "    </tr>\n",
       "    <tr>\n",
       "      <td>7</td>\n",
       "      <td>студент</td>\n",
       "      <td>0.000000</td>\n",
       "    </tr>\n",
       "  </tbody>\n",
       "</table>\n",
       "</div>"
      ],
      "text/plain": [
       "       income_type      debt\n",
       "1        в декрете  1.000000\n",
       "0      безработный  0.500000\n",
       "6        сотрудник  0.096724\n",
       "3        компаньон  0.074514\n",
       "2      госслужащий  0.059188\n",
       "4        пенсионер  0.057462\n",
       "5  предприниматель  0.000000\n",
       "7          студент  0.000000"
      ]
     },
     "execution_count": 130,
     "metadata": {},
     "output_type": "execute_result"
    }
   ],
   "source": [
    "# кол-во заемщиков для каждого типа занятости\n",
    "by_income_type_all = df_scoring.groupby('income_type')['debt'].count().to_frame()\n",
    "# количество заемщиков с долгом для каждого типа занятости\n",
    "by_income_type_debt = df_scoring.groupby('income_type')['debt'].sum().to_frame()\n",
    "# доля должников для каждого типа занятости\n",
    "by_income_type = (by_income_type_debt['debt'] / by_income_type_all['debt'])\n",
    "# перевод в ДФ, обнуление индексов, сортировка от большего к меньшему по столбцу с долгом\n",
    "by_income_type = by_income_type.to_frame().reset_index().sort_values(by='debt', ascending=False)\n",
    "by_income_type"
   ]
  },
  {
   "cell_type": "markdown",
   "metadata": {},
   "source": [
    "Что видим:\n",
    "* Самые недобросовестные плательщики это сотрудники, и это при том, что они составляют более половины всех заемщиков, а медианный доход у них не самый низкий. Хотя мы уже видели что не существует линейной корреляции между уровнем дохода и возвратом кредита в срок. \n",
    "* Следующими идут компаньоны с хорошим показателем.\n",
    "* Лучшие плательщики это, как ни странно пенсионеры, при том что медианный доход у них самый низкий. \n",
    "* Госслужащие также возвращают неплохо, но они мало представлены в выборке, поэтому не стоит воспринимать это как значимый вывод.  \n",
    "\n",
    "Таким образом, тип занятости коррелирует с возвратом кредита в срок."
   ]
  },
  {
   "cell_type": "code",
   "execution_count": 131,
   "metadata": {},
   "outputs": [],
   "source": [
    "# Закинем лучшие и худшие показатели в список с данными (потом сделаем сводный ДФ)\n",
    "income_type_sum_data = ['income_type', 'сотрудник', 0.096724, 'пенсионер', 0.057462]\n",
    "worst_best_data.append(income_type_sum_data)"
   ]
  },
  {
   "cell_type": "markdown",
   "metadata": {},
   "source": [
    "### Влияет ли возраст заемщика на возврат кредита в срок"
   ]
  },
  {
   "cell_type": "markdown",
   "metadata": {},
   "source": [
    "Возрастные группы мы разделили примерно на одинаковое количество, так что все будут представлены хорошо и выводы можно будет считать статистически значимыми."
   ]
  },
  {
   "cell_type": "code",
   "execution_count": 132,
   "metadata": {},
   "outputs": [
    {
     "data": {
      "text/html": [
       "<div>\n",
       "<style scoped>\n",
       "    .dataframe tbody tr th:only-of-type {\n",
       "        vertical-align: middle;\n",
       "    }\n",
       "\n",
       "    .dataframe tbody tr th {\n",
       "        vertical-align: top;\n",
       "    }\n",
       "\n",
       "    .dataframe thead th {\n",
       "        text-align: right;\n",
       "    }\n",
       "</style>\n",
       "<table border=\"1\" class=\"dataframe\">\n",
       "  <thead>\n",
       "    <tr style=\"text-align: right;\">\n",
       "      <th></th>\n",
       "      <th>age_class</th>\n",
       "      <th>debt</th>\n",
       "    </tr>\n",
       "  </thead>\n",
       "  <tbody>\n",
       "    <tr>\n",
       "      <td>2</td>\n",
       "      <td>молодые</td>\n",
       "      <td>0.109923</td>\n",
       "    </tr>\n",
       "    <tr>\n",
       "      <td>0</td>\n",
       "      <td>взрослые</td>\n",
       "      <td>0.080265</td>\n",
       "    </tr>\n",
       "    <tr>\n",
       "      <td>1</td>\n",
       "      <td>зрелые</td>\n",
       "      <td>0.056840</td>\n",
       "    </tr>\n",
       "  </tbody>\n",
       "</table>\n",
       "</div>"
      ],
      "text/plain": [
       "  age_class      debt\n",
       "2   молодые  0.109923\n",
       "0  взрослые  0.080265\n",
       "1    зрелые  0.056840"
      ]
     },
     "execution_count": 132,
     "metadata": {},
     "output_type": "execute_result"
    }
   ],
   "source": [
    "# кол-во заемщиков для каждого типа занятости\n",
    "by_age_class_all = df_scoring.groupby('age_class')['debt'].count().to_frame()\n",
    "# количество заемщиков с долгом для каждого типа занятости\n",
    "by_age_class_debt = df_scoring.groupby('age_class')['debt'].sum().to_frame()\n",
    "# доля должников для каждого типа занятости\n",
    "by_age_class = (by_age_class_debt['debt'] / by_age_class_all['debt'])\n",
    "# перевод в ДФ, обнуление индексов, сортировка от большего к меньшему по столбцу с долгом\n",
    "by_age_class = by_age_class.to_frame().reset_index().sort_values(by='debt', ascending=False)\n",
    "by_age_class"
   ]
  },
  {
   "cell_type": "markdown",
   "metadata": {},
   "source": [
    "Что видим:\n",
    "* Лучшие плательщики - заемщики зрелого возраста, примерно с таким же процентом должников как и у пенсионеров.\n",
    "* Худшие плательщики - это молодые заемщики: среди них должников практически в два раза больше чем среди людей зрелого возраста  \n",
    "Таким образом, возраст заемщика коррелирует с возвратом кредита в срок. Причем корреляция выглядит линейной: при повышении среднего возраста группы заемщиков, процент должников в группе уменьшается."
   ]
  },
  {
   "cell_type": "code",
   "execution_count": 133,
   "metadata": {},
   "outputs": [],
   "source": [
    "# Закинем лучшие и худшие показатели в список с данными (потом сделаем сводный ДФ)\n",
    "age_class_sum_data = ['age_class', 'молодые', 0.109923, 'зрелые', 0.056840]\n",
    "worst_best_data.append(age_class_sum_data)"
   ]
  },
  {
   "cell_type": "markdown",
   "metadata": {},
   "source": [
    "### Влияет ли образование заемщика на возврат кредита в срок"
   ]
  },
  {
   "cell_type": "markdown",
   "metadata": {},
   "source": [
    "Сначала посмотрим достаточно ли представлены разные категории заемщиков по образованию, и вызовем словарь, чтобы вспомнить кто есть кто."
   ]
  },
  {
   "cell_type": "code",
   "execution_count": 134,
   "metadata": {},
   "outputs": [
    {
     "data": {
      "text/plain": [
       "1    0.705084\n",
       "0    0.246289\n",
       "2    0.035056\n",
       "3    0.013287\n",
       "4    0.000283\n",
       "Name: education_id, dtype: float64"
      ]
     },
     "execution_count": 134,
     "metadata": {},
     "output_type": "execute_result"
    }
   ],
   "source": [
    "df_scoring['education_id'].value_counts() / len(df_scoring)"
   ]
  },
  {
   "cell_type": "code",
   "execution_count": 135,
   "metadata": {},
   "outputs": [
    {
     "data": {
      "text/html": [
       "<div>\n",
       "<style scoped>\n",
       "    .dataframe tbody tr th:only-of-type {\n",
       "        vertical-align: middle;\n",
       "    }\n",
       "\n",
       "    .dataframe tbody tr th {\n",
       "        vertical-align: top;\n",
       "    }\n",
       "\n",
       "    .dataframe thead th {\n",
       "        text-align: right;\n",
       "    }\n",
       "</style>\n",
       "<table border=\"1\" class=\"dataframe\">\n",
       "  <thead>\n",
       "    <tr style=\"text-align: right;\">\n",
       "      <th></th>\n",
       "      <th>education</th>\n",
       "      <th>education_id</th>\n",
       "    </tr>\n",
       "  </thead>\n",
       "  <tbody>\n",
       "    <tr>\n",
       "      <td>0</td>\n",
       "      <td>высшее</td>\n",
       "      <td>0</td>\n",
       "    </tr>\n",
       "    <tr>\n",
       "      <td>1</td>\n",
       "      <td>среднее</td>\n",
       "      <td>1</td>\n",
       "    </tr>\n",
       "    <tr>\n",
       "      <td>2</td>\n",
       "      <td>неоконченное высшее</td>\n",
       "      <td>2</td>\n",
       "    </tr>\n",
       "    <tr>\n",
       "      <td>3</td>\n",
       "      <td>начальное</td>\n",
       "      <td>3</td>\n",
       "    </tr>\n",
       "    <tr>\n",
       "      <td>4</td>\n",
       "      <td>ученая степень</td>\n",
       "      <td>4</td>\n",
       "    </tr>\n",
       "  </tbody>\n",
       "</table>\n",
       "</div>"
      ],
      "text/plain": [
       "             education  education_id\n",
       "0               высшее             0\n",
       "1              среднее             1\n",
       "2  неоконченное высшее             2\n",
       "3            начальное             3\n",
       "4       ученая степень             4"
      ]
     },
     "execution_count": 135,
     "metadata": {},
     "output_type": "execute_result"
    }
   ],
   "source": [
    "education_dict"
   ]
  },
  {
   "cell_type": "markdown",
   "metadata": {},
   "source": [
    "Хорошо представлены только заемщики с высшим и средним образованием. Для остальных недостаточно данных, чтобы делать какие-либо выводы."
   ]
  },
  {
   "cell_type": "code",
   "execution_count": 136,
   "metadata": {},
   "outputs": [
    {
     "data": {
      "text/html": [
       "<div>\n",
       "<style scoped>\n",
       "    .dataframe tbody tr th:only-of-type {\n",
       "        vertical-align: middle;\n",
       "    }\n",
       "\n",
       "    .dataframe tbody tr th {\n",
       "        vertical-align: top;\n",
       "    }\n",
       "\n",
       "    .dataframe thead th {\n",
       "        text-align: right;\n",
       "    }\n",
       "</style>\n",
       "<table border=\"1\" class=\"dataframe\">\n",
       "  <thead>\n",
       "    <tr style=\"text-align: right;\">\n",
       "      <th></th>\n",
       "      <th>education_id</th>\n",
       "      <th>debt</th>\n",
       "    </tr>\n",
       "  </thead>\n",
       "  <tbody>\n",
       "    <tr>\n",
       "      <td>3</td>\n",
       "      <td>3</td>\n",
       "      <td>0.109929</td>\n",
       "    </tr>\n",
       "    <tr>\n",
       "      <td>2</td>\n",
       "      <td>2</td>\n",
       "      <td>0.091398</td>\n",
       "    </tr>\n",
       "    <tr>\n",
       "      <td>1</td>\n",
       "      <td>1</td>\n",
       "      <td>0.091085</td>\n",
       "    </tr>\n",
       "    <tr>\n",
       "      <td>0</td>\n",
       "      <td>0</td>\n",
       "      <td>0.053185</td>\n",
       "    </tr>\n",
       "    <tr>\n",
       "      <td>4</td>\n",
       "      <td>4</td>\n",
       "      <td>0.000000</td>\n",
       "    </tr>\n",
       "  </tbody>\n",
       "</table>\n",
       "</div>"
      ],
      "text/plain": [
       "   education_id      debt\n",
       "3             3  0.109929\n",
       "2             2  0.091398\n",
       "1             1  0.091085\n",
       "0             0  0.053185\n",
       "4             4  0.000000"
      ]
     },
     "execution_count": 136,
     "metadata": {},
     "output_type": "execute_result"
    }
   ],
   "source": [
    "# кол-во заемщиков для каждого типа занятости\n",
    "by_education_id_all = df_scoring.groupby('education_id')['debt'].count().to_frame()\n",
    "# количество заемщиков с долгом для каждого типа занятости\n",
    "by_education_id_debt = df_scoring.groupby('education_id')['debt'].sum().to_frame()\n",
    "# доля должников для каждого типа занятости\n",
    "by_education_id = (by_education_id_debt['debt'] / by_education_id_all['debt'])\n",
    "# перевод в ДФ, обнуление индексов, сортировка от большего к меньшему по столбцу с долгом\n",
    "by_education_id = by_education_id.to_frame().reset_index().sort_values(by='debt', ascending=False)\n",
    "by_education_id"
   ]
  },
  {
   "cell_type": "markdown",
   "metadata": {},
   "source": [
    "Что видим: \n",
    "* Заемщики с высшим образованием(0) платят свои кредиты лучше, а их всего менее 25%\n",
    "* Заемщики со средним образованием(1) платят хуже, а их больше 70%\n",
    "* Это пока первый случай, когда преобладающее большинство - заемщики с худшим показателем, а не с лучшим."
   ]
  },
  {
   "cell_type": "code",
   "execution_count": 137,
   "metadata": {},
   "outputs": [],
   "source": [
    "# Закинем лучшие и худшие показатели в список с данными (потом сделаем сводный ДФ)\n",
    "education_id_sum_data = ['education', 'среднее', 0.091085, 'высшее', 0.053185]\n",
    "worst_best_data.append(education_id_sum_data)"
   ]
  },
  {
   "cell_type": "markdown",
   "metadata": {},
   "source": [
    "### Влияет ли пол заемщика на возврат кредита в срок"
   ]
  },
  {
   "cell_type": "markdown",
   "metadata": {},
   "source": [
    "Сначала посмотрим как распределены женщины и мужчины в общей выборке."
   ]
  },
  {
   "cell_type": "code",
   "execution_count": 138,
   "metadata": {},
   "outputs": [
    {
     "data": {
      "text/plain": [
       "F      0.659615\n",
       "M      0.340338\n",
       "XNA    0.000047\n",
       "Name: gender, dtype: float64"
      ]
     },
     "execution_count": 138,
     "metadata": {},
     "output_type": "execute_result"
    }
   ],
   "source": [
    "df_scoring['gender'].value_counts() / len(df_scoring)"
   ]
  },
  {
   "cell_type": "markdown",
   "metadata": {},
   "source": [
    "Женщин почти в два раза больше, чем мужчин. Обе группы представлены достаточно для того чтобы сделать статистически значимый вывод. Один заемщик неопределенного пола, можем его игнорировать."
   ]
  },
  {
   "cell_type": "code",
   "execution_count": 139,
   "metadata": {},
   "outputs": [
    {
     "data": {
      "text/html": [
       "<div>\n",
       "<style scoped>\n",
       "    .dataframe tbody tr th:only-of-type {\n",
       "        vertical-align: middle;\n",
       "    }\n",
       "\n",
       "    .dataframe tbody tr th {\n",
       "        vertical-align: top;\n",
       "    }\n",
       "\n",
       "    .dataframe thead th {\n",
       "        text-align: right;\n",
       "    }\n",
       "</style>\n",
       "<table border=\"1\" class=\"dataframe\">\n",
       "  <thead>\n",
       "    <tr style=\"text-align: right;\">\n",
       "      <th></th>\n",
       "      <th>gender</th>\n",
       "      <th>debt</th>\n",
       "    </tr>\n",
       "  </thead>\n",
       "  <tbody>\n",
       "    <tr>\n",
       "      <td>1</td>\n",
       "      <td>M</td>\n",
       "      <td>0.103420</td>\n",
       "    </tr>\n",
       "    <tr>\n",
       "      <td>0</td>\n",
       "      <td>F</td>\n",
       "      <td>0.070934</td>\n",
       "    </tr>\n",
       "    <tr>\n",
       "      <td>2</td>\n",
       "      <td>XNA</td>\n",
       "      <td>0.000000</td>\n",
       "    </tr>\n",
       "  </tbody>\n",
       "</table>\n",
       "</div>"
      ],
      "text/plain": [
       "  gender      debt\n",
       "1      M  0.103420\n",
       "0      F  0.070934\n",
       "2    XNA  0.000000"
      ]
     },
     "execution_count": 139,
     "metadata": {},
     "output_type": "execute_result"
    }
   ],
   "source": [
    "# кол-во заемщиков для каждого пола\n",
    "by_gender_all = df_scoring.groupby('gender')['debt'].count().to_frame()\n",
    "# количество заемщиков с долгом для каждого пола\n",
    "by_gender_debt = df_scoring.groupby('gender')['debt'].sum().to_frame()\n",
    "# доля должников для каждого пола\n",
    "by_gender = (by_gender_debt['debt'] / by_gender_all['debt'])\n",
    "# перевод в ДФ, обнуление индексов, сортировка от большего к меньшему по столбцу с долгом\n",
    "by_gender = by_gender.to_frame().reset_index().sort_values(by='debt', ascending=False)\n",
    "by_gender"
   ]
  },
  {
   "cell_type": "markdown",
   "metadata": {},
   "source": [
    "Что видим: \n",
    "* Женщины выплачивают заметно лучше, чем мужчины. Женщин при этом большее количество в выборке - более 65%. Может ли это быть случайностью? Наверное нет. "
   ]
  },
  {
   "cell_type": "code",
   "execution_count": 140,
   "metadata": {},
   "outputs": [],
   "source": [
    "# Закинем лучшие и худшие показатели в список с данными (потом сделаем сводный ДФ)\n",
    "gender_sum_data = ['gender', 'M', 0.103420, 'F', 0.070934]\n",
    "worst_best_data.append(gender_sum_data)\n",
    "# И сразу создадим ДФ, чтобы вызвать его позже\n",
    "summary = pd.DataFrame(data=worst_best_data, columns=worst_best_col)"
   ]
  },
  {
   "cell_type": "markdown",
   "metadata": {},
   "source": [
    "#### Вывод"
   ]
  },
  {
   "cell_type": "markdown",
   "metadata": {},
   "source": [
    "Мы рассмотрели еще 4 дополнительных параметра и нашли интересные закономерности. Все 4 параметра коррелируют с долгом по кредиту.\n",
    "- Тип занятости: чаще всего должны сотрудники, реже всего пенсионеры\n",
    "- Возраст: с повышением среднего возраста группы заемщиков, процент должников в группе уменьшается: больше должников среди молодых,лучшие показатели у зрелых людей\n",
    "- Образование: чаще имеют долг заемщики со средним образованием , реже - с высшим\n",
    "- Пол: чаще долг по кредиту есть у мужчин, реже у женщин\n",
    "\n",
    "При рассмотрении различных параметров мы увидели, что как правило группы с более хорошими показателями выплат составляют большинство заемщиков, тех же кто платит значительно хуже - в группе как правило меньше. Похоже, что банк уже проводит неплохую работу по соблюдению баланса благонадежных и не очень заемщиков."
   ]
  },
  {
   "cell_type": "markdown",
   "metadata": {},
   "source": [
    "### Цели кредита для разных категорий заемщиков"
   ]
  },
  {
   "cell_type": "markdown",
   "metadata": {},
   "source": [
    "По ходу проекта у нас возникали разные вопросы, в основном о том, какие категории заемщиков какие кредиты берут. Проверять это не обязатльно, но интересно. Может еще встретим что-то занимательное.  \n",
    "Сначала посмотрим, какие кредиты в принципе самые популярные"
   ]
  },
  {
   "cell_type": "code",
   "execution_count": 141,
   "metadata": {},
   "outputs": [
    {
     "data": {
      "text/plain": [
       "недвижимость    0.294916\n",
       "автомобиль      0.201291\n",
       "образование     0.186778\n",
       "жилье           0.179758\n",
       "свадьба         0.108656\n",
       "ремонт          0.028601\n",
       "Name: purpose_lemma, dtype: float64"
      ]
     },
     "execution_count": 141,
     "metadata": {},
     "output_type": "execute_result"
    }
   ],
   "source": [
    "df_scoring['purpose_lemma'].value_counts() / len(df_scoring)"
   ]
  },
  {
   "cell_type": "markdown",
   "metadata": {},
   "source": [
    "Недвижимость, авто, образование, жилье - топ самых популярных, составляют почти 90% всех кредитов. Ремонт представлен недостаточно, не будем его рассматривать - это не показательно. "
   ]
  },
  {
   "cell_type": "markdown",
   "metadata": {},
   "source": [
    "#### Цели кредита в зависимости от уровня дохода"
   ]
  },
  {
   "cell_type": "markdown",
   "metadata": {},
   "source": [
    " Мы разделили заемщиков на 5 категорий по уровню дохода, 4 из них будут представлены более или менее равными группами, и одна очень маленькая группа зажиточных людей, о которых мы не будем дальть однозначные выводы.  \n",
    " А теперь посмотрим, какой процент заемщиков берут тот или иной кредит в каждой группе дохода. Используем метод `.pivot_table()`, и после этого выведем процентное соотношение разных кредитов для каждого типа заемщиков. "
   ]
  },
  {
   "cell_type": "code",
   "execution_count": 142,
   "metadata": {},
   "outputs": [
    {
     "data": {
      "text/html": [
       "<div>\n",
       "<style scoped>\n",
       "    .dataframe tbody tr th:only-of-type {\n",
       "        vertical-align: middle;\n",
       "    }\n",
       "\n",
       "    .dataframe tbody tr th {\n",
       "        vertical-align: top;\n",
       "    }\n",
       "\n",
       "    .dataframe thead th {\n",
       "        text-align: right;\n",
       "    }\n",
       "</style>\n",
       "<table border=\"1\" class=\"dataframe\">\n",
       "  <thead>\n",
       "    <tr style=\"text-align: right;\">\n",
       "      <th>purpose_lemma</th>\n",
       "      <th>автомобиль</th>\n",
       "      <th>жилье</th>\n",
       "      <th>недвижимость</th>\n",
       "      <th>образование</th>\n",
       "      <th>ремонт</th>\n",
       "      <th>свадьба</th>\n",
       "      <th>total</th>\n",
       "    </tr>\n",
       "    <tr>\n",
       "      <th>income_class</th>\n",
       "      <th></th>\n",
       "      <th></th>\n",
       "      <th></th>\n",
       "      <th></th>\n",
       "      <th></th>\n",
       "      <th></th>\n",
       "      <th></th>\n",
       "    </tr>\n",
       "  </thead>\n",
       "  <tbody>\n",
       "    <tr>\n",
       "      <td>бедные</td>\n",
       "      <td>0.194175</td>\n",
       "      <td>0.185799</td>\n",
       "      <td>0.290310</td>\n",
       "      <td>0.193223</td>\n",
       "      <td>0.024367</td>\n",
       "      <td>0.112126</td>\n",
       "      <td>1.0</td>\n",
       "    </tr>\n",
       "    <tr>\n",
       "      <td>богатые</td>\n",
       "      <td>0.205026</td>\n",
       "      <td>0.184085</td>\n",
       "      <td>0.299258</td>\n",
       "      <td>0.175709</td>\n",
       "      <td>0.028174</td>\n",
       "      <td>0.107748</td>\n",
       "      <td>1.0</td>\n",
       "    </tr>\n",
       "    <tr>\n",
       "      <td>выше сред</td>\n",
       "      <td>0.192955</td>\n",
       "      <td>0.180431</td>\n",
       "      <td>0.295303</td>\n",
       "      <td>0.191781</td>\n",
       "      <td>0.032485</td>\n",
       "      <td>0.107045</td>\n",
       "      <td>1.0</td>\n",
       "    </tr>\n",
       "    <tr>\n",
       "      <td>зажиточные</td>\n",
       "      <td>0.183962</td>\n",
       "      <td>0.216981</td>\n",
       "      <td>0.325472</td>\n",
       "      <td>0.150943</td>\n",
       "      <td>0.028302</td>\n",
       "      <td>0.094340</td>\n",
       "      <td>1.0</td>\n",
       "    </tr>\n",
       "    <tr>\n",
       "      <td>ниже сред</td>\n",
       "      <td>0.213160</td>\n",
       "      <td>0.167563</td>\n",
       "      <td>0.293605</td>\n",
       "      <td>0.187952</td>\n",
       "      <td>0.029472</td>\n",
       "      <td>0.108248</td>\n",
       "      <td>1.0</td>\n",
       "    </tr>\n",
       "  </tbody>\n",
       "</table>\n",
       "</div>"
      ],
      "text/plain": [
       "purpose_lemma  автомобиль     жилье  недвижимость  образование    ремонт  \\\n",
       "income_class                                                               \n",
       "бедные           0.194175  0.185799      0.290310     0.193223  0.024367   \n",
       "богатые          0.205026  0.184085      0.299258     0.175709  0.028174   \n",
       "выше сред        0.192955  0.180431      0.295303     0.191781  0.032485   \n",
       "зажиточные       0.183962  0.216981      0.325472     0.150943  0.028302   \n",
       "ниже сред        0.213160  0.167563      0.293605     0.187952  0.029472   \n",
       "\n",
       "purpose_lemma   свадьба  total  \n",
       "income_class                    \n",
       "бедные         0.112126    1.0  \n",
       "богатые        0.107748    1.0  \n",
       "выше сред      0.107045    1.0  \n",
       "зажиточные     0.094340    1.0  \n",
       "ниже сред      0.108248    1.0  "
      ]
     },
     "execution_count": 142,
     "metadata": {},
     "output_type": "execute_result"
    }
   ],
   "source": [
    "pivot_inc_pur = df_scoring.pivot_table(index='income_class', columns='purpose_lemma', values='debt', aggfunc='count')\n",
    "purposes = ['автомобиль', 'жилье', 'недвижимость', 'образование', 'ремонт', 'свадьба']\n",
    "pivot_inc_pur['total'] = pivot_inc_pur[purposes].sum(axis=1)\n",
    "pivot_inc_pur = pivot_inc_pur[purposes].div(pivot_inc_pur.total, axis=0)\n",
    "pivot_inc_pur['total'] = pivot_inc_pur[purposes].sum(axis=1)\n",
    "\n",
    "pivot_inc_pur"
   ]
  },
  {
   "cell_type": "markdown",
   "metadata": {},
   "source": [
    "Что мы видим: \n",
    "* Все категории заемщиков по уровню дохода берут все виды кредитов.  \n",
    "* Нам интересно было посмотреть на что берут кредиты зажиточные люди: оказывается, на все то же, на что и остальные, и даже кредиты на ремонты и свадьбы, хотя казалось бы это больше для обычных людей.\n",
    "* Все категории заемщиков по уровню дохода чаще всего берут кредит на недвижимость, причем в процентном соотношении примерно одинаково. \n",
    "* Следующие по популярности кредиты на авто, образование, жилье с небольшими отличиями внутри каждой группы: \n",
    "    * Как правило, чем богаче люди, тем реже они берут на образование (Группы с доходом выше среднего и ниже среднего - наоборот) \n",
    "    * Интересно, что люди с доходом ниже среднего (самые плохие плательщики, как мы видели), больше чем другие группы берут автокредиты (самые плохие по возвращаемости кредиты), и заметно меньше чем другие берут на жилье (лучшие по возвращаемости кредиты.)"
   ]
  },
  {
   "cell_type": "markdown",
   "metadata": {},
   "source": [
    "А теперь посмотрим как заемщики в зависимости от уровня доходов возвращают те или иные кредиты. Для этого: \n",
    "1. Сформируем сводную таблицу должникв с указанием класса дохода и цели кредита\n",
    "2. Сформируем такую же таблицу всех заемщиков с указанием класса дохода и цели кредита\n",
    "3. Разделим одну таблицу на другую (должников на всех заемщиков)"
   ]
  },
  {
   "cell_type": "code",
   "execution_count": 143,
   "metadata": {},
   "outputs": [
    {
     "data": {
      "text/html": [
       "<div>\n",
       "<style scoped>\n",
       "    .dataframe tbody tr th:only-of-type {\n",
       "        vertical-align: middle;\n",
       "    }\n",
       "\n",
       "    .dataframe tbody tr th {\n",
       "        vertical-align: top;\n",
       "    }\n",
       "\n",
       "    .dataframe thead th {\n",
       "        text-align: right;\n",
       "    }\n",
       "</style>\n",
       "<table border=\"1\" class=\"dataframe\">\n",
       "  <thead>\n",
       "    <tr style=\"text-align: right;\">\n",
       "      <th>purpose_lemma</th>\n",
       "      <th>автомобиль</th>\n",
       "      <th>жилье</th>\n",
       "      <th>недвижимость</th>\n",
       "      <th>образование</th>\n",
       "      <th>ремонт</th>\n",
       "      <th>свадьба</th>\n",
       "    </tr>\n",
       "    <tr>\n",
       "      <th>income_class</th>\n",
       "      <th></th>\n",
       "      <th></th>\n",
       "      <th></th>\n",
       "      <th></th>\n",
       "      <th></th>\n",
       "      <th></th>\n",
       "    </tr>\n",
       "  </thead>\n",
       "  <tbody>\n",
       "    <tr>\n",
       "      <td>бедные</td>\n",
       "      <td>0.090196</td>\n",
       "      <td>0.066598</td>\n",
       "      <td>0.070820</td>\n",
       "      <td>0.086700</td>\n",
       "      <td>0.031250</td>\n",
       "      <td>0.091681</td>\n",
       "    </tr>\n",
       "    <tr>\n",
       "      <td>богатые</td>\n",
       "      <td>0.085422</td>\n",
       "      <td>0.056877</td>\n",
       "      <td>0.076336</td>\n",
       "      <td>0.080173</td>\n",
       "      <td>0.054054</td>\n",
       "      <td>0.056537</td>\n",
       "    </tr>\n",
       "    <tr>\n",
       "      <td>выше сред</td>\n",
       "      <td>0.104462</td>\n",
       "      <td>0.074837</td>\n",
       "      <td>0.077535</td>\n",
       "      <td>0.092857</td>\n",
       "      <td>0.078313</td>\n",
       "      <td>0.078611</td>\n",
       "    </tr>\n",
       "    <tr>\n",
       "      <td>зажиточные</td>\n",
       "      <td>0.076923</td>\n",
       "      <td>0.086957</td>\n",
       "      <td>0.028986</td>\n",
       "      <td>0.125000</td>\n",
       "      <td>0.000000</td>\n",
       "      <td>0.050000</td>\n",
       "    </tr>\n",
       "    <tr>\n",
       "      <td>ниже сред</td>\n",
       "      <td>0.097391</td>\n",
       "      <td>0.088496</td>\n",
       "      <td>0.080177</td>\n",
       "      <td>0.111440</td>\n",
       "      <td>0.062893</td>\n",
       "      <td>0.095890</td>\n",
       "    </tr>\n",
       "  </tbody>\n",
       "</table>\n",
       "</div>"
      ],
      "text/plain": [
       "purpose_lemma  автомобиль     жилье  недвижимость  образование    ремонт  \\\n",
       "income_class                                                               \n",
       "бедные           0.090196  0.066598      0.070820     0.086700  0.031250   \n",
       "богатые          0.085422  0.056877      0.076336     0.080173  0.054054   \n",
       "выше сред        0.104462  0.074837      0.077535     0.092857  0.078313   \n",
       "зажиточные       0.076923  0.086957      0.028986     0.125000  0.000000   \n",
       "ниже сред        0.097391  0.088496      0.080177     0.111440  0.062893   \n",
       "\n",
       "purpose_lemma   свадьба  \n",
       "income_class             \n",
       "бедные         0.091681  \n",
       "богатые        0.056537  \n",
       "выше сред      0.078611  \n",
       "зажиточные     0.050000  \n",
       "ниже сред      0.095890  "
      ]
     },
     "execution_count": 143,
     "metadata": {},
     "output_type": "execute_result"
    }
   ],
   "source": [
    "pivot_inc_pur_debt = df_scoring.pivot_table(index='income_class', columns='purpose_lemma', values='debt', aggfunc='sum')\n",
    "pivot_inc_pur_no_debt = df_scoring.pivot_table(index='income_class', columns='purpose_lemma', values='debt', aggfunc='count')\n",
    "pivot_inc_pur_pc_debt = pivot_inc_pur_debt / pivot_inc_pur_no_debt\n",
    "pivot_inc_pur_pc_debt"
   ]
  },
  {
   "cell_type": "markdown",
   "metadata": {},
   "source": [
    "Что видим: \n",
    "* Кредиты за авто все категории заемщиков возвращают хуже других видов кредитов (отражает данные всей выборки, где авто - самый плоховозвращаемый кредит)\n",
    "* Кредиты за жилье/недвижимость все группы возвращают лучше других видов кредитов (опять же, отражает данные всей выборки)\n",
    "* Богатые лучше (относительно других групп) возвращают все виды кредитов. Однако, не все кредиты богатые возвращают одинаково хорошо. То есть тот факт, что заемщик имеет хороший доход, само по себе не говорит о том что он будет одинаково хорошо выплачивать любой кредит. Играют роль и другие факторы (возможно что-то узнаем дальше)"
   ]
  },
  {
   "cell_type": "markdown",
   "metadata": {},
   "source": [
    "#### Цели кредита в зависимости от семеного положения"
   ]
  },
  {
   "cell_type": "markdown",
   "metadata": {},
   "source": [
    "Мы видели ранее, что в классификации по семейным положениям не очень хорошо представлены вдовы/вдовцы и разведенные, поэтому выводы по ним вряд ли будут показательны. Остальные группы представлены нормально.  \n",
    "Посмотрим какие кредиты берут заемщики в зависимости от семейного положения"
   ]
  },
  {
   "cell_type": "code",
   "execution_count": 144,
   "metadata": {},
   "outputs": [
    {
     "data": {
      "text/html": [
       "<div>\n",
       "<style scoped>\n",
       "    .dataframe tbody tr th:only-of-type {\n",
       "        vertical-align: middle;\n",
       "    }\n",
       "\n",
       "    .dataframe tbody tr th {\n",
       "        vertical-align: top;\n",
       "    }\n",
       "\n",
       "    .dataframe thead th {\n",
       "        text-align: right;\n",
       "    }\n",
       "</style>\n",
       "<table border=\"1\" class=\"dataframe\">\n",
       "  <thead>\n",
       "    <tr style=\"text-align: right;\">\n",
       "      <th></th>\n",
       "      <th>family_status</th>\n",
       "      <th>family_status_id</th>\n",
       "    </tr>\n",
       "  </thead>\n",
       "  <tbody>\n",
       "    <tr>\n",
       "      <td>0</td>\n",
       "      <td>женат / замужем</td>\n",
       "      <td>0</td>\n",
       "    </tr>\n",
       "    <tr>\n",
       "      <td>1</td>\n",
       "      <td>гражданский брак</td>\n",
       "      <td>1</td>\n",
       "    </tr>\n",
       "    <tr>\n",
       "      <td>2</td>\n",
       "      <td>вдовец / вдова</td>\n",
       "      <td>2</td>\n",
       "    </tr>\n",
       "    <tr>\n",
       "      <td>3</td>\n",
       "      <td>в разводе</td>\n",
       "      <td>3</td>\n",
       "    </tr>\n",
       "    <tr>\n",
       "      <td>4</td>\n",
       "      <td>Не женат / не замужем</td>\n",
       "      <td>4</td>\n",
       "    </tr>\n",
       "  </tbody>\n",
       "</table>\n",
       "</div>"
      ],
      "text/plain": [
       "           family_status  family_status_id\n",
       "0        женат / замужем                 0\n",
       "1       гражданский брак                 1\n",
       "2         вдовец / вдова                 2\n",
       "3              в разводе                 3\n",
       "4  Не женат / не замужем                 4"
      ]
     },
     "execution_count": 144,
     "metadata": {},
     "output_type": "execute_result"
    }
   ],
   "source": [
    "family_status_dict"
   ]
  },
  {
   "cell_type": "code",
   "execution_count": 145,
   "metadata": {},
   "outputs": [
    {
     "data": {
      "text/html": [
       "<div>\n",
       "<style scoped>\n",
       "    .dataframe tbody tr th:only-of-type {\n",
       "        vertical-align: middle;\n",
       "    }\n",
       "\n",
       "    .dataframe tbody tr th {\n",
       "        vertical-align: top;\n",
       "    }\n",
       "\n",
       "    .dataframe thead th {\n",
       "        text-align: right;\n",
       "    }\n",
       "</style>\n",
       "<table border=\"1\" class=\"dataframe\">\n",
       "  <thead>\n",
       "    <tr style=\"text-align: right;\">\n",
       "      <th>purpose_lemma</th>\n",
       "      <th>автомобиль</th>\n",
       "      <th>жилье</th>\n",
       "      <th>недвижимость</th>\n",
       "      <th>образование</th>\n",
       "      <th>ремонт</th>\n",
       "      <th>свадьба</th>\n",
       "      <th>total</th>\n",
       "    </tr>\n",
       "    <tr>\n",
       "      <th>family_status_id</th>\n",
       "      <th></th>\n",
       "      <th></th>\n",
       "      <th></th>\n",
       "      <th></th>\n",
       "      <th></th>\n",
       "      <th></th>\n",
       "      <th></th>\n",
       "    </tr>\n",
       "  </thead>\n",
       "  <tbody>\n",
       "    <tr>\n",
       "      <td>0</td>\n",
       "      <td>0.222825</td>\n",
       "      <td>0.204243</td>\n",
       "      <td>0.331031</td>\n",
       "      <td>0.209998</td>\n",
       "      <td>0.031903</td>\n",
       "      <td>NaN</td>\n",
       "      <td>1.0</td>\n",
       "    </tr>\n",
       "    <tr>\n",
       "      <td>1</td>\n",
       "      <td>0.104626</td>\n",
       "      <td>0.084282</td>\n",
       "      <td>0.141681</td>\n",
       "      <td>0.097602</td>\n",
       "      <td>0.013320</td>\n",
       "      <td>0.558489</td>\n",
       "      <td>1.0</td>\n",
       "    </tr>\n",
       "    <tr>\n",
       "      <td>2</td>\n",
       "      <td>0.228089</td>\n",
       "      <td>0.201690</td>\n",
       "      <td>0.329461</td>\n",
       "      <td>0.206969</td>\n",
       "      <td>0.033791</td>\n",
       "      <td>NaN</td>\n",
       "      <td>1.0</td>\n",
       "    </tr>\n",
       "    <tr>\n",
       "      <td>3</td>\n",
       "      <td>0.235541</td>\n",
       "      <td>0.191115</td>\n",
       "      <td>0.341995</td>\n",
       "      <td>0.198659</td>\n",
       "      <td>0.032691</td>\n",
       "      <td>NaN</td>\n",
       "      <td>1.0</td>\n",
       "    </tr>\n",
       "    <tr>\n",
       "      <td>4</td>\n",
       "      <td>0.226719</td>\n",
       "      <td>0.202006</td>\n",
       "      <td>0.332378</td>\n",
       "      <td>0.205587</td>\n",
       "      <td>0.033309</td>\n",
       "      <td>NaN</td>\n",
       "      <td>1.0</td>\n",
       "    </tr>\n",
       "  </tbody>\n",
       "</table>\n",
       "</div>"
      ],
      "text/plain": [
       "purpose_lemma     автомобиль     жилье  недвижимость  образование    ремонт  \\\n",
       "family_status_id                                                              \n",
       "0                   0.222825  0.204243      0.331031     0.209998  0.031903   \n",
       "1                   0.104626  0.084282      0.141681     0.097602  0.013320   \n",
       "2                   0.228089  0.201690      0.329461     0.206969  0.033791   \n",
       "3                   0.235541  0.191115      0.341995     0.198659  0.032691   \n",
       "4                   0.226719  0.202006      0.332378     0.205587  0.033309   \n",
       "\n",
       "purpose_lemma      свадьба  total  \n",
       "family_status_id                   \n",
       "0                      NaN    1.0  \n",
       "1                 0.558489    1.0  \n",
       "2                      NaN    1.0  \n",
       "3                      NaN    1.0  \n",
       "4                      NaN    1.0  "
      ]
     },
     "execution_count": 145,
     "metadata": {},
     "output_type": "execute_result"
    }
   ],
   "source": [
    "pivot_fam_pur = df_scoring.pivot_table(index='family_status_id', columns='purpose_lemma', values='debt', aggfunc='count')\n",
    "\n",
    "pivot_fam_pur['total'] = pivot_fam_pur[purposes].sum(axis=1)\n",
    "pivot_fam_pur = pivot_fam_pur[purposes].div(pivot_fam_pur.total, axis=0)\n",
    "pivot_fam_pur['total'] = pivot_fam_pur[purposes].sum(axis=1)\n",
    "\n",
    "pivot_fam_pur"
   ]
  },
  {
   "cell_type": "markdown",
   "metadata": {},
   "source": [
    "Что видим: \n",
    "* Сразу бросается в глаза, что кредиты на свадьбы берут только заемщики, состоящие в гражданском браке (ГБ), что ожидаемо. Но интересно другое - таких кредитов более 50% для данного семейного положения. Тут нужно учесть: люди состоящие в ГБ, как мы помним, одни из самых неблагонадежных заемщиков, а кредиты на свадьбы не выплачиваются лишь в 8,0% случаев. Значит другие кредиты люди в ГБ выплачивают еще хуже, хотя нужно отметить, что и берут они все остальные виды кредитов в 2 раза меньше чем в среднем по выборке. Проверим ниже какие же кредиты они так плохо платят.\n",
    "* У остальных групп все более или менее ровно: не зависимо от семейного положения чаще всего берут кредит на недвижимость\n",
    "* Следующие по популярности кредиты на авто, образование, жилье с плюс минус одинаковым распределением внутри каждой группы. \n",
    "* Популярность разных видов кредита внутри каждой группы (кроме ГБ) соответствует популярности видов кредита в целом по выборке, сильных отклонений не наблюдаем."
   ]
  },
  {
   "cell_type": "markdown",
   "metadata": {},
   "source": [
    "Посмотрим теперь на процент должников по каждому виду кредита"
   ]
  },
  {
   "cell_type": "code",
   "execution_count": 146,
   "metadata": {},
   "outputs": [
    {
     "data": {
      "text/html": [
       "<div>\n",
       "<style scoped>\n",
       "    .dataframe tbody tr th:only-of-type {\n",
       "        vertical-align: middle;\n",
       "    }\n",
       "\n",
       "    .dataframe tbody tr th {\n",
       "        vertical-align: top;\n",
       "    }\n",
       "\n",
       "    .dataframe thead th {\n",
       "        text-align: right;\n",
       "    }\n",
       "</style>\n",
       "<table border=\"1\" class=\"dataframe\">\n",
       "  <thead>\n",
       "    <tr style=\"text-align: right;\">\n",
       "      <th>purpose_lemma</th>\n",
       "      <th>автомобиль</th>\n",
       "      <th>жилье</th>\n",
       "      <th>недвижимость</th>\n",
       "      <th>образование</th>\n",
       "      <th>ремонт</th>\n",
       "      <th>свадьба</th>\n",
       "    </tr>\n",
       "    <tr>\n",
       "      <th>family_status_id</th>\n",
       "      <th></th>\n",
       "      <th></th>\n",
       "      <th></th>\n",
       "      <th></th>\n",
       "      <th></th>\n",
       "      <th></th>\n",
       "    </tr>\n",
       "  </thead>\n",
       "  <tbody>\n",
       "    <tr>\n",
       "      <td>0</td>\n",
       "      <td>0.084133</td>\n",
       "      <td>0.069646</td>\n",
       "      <td>0.073025</td>\n",
       "      <td>0.084573</td>\n",
       "      <td>0.048969</td>\n",
       "      <td>NaN</td>\n",
       "    </tr>\n",
       "    <tr>\n",
       "      <td>1</td>\n",
       "      <td>0.118056</td>\n",
       "      <td>0.094828</td>\n",
       "      <td>0.094017</td>\n",
       "      <td>0.148883</td>\n",
       "      <td>0.054545</td>\n",
       "      <td>0.080659</td>\n",
       "    </tr>\n",
       "    <tr>\n",
       "      <td>2</td>\n",
       "      <td>0.092593</td>\n",
       "      <td>0.052356</td>\n",
       "      <td>0.051282</td>\n",
       "      <td>0.076531</td>\n",
       "      <td>0.062500</td>\n",
       "      <td>NaN</td>\n",
       "    </tr>\n",
       "    <tr>\n",
       "      <td>3</td>\n",
       "      <td>0.074733</td>\n",
       "      <td>0.061404</td>\n",
       "      <td>0.068627</td>\n",
       "      <td>0.071730</td>\n",
       "      <td>0.128205</td>\n",
       "      <td>NaN</td>\n",
       "    </tr>\n",
       "    <tr>\n",
       "      <td>4</td>\n",
       "      <td>0.129542</td>\n",
       "      <td>0.076241</td>\n",
       "      <td>0.087284</td>\n",
       "      <td>0.108014</td>\n",
       "      <td>0.064516</td>\n",
       "      <td>NaN</td>\n",
       "    </tr>\n",
       "  </tbody>\n",
       "</table>\n",
       "</div>"
      ],
      "text/plain": [
       "purpose_lemma     автомобиль     жилье  недвижимость  образование    ремонт  \\\n",
       "family_status_id                                                              \n",
       "0                   0.084133  0.069646      0.073025     0.084573  0.048969   \n",
       "1                   0.118056  0.094828      0.094017     0.148883  0.054545   \n",
       "2                   0.092593  0.052356      0.051282     0.076531  0.062500   \n",
       "3                   0.074733  0.061404      0.068627     0.071730  0.128205   \n",
       "4                   0.129542  0.076241      0.087284     0.108014  0.064516   \n",
       "\n",
       "purpose_lemma      свадьба  \n",
       "family_status_id            \n",
       "0                      NaN  \n",
       "1                 0.080659  \n",
       "2                      NaN  \n",
       "3                      NaN  \n",
       "4                      NaN  "
      ]
     },
     "execution_count": 146,
     "metadata": {},
     "output_type": "execute_result"
    }
   ],
   "source": [
    "pivot_fam_pur_debt = df_scoring.pivot_table(index='family_status_id', columns='purpose_lemma', values='debt', aggfunc='sum')\n",
    "pivot_fam_pur_no_debt = df_scoring.pivot_table(index='family_status_id', columns='purpose_lemma', values='debt', aggfunc='count')\n",
    "pivot_fam_pur_pc_debt = pivot_fam_pur_debt / pivot_fam_pur_no_debt\n",
    "pivot_fam_pur_pc_debt"
   ]
  },
  {
   "cell_type": "markdown",
   "metadata": {},
   "source": [
    "Что видим: \n",
    "* Действительно, люди в ГБ имеют ужасный показатель по выплате кредитов за образование: почти 15% должников. (Это, предположительно, молодая аудитория, которая не может выплатить свои университетские кредиты (Возможно также будет коррелировать с возрастом, и образованием заемщика). Интересно, что почти по всем видам кредитов они платят хуже всех (кроме авто), хотя они не были самыми злостными неплательщиками.\n",
    "* А худшими заемщиками были неженатые/незамужние, но они лидируют по невыплате только в автокредитах (авто - самые плохо возвращаемые кредиты). В этом явно что-то есть.\n",
    "* По другим семейным положениям картина в принципе повторяет общую статистику: охотнее всего возвращают за жилье/недвижимость, и каждая группа сильнее всех игнорирует выплаты по автокредитам.\n",
    "* Интересно со вдовами/вдовцами: за авто доля неплательщиков почти в два раза выше чем за жилье/недвижимость. Похоже, что никто не любит возвращать за авто. Однако, вдовы/вдовцы в выборке представлены недостаточно, чтобы воспринимать этот вывод слишком серьезно."
   ]
  },
  {
   "cell_type": "markdown",
   "metadata": {},
   "source": [
    "#### Цели кредита в зависимости от типа  занятости"
   ]
  },
  {
   "cell_type": "markdown",
   "metadata": {},
   "source": [
    "Посмотрим какие кредиты берут заемщики в зависимости от типа занятости"
   ]
  },
  {
   "cell_type": "code",
   "execution_count": 147,
   "metadata": {},
   "outputs": [
    {
     "data": {
      "text/html": [
       "<div>\n",
       "<style scoped>\n",
       "    .dataframe tbody tr th:only-of-type {\n",
       "        vertical-align: middle;\n",
       "    }\n",
       "\n",
       "    .dataframe tbody tr th {\n",
       "        vertical-align: top;\n",
       "    }\n",
       "\n",
       "    .dataframe thead th {\n",
       "        text-align: right;\n",
       "    }\n",
       "</style>\n",
       "<table border=\"1\" class=\"dataframe\">\n",
       "  <thead>\n",
       "    <tr style=\"text-align: right;\">\n",
       "      <th>purpose_lemma</th>\n",
       "      <th>автомобиль</th>\n",
       "      <th>жилье</th>\n",
       "      <th>недвижимость</th>\n",
       "      <th>образование</th>\n",
       "      <th>ремонт</th>\n",
       "      <th>свадьба</th>\n",
       "      <th>total</th>\n",
       "    </tr>\n",
       "    <tr>\n",
       "      <th>income_type</th>\n",
       "      <th></th>\n",
       "      <th></th>\n",
       "      <th></th>\n",
       "      <th></th>\n",
       "      <th></th>\n",
       "      <th></th>\n",
       "      <th></th>\n",
       "    </tr>\n",
       "  </thead>\n",
       "  <tbody>\n",
       "    <tr>\n",
       "      <td>госслужащий</td>\n",
       "      <td>0.195458</td>\n",
       "      <td>0.191328</td>\n",
       "      <td>0.299381</td>\n",
       "      <td>0.176187</td>\n",
       "      <td>0.028217</td>\n",
       "      <td>0.109429</td>\n",
       "      <td>1.0</td>\n",
       "    </tr>\n",
       "    <tr>\n",
       "      <td>компаньон</td>\n",
       "      <td>0.207887</td>\n",
       "      <td>0.170432</td>\n",
       "      <td>0.302021</td>\n",
       "      <td>0.187079</td>\n",
       "      <td>0.028736</td>\n",
       "      <td>0.103845</td>\n",
       "      <td>1.0</td>\n",
       "    </tr>\n",
       "    <tr>\n",
       "      <td>пенсионер</td>\n",
       "      <td>0.209630</td>\n",
       "      <td>0.174781</td>\n",
       "      <td>0.289971</td>\n",
       "      <td>0.188614</td>\n",
       "      <td>0.027135</td>\n",
       "      <td>0.109870</td>\n",
       "      <td>1.0</td>\n",
       "    </tr>\n",
       "    <tr>\n",
       "      <td>сотрудник</td>\n",
       "      <td>0.196186</td>\n",
       "      <td>0.184232</td>\n",
       "      <td>0.292727</td>\n",
       "      <td>0.187517</td>\n",
       "      <td>0.029017</td>\n",
       "      <td>0.110320</td>\n",
       "      <td>1.0</td>\n",
       "    </tr>\n",
       "  </tbody>\n",
       "</table>\n",
       "</div>"
      ],
      "text/plain": [
       "purpose_lemma  автомобиль     жилье  недвижимость  образование    ремонт  \\\n",
       "income_type                                                                \n",
       "госслужащий      0.195458  0.191328      0.299381     0.176187  0.028217   \n",
       "компаньон        0.207887  0.170432      0.302021     0.187079  0.028736   \n",
       "пенсионер        0.209630  0.174781      0.289971     0.188614  0.027135   \n",
       "сотрудник        0.196186  0.184232      0.292727     0.187517  0.029017   \n",
       "\n",
       "purpose_lemma   свадьба  total  \n",
       "income_type                     \n",
       "госслужащий    0.109429    1.0  \n",
       "компаньон      0.103845    1.0  \n",
       "пенсионер      0.109870    1.0  \n",
       "сотрудник      0.110320    1.0  "
      ]
     },
     "execution_count": 147,
     "metadata": {},
     "output_type": "execute_result"
    }
   ],
   "source": [
    "pivot_inct_pur = df_scoring.pivot_table(index='income_type', columns='purpose_lemma', values='debt', aggfunc='count')\n",
    "\n",
    "pivot_inct_pur['total'] = pivot_inct_pur[purposes].sum(axis=1)\n",
    "pivot_inct_pur = pivot_inct_pur[purposes].div(pivot_inct_pur.total, axis=0)\n",
    "pivot_inct_pur['total'] = pivot_inct_pur[purposes].sum(axis=1)\n",
    "# Уберем малопредставленные группы с пропусками\n",
    "pivot_inct_pur.dropna(inplace=True)\n",
    "pivot_inct_pur"
   ]
  },
  {
   "cell_type": "markdown",
   "metadata": {},
   "source": [
    "Что видим:\n",
    "* Как и в предыдущих случаях, самый популярный кредит у каждой из хорошо представленных групп - кредит на недвижимость.\n",
    "* Следующие по популярности кредиты на авто, образование, жилье с плюс минус одинаковым распределением внутри каждой группы. \n",
    "* Популярность разных видов кредита внутри каждой группы соответствует популярности видов кредита в целом по выборке, сильных отклонений не наблюдаем.\n",
    "* Что забавно, пенсионеры так же часто как и другие берут кредиты на свадьбы и на образование. Предположительно, эти кредиты они могут брать для своих детей. Однако, мы видели, что кредиты на свадьбы берут только заемщки в гражданском браке, поэтому возможно также, что кто-то из пенсионеров берет кредит на свадьбу и для себя (тем более молодых пенсионеров в выборке мы тоже видели). "
   ]
  },
  {
   "cell_type": "markdown",
   "metadata": {},
   "source": [
    "Посмотрим теперь на процент должников по каждому виду кредита."
   ]
  },
  {
   "cell_type": "code",
   "execution_count": 148,
   "metadata": {},
   "outputs": [
    {
     "data": {
      "text/html": [
       "<div>\n",
       "<style scoped>\n",
       "    .dataframe tbody tr th:only-of-type {\n",
       "        vertical-align: middle;\n",
       "    }\n",
       "\n",
       "    .dataframe tbody tr th {\n",
       "        vertical-align: top;\n",
       "    }\n",
       "\n",
       "    .dataframe thead th {\n",
       "        text-align: right;\n",
       "    }\n",
       "</style>\n",
       "<table border=\"1\" class=\"dataframe\">\n",
       "  <thead>\n",
       "    <tr style=\"text-align: right;\">\n",
       "      <th>purpose_lemma</th>\n",
       "      <th>автомобиль</th>\n",
       "      <th>жилье</th>\n",
       "      <th>недвижимость</th>\n",
       "      <th>образование</th>\n",
       "      <th>ремонт</th>\n",
       "      <th>свадьба</th>\n",
       "    </tr>\n",
       "    <tr>\n",
       "      <th>income_type</th>\n",
       "      <th></th>\n",
       "      <th></th>\n",
       "      <th></th>\n",
       "      <th></th>\n",
       "      <th></th>\n",
       "      <th></th>\n",
       "    </tr>\n",
       "  </thead>\n",
       "  <tbody>\n",
       "    <tr>\n",
       "      <td>госслужащий</td>\n",
       "      <td>0.077465</td>\n",
       "      <td>0.043165</td>\n",
       "      <td>0.048276</td>\n",
       "      <td>0.082031</td>\n",
       "      <td>0.073171</td>\n",
       "      <td>0.044025</td>\n",
       "    </tr>\n",
       "    <tr>\n",
       "      <td>компаньон</td>\n",
       "      <td>0.081030</td>\n",
       "      <td>0.066279</td>\n",
       "      <td>0.067585</td>\n",
       "      <td>0.076271</td>\n",
       "      <td>0.048276</td>\n",
       "      <td>0.099237</td>\n",
       "    </tr>\n",
       "    <tr>\n",
       "      <td>пенсионер</td>\n",
       "      <td>0.064721</td>\n",
       "      <td>0.053272</td>\n",
       "      <td>0.047706</td>\n",
       "      <td>0.067701</td>\n",
       "      <td>0.049020</td>\n",
       "      <td>0.060533</td>\n",
       "    </tr>\n",
       "    <tr>\n",
       "      <td>сотрудник</td>\n",
       "      <td>0.113023</td>\n",
       "      <td>0.083210</td>\n",
       "      <td>0.092893</td>\n",
       "      <td>0.111436</td>\n",
       "      <td>0.062893</td>\n",
       "      <td>0.084367</td>\n",
       "    </tr>\n",
       "  </tbody>\n",
       "</table>\n",
       "</div>"
      ],
      "text/plain": [
       "purpose_lemma  автомобиль     жилье  недвижимость  образование    ремонт  \\\n",
       "income_type                                                                \n",
       "госслужащий      0.077465  0.043165      0.048276     0.082031  0.073171   \n",
       "компаньон        0.081030  0.066279      0.067585     0.076271  0.048276   \n",
       "пенсионер        0.064721  0.053272      0.047706     0.067701  0.049020   \n",
       "сотрудник        0.113023  0.083210      0.092893     0.111436  0.062893   \n",
       "\n",
       "purpose_lemma   свадьба  \n",
       "income_type              \n",
       "госслужащий    0.044025  \n",
       "компаньон      0.099237  \n",
       "пенсионер      0.060533  \n",
       "сотрудник      0.084367  "
      ]
     },
     "execution_count": 148,
     "metadata": {},
     "output_type": "execute_result"
    }
   ],
   "source": [
    "pivot_inct_pur_debt = df_scoring.pivot_table(index='income_type', columns='purpose_lemma', values='debt', aggfunc='sum')\n",
    "pivot_inct_pur_no_debt = df_scoring.pivot_table(index='income_type', columns='purpose_lemma', values='debt', aggfunc='count')\n",
    "pivot_inct_pur_pc_debt = pivot_inct_pur_debt / pivot_inct_pur_no_debt\n",
    "pivot_inct_pur_pc_debt.dropna(inplace=True)\n",
    "pivot_inct_pur_pc_debt"
   ]
  },
  {
   "cell_type": "markdown",
   "metadata": {},
   "source": [
    "Что видим: \n",
    "* Сотрудники платят не просто хуже остальных, но платят хуже по всем видам кредитов.\n",
    "* Пенсионеры платят лучше всех по всем кредитам \n",
    "* Компаньоны платят хуже чем пенсионеры, опять же, по всем видам кредитов, и что забавно, хуже чем все остальные заемщики возвращают кредиты за свадьбу. Даже за авто компаньоны платят лучше (одна из немногих категорий заемщиков, у которой авто - не самый плохо возвращаемый кредит)\n",
    "* Для госслужащих, пенсионеров и сотрудников все стандартно: все три категории заемщиков возвращают кредиты за жилье/недвижимость охотнее всего, а хуже всего возвращают за авто и образование."
   ]
  },
  {
   "cell_type": "markdown",
   "metadata": {},
   "source": [
    "#### Цели кредита в зависимости от наличия детей"
   ]
  },
  {
   "cell_type": "markdown",
   "metadata": {},
   "source": [
    "Мы уже видели, что заемщиков с детими примерно 30%. Обе группы (с детьми и без детей) будут представлены хорошо.  \n",
    "Посмотрим какие кредиты берут заемщики в зависимости от наличия детей"
   ]
  },
  {
   "cell_type": "code",
   "execution_count": 149,
   "metadata": {},
   "outputs": [
    {
     "data": {
      "text/html": [
       "<div>\n",
       "<style scoped>\n",
       "    .dataframe tbody tr th:only-of-type {\n",
       "        vertical-align: middle;\n",
       "    }\n",
       "\n",
       "    .dataframe tbody tr th {\n",
       "        vertical-align: top;\n",
       "    }\n",
       "\n",
       "    .dataframe thead th {\n",
       "        text-align: right;\n",
       "    }\n",
       "</style>\n",
       "<table border=\"1\" class=\"dataframe\">\n",
       "  <thead>\n",
       "    <tr style=\"text-align: right;\">\n",
       "      <th>purpose_lemma</th>\n",
       "      <th>автомобиль</th>\n",
       "      <th>жилье</th>\n",
       "      <th>недвижимость</th>\n",
       "      <th>образование</th>\n",
       "      <th>ремонт</th>\n",
       "      <th>свадьба</th>\n",
       "      <th>total</th>\n",
       "    </tr>\n",
       "    <tr>\n",
       "      <th>children_id</th>\n",
       "      <th></th>\n",
       "      <th></th>\n",
       "      <th></th>\n",
       "      <th></th>\n",
       "      <th></th>\n",
       "      <th></th>\n",
       "      <th></th>\n",
       "    </tr>\n",
       "  </thead>\n",
       "  <tbody>\n",
       "    <tr>\n",
       "      <td>0</td>\n",
       "      <td>0.202489</td>\n",
       "      <td>0.177600</td>\n",
       "      <td>0.294850</td>\n",
       "      <td>0.187167</td>\n",
       "      <td>0.028917</td>\n",
       "      <td>0.108977</td>\n",
       "      <td>1.0</td>\n",
       "    </tr>\n",
       "    <tr>\n",
       "      <td>1</td>\n",
       "      <td>0.199017</td>\n",
       "      <td>0.183855</td>\n",
       "      <td>0.295042</td>\n",
       "      <td>0.186040</td>\n",
       "      <td>0.028002</td>\n",
       "      <td>0.108045</td>\n",
       "      <td>1.0</td>\n",
       "    </tr>\n",
       "  </tbody>\n",
       "</table>\n",
       "</div>"
      ],
      "text/plain": [
       "purpose_lemma  автомобиль     жилье  недвижимость  образование    ремонт  \\\n",
       "children_id                                                                \n",
       "0                0.202489  0.177600      0.294850     0.187167  0.028917   \n",
       "1                0.199017  0.183855      0.295042     0.186040  0.028002   \n",
       "\n",
       "purpose_lemma   свадьба  total  \n",
       "children_id                     \n",
       "0              0.108977    1.0  \n",
       "1              0.108045    1.0  "
      ]
     },
     "execution_count": 149,
     "metadata": {},
     "output_type": "execute_result"
    }
   ],
   "source": [
    "pivot_kid_pur = df_scoring.pivot_table(index='children_id', columns='purpose_lemma', values='debt', aggfunc='count')\n",
    "\n",
    "pivot_kid_pur['total'] = pivot_kid_pur[purposes].sum(axis=1)\n",
    "pivot_kid_pur = pivot_kid_pur[purposes].div(pivot_kid_pur.total, axis=0)\n",
    "pivot_kid_pur['total'] = pivot_kid_pur[purposes].sum(axis=1)\n",
    "\n",
    "pivot_kid_pur"
   ]
  },
  {
   "cell_type": "markdown",
   "metadata": {},
   "source": [
    "Не зависимо от наличия или отсутствия детей, заемщики берут примерно одинаковые кредиты, в пропорциональном соотношении так же, как в общей выборке. Аномалий не наблюдаем. Посмотрим процент должников по каждому виду кредита."
   ]
  },
  {
   "cell_type": "code",
   "execution_count": 150,
   "metadata": {},
   "outputs": [
    {
     "data": {
      "text/html": [
       "<div>\n",
       "<style scoped>\n",
       "    .dataframe tbody tr th:only-of-type {\n",
       "        vertical-align: middle;\n",
       "    }\n",
       "\n",
       "    .dataframe tbody tr th {\n",
       "        vertical-align: top;\n",
       "    }\n",
       "\n",
       "    .dataframe thead th {\n",
       "        text-align: right;\n",
       "    }\n",
       "</style>\n",
       "<table border=\"1\" class=\"dataframe\">\n",
       "  <thead>\n",
       "    <tr style=\"text-align: right;\">\n",
       "      <th>purpose_lemma</th>\n",
       "      <th>автомобиль</th>\n",
       "      <th>жилье</th>\n",
       "      <th>недвижимость</th>\n",
       "      <th>образование</th>\n",
       "      <th>ремонт</th>\n",
       "      <th>свадьба</th>\n",
       "    </tr>\n",
       "    <tr>\n",
       "      <th>children_id</th>\n",
       "      <th></th>\n",
       "      <th></th>\n",
       "      <th></th>\n",
       "      <th></th>\n",
       "      <th></th>\n",
       "      <th></th>\n",
       "    </tr>\n",
       "  </thead>\n",
       "  <tbody>\n",
       "    <tr>\n",
       "      <td>0</td>\n",
       "      <td>0.085968</td>\n",
       "      <td>0.068449</td>\n",
       "      <td>0.069285</td>\n",
       "      <td>0.088009</td>\n",
       "      <td>0.057214</td>\n",
       "      <td>0.075908</td>\n",
       "    </tr>\n",
       "    <tr>\n",
       "      <td>1</td>\n",
       "      <td>0.109815</td>\n",
       "      <td>0.077266</td>\n",
       "      <td>0.087963</td>\n",
       "      <td>0.103524</td>\n",
       "      <td>0.058537</td>\n",
       "      <td>0.089760</td>\n",
       "    </tr>\n",
       "  </tbody>\n",
       "</table>\n",
       "</div>"
      ],
      "text/plain": [
       "purpose_lemma  автомобиль     жилье  недвижимость  образование    ремонт  \\\n",
       "children_id                                                                \n",
       "0                0.085968  0.068449      0.069285     0.088009  0.057214   \n",
       "1                0.109815  0.077266      0.087963     0.103524  0.058537   \n",
       "\n",
       "purpose_lemma   свадьба  \n",
       "children_id              \n",
       "0              0.075908  \n",
       "1              0.089760  "
      ]
     },
     "execution_count": 150,
     "metadata": {},
     "output_type": "execute_result"
    }
   ],
   "source": [
    "pivot_kid_pur_debt = df_scoring.pivot_table(index='children_id', columns='purpose_lemma', values='debt', aggfunc='sum')\n",
    "pivot_kid_pur_no_debt = df_scoring.pivot_table(index='children_id', columns='purpose_lemma', values='debt', aggfunc='count')\n",
    "pivot_kid_pur_pc_debt = pivot_kid_pur_debt / pivot_kid_pur_no_debt\n",
    "pivot_kid_pur_pc_debt"
   ]
  },
  {
   "cell_type": "markdown",
   "metadata": {},
   "source": [
    "Что видим: \n",
    "* Как мы уже видели ранее, люди с детьми платят в целом хуже чем люди без детей, причем, как мы видим здесь, по всем видам кредитов. \n",
    "* Для обоих групп авто и образование самые плохо возвращаемые, а самые лучшие показатели по возврату у жилья/недвижимости. Все стандартно. "
   ]
  },
  {
   "cell_type": "markdown",
   "metadata": {},
   "source": [
    "#### Цели кредита в зависимости от возраста"
   ]
  },
  {
   "cell_type": "markdown",
   "metadata": {},
   "source": [
    "Посмотрим какие кредиты берут заемщики в зависимости от возраста"
   ]
  },
  {
   "cell_type": "code",
   "execution_count": 151,
   "metadata": {},
   "outputs": [
    {
     "data": {
      "text/html": [
       "<div>\n",
       "<style scoped>\n",
       "    .dataframe tbody tr th:only-of-type {\n",
       "        vertical-align: middle;\n",
       "    }\n",
       "\n",
       "    .dataframe tbody tr th {\n",
       "        vertical-align: top;\n",
       "    }\n",
       "\n",
       "    .dataframe thead th {\n",
       "        text-align: right;\n",
       "    }\n",
       "</style>\n",
       "<table border=\"1\" class=\"dataframe\">\n",
       "  <thead>\n",
       "    <tr style=\"text-align: right;\">\n",
       "      <th>purpose_lemma</th>\n",
       "      <th>автомобиль</th>\n",
       "      <th>жилье</th>\n",
       "      <th>недвижимость</th>\n",
       "      <th>образование</th>\n",
       "      <th>ремонт</th>\n",
       "      <th>свадьба</th>\n",
       "      <th>total</th>\n",
       "    </tr>\n",
       "    <tr>\n",
       "      <th>age_class</th>\n",
       "      <th></th>\n",
       "      <th></th>\n",
       "      <th></th>\n",
       "      <th></th>\n",
       "      <th></th>\n",
       "      <th></th>\n",
       "      <th></th>\n",
       "    </tr>\n",
       "  </thead>\n",
       "  <tbody>\n",
       "    <tr>\n",
       "      <td>взрослые</td>\n",
       "      <td>0.202018</td>\n",
       "      <td>0.181555</td>\n",
       "      <td>0.296860</td>\n",
       "      <td>0.183330</td>\n",
       "      <td>0.028219</td>\n",
       "      <td>0.108017</td>\n",
       "      <td>1.0</td>\n",
       "    </tr>\n",
       "    <tr>\n",
       "      <td>зрелые</td>\n",
       "      <td>0.206936</td>\n",
       "      <td>0.172832</td>\n",
       "      <td>0.291329</td>\n",
       "      <td>0.194220</td>\n",
       "      <td>0.025819</td>\n",
       "      <td>0.108863</td>\n",
       "      <td>1.0</td>\n",
       "    </tr>\n",
       "    <tr>\n",
       "      <td>молодые</td>\n",
       "      <td>0.194335</td>\n",
       "      <td>0.182893</td>\n",
       "      <td>0.294504</td>\n",
       "      <td>0.186457</td>\n",
       "      <td>0.032077</td>\n",
       "      <td>0.109736</td>\n",
       "      <td>1.0</td>\n",
       "    </tr>\n",
       "  </tbody>\n",
       "</table>\n",
       "</div>"
      ],
      "text/plain": [
       "purpose_lemma  автомобиль     жилье  недвижимость  образование    ремонт  \\\n",
       "age_class                                                                  \n",
       "взрослые         0.202018  0.181555      0.296860     0.183330  0.028219   \n",
       "зрелые           0.206936  0.172832      0.291329     0.194220  0.025819   \n",
       "молодые          0.194335  0.182893      0.294504     0.186457  0.032077   \n",
       "\n",
       "purpose_lemma   свадьба  total  \n",
       "age_class                       \n",
       "взрослые       0.108017    1.0  \n",
       "зрелые         0.108863    1.0  \n",
       "молодые        0.109736    1.0  "
      ]
     },
     "execution_count": 151,
     "metadata": {},
     "output_type": "execute_result"
    }
   ],
   "source": [
    "pivot_age_pur = df_scoring.pivot_table(index='age_class', columns='purpose_lemma', values='debt', aggfunc='count')\n",
    "\n",
    "pivot_age_pur['total'] = pivot_age_pur[purposes].sum(axis=1)\n",
    "pivot_age_pur = pivot_age_pur[purposes].div(pivot_age_pur.total, axis=0)\n",
    "pivot_age_pur['total'] = pivot_age_pur[purposes].sum(axis=1)\n",
    "\n",
    "pivot_age_pur"
   ]
  },
  {
   "cell_type": "code",
   "execution_count": 152,
   "metadata": {},
   "outputs": [
    {
     "data": {
      "text/html": [
       "<div>\n",
       "<style scoped>\n",
       "    .dataframe tbody tr th:only-of-type {\n",
       "        vertical-align: middle;\n",
       "    }\n",
       "\n",
       "    .dataframe tbody tr th {\n",
       "        vertical-align: top;\n",
       "    }\n",
       "\n",
       "    .dataframe thead th {\n",
       "        text-align: right;\n",
       "    }\n",
       "</style>\n",
       "<table border=\"1\" class=\"dataframe\">\n",
       "  <thead>\n",
       "    <tr style=\"text-align: right;\">\n",
       "      <th></th>\n",
       "      <th>age_class</th>\n",
       "      <th>&gt;</th>\n",
       "      <th>&lt;=</th>\n",
       "    </tr>\n",
       "  </thead>\n",
       "  <tbody>\n",
       "    <tr>\n",
       "      <td>0</td>\n",
       "      <td>молодые</td>\n",
       "      <td>18</td>\n",
       "      <td>33</td>\n",
       "    </tr>\n",
       "    <tr>\n",
       "      <td>1</td>\n",
       "      <td>взрослые</td>\n",
       "      <td>33</td>\n",
       "      <td>53</td>\n",
       "    </tr>\n",
       "    <tr>\n",
       "      <td>2</td>\n",
       "      <td>зрелые</td>\n",
       "      <td>53</td>\n",
       "      <td>75</td>\n",
       "    </tr>\n",
       "  </tbody>\n",
       "</table>\n",
       "</div>"
      ],
      "text/plain": [
       "  age_class   >  <=\n",
       "0   молодые  18  33\n",
       "1  взрослые  33  53\n",
       "2    зрелые  53  75"
      ]
     },
     "execution_count": 152,
     "metadata": {},
     "output_type": "execute_result"
    }
   ],
   "source": [
    "age_dict"
   ]
  },
  {
   "cell_type": "markdown",
   "metadata": {},
   "source": [
    "Что видим: \n",
    "* Не зависимо от возраста, заемщики берут примерно одинаковые кредиты, в пропорциональном соотношении так же, как в общей выборке. Аномалий не наблюдаем. Интересно, что зрелые люди берут кредиты на свадьбы и образование даже чуть чаще чем молодые и взрослые. Посмотрим процент должников по каждому виду кредита."
   ]
  },
  {
   "cell_type": "code",
   "execution_count": 153,
   "metadata": {},
   "outputs": [
    {
     "data": {
      "text/html": [
       "<div>\n",
       "<style scoped>\n",
       "    .dataframe tbody tr th:only-of-type {\n",
       "        vertical-align: middle;\n",
       "    }\n",
       "\n",
       "    .dataframe tbody tr th {\n",
       "        vertical-align: top;\n",
       "    }\n",
       "\n",
       "    .dataframe thead th {\n",
       "        text-align: right;\n",
       "    }\n",
       "</style>\n",
       "<table border=\"1\" class=\"dataframe\">\n",
       "  <thead>\n",
       "    <tr style=\"text-align: right;\">\n",
       "      <th>purpose_lemma</th>\n",
       "      <th>автомобиль</th>\n",
       "      <th>жилье</th>\n",
       "      <th>недвижимость</th>\n",
       "      <th>образование</th>\n",
       "      <th>ремонт</th>\n",
       "      <th>свадьба</th>\n",
       "    </tr>\n",
       "    <tr>\n",
       "      <th>age_class</th>\n",
       "      <th></th>\n",
       "      <th></th>\n",
       "      <th></th>\n",
       "      <th></th>\n",
       "      <th></th>\n",
       "      <th></th>\n",
       "    </tr>\n",
       "  </thead>\n",
       "  <tbody>\n",
       "    <tr>\n",
       "      <td>взрослые</td>\n",
       "      <td>0.092969</td>\n",
       "      <td>0.067422</td>\n",
       "      <td>0.077746</td>\n",
       "      <td>0.088175</td>\n",
       "      <td>0.043046</td>\n",
       "      <td>0.081315</td>\n",
       "    </tr>\n",
       "    <tr>\n",
       "      <td>зрелые</td>\n",
       "      <td>0.065177</td>\n",
       "      <td>0.050167</td>\n",
       "      <td>0.047619</td>\n",
       "      <td>0.065476</td>\n",
       "      <td>0.059701</td>\n",
       "      <td>0.060177</td>\n",
       "    </tr>\n",
       "    <tr>\n",
       "      <td>молодые</td>\n",
       "      <td>0.126448</td>\n",
       "      <td>0.099487</td>\n",
       "      <td>0.098726</td>\n",
       "      <td>0.131791</td>\n",
       "      <td>0.081871</td>\n",
       "      <td>0.099145</td>\n",
       "    </tr>\n",
       "  </tbody>\n",
       "</table>\n",
       "</div>"
      ],
      "text/plain": [
       "purpose_lemma  автомобиль     жилье  недвижимость  образование    ремонт  \\\n",
       "age_class                                                                  \n",
       "взрослые         0.092969  0.067422      0.077746     0.088175  0.043046   \n",
       "зрелые           0.065177  0.050167      0.047619     0.065476  0.059701   \n",
       "молодые          0.126448  0.099487      0.098726     0.131791  0.081871   \n",
       "\n",
       "purpose_lemma   свадьба  \n",
       "age_class                \n",
       "взрослые       0.081315  \n",
       "зрелые         0.060177  \n",
       "молодые        0.099145  "
      ]
     },
     "execution_count": 153,
     "metadata": {},
     "output_type": "execute_result"
    }
   ],
   "source": [
    "pivot_age_pur_debt = df_scoring.pivot_table(index='age_class', columns='purpose_lemma', values='debt', aggfunc='sum')\n",
    "pivot_age_pur_no_debt = df_scoring.pivot_table(index='age_class', columns='purpose_lemma', values='debt', aggfunc='count')\n",
    "pivot_age_pur_pc_debt = pivot_age_pur_debt / pivot_age_pur_no_debt\n",
    "pivot_age_pur_pc_debt"
   ]
  },
  {
   "cell_type": "markdown",
   "metadata": {},
   "source": [
    "Что видим: \n",
    "* Заемщики зрелого возраста платят хорошо по всем видам кредитов. Прослеживается явная параллель с пенсионерами. В принципе логично: большинство пенсионеров в зрелом возрасте (зрелый возраст 54+, медианный возраст пенсионеров 60 лет).\n",
    "*  У молодых заемщиков по каждому виду кредита процент возрвата хуже. Примечательно, что из всех кредитов, которые берут молодые, хуже всего они возвращают образовательные кредиты (хотя авто не сильно отстает). Похожую ситуацию видели у заемщиков состоящих в гражданском браке.\n",
    "* По возвратам разных видов кредитов внутри групп в целом все стандартно: меньше должников по жилью/недвижимости, больше по авто и образованию."
   ]
  },
  {
   "cell_type": "markdown",
   "metadata": {},
   "source": [
    "#### Цели кредита в зависимости от образования"
   ]
  },
  {
   "cell_type": "markdown",
   "metadata": {},
   "source": [
    "Посмотрим какие кредиты берут заемщики в зависимости от образования (помним, что хорошо представлены только заемщики с высшим и средним образованием - ВО и СО)"
   ]
  },
  {
   "cell_type": "code",
   "execution_count": 154,
   "metadata": {},
   "outputs": [
    {
     "data": {
      "text/html": [
       "<div>\n",
       "<style scoped>\n",
       "    .dataframe tbody tr th:only-of-type {\n",
       "        vertical-align: middle;\n",
       "    }\n",
       "\n",
       "    .dataframe tbody tr th {\n",
       "        vertical-align: top;\n",
       "    }\n",
       "\n",
       "    .dataframe thead th {\n",
       "        text-align: right;\n",
       "    }\n",
       "</style>\n",
       "<table border=\"1\" class=\"dataframe\">\n",
       "  <thead>\n",
       "    <tr style=\"text-align: right;\">\n",
       "      <th>purpose_lemma</th>\n",
       "      <th>автомобиль</th>\n",
       "      <th>жилье</th>\n",
       "      <th>недвижимость</th>\n",
       "      <th>образование</th>\n",
       "      <th>ремонт</th>\n",
       "      <th>свадьба</th>\n",
       "      <th>total</th>\n",
       "    </tr>\n",
       "    <tr>\n",
       "      <th>education_id</th>\n",
       "      <th></th>\n",
       "      <th></th>\n",
       "      <th></th>\n",
       "      <th></th>\n",
       "      <th></th>\n",
       "      <th></th>\n",
       "      <th></th>\n",
       "    </tr>\n",
       "  </thead>\n",
       "  <tbody>\n",
       "    <tr>\n",
       "      <td>0</td>\n",
       "      <td>0.197819</td>\n",
       "      <td>0.180601</td>\n",
       "      <td>0.298642</td>\n",
       "      <td>0.177922</td>\n",
       "      <td>0.030610</td>\n",
       "      <td>0.114406</td>\n",
       "      <td>1.0</td>\n",
       "    </tr>\n",
       "    <tr>\n",
       "      <td>1</td>\n",
       "      <td>0.202486</td>\n",
       "      <td>0.180166</td>\n",
       "      <td>0.292368</td>\n",
       "      <td>0.190257</td>\n",
       "      <td>0.027800</td>\n",
       "      <td>0.106923</td>\n",
       "      <td>1.0</td>\n",
       "    </tr>\n",
       "    <tr>\n",
       "      <td>2</td>\n",
       "      <td>0.205645</td>\n",
       "      <td>0.177419</td>\n",
       "      <td>0.302419</td>\n",
       "      <td>0.176075</td>\n",
       "      <td>0.030914</td>\n",
       "      <td>0.107527</td>\n",
       "      <td>1.0</td>\n",
       "    </tr>\n",
       "    <tr>\n",
       "      <td>3</td>\n",
       "      <td>0.195035</td>\n",
       "      <td>0.148936</td>\n",
       "      <td>0.333333</td>\n",
       "      <td>0.195035</td>\n",
       "      <td>0.028369</td>\n",
       "      <td>0.099291</td>\n",
       "      <td>1.0</td>\n",
       "    </tr>\n",
       "    <tr>\n",
       "      <td>4</td>\n",
       "      <td>NaN</td>\n",
       "      <td>0.166667</td>\n",
       "      <td>0.666667</td>\n",
       "      <td>0.166667</td>\n",
       "      <td>NaN</td>\n",
       "      <td>NaN</td>\n",
       "      <td>1.0</td>\n",
       "    </tr>\n",
       "  </tbody>\n",
       "</table>\n",
       "</div>"
      ],
      "text/plain": [
       "purpose_lemma  автомобиль     жилье  недвижимость  образование    ремонт  \\\n",
       "education_id                                                               \n",
       "0                0.197819  0.180601      0.298642     0.177922  0.030610   \n",
       "1                0.202486  0.180166      0.292368     0.190257  0.027800   \n",
       "2                0.205645  0.177419      0.302419     0.176075  0.030914   \n",
       "3                0.195035  0.148936      0.333333     0.195035  0.028369   \n",
       "4                     NaN  0.166667      0.666667     0.166667       NaN   \n",
       "\n",
       "purpose_lemma   свадьба  total  \n",
       "education_id                    \n",
       "0              0.114406    1.0  \n",
       "1              0.106923    1.0  \n",
       "2              0.107527    1.0  \n",
       "3              0.099291    1.0  \n",
       "4                   NaN    1.0  "
      ]
     },
     "execution_count": 154,
     "metadata": {},
     "output_type": "execute_result"
    }
   ],
   "source": [
    "pivot_edu_pur = df_scoring.pivot_table(index='education_id', columns='purpose_lemma', values='debt', aggfunc='count')\n",
    "\n",
    "pivot_edu_pur['total'] = pivot_edu_pur[purposes].sum(axis=1)\n",
    "pivot_edu_pur = pivot_edu_pur[purposes].div(pivot_edu_pur.total, axis=0)\n",
    "pivot_edu_pur['total'] = pivot_edu_pur[purposes].sum(axis=1)\n",
    "\n",
    "pivot_edu_pur"
   ]
  },
  {
   "cell_type": "markdown",
   "metadata": {},
   "source": [
    "Интересно, что у заемщиков с ВО чуть больше доля кредитов на свадьбы, а на образование меньше. У людей с СО - наоборот. Видимо кредит на образование СО берут как раз таки чтобы заплатить за получение ВО."
   ]
  },
  {
   "cell_type": "code",
   "execution_count": 155,
   "metadata": {},
   "outputs": [
    {
     "data": {
      "text/html": [
       "<div>\n",
       "<style scoped>\n",
       "    .dataframe tbody tr th:only-of-type {\n",
       "        vertical-align: middle;\n",
       "    }\n",
       "\n",
       "    .dataframe tbody tr th {\n",
       "        vertical-align: top;\n",
       "    }\n",
       "\n",
       "    .dataframe thead th {\n",
       "        text-align: right;\n",
       "    }\n",
       "</style>\n",
       "<table border=\"1\" class=\"dataframe\">\n",
       "  <thead>\n",
       "    <tr style=\"text-align: right;\">\n",
       "      <th>purpose_lemma</th>\n",
       "      <th>автомобиль</th>\n",
       "      <th>жилье</th>\n",
       "      <th>недвижимость</th>\n",
       "      <th>образование</th>\n",
       "      <th>ремонт</th>\n",
       "      <th>свадьба</th>\n",
       "    </tr>\n",
       "    <tr>\n",
       "      <th>education_id</th>\n",
       "      <th></th>\n",
       "      <th></th>\n",
       "      <th></th>\n",
       "      <th></th>\n",
       "      <th></th>\n",
       "      <th></th>\n",
       "    </tr>\n",
       "  </thead>\n",
       "  <tbody>\n",
       "    <tr>\n",
       "      <td>0</td>\n",
       "      <td>0.064797</td>\n",
       "      <td>0.045551</td>\n",
       "      <td>0.053171</td>\n",
       "      <td>0.059140</td>\n",
       "      <td>0.018750</td>\n",
       "      <td>0.045151</td>\n",
       "    </tr>\n",
       "    <tr>\n",
       "      <td>1</td>\n",
       "      <td>0.103300</td>\n",
       "      <td>0.077522</td>\n",
       "      <td>0.082971</td>\n",
       "      <td>0.104672</td>\n",
       "      <td>0.074519</td>\n",
       "      <td>0.093125</td>\n",
       "    </tr>\n",
       "    <tr>\n",
       "      <td>2</td>\n",
       "      <td>0.104575</td>\n",
       "      <td>0.113636</td>\n",
       "      <td>0.080000</td>\n",
       "      <td>0.091603</td>\n",
       "      <td>0.043478</td>\n",
       "      <td>0.075000</td>\n",
       "    </tr>\n",
       "    <tr>\n",
       "      <td>3</td>\n",
       "      <td>0.109091</td>\n",
       "      <td>0.142857</td>\n",
       "      <td>0.106383</td>\n",
       "      <td>0.090909</td>\n",
       "      <td>0.000000</td>\n",
       "      <td>0.142857</td>\n",
       "    </tr>\n",
       "    <tr>\n",
       "      <td>4</td>\n",
       "      <td>NaN</td>\n",
       "      <td>0.000000</td>\n",
       "      <td>0.000000</td>\n",
       "      <td>0.000000</td>\n",
       "      <td>NaN</td>\n",
       "      <td>NaN</td>\n",
       "    </tr>\n",
       "  </tbody>\n",
       "</table>\n",
       "</div>"
      ],
      "text/plain": [
       "purpose_lemma  автомобиль     жилье  недвижимость  образование    ремонт  \\\n",
       "education_id                                                               \n",
       "0                0.064797  0.045551      0.053171     0.059140  0.018750   \n",
       "1                0.103300  0.077522      0.082971     0.104672  0.074519   \n",
       "2                0.104575  0.113636      0.080000     0.091603  0.043478   \n",
       "3                0.109091  0.142857      0.106383     0.090909  0.000000   \n",
       "4                     NaN  0.000000      0.000000     0.000000       NaN   \n",
       "\n",
       "purpose_lemma   свадьба  \n",
       "education_id             \n",
       "0              0.045151  \n",
       "1              0.093125  \n",
       "2              0.075000  \n",
       "3              0.142857  \n",
       "4                   NaN  "
      ]
     },
     "execution_count": 155,
     "metadata": {},
     "output_type": "execute_result"
    }
   ],
   "source": [
    "pivot_edu_pur_debt = df_scoring.pivot_table(index='education_id', columns='purpose_lemma', values='debt', aggfunc='sum')\n",
    "pivot_edu_pur_no_debt = df_scoring.pivot_table(index='education_id', columns='purpose_lemma', values='debt', aggfunc='count')\n",
    "pivot_edu_pur_pc_debt = pivot_edu_pur_debt / pivot_edu_pur_no_debt\n",
    "pivot_edu_pur_pc_debt"
   ]
  },
  {
   "cell_type": "markdown",
   "metadata": {},
   "source": [
    "Что видим: \n",
    "* Интересно, что при том что люди с СО берут образовательные кредиты чаще, выплачивают они их хуже. Тут действует все та же гипотеза - они берут кредит чтобы получить ВО, и пока они студенты - у них с большей вероятностью есть трудности с доходом и следовательно выплатами. Мы естественно пердполагаем что это работающие студенты, которые в выборке фигурируют как сотрудники (кстати, самые плохие плательщики в своей категории), а не как студенты (студент мы помним был один :).\n",
    "* Не зависимо от образования, заемщики лучше всего возвращают кредиты за жилье - все стандартно"
   ]
  },
  {
   "cell_type": "markdown",
   "metadata": {},
   "source": [
    "#### Цели кредита в зависимости от пола"
   ]
  },
  {
   "cell_type": "markdown",
   "metadata": {},
   "source": [
    "Посмотрим какие кредиты берут заемщики в зависимости от пола."
   ]
  },
  {
   "cell_type": "code",
   "execution_count": 156,
   "metadata": {},
   "outputs": [
    {
     "data": {
      "text/html": [
       "<div>\n",
       "<style scoped>\n",
       "    .dataframe tbody tr th:only-of-type {\n",
       "        vertical-align: middle;\n",
       "    }\n",
       "\n",
       "    .dataframe tbody tr th {\n",
       "        vertical-align: top;\n",
       "    }\n",
       "\n",
       "    .dataframe thead th {\n",
       "        text-align: right;\n",
       "    }\n",
       "</style>\n",
       "<table border=\"1\" class=\"dataframe\">\n",
       "  <thead>\n",
       "    <tr style=\"text-align: right;\">\n",
       "      <th>purpose_lemma</th>\n",
       "      <th>автомобиль</th>\n",
       "      <th>жилье</th>\n",
       "      <th>недвижимость</th>\n",
       "      <th>образование</th>\n",
       "      <th>ремонт</th>\n",
       "      <th>свадьба</th>\n",
       "      <th>total</th>\n",
       "    </tr>\n",
       "    <tr>\n",
       "      <th>gender</th>\n",
       "      <th></th>\n",
       "      <th></th>\n",
       "      <th></th>\n",
       "      <th></th>\n",
       "      <th></th>\n",
       "      <th></th>\n",
       "      <th></th>\n",
       "    </tr>\n",
       "  </thead>\n",
       "  <tbody>\n",
       "    <tr>\n",
       "      <td>F</td>\n",
       "      <td>0.202443</td>\n",
       "      <td>0.177084</td>\n",
       "      <td>0.294450</td>\n",
       "      <td>0.187728</td>\n",
       "      <td>0.027931</td>\n",
       "      <td>0.110365</td>\n",
       "      <td>1.0</td>\n",
       "    </tr>\n",
       "    <tr>\n",
       "      <td>M</td>\n",
       "      <td>0.199086</td>\n",
       "      <td>0.184965</td>\n",
       "      <td>0.295722</td>\n",
       "      <td>0.184965</td>\n",
       "      <td>0.029904</td>\n",
       "      <td>0.105358</td>\n",
       "      <td>1.0</td>\n",
       "    </tr>\n",
       "    <tr>\n",
       "      <td>XNA</td>\n",
       "      <td>NaN</td>\n",
       "      <td>NaN</td>\n",
       "      <td>1.000000</td>\n",
       "      <td>NaN</td>\n",
       "      <td>NaN</td>\n",
       "      <td>NaN</td>\n",
       "      <td>1.0</td>\n",
       "    </tr>\n",
       "  </tbody>\n",
       "</table>\n",
       "</div>"
      ],
      "text/plain": [
       "purpose_lemma  автомобиль     жилье  недвижимость  образование    ремонт  \\\n",
       "gender                                                                     \n",
       "F                0.202443  0.177084      0.294450     0.187728  0.027931   \n",
       "M                0.199086  0.184965      0.295722     0.184965  0.029904   \n",
       "XNA                   NaN       NaN      1.000000          NaN       NaN   \n",
       "\n",
       "purpose_lemma   свадьба  total  \n",
       "gender                          \n",
       "F              0.110365    1.0  \n",
       "M              0.105358    1.0  \n",
       "XNA                 NaN    1.0  "
      ]
     },
     "execution_count": 156,
     "metadata": {},
     "output_type": "execute_result"
    }
   ],
   "source": [
    "pivot_gen_pur = df_scoring.pivot_table(index='gender', columns='purpose_lemma', values='debt', aggfunc='count')\n",
    "\n",
    "pivot_gen_pur['total'] = pivot_gen_pur[purposes].sum(axis=1)\n",
    "pivot_gen_pur = pivot_gen_pur[purposes].div(pivot_gen_pur.total, axis=0)\n",
    "pivot_gen_pur['total'] = pivot_gen_pur[purposes].sum(axis=1)\n",
    "\n",
    "pivot_gen_pur"
   ]
  },
  {
   "cell_type": "markdown",
   "metadata": {},
   "source": [
    "Берут одни и те же кредиты, в примерно одинаковом соотношении. Посмотрим процент должников по каждому виду кредита."
   ]
  },
  {
   "cell_type": "code",
   "execution_count": 157,
   "metadata": {},
   "outputs": [
    {
     "data": {
      "text/html": [
       "<div>\n",
       "<style scoped>\n",
       "    .dataframe tbody tr th:only-of-type {\n",
       "        vertical-align: middle;\n",
       "    }\n",
       "\n",
       "    .dataframe tbody tr th {\n",
       "        vertical-align: top;\n",
       "    }\n",
       "\n",
       "    .dataframe thead th {\n",
       "        text-align: right;\n",
       "    }\n",
       "</style>\n",
       "<table border=\"1\" class=\"dataframe\">\n",
       "  <thead>\n",
       "    <tr style=\"text-align: right;\">\n",
       "      <th>purpose_lemma</th>\n",
       "      <th>автомобиль</th>\n",
       "      <th>жилье</th>\n",
       "      <th>недвижимость</th>\n",
       "      <th>образование</th>\n",
       "      <th>ремонт</th>\n",
       "      <th>свадьба</th>\n",
       "    </tr>\n",
       "    <tr>\n",
       "      <th>gender</th>\n",
       "      <th></th>\n",
       "      <th></th>\n",
       "      <th></th>\n",
       "      <th></th>\n",
       "      <th></th>\n",
       "      <th></th>\n",
       "    </tr>\n",
       "  </thead>\n",
       "  <tbody>\n",
       "    <tr>\n",
       "      <td>F</td>\n",
       "      <td>0.082569</td>\n",
       "      <td>0.065752</td>\n",
       "      <td>0.062591</td>\n",
       "      <td>0.078767</td>\n",
       "      <td>0.058824</td>\n",
       "      <td>0.069903</td>\n",
       "    </tr>\n",
       "    <tr>\n",
       "      <td>M</td>\n",
       "      <td>0.116829</td>\n",
       "      <td>0.082335</td>\n",
       "      <td>0.101124</td>\n",
       "      <td>0.122006</td>\n",
       "      <td>0.055556</td>\n",
       "      <td>0.102497</td>\n",
       "    </tr>\n",
       "    <tr>\n",
       "      <td>XNA</td>\n",
       "      <td>NaN</td>\n",
       "      <td>NaN</td>\n",
       "      <td>0.000000</td>\n",
       "      <td>NaN</td>\n",
       "      <td>NaN</td>\n",
       "      <td>NaN</td>\n",
       "    </tr>\n",
       "  </tbody>\n",
       "</table>\n",
       "</div>"
      ],
      "text/plain": [
       "purpose_lemma  автомобиль     жилье  недвижимость  образование    ремонт  \\\n",
       "gender                                                                     \n",
       "F                0.082569  0.065752      0.062591     0.078767  0.058824   \n",
       "M                0.116829  0.082335      0.101124     0.122006  0.055556   \n",
       "XNA                   NaN       NaN      0.000000          NaN       NaN   \n",
       "\n",
       "purpose_lemma   свадьба  \n",
       "gender                   \n",
       "F              0.069903  \n",
       "M              0.102497  \n",
       "XNA                 NaN  "
      ]
     },
     "execution_count": 157,
     "metadata": {},
     "output_type": "execute_result"
    }
   ],
   "source": [
    "pivot_gen_pur_debt = df_scoring.pivot_table(index='gender', columns='purpose_lemma', values='debt', aggfunc='sum')\n",
    "pivot_gen_pur_no_debt = df_scoring.pivot_table(index='gender', columns='purpose_lemma', values='debt', aggfunc='count')\n",
    "pivot_gen_pur_pc_debt = pivot_gen_pur_debt / pivot_gen_pur_no_debt\n",
    "pivot_gen_pur_pc_debt"
   ]
  },
  {
   "cell_type": "markdown",
   "metadata": {},
   "source": [
    "Что видим: \n",
    "* Женщины платят лучше чем мужчины по всем видам кредитов.\n",
    "* Обе группы лучше всего платят за жилье и недвижимость, а хуже всего за образование и авто. Причем в мужской группе чаще как раз не платят за образование, а в женской - за авто."
   ]
  },
  {
   "cell_type": "markdown",
   "metadata": {},
   "source": [
    "#### Вывод"
   ]
  },
  {
   "cell_type": "markdown",
   "metadata": {},
   "source": [
    "Мы выяснили, что рассматривая комбинацию параметров, а не один параметр, можно обнаружить более интересные и неочевидные закономерности. Но пока у нас недостаточно опыта и знаний, чтобы комбинировать больше чем два параметра, и такой ручной перебор занял бы у нас очень много времени. Некоторые неочевидные вещи все же удалось заметить:"
   ]
  },
  {
   "cell_type": "markdown",
   "metadata": {},
   "source": [
    "**Вот на что банку стоит обратить внимание:** \n",
    "\n",
    "1. Самые худшие показатели по выплатам из всех комбинаций что мы рассмотрели:\n",
    "    \n",
    "    - ~15% должников (Если семейное положение = гражданский брак И цель кредита = образование)\n",
    "    - ~13% должников (Если возраст = молодые И цель кредита 0 = образование)  \n",
    "\n",
    "\n",
    "2. Самые лучшие показатели по выплатам из всех комбинаций что мы рассмотрели (~4.5% должников):\n",
    "    - Если образование = высшее И цель кредита = свадьба\n",
    "    - Если тип занятости = пенсионеры И цель кредита = недвижимость\n",
    "    - Если возраст = зрелые И цель кредита = недвижимость  \n",
    "\n",
    "\n",
    "3. Ранее мы видели, что в среднем хуже всего выплачивают кредиты за авто, а лучше всего за жилье.  \n",
    "    Из тех комбинаций, которые мы рассмотрели:  \n",
    "    - Худший показатель по выплате за авто у заемщиков в гражданском браке: ~13% должников\n",
    "    - Лучший показатель по выплате за жилье у заемщиков с высшим образованием: ~4,5% должников  \n",
    "\n",
    "\n",
    "4. Высокий доход не означает одинаково хороший процент возврата по всем видам кредита "
   ]
  },
  {
   "cell_type": "markdown",
   "metadata": {},
   "source": [
    "### Комбинации самых благонадежных и неблагонадежных заемщиков"
   ]
  },
  {
   "cell_type": "markdown",
   "metadata": {},
   "source": [
    "Цель этого раздела скорее любопытствование. Интересно посмотреть, предствлены ли вообще в выборке заемщики с самым лучшим и самым худшим профилем, и если да, то в каком соотношении (и ради самопроверки глянуть какой процент должников среди лучших и худших). Вызовем наш сводный ДФ из данных, которые мы собрали"
   ]
  },
  {
   "cell_type": "code",
   "execution_count": 158,
   "metadata": {},
   "outputs": [
    {
     "data": {
      "text/html": [
       "<div>\n",
       "<style scoped>\n",
       "    .dataframe tbody tr th:only-of-type {\n",
       "        vertical-align: middle;\n",
       "    }\n",
       "\n",
       "    .dataframe tbody tr th {\n",
       "        vertical-align: top;\n",
       "    }\n",
       "\n",
       "    .dataframe thead th {\n",
       "        text-align: right;\n",
       "    }\n",
       "</style>\n",
       "<table border=\"1\" class=\"dataframe\">\n",
       "  <thead>\n",
       "    <tr style=\"text-align: right;\">\n",
       "      <th></th>\n",
       "      <th>parameter</th>\n",
       "      <th>worst</th>\n",
       "      <th>worst_%</th>\n",
       "      <th>best</th>\n",
       "      <th>best_%</th>\n",
       "    </tr>\n",
       "  </thead>\n",
       "  <tbody>\n",
       "    <tr>\n",
       "      <td>0</td>\n",
       "      <td>children_id</td>\n",
       "      <td>1</td>\n",
       "      <td>0.092610</td>\n",
       "      <td>0</td>\n",
       "      <td>0.076392</td>\n",
       "    </tr>\n",
       "    <tr>\n",
       "      <td>1</td>\n",
       "      <td>family</td>\n",
       "      <td>Не женат / не замужем</td>\n",
       "      <td>0.098138</td>\n",
       "      <td>женат / замужем</td>\n",
       "      <td>0.076468</td>\n",
       "    </tr>\n",
       "    <tr>\n",
       "      <td>2</td>\n",
       "      <td>income_class</td>\n",
       "      <td>ниже сред</td>\n",
       "      <td>0.092308</td>\n",
       "      <td>богатые</td>\n",
       "      <td>0.072530</td>\n",
       "    </tr>\n",
       "    <tr>\n",
       "      <td>3</td>\n",
       "      <td>purpose</td>\n",
       "      <td>автомобиль</td>\n",
       "      <td>0.094101</td>\n",
       "      <td>жилье</td>\n",
       "      <td>0.071560</td>\n",
       "    </tr>\n",
       "    <tr>\n",
       "      <td>4</td>\n",
       "      <td>income_type</td>\n",
       "      <td>сотрудник</td>\n",
       "      <td>0.096724</td>\n",
       "      <td>пенсионер</td>\n",
       "      <td>0.057462</td>\n",
       "    </tr>\n",
       "    <tr>\n",
       "      <td>5</td>\n",
       "      <td>age_class</td>\n",
       "      <td>молодые</td>\n",
       "      <td>0.109923</td>\n",
       "      <td>зрелые</td>\n",
       "      <td>0.056840</td>\n",
       "    </tr>\n",
       "    <tr>\n",
       "      <td>6</td>\n",
       "      <td>education</td>\n",
       "      <td>среднее</td>\n",
       "      <td>0.091085</td>\n",
       "      <td>высшее</td>\n",
       "      <td>0.053185</td>\n",
       "    </tr>\n",
       "    <tr>\n",
       "      <td>7</td>\n",
       "      <td>gender</td>\n",
       "      <td>M</td>\n",
       "      <td>0.103420</td>\n",
       "      <td>F</td>\n",
       "      <td>0.070934</td>\n",
       "    </tr>\n",
       "  </tbody>\n",
       "</table>\n",
       "</div>"
      ],
      "text/plain": [
       "      parameter                  worst   worst_%             best    best_%\n",
       "0   children_id                      1  0.092610                0  0.076392\n",
       "1        family  Не женат / не замужем  0.098138  женат / замужем  0.076468\n",
       "2  income_class              ниже сред  0.092308          богатые  0.072530\n",
       "3       purpose             автомобиль  0.094101            жилье  0.071560\n",
       "4   income_type              сотрудник  0.096724        пенсионер  0.057462\n",
       "5     age_class                молодые  0.109923           зрелые  0.056840\n",
       "6     education                среднее  0.091085           высшее  0.053185\n",
       "7        gender                      M  0.103420                F  0.070934"
      ]
     },
     "execution_count": 158,
     "metadata": {},
     "output_type": "execute_result"
    }
   ],
   "source": [
    "summary"
   ]
  },
  {
   "cell_type": "markdown",
   "metadata": {},
   "source": [
    "Теперь отфильтруем ДФ так, чтобы все параметры имели худшие показатели."
   ]
  },
  {
   "cell_type": "code",
   "execution_count": 159,
   "metadata": {},
   "outputs": [
    {
     "data": {
      "text/plain": [
       "0"
      ]
     },
     "execution_count": 159,
     "metadata": {},
     "output_type": "execute_result"
    }
   ],
   "source": [
    "stop_list = df_scoring[(df_scoring['children_id'] == 1)\n",
    "                       & (df_scoring['family_status_id'] == 4)\n",
    "                       & (df_scoring['income_class'] == 'ниже сред')\n",
    "                       & (df_scoring['purpose_lemma'] == 'автомобиль')\n",
    "                       & (df_scoring['income_type'] == 'сотрудник')\n",
    "                       & (df_scoring['age_class'] == 'молодые')\n",
    "                       & (df_scoring['education_id'] == 1)\n",
    "                       & (df_scoring['gender'] == 'M')\n",
    "                      ]\n",
    "\n",
    "len(stop_list)"
   ]
  },
  {
   "cell_type": "markdown",
   "metadata": {},
   "source": [
    "Таких не было. Возможно это не случайно. Отфильтруем теперь комбинацию с лучшими параметрами."
   ]
  },
  {
   "cell_type": "code",
   "execution_count": 160,
   "metadata": {},
   "outputs": [
    {
     "data": {
      "text/plain": [
       "14"
      ]
     },
     "execution_count": 160,
     "metadata": {},
     "output_type": "execute_result"
    }
   ],
   "source": [
    "welcome_list = df_scoring[(df_scoring['children_id'] == 0)\n",
    "                          & (df_scoring['family_status_id'] == 0)\n",
    "                          & (df_scoring['income_class'] == 'богатые')\n",
    "                          & (df_scoring['purpose_lemma'] == 'жилье')\n",
    "                          & (df_scoring['income_type'] == 'пенсионер')\n",
    "                          & (df_scoring['age_class'] == 'зрелые')\n",
    "                          & (df_scoring['education_id'] == 0)\n",
    "                          & (df_scoring['gender'] == 'F')\n",
    "                         ]\n",
    "\n",
    "len(welcome_list)"
   ]
  },
  {
   "cell_type": "markdown",
   "metadata": {},
   "source": [
    "Целых 14. Для такого узкого запроса это не так мало. Посмотрим ради интереса сколько должников"
   ]
  },
  {
   "cell_type": "code",
   "execution_count": 161,
   "metadata": {},
   "outputs": [
    {
     "data": {
      "text/plain": [
       "1"
      ]
     },
     "execution_count": 161,
     "metadata": {},
     "output_type": "execute_result"
    }
   ],
   "source": [
    "welcome_list['debt'].sum()"
   ]
  },
  {
   "cell_type": "code",
   "execution_count": 162,
   "metadata": {},
   "outputs": [
    {
     "data": {
      "text/plain": [
       "0.07142857142857142"
      ]
     },
     "execution_count": 162,
     "metadata": {},
     "output_type": "execute_result"
    }
   ],
   "source": [
    "welcome_list['debt'].sum() / len(welcome_list)"
   ]
  },
  {
   "cell_type": "markdown",
   "metadata": {},
   "source": [
    "1 из 14 (7%)"
   ]
  },
  {
   "cell_type": "markdown",
   "metadata": {},
   "source": [
    "#### Вывод"
   ]
  },
  {
   "cell_type": "markdown",
   "metadata": {},
   "source": [
    "* Заемщиков с худшей комбинацией параметров в базе нет, а с лучшей целых 14. Все выглядит так, что банк понимает, кому выдавать, а кому не выдавать кредит"
   ]
  },
  {
   "cell_type": "markdown",
   "metadata": {},
   "source": [
    "## Общий вывод"
   ]
  },
  {
   "cell_type": "markdown",
   "metadata": {},
   "source": [
    "1. Мы обработали предоставленный банком .csv файл.\n",
    "    * Данные в файле были не идеальны, требовалось заполнение пропущенных значений, замена типов данных и удаление дубликатов, что мы и сделали. \n",
    "    * Мы категоризировали данные и сделали таблицу удобной для просмотра и анализа.\n",
    "   "
   ]
  },
  {
   "cell_type": "markdown",
   "metadata": {},
   "source": [
    "2. Мы увидели, что не все категории заемщиков представлены достаточно хорошо. Хуже всех были представлены:\n",
    "    * по семейному положению: вдовцы / вдовы + разведенные\n",
    "    * по количеству детей: заемщики с 3 детьми и более\n",
    "    * по уровню дохода: зажиточные\n",
    "    * по цели кредита: ремонт  \n",
    "    \n",
    "    По данным категориям нельзя сделать статистически обоснованные выводы, и рекомендуется провести анализ на более крупных выборках. "
   ]
  },
  {
   "cell_type": "markdown",
   "metadata": {},
   "source": [
    "3.   Мы выяснили, что задолженность по кредиту в целом не зависит напрямую от какого-то одного фактора, а зависит скорее от совокупности разных факторов, которые банк должен учитвать при выдаче кредита:  \n",
    "     Если сравнивать абсолютно любые группы по абсолютно любому (но одному) показателю - то всегда среди них будет лучшая и худшая группа. Нельзя рекомендовать банку увеличивать лучшие или исключать худшие **группы** только на основании одного показателя. Можно рекомендовать провести более глубокий анализ с помощью более продвинутых методов, и выявить лучшие и худшие **комбинации**, и далее активно выдавать кредиты лучшим, и не ввязываться в худшие. Некоторые из таких комбинаций мы выявили. "
   ]
  },
  {
   "cell_type": "markdown",
   "metadata": {},
   "source": [
    "4. Мы выяснили, что существует корреляция (но не обязательно причинно-следственная связь) между различными параметрами и возвратом кредита в срок. Приведем эти данные в наглядной форме таблицы. В столбцах `worst и worst_%` приведены худшие категории заемщиков среди выделенных групп и их показатели по выплатам, а лучшие приведены в столбцах `worst и worst_%`. Комбинация параметров в столбце `worst` является крайне нежелательной для банка, в столбце `best` - наиболее желательной."
   ]
  },
  {
   "cell_type": "code",
   "execution_count": 163,
   "metadata": {},
   "outputs": [
    {
     "data": {
      "text/html": [
       "<div>\n",
       "<style scoped>\n",
       "    .dataframe tbody tr th:only-of-type {\n",
       "        vertical-align: middle;\n",
       "    }\n",
       "\n",
       "    .dataframe tbody tr th {\n",
       "        vertical-align: top;\n",
       "    }\n",
       "\n",
       "    .dataframe thead th {\n",
       "        text-align: right;\n",
       "    }\n",
       "</style>\n",
       "<table border=\"1\" class=\"dataframe\">\n",
       "  <thead>\n",
       "    <tr style=\"text-align: right;\">\n",
       "      <th></th>\n",
       "      <th>parameter</th>\n",
       "      <th>worst</th>\n",
       "      <th>worst_%</th>\n",
       "      <th>best</th>\n",
       "      <th>best_%</th>\n",
       "    </tr>\n",
       "  </thead>\n",
       "  <tbody>\n",
       "    <tr>\n",
       "      <td>0</td>\n",
       "      <td>children_id</td>\n",
       "      <td>1</td>\n",
       "      <td>0.092610</td>\n",
       "      <td>0</td>\n",
       "      <td>0.076392</td>\n",
       "    </tr>\n",
       "    <tr>\n",
       "      <td>1</td>\n",
       "      <td>family</td>\n",
       "      <td>Не женат / не замужем</td>\n",
       "      <td>0.098138</td>\n",
       "      <td>женат / замужем</td>\n",
       "      <td>0.076468</td>\n",
       "    </tr>\n",
       "    <tr>\n",
       "      <td>2</td>\n",
       "      <td>income_class</td>\n",
       "      <td>ниже сред</td>\n",
       "      <td>0.092308</td>\n",
       "      <td>богатые</td>\n",
       "      <td>0.072530</td>\n",
       "    </tr>\n",
       "    <tr>\n",
       "      <td>3</td>\n",
       "      <td>purpose</td>\n",
       "      <td>автомобиль</td>\n",
       "      <td>0.094101</td>\n",
       "      <td>жилье</td>\n",
       "      <td>0.071560</td>\n",
       "    </tr>\n",
       "    <tr>\n",
       "      <td>4</td>\n",
       "      <td>income_type</td>\n",
       "      <td>сотрудник</td>\n",
       "      <td>0.096724</td>\n",
       "      <td>пенсионер</td>\n",
       "      <td>0.057462</td>\n",
       "    </tr>\n",
       "    <tr>\n",
       "      <td>5</td>\n",
       "      <td>age_class</td>\n",
       "      <td>молодые</td>\n",
       "      <td>0.109923</td>\n",
       "      <td>зрелые</td>\n",
       "      <td>0.056840</td>\n",
       "    </tr>\n",
       "    <tr>\n",
       "      <td>6</td>\n",
       "      <td>education</td>\n",
       "      <td>среднее</td>\n",
       "      <td>0.091085</td>\n",
       "      <td>высшее</td>\n",
       "      <td>0.053185</td>\n",
       "    </tr>\n",
       "    <tr>\n",
       "      <td>7</td>\n",
       "      <td>gender</td>\n",
       "      <td>M</td>\n",
       "      <td>0.103420</td>\n",
       "      <td>F</td>\n",
       "      <td>0.070934</td>\n",
       "    </tr>\n",
       "  </tbody>\n",
       "</table>\n",
       "</div>"
      ],
      "text/plain": [
       "      parameter                  worst   worst_%             best    best_%\n",
       "0   children_id                      1  0.092610                0  0.076392\n",
       "1        family  Не женат / не замужем  0.098138  женат / замужем  0.076468\n",
       "2  income_class              ниже сред  0.092308          богатые  0.072530\n",
       "3       purpose             автомобиль  0.094101            жилье  0.071560\n",
       "4   income_type              сотрудник  0.096724        пенсионер  0.057462\n",
       "5     age_class                молодые  0.109923           зрелые  0.056840\n",
       "6     education                среднее  0.091085           высшее  0.053185\n",
       "7        gender                      M  0.103420                F  0.070934"
      ]
     },
     "execution_count": 163,
     "metadata": {},
     "output_type": "execute_result"
    }
   ],
   "source": [
    "summary"
   ]
  },
  {
   "cell_type": "markdown",
   "metadata": {},
   "source": [
    "5.  Мы полагаем, что цель банка не в том, чтобы полностью избавиться от должников - это было бы нереально. Цель скорее в том, чтобы диверсифицировать свои риски, соблюдая баланс между более благонадежными и менее благонадежными комбинациями заемщиков, таким образом, чтобы в конечном итоге это было выгодно для банка. Исходя из того что мы увидели - банк уже проводит неплохую работу в этом направлении."
   ]
  }
 ],
 "metadata": {
  "ExecuteTimeLog": [
   {
    "duration": 738,
    "start_time": "2021-09-28T19:35:19.751Z"
   },
   {
    "duration": 68,
    "start_time": "2021-09-28T19:35:20.492Z"
   },
   {
    "duration": 26,
    "start_time": "2021-09-28T19:35:20.563Z"
   },
   {
    "duration": 43,
    "start_time": "2021-09-28T19:35:20.592Z"
   },
   {
    "duration": 5,
    "start_time": "2021-09-28T19:35:20.638Z"
   },
   {
    "duration": 25,
    "start_time": "2021-09-28T19:35:20.645Z"
   },
   {
    "duration": 8,
    "start_time": "2021-09-28T19:35:20.672Z"
   },
   {
    "duration": 16,
    "start_time": "2021-09-28T19:35:20.684Z"
   },
   {
    "duration": 17,
    "start_time": "2021-09-28T19:35:20.722Z"
   },
   {
    "duration": 17,
    "start_time": "2021-09-28T19:35:20.742Z"
   },
   {
    "duration": 6,
    "start_time": "2021-09-28T19:35:20.761Z"
   },
   {
    "duration": 11,
    "start_time": "2021-09-28T19:35:20.769Z"
   },
   {
    "duration": 56,
    "start_time": "2021-09-28T19:35:20.782Z"
   },
   {
    "duration": 16,
    "start_time": "2021-09-28T19:35:20.840Z"
   },
   {
    "duration": 10,
    "start_time": "2021-09-28T19:35:20.859Z"
   },
   {
    "duration": 32,
    "start_time": "2021-09-28T19:35:20.871Z"
   },
   {
    "duration": 30,
    "start_time": "2021-09-28T19:35:20.906Z"
   },
   {
    "duration": 23,
    "start_time": "2021-09-28T19:35:20.939Z"
   },
   {
    "duration": 26,
    "start_time": "2021-09-28T19:35:20.964Z"
   },
   {
    "duration": 666,
    "start_time": "2021-09-28T19:35:20.992Z"
   },
   {
    "duration": 11,
    "start_time": "2021-09-28T19:35:21.660Z"
   },
   {
    "duration": 12,
    "start_time": "2021-09-28T19:35:21.673Z"
   },
   {
    "duration": 33,
    "start_time": "2021-09-28T19:35:21.691Z"
   },
   {
    "duration": 9,
    "start_time": "2021-09-28T19:35:21.727Z"
   },
   {
    "duration": 14,
    "start_time": "2021-09-28T19:35:21.738Z"
   },
   {
    "duration": 10,
    "start_time": "2021-09-28T19:35:21.754Z"
   },
   {
    "duration": 25,
    "start_time": "2021-09-28T19:35:21.767Z"
   },
   {
    "duration": 46,
    "start_time": "2021-09-28T19:35:21.794Z"
   },
   {
    "duration": 24,
    "start_time": "2021-09-28T19:35:21.843Z"
   },
   {
    "duration": 20,
    "start_time": "2021-09-28T19:35:21.869Z"
   },
   {
    "duration": 5,
    "start_time": "2021-09-28T19:35:21.923Z"
   },
   {
    "duration": 9,
    "start_time": "2021-09-28T19:35:21.930Z"
   },
   {
    "duration": 17,
    "start_time": "2021-09-28T19:35:21.941Z"
   },
   {
    "duration": 63,
    "start_time": "2021-09-28T19:35:21.960Z"
   },
   {
    "duration": 18,
    "start_time": "2021-09-28T19:35:22.025Z"
   },
   {
    "duration": 18,
    "start_time": "2021-09-28T19:35:22.045Z"
   },
   {
    "duration": 22,
    "start_time": "2021-09-28T19:35:22.066Z"
   },
   {
    "duration": 42,
    "start_time": "2021-09-28T19:35:22.091Z"
   },
   {
    "duration": 8,
    "start_time": "2021-09-28T19:35:22.135Z"
   },
   {
    "duration": 16,
    "start_time": "2021-09-28T19:35:22.145Z"
   },
   {
    "duration": 17,
    "start_time": "2021-09-28T19:35:22.163Z"
   },
   {
    "duration": 65,
    "start_time": "2021-09-28T19:35:22.183Z"
   },
   {
    "duration": 10,
    "start_time": "2021-09-28T19:35:22.250Z"
   },
   {
    "duration": 11,
    "start_time": "2021-09-28T19:35:22.262Z"
   },
   {
    "duration": 15,
    "start_time": "2021-09-28T19:35:22.275Z"
   },
   {
    "duration": 27,
    "start_time": "2021-09-28T19:35:22.323Z"
   },
   {
    "duration": 632,
    "start_time": "2021-09-28T19:35:22.352Z"
   },
   {
    "duration": 9,
    "start_time": "2021-09-28T19:35:22.987Z"
   },
   {
    "duration": 26,
    "start_time": "2021-09-28T19:35:22.998Z"
   },
   {
    "duration": 15,
    "start_time": "2021-09-28T19:35:23.026Z"
   },
   {
    "duration": 9,
    "start_time": "2021-09-28T19:35:23.044Z"
   },
   {
    "duration": 6,
    "start_time": "2021-09-28T19:35:23.055Z"
   },
   {
    "duration": 12,
    "start_time": "2021-09-28T19:35:23.065Z"
   },
   {
    "duration": 3135,
    "start_time": "2021-09-28T19:35:23.080Z"
   },
   {
    "duration": 21,
    "start_time": "2021-09-28T19:35:26.218Z"
   },
   {
    "duration": 21,
    "start_time": "2021-09-28T19:35:26.242Z"
   },
   {
    "duration": 3660,
    "start_time": "2021-09-28T19:35:26.266Z"
   },
   {
    "duration": 17,
    "start_time": "2021-09-28T19:35:29.928Z"
   },
   {
    "duration": 47,
    "start_time": "2021-09-28T19:35:29.947Z"
   },
   {
    "duration": 40,
    "start_time": "2021-09-28T19:35:29.997Z"
   },
   {
    "duration": 16,
    "start_time": "2021-09-28T19:35:30.039Z"
   },
   {
    "duration": 27,
    "start_time": "2021-09-28T19:35:30.058Z"
   },
   {
    "duration": 29,
    "start_time": "2021-09-28T19:35:30.088Z"
   },
   {
    "duration": 30,
    "start_time": "2021-09-28T19:35:30.120Z"
   },
   {
    "duration": 19,
    "start_time": "2021-09-28T19:35:30.153Z"
   },
   {
    "duration": 46,
    "start_time": "2021-09-28T19:35:30.174Z"
   },
   {
    "duration": 18,
    "start_time": "2021-09-28T19:35:30.222Z"
   },
   {
    "duration": 13,
    "start_time": "2021-09-28T19:35:30.252Z"
   },
   {
    "duration": 31,
    "start_time": "2021-09-28T19:35:30.270Z"
   },
   {
    "duration": 32,
    "start_time": "2021-09-28T19:35:30.304Z"
   },
   {
    "duration": 35,
    "start_time": "2021-09-28T19:35:30.338Z"
   },
   {
    "duration": 31,
    "start_time": "2021-09-28T19:35:30.376Z"
   },
   {
    "duration": 31,
    "start_time": "2021-09-28T19:35:30.409Z"
   },
   {
    "duration": 26,
    "start_time": "2021-09-28T19:35:30.442Z"
   },
   {
    "duration": 26,
    "start_time": "2021-09-28T19:35:30.470Z"
   },
   {
    "duration": 30,
    "start_time": "2021-09-28T19:35:30.498Z"
   },
   {
    "duration": 23,
    "start_time": "2021-09-28T19:35:30.531Z"
   },
   {
    "duration": 37,
    "start_time": "2021-09-28T19:35:30.556Z"
   },
   {
    "duration": 32,
    "start_time": "2021-09-28T19:35:30.596Z"
   },
   {
    "duration": 16,
    "start_time": "2021-09-28T19:35:30.631Z"
   },
   {
    "duration": 28,
    "start_time": "2021-09-28T19:35:30.649Z"
   },
   {
    "duration": 20,
    "start_time": "2021-09-28T19:35:30.679Z"
   },
   {
    "duration": 35,
    "start_time": "2021-09-28T19:35:30.701Z"
   },
   {
    "duration": 16,
    "start_time": "2021-09-28T19:35:30.738Z"
   },
   {
    "duration": 30,
    "start_time": "2021-09-28T19:35:30.757Z"
   },
   {
    "duration": 17,
    "start_time": "2021-09-28T19:35:30.790Z"
   },
   {
    "duration": 37,
    "start_time": "2021-09-28T19:35:30.810Z"
   },
   {
    "duration": 25,
    "start_time": "2021-09-28T19:35:30.850Z"
   },
   {
    "duration": 44,
    "start_time": "2021-09-28T19:35:30.877Z"
   },
   {
    "duration": 13,
    "start_time": "2021-09-28T19:35:30.923Z"
   },
   {
    "duration": 29,
    "start_time": "2021-09-28T19:35:30.938Z"
   },
   {
    "duration": 35,
    "start_time": "2021-09-28T19:35:30.969Z"
   },
   {
    "duration": 45,
    "start_time": "2021-09-28T19:35:31.006Z"
   },
   {
    "duration": 48,
    "start_time": "2021-09-28T19:35:31.053Z"
   },
   {
    "duration": 30,
    "start_time": "2021-09-28T19:35:31.104Z"
   },
   {
    "duration": 21,
    "start_time": "2021-09-28T19:35:31.137Z"
   },
   {
    "duration": 430,
    "start_time": "2021-09-28T19:35:31.161Z"
   },
   {
    "duration": -16237,
    "start_time": "2021-09-28T19:35:47.831Z"
   },
   {
    "duration": -16258,
    "start_time": "2021-09-28T19:35:47.853Z"
   },
   {
    "duration": -16324,
    "start_time": "2021-09-28T19:35:47.920Z"
   },
   {
    "duration": -16336,
    "start_time": "2021-09-28T19:35:47.934Z"
   },
   {
    "duration": -16351,
    "start_time": "2021-09-28T19:35:47.950Z"
   },
   {
    "duration": -16366,
    "start_time": "2021-09-28T19:35:47.967Z"
   },
   {
    "duration": -16382,
    "start_time": "2021-09-28T19:35:47.984Z"
   },
   {
    "duration": -16393,
    "start_time": "2021-09-28T19:35:47.997Z"
   },
   {
    "duration": -16406,
    "start_time": "2021-09-28T19:35:48.011Z"
   },
   {
    "duration": -16435,
    "start_time": "2021-09-28T19:35:48.042Z"
   },
   {
    "duration": -16451,
    "start_time": "2021-09-28T19:35:48.059Z"
   },
   {
    "duration": -16466,
    "start_time": "2021-09-28T19:35:48.076Z"
   },
   {
    "duration": -16482,
    "start_time": "2021-09-28T19:35:48.093Z"
   },
   {
    "duration": -16494,
    "start_time": "2021-09-28T19:35:48.107Z"
   },
   {
    "duration": -16510,
    "start_time": "2021-09-28T19:35:48.124Z"
   },
   {
    "duration": -16535,
    "start_time": "2021-09-28T19:35:48.151Z"
   },
   {
    "duration": -16551,
    "start_time": "2021-09-28T19:35:48.169Z"
   },
   {
    "duration": -16566,
    "start_time": "2021-09-28T19:35:48.185Z"
   },
   {
    "duration": -16580,
    "start_time": "2021-09-28T19:35:48.201Z"
   },
   {
    "duration": -16592,
    "start_time": "2021-09-28T19:35:48.214Z"
   },
   {
    "duration": -16610,
    "start_time": "2021-09-28T19:35:48.234Z"
   },
   {
    "duration": -16649,
    "start_time": "2021-09-28T19:35:48.274Z"
   },
   {
    "duration": -16665,
    "start_time": "2021-09-28T19:35:48.292Z"
   },
   {
    "duration": -16678,
    "start_time": "2021-09-28T19:35:48.306Z"
   },
   {
    "duration": -16691,
    "start_time": "2021-09-28T19:35:48.320Z"
   },
   {
    "duration": -16703,
    "start_time": "2021-09-28T19:35:48.334Z"
   },
   {
    "duration": -16716,
    "start_time": "2021-09-28T19:35:48.348Z"
   },
   {
    "duration": -16727,
    "start_time": "2021-09-28T19:35:48.361Z"
   },
   {
    "duration": -16755,
    "start_time": "2021-09-28T19:35:48.390Z"
   },
   {
    "duration": -16767,
    "start_time": "2021-09-28T19:35:48.403Z"
   },
   {
    "duration": -16782,
    "start_time": "2021-09-28T19:35:48.420Z"
   },
   {
    "duration": -16798,
    "start_time": "2021-09-28T19:35:48.437Z"
   },
   {
    "duration": -16810,
    "start_time": "2021-09-28T19:35:48.451Z"
   },
   {
    "duration": -16822,
    "start_time": "2021-09-28T19:35:48.464Z"
   },
   {
    "duration": -16840,
    "start_time": "2021-09-28T19:35:48.483Z"
   },
   {
    "duration": -16871,
    "start_time": "2021-09-28T19:35:48.516Z"
   },
   {
    "duration": -16884,
    "start_time": "2021-09-28T19:35:48.530Z"
   },
   {
    "duration": -16896,
    "start_time": "2021-09-28T19:35:48.543Z"
   },
   {
    "duration": -16908,
    "start_time": "2021-09-28T19:35:48.557Z"
   },
   {
    "duration": -16922,
    "start_time": "2021-09-28T19:35:48.572Z"
   },
   {
    "duration": -16937,
    "start_time": "2021-09-28T19:35:48.588Z"
   },
   {
    "duration": -16951,
    "start_time": "2021-09-28T19:35:48.604Z"
   },
   {
    "duration": -16979,
    "start_time": "2021-09-28T19:35:48.633Z"
   },
   {
    "duration": -16997,
    "start_time": "2021-09-28T19:35:48.653Z"
   },
   {
    "duration": -17016,
    "start_time": "2021-09-28T19:35:48.673Z"
   },
   {
    "duration": -17033,
    "start_time": "2021-09-28T19:35:48.691Z"
   },
   {
    "duration": -17055,
    "start_time": "2021-09-28T19:35:48.715Z"
   },
   {
    "duration": -17074,
    "start_time": "2021-09-28T19:35:48.735Z"
   },
   {
    "duration": -17059,
    "start_time": "2021-09-28T19:35:48.782Z"
   },
   {
    "duration": -17079,
    "start_time": "2021-09-28T19:35:48.803Z"
   },
   {
    "duration": -17101,
    "start_time": "2021-09-28T19:35:48.827Z"
   },
   {
    "duration": -17126,
    "start_time": "2021-09-28T19:35:48.853Z"
   },
   {
    "duration": -17148,
    "start_time": "2021-09-28T19:35:48.876Z"
   },
   {
    "duration": -17181,
    "start_time": "2021-09-28T19:35:48.910Z"
   },
   {
    "duration": -17196,
    "start_time": "2021-09-28T19:35:48.927Z"
   },
   {
    "duration": -17216,
    "start_time": "2021-09-28T19:35:48.948Z"
   },
   {
    "duration": -18496,
    "start_time": "2021-09-28T19:35:50.230Z"
   },
   {
    "duration": -18509,
    "start_time": "2021-09-28T19:35:50.244Z"
   },
   {
    "duration": -18542,
    "start_time": "2021-09-28T19:35:50.278Z"
   },
   {
    "duration": -18559,
    "start_time": "2021-09-28T19:35:50.297Z"
   },
   {
    "duration": -18581,
    "start_time": "2021-09-28T19:35:50.320Z"
   },
   {
    "duration": -18599,
    "start_time": "2021-09-28T19:35:50.339Z"
   },
   {
    "duration": -18657,
    "start_time": "2021-09-28T19:35:50.399Z"
   },
   {
    "duration": -18672,
    "start_time": "2021-09-28T19:35:50.415Z"
   },
   {
    "duration": -18688,
    "start_time": "2021-09-28T19:35:50.433Z"
   },
   {
    "duration": -18702,
    "start_time": "2021-09-28T19:35:50.448Z"
   },
   {
    "duration": 11,
    "start_time": "2021-09-28T19:37:41.458Z"
   },
   {
    "duration": 20,
    "start_time": "2021-09-28T19:38:10.454Z"
   },
   {
    "duration": 26,
    "start_time": "2021-09-28T19:38:57.187Z"
   },
   {
    "duration": 17,
    "start_time": "2021-09-28T19:38:57.215Z"
   },
   {
    "duration": 15,
    "start_time": "2021-09-28T19:38:57.235Z"
   },
   {
    "duration": 11,
    "start_time": "2021-09-28T19:38:57.253Z"
   },
   {
    "duration": 14,
    "start_time": "2021-09-28T19:38:57.267Z"
   },
   {
    "duration": 52,
    "start_time": "2021-09-28T19:38:57.284Z"
   },
   {
    "duration": 8,
    "start_time": "2021-09-28T19:38:57.339Z"
   },
   {
    "duration": 11,
    "start_time": "2021-09-28T19:38:57.350Z"
   },
   {
    "duration": 9,
    "start_time": "2021-09-28T19:38:57.363Z"
   },
   {
    "duration": 59,
    "start_time": "2021-09-28T19:38:57.374Z"
   },
   {
    "duration": 17,
    "start_time": "2021-09-28T19:38:57.436Z"
   },
   {
    "duration": 9,
    "start_time": "2021-09-28T19:38:57.456Z"
   },
   {
    "duration": 10,
    "start_time": "2021-09-28T19:38:57.468Z"
   },
   {
    "duration": 64,
    "start_time": "2021-09-28T19:38:57.480Z"
   },
   {
    "duration": 13,
    "start_time": "2021-09-28T19:38:57.547Z"
   },
   {
    "duration": 36,
    "start_time": "2021-09-28T19:38:57.562Z"
   },
   {
    "duration": 9,
    "start_time": "2021-09-28T19:38:57.623Z"
   },
   {
    "duration": 17,
    "start_time": "2021-09-28T19:38:57.635Z"
   },
   {
    "duration": 17,
    "start_time": "2021-09-28T19:38:57.655Z"
   },
   {
    "duration": 38,
    "start_time": "2021-09-28T19:38:57.675Z"
   },
   {
    "duration": 39,
    "start_time": "2021-09-28T19:38:57.715Z"
   },
   {
    "duration": 10,
    "start_time": "2021-09-28T19:38:57.757Z"
   },
   {
    "duration": 27,
    "start_time": "2021-09-28T19:38:57.770Z"
   },
   {
    "duration": 27,
    "start_time": "2021-09-28T19:38:57.799Z"
   },
   {
    "duration": 29,
    "start_time": "2021-09-28T19:38:57.828Z"
   },
   {
    "duration": 18,
    "start_time": "2021-09-28T19:38:57.861Z"
   },
   {
    "duration": 18,
    "start_time": "2021-09-28T19:38:57.881Z"
   },
   {
    "duration": 33,
    "start_time": "2021-09-28T19:38:57.901Z"
   },
   {
    "duration": 24,
    "start_time": "2021-09-28T19:38:57.936Z"
   },
   {
    "duration": 9,
    "start_time": "2021-09-28T19:38:57.962Z"
   },
   {
    "duration": 18,
    "start_time": "2021-09-28T19:38:57.974Z"
   },
   {
    "duration": 30,
    "start_time": "2021-09-28T19:38:57.995Z"
   },
   {
    "duration": 41,
    "start_time": "2021-09-28T19:38:58.028Z"
   },
   {
    "duration": 8,
    "start_time": "2021-09-28T19:38:58.073Z"
   },
   {
    "duration": 42,
    "start_time": "2021-09-28T19:38:58.084Z"
   },
   {
    "duration": 6,
    "start_time": "2021-09-28T19:38:58.129Z"
   },
   {
    "duration": 29,
    "start_time": "2021-09-28T19:38:58.137Z"
   },
   {
    "duration": 20,
    "start_time": "2021-09-28T19:38:58.168Z"
   },
   {
    "duration": 37,
    "start_time": "2021-09-28T19:38:58.192Z"
   },
   {
    "duration": 3,
    "start_time": "2021-09-28T19:38:58.232Z"
   },
   {
    "duration": 42,
    "start_time": "2021-09-28T19:38:58.237Z"
   },
   {
    "duration": 36,
    "start_time": "2021-09-28T19:38:58.281Z"
   },
   {
    "duration": 6,
    "start_time": "2021-09-28T19:38:58.319Z"
   },
   {
    "duration": 18,
    "start_time": "2021-09-28T19:38:58.327Z"
   },
   {
    "duration": 45,
    "start_time": "2021-09-28T19:38:58.348Z"
   },
   {
    "duration": 76,
    "start_time": "2021-09-28T19:38:58.396Z"
   },
   {
    "duration": 9,
    "start_time": "2021-09-28T19:38:58.475Z"
   },
   {
    "duration": 66,
    "start_time": "2021-09-28T19:38:58.487Z"
   },
   {
    "duration": 68,
    "start_time": "2021-09-28T19:38:58.556Z"
   },
   {
    "duration": 44,
    "start_time": "2021-09-28T19:38:58.626Z"
   },
   {
    "duration": 79,
    "start_time": "2021-09-28T19:38:58.672Z"
   },
   {
    "duration": 36,
    "start_time": "2021-09-28T19:38:58.754Z"
   },
   {
    "duration": 63,
    "start_time": "2021-09-28T19:38:58.793Z"
   },
   {
    "duration": 40,
    "start_time": "2021-09-28T19:38:58.859Z"
   },
   {
    "duration": 10,
    "start_time": "2021-09-28T19:38:58.924Z"
   },
   {
    "duration": 55,
    "start_time": "2021-09-28T19:38:58.937Z"
   },
   {
    "duration": 63,
    "start_time": "2021-09-28T19:38:58.995Z"
   },
   {
    "duration": 73,
    "start_time": "2021-09-28T19:38:59.060Z"
   },
   {
    "duration": 43,
    "start_time": "2021-09-28T19:38:59.136Z"
   },
   {
    "duration": 79,
    "start_time": "2021-09-28T19:38:59.182Z"
   },
   {
    "duration": 12,
    "start_time": "2021-09-28T19:38:59.264Z"
   },
   {
    "duration": 53,
    "start_time": "2021-09-28T19:38:59.278Z"
   },
   {
    "duration": 22,
    "start_time": "2021-09-28T19:38:59.334Z"
   },
   {
    "duration": 19,
    "start_time": "2021-09-28T19:38:59.359Z"
   },
   {
    "duration": 27,
    "start_time": "2021-09-28T19:38:59.380Z"
   },
   {
    "duration": 32,
    "start_time": "2021-09-28T19:38:59.410Z"
   },
   {
    "duration": 546,
    "start_time": "2021-10-26T11:07:20.809Z"
   },
   {
    "duration": 51,
    "start_time": "2021-10-26T11:07:21.357Z"
   },
   {
    "duration": 16,
    "start_time": "2021-10-26T11:07:21.410Z"
   },
   {
    "duration": 11,
    "start_time": "2021-10-26T11:07:21.428Z"
   },
   {
    "duration": 3,
    "start_time": "2021-10-26T11:07:21.441Z"
   },
   {
    "duration": 9,
    "start_time": "2021-10-26T11:07:21.446Z"
   },
   {
    "duration": 35,
    "start_time": "2021-10-26T11:07:21.457Z"
   },
   {
    "duration": 5,
    "start_time": "2021-10-26T11:07:21.494Z"
   },
   {
    "duration": 11,
    "start_time": "2021-10-26T11:07:21.501Z"
   },
   {
    "duration": 10,
    "start_time": "2021-10-26T11:07:21.514Z"
   },
   {
    "duration": 3,
    "start_time": "2021-10-26T11:07:21.526Z"
   },
   {
    "duration": 13,
    "start_time": "2021-10-26T11:07:21.531Z"
   },
   {
    "duration": 14,
    "start_time": "2021-10-26T11:07:21.545Z"
   },
   {
    "duration": 34,
    "start_time": "2021-10-26T11:07:21.560Z"
   },
   {
    "duration": 10,
    "start_time": "2021-10-26T11:07:21.596Z"
   },
   {
    "duration": 7,
    "start_time": "2021-10-26T11:07:21.608Z"
   },
   {
    "duration": 5,
    "start_time": "2021-10-26T11:07:21.616Z"
   },
   {
    "duration": 7,
    "start_time": "2021-10-26T11:07:21.622Z"
   },
   {
    "duration": 10,
    "start_time": "2021-10-26T11:07:21.630Z"
   },
   {
    "duration": 383,
    "start_time": "2021-10-26T11:07:21.642Z"
   },
   {
    "duration": 9,
    "start_time": "2021-10-26T11:07:22.026Z"
   },
   {
    "duration": 7,
    "start_time": "2021-10-26T11:07:22.037Z"
   },
   {
    "duration": 5,
    "start_time": "2021-10-26T11:07:22.047Z"
   },
   {
    "duration": 4,
    "start_time": "2021-10-26T11:07:22.054Z"
   },
   {
    "duration": 33,
    "start_time": "2021-10-26T11:07:22.059Z"
   },
   {
    "duration": 8,
    "start_time": "2021-10-26T11:07:22.093Z"
   },
   {
    "duration": 18,
    "start_time": "2021-10-26T11:07:22.103Z"
   },
   {
    "duration": 12,
    "start_time": "2021-10-26T11:07:22.122Z"
   },
   {
    "duration": 15,
    "start_time": "2021-10-26T11:07:22.135Z"
   },
   {
    "duration": 13,
    "start_time": "2021-10-26T11:07:22.151Z"
   },
   {
    "duration": 27,
    "start_time": "2021-10-26T11:07:22.165Z"
   },
   {
    "duration": 3,
    "start_time": "2021-10-26T11:07:22.194Z"
   },
   {
    "duration": 10,
    "start_time": "2021-10-26T11:07:22.199Z"
   },
   {
    "duration": 18,
    "start_time": "2021-10-26T11:07:22.211Z"
   },
   {
    "duration": 14,
    "start_time": "2021-10-26T11:07:22.230Z"
   },
   {
    "duration": 9,
    "start_time": "2021-10-26T11:07:22.246Z"
   },
   {
    "duration": 11,
    "start_time": "2021-10-26T11:07:22.292Z"
   },
   {
    "duration": 13,
    "start_time": "2021-10-26T11:07:22.305Z"
   },
   {
    "duration": 6,
    "start_time": "2021-10-26T11:07:22.319Z"
   },
   {
    "duration": 3,
    "start_time": "2021-10-26T11:07:22.327Z"
   },
   {
    "duration": 6,
    "start_time": "2021-10-26T11:07:22.332Z"
   },
   {
    "duration": 58,
    "start_time": "2021-10-26T11:07:22.340Z"
   },
   {
    "duration": 6,
    "start_time": "2021-10-26T11:07:22.400Z"
   },
   {
    "duration": 6,
    "start_time": "2021-10-26T11:07:22.408Z"
   },
   {
    "duration": 6,
    "start_time": "2021-10-26T11:07:22.416Z"
   },
   {
    "duration": 16,
    "start_time": "2021-10-26T11:07:22.423Z"
   },
   {
    "duration": 378,
    "start_time": "2021-10-26T11:07:22.440Z"
   },
   {
    "duration": 6,
    "start_time": "2021-10-26T11:07:22.819Z"
   },
   {
    "duration": 6,
    "start_time": "2021-10-26T11:07:22.827Z"
   },
   {
    "duration": 4,
    "start_time": "2021-10-26T11:07:22.835Z"
   },
   {
    "duration": 5,
    "start_time": "2021-10-26T11:07:22.841Z"
   },
   {
    "duration": 5,
    "start_time": "2021-10-26T11:07:22.847Z"
   },
   {
    "duration": 6,
    "start_time": "2021-10-26T11:07:22.853Z"
   },
   {
    "duration": 2333,
    "start_time": "2021-10-26T11:07:22.860Z"
   },
   {
    "duration": 14,
    "start_time": "2021-10-26T11:07:25.195Z"
   },
   {
    "duration": 7,
    "start_time": "2021-10-26T11:07:25.210Z"
   },
   {
    "duration": 2635,
    "start_time": "2021-10-26T11:07:25.218Z"
   },
   {
    "duration": 12,
    "start_time": "2021-10-26T11:07:27.854Z"
   },
   {
    "duration": 40,
    "start_time": "2021-10-26T11:07:27.867Z"
   },
   {
    "duration": 15,
    "start_time": "2021-10-26T11:07:27.908Z"
   },
   {
    "duration": 4,
    "start_time": "2021-10-26T11:07:27.925Z"
   },
   {
    "duration": 12,
    "start_time": "2021-10-26T11:07:27.931Z"
   },
   {
    "duration": 15,
    "start_time": "2021-10-26T11:07:27.944Z"
   },
   {
    "duration": 6,
    "start_time": "2021-10-26T11:07:27.960Z"
   },
   {
    "duration": 24,
    "start_time": "2021-10-26T11:07:27.967Z"
   },
   {
    "duration": 10,
    "start_time": "2021-10-26T11:07:27.992Z"
   },
   {
    "duration": 8,
    "start_time": "2021-10-26T11:07:28.004Z"
   },
   {
    "duration": 9,
    "start_time": "2021-10-26T11:07:28.018Z"
   },
   {
    "duration": 9,
    "start_time": "2021-10-26T11:07:28.029Z"
   },
   {
    "duration": 9,
    "start_time": "2021-10-26T11:07:28.040Z"
   },
   {
    "duration": 49,
    "start_time": "2021-10-26T11:07:28.050Z"
   },
   {
    "duration": 8,
    "start_time": "2021-10-26T11:07:28.101Z"
   },
   {
    "duration": 15,
    "start_time": "2021-10-26T11:07:28.110Z"
   },
   {
    "duration": 11,
    "start_time": "2021-10-26T11:07:28.126Z"
   },
   {
    "duration": 7,
    "start_time": "2021-10-26T11:07:28.139Z"
   },
   {
    "duration": 11,
    "start_time": "2021-10-26T11:07:28.148Z"
   },
   {
    "duration": 38,
    "start_time": "2021-10-26T11:07:28.161Z"
   },
   {
    "duration": 11,
    "start_time": "2021-10-26T11:07:28.200Z"
   },
   {
    "duration": 19,
    "start_time": "2021-10-26T11:07:28.213Z"
   },
   {
    "duration": 9,
    "start_time": "2021-10-26T11:07:28.234Z"
   },
   {
    "duration": 8,
    "start_time": "2021-10-26T11:07:28.244Z"
   },
   {
    "duration": 7,
    "start_time": "2021-10-26T11:07:28.253Z"
   },
   {
    "duration": 42,
    "start_time": "2021-10-26T11:07:28.261Z"
   },
   {
    "duration": 3,
    "start_time": "2021-10-26T11:07:28.305Z"
   },
   {
    "duration": 11,
    "start_time": "2021-10-26T11:07:28.309Z"
   },
   {
    "duration": 3,
    "start_time": "2021-10-26T11:07:28.322Z"
   },
   {
    "duration": 5,
    "start_time": "2021-10-26T11:07:28.326Z"
   },
   {
    "duration": 5,
    "start_time": "2021-10-26T11:07:28.333Z"
   },
   {
    "duration": 16,
    "start_time": "2021-10-26T11:07:28.340Z"
   },
   {
    "duration": 8,
    "start_time": "2021-10-26T11:07:28.391Z"
   },
   {
    "duration": 10,
    "start_time": "2021-10-26T11:07:28.401Z"
   },
   {
    "duration": 13,
    "start_time": "2021-10-26T11:07:28.413Z"
   },
   {
    "duration": 7,
    "start_time": "2021-10-26T11:07:28.428Z"
   },
   {
    "duration": 9,
    "start_time": "2021-10-26T11:07:28.436Z"
   },
   {
    "duration": 7,
    "start_time": "2021-10-26T11:07:28.446Z"
   },
   {
    "duration": 5,
    "start_time": "2021-10-26T11:07:28.454Z"
   },
   {
    "duration": 34,
    "start_time": "2021-10-26T11:07:28.460Z"
   },
   {
    "duration": 16,
    "start_time": "2021-10-26T11:07:28.496Z"
   },
   {
    "duration": 11,
    "start_time": "2021-10-26T11:07:28.513Z"
   },
   {
    "duration": 10,
    "start_time": "2021-10-26T11:07:28.525Z"
   },
   {
    "duration": 7,
    "start_time": "2021-10-26T11:07:28.537Z"
   },
   {
    "duration": 11,
    "start_time": "2021-10-26T11:07:28.545Z"
   },
   {
    "duration": 40,
    "start_time": "2021-10-26T11:07:28.558Z"
   },
   {
    "duration": 10,
    "start_time": "2021-10-26T11:07:28.599Z"
   },
   {
    "duration": 13,
    "start_time": "2021-10-26T11:07:28.610Z"
   },
   {
    "duration": 11,
    "start_time": "2021-10-26T11:07:28.625Z"
   },
   {
    "duration": 12,
    "start_time": "2021-10-26T11:07:28.637Z"
   },
   {
    "duration": 11,
    "start_time": "2021-10-26T11:07:28.651Z"
   },
   {
    "duration": 9,
    "start_time": "2021-10-26T11:07:28.663Z"
   },
   {
    "duration": 21,
    "start_time": "2021-10-26T11:07:28.674Z"
   },
   {
    "duration": 14,
    "start_time": "2021-10-26T11:07:28.696Z"
   },
   {
    "duration": 9,
    "start_time": "2021-10-26T11:07:28.711Z"
   },
   {
    "duration": 20,
    "start_time": "2021-10-26T11:07:28.721Z"
   },
   {
    "duration": 5,
    "start_time": "2021-10-26T11:07:28.743Z"
   },
   {
    "duration": 8,
    "start_time": "2021-10-26T11:07:28.750Z"
   },
   {
    "duration": 32,
    "start_time": "2021-10-26T11:07:28.760Z"
   },
   {
    "duration": 16,
    "start_time": "2021-10-26T11:07:28.795Z"
   },
   {
    "duration": 17,
    "start_time": "2021-10-26T11:07:28.812Z"
   },
   {
    "duration": 6,
    "start_time": "2021-10-26T11:07:28.830Z"
   },
   {
    "duration": 6,
    "start_time": "2021-10-26T11:07:28.837Z"
   },
   {
    "duration": 10,
    "start_time": "2021-10-26T11:07:28.844Z"
   },
   {
    "duration": 40,
    "start_time": "2021-10-26T11:07:28.855Z"
   },
   {
    "duration": 5,
    "start_time": "2021-10-26T11:07:28.897Z"
   },
   {
    "duration": 6,
    "start_time": "2021-10-26T11:07:28.904Z"
   },
   {
    "duration": 10,
    "start_time": "2021-10-26T11:07:28.912Z"
   },
   {
    "duration": 19,
    "start_time": "2021-10-26T11:07:28.923Z"
   },
   {
    "duration": 10,
    "start_time": "2021-10-26T11:07:28.944Z"
   },
   {
    "duration": 4,
    "start_time": "2021-10-26T11:07:28.955Z"
   },
   {
    "duration": 30,
    "start_time": "2021-10-26T11:07:28.961Z"
   },
   {
    "duration": 13,
    "start_time": "2021-10-26T11:07:28.993Z"
   },
   {
    "duration": 2,
    "start_time": "2021-10-26T11:07:29.008Z"
   },
   {
    "duration": 16,
    "start_time": "2021-10-26T11:07:29.011Z"
   },
   {
    "duration": 2,
    "start_time": "2021-10-26T11:07:29.029Z"
   },
   {
    "duration": 7,
    "start_time": "2021-10-26T11:07:29.033Z"
   },
   {
    "duration": 6,
    "start_time": "2021-10-26T11:07:29.041Z"
   },
   {
    "duration": 12,
    "start_time": "2021-10-26T11:07:29.048Z"
   },
   {
    "duration": 30,
    "start_time": "2021-10-26T11:07:29.062Z"
   },
   {
    "duration": 15,
    "start_time": "2021-10-26T11:07:29.094Z"
   },
   {
    "duration": 16,
    "start_time": "2021-10-26T11:07:29.110Z"
   },
   {
    "duration": 3,
    "start_time": "2021-10-26T11:07:29.128Z"
   },
   {
    "duration": 9,
    "start_time": "2021-10-26T11:07:29.133Z"
   },
   {
    "duration": 48,
    "start_time": "2021-10-26T11:07:29.144Z"
   },
   {
    "duration": 32,
    "start_time": "2021-10-26T11:07:29.194Z"
   },
   {
    "duration": 5,
    "start_time": "2021-10-26T11:07:29.228Z"
   },
   {
    "duration": 27,
    "start_time": "2021-10-26T11:07:29.234Z"
   },
   {
    "duration": 51,
    "start_time": "2021-10-26T11:07:29.262Z"
   },
   {
    "duration": 27,
    "start_time": "2021-10-26T11:07:29.314Z"
   },
   {
    "duration": 54,
    "start_time": "2021-10-26T11:07:29.343Z"
   },
   {
    "duration": 23,
    "start_time": "2021-10-26T11:07:29.399Z"
   },
   {
    "duration": 30,
    "start_time": "2021-10-26T11:07:29.424Z"
   },
   {
    "duration": 48,
    "start_time": "2021-10-26T11:07:29.456Z"
   },
   {
    "duration": 6,
    "start_time": "2021-10-26T11:07:29.506Z"
   },
   {
    "duration": 35,
    "start_time": "2021-10-26T11:07:29.513Z"
   },
   {
    "duration": 42,
    "start_time": "2021-10-26T11:07:29.550Z"
   },
   {
    "duration": 31,
    "start_time": "2021-10-26T11:07:29.594Z"
   },
   {
    "duration": 26,
    "start_time": "2021-10-26T11:07:29.627Z"
   },
   {
    "duration": 52,
    "start_time": "2021-10-26T11:07:29.655Z"
   },
   {
    "duration": 8,
    "start_time": "2021-10-26T11:07:29.708Z"
   },
   {
    "duration": 15,
    "start_time": "2021-10-26T11:07:29.718Z"
   },
   {
    "duration": 15,
    "start_time": "2021-10-26T11:07:29.735Z"
   },
   {
    "duration": 5,
    "start_time": "2021-10-26T11:07:29.752Z"
   },
   {
    "duration": 35,
    "start_time": "2021-10-26T11:07:29.758Z"
   },
   {
    "duration": 9,
    "start_time": "2021-10-26T11:07:29.795Z"
   },
   {
    "duration": 4,
    "start_time": "2021-10-26T11:09:28.274Z"
   },
   {
    "duration": 6,
    "start_time": "2021-10-26T11:18:43.544Z"
   },
   {
    "duration": 572,
    "start_time": "2021-10-26T11:50:40.285Z"
   },
   {
    "duration": 50,
    "start_time": "2021-10-26T11:50:40.861Z"
   },
   {
    "duration": 17,
    "start_time": "2021-10-26T11:50:40.913Z"
   },
   {
    "duration": 10,
    "start_time": "2021-10-26T11:50:40.931Z"
   },
   {
    "duration": 3,
    "start_time": "2021-10-26T11:50:40.943Z"
   },
   {
    "duration": 11,
    "start_time": "2021-10-26T11:50:40.947Z"
   },
   {
    "duration": 35,
    "start_time": "2021-10-26T11:50:40.960Z"
   },
   {
    "duration": 6,
    "start_time": "2021-10-26T11:50:40.997Z"
   },
   {
    "duration": 10,
    "start_time": "2021-10-26T11:50:41.005Z"
   },
   {
    "duration": 11,
    "start_time": "2021-10-26T11:50:41.016Z"
   },
   {
    "duration": 4,
    "start_time": "2021-10-26T11:50:41.028Z"
   },
   {
    "duration": 7,
    "start_time": "2021-10-26T11:50:41.033Z"
   },
   {
    "duration": 14,
    "start_time": "2021-10-26T11:50:41.041Z"
   },
   {
    "duration": 41,
    "start_time": "2021-10-26T11:50:41.057Z"
   },
   {
    "duration": 7,
    "start_time": "2021-10-26T11:50:41.099Z"
   },
   {
    "duration": 6,
    "start_time": "2021-10-26T11:50:41.108Z"
   },
   {
    "duration": 4,
    "start_time": "2021-10-26T11:50:41.116Z"
   },
   {
    "duration": 8,
    "start_time": "2021-10-26T11:50:41.122Z"
   },
   {
    "duration": 10,
    "start_time": "2021-10-26T11:50:41.131Z"
   },
   {
    "duration": 391,
    "start_time": "2021-10-26T11:50:41.143Z"
   },
   {
    "duration": 9,
    "start_time": "2021-10-26T11:50:41.535Z"
   },
   {
    "duration": 7,
    "start_time": "2021-10-26T11:50:41.548Z"
   },
   {
    "duration": 4,
    "start_time": "2021-10-26T11:50:41.558Z"
   },
   {
    "duration": 30,
    "start_time": "2021-10-26T11:50:41.563Z"
   },
   {
    "duration": 7,
    "start_time": "2021-10-26T11:50:41.594Z"
   },
   {
    "duration": 6,
    "start_time": "2021-10-26T11:50:41.602Z"
   },
   {
    "duration": 15,
    "start_time": "2021-10-26T11:50:41.610Z"
   },
   {
    "duration": 13,
    "start_time": "2021-10-26T11:50:41.627Z"
   },
   {
    "duration": 16,
    "start_time": "2021-10-26T11:50:41.641Z"
   },
   {
    "duration": 41,
    "start_time": "2021-10-26T11:50:41.659Z"
   },
   {
    "duration": 3,
    "start_time": "2021-10-26T11:50:41.702Z"
   },
   {
    "duration": 8,
    "start_time": "2021-10-26T11:50:41.706Z"
   },
   {
    "duration": 16,
    "start_time": "2021-10-26T11:50:41.716Z"
   },
   {
    "duration": 19,
    "start_time": "2021-10-26T11:50:41.734Z"
   },
   {
    "duration": 39,
    "start_time": "2021-10-26T11:50:41.754Z"
   },
   {
    "duration": 8,
    "start_time": "2021-10-26T11:50:41.794Z"
   },
   {
    "duration": 12,
    "start_time": "2021-10-26T11:50:41.804Z"
   },
   {
    "duration": 11,
    "start_time": "2021-10-26T11:50:41.817Z"
   },
   {
    "duration": 5,
    "start_time": "2021-10-26T11:50:41.830Z"
   },
   {
    "duration": 5,
    "start_time": "2021-10-26T11:50:41.836Z"
   },
   {
    "duration": 6,
    "start_time": "2021-10-26T11:50:41.843Z"
   },
   {
    "duration": 49,
    "start_time": "2021-10-26T11:50:41.851Z"
   },
   {
    "duration": 5,
    "start_time": "2021-10-26T11:50:41.901Z"
   },
   {
    "duration": 7,
    "start_time": "2021-10-26T11:50:41.907Z"
   },
   {
    "duration": 5,
    "start_time": "2021-10-26T11:50:41.916Z"
   },
   {
    "duration": 17,
    "start_time": "2021-10-26T11:50:41.922Z"
   },
   {
    "duration": 376,
    "start_time": "2021-10-26T11:50:41.940Z"
   },
   {
    "duration": 6,
    "start_time": "2021-10-26T11:50:42.318Z"
   },
   {
    "duration": 8,
    "start_time": "2021-10-26T11:50:42.325Z"
   },
   {
    "duration": 5,
    "start_time": "2021-10-26T11:50:42.335Z"
   },
   {
    "duration": 6,
    "start_time": "2021-10-26T11:50:42.341Z"
   },
   {
    "duration": 4,
    "start_time": "2021-10-26T11:50:42.349Z"
   },
   {
    "duration": 6,
    "start_time": "2021-10-26T11:50:42.354Z"
   },
   {
    "duration": 2347,
    "start_time": "2021-10-26T11:50:42.362Z"
   },
   {
    "duration": 13,
    "start_time": "2021-10-26T11:50:44.711Z"
   },
   {
    "duration": 6,
    "start_time": "2021-10-26T11:50:44.726Z"
   },
   {
    "duration": 2768,
    "start_time": "2021-10-26T11:50:44.733Z"
   },
   {
    "duration": 11,
    "start_time": "2021-10-26T11:50:47.502Z"
   },
   {
    "duration": 24,
    "start_time": "2021-10-26T11:50:47.515Z"
   },
   {
    "duration": 15,
    "start_time": "2021-10-26T11:50:47.541Z"
   },
   {
    "duration": 5,
    "start_time": "2021-10-26T11:50:47.557Z"
   },
   {
    "duration": 8,
    "start_time": "2021-10-26T11:50:47.563Z"
   },
   {
    "duration": 26,
    "start_time": "2021-10-26T11:50:47.573Z"
   },
   {
    "duration": 5,
    "start_time": "2021-10-26T11:50:47.601Z"
   },
   {
    "duration": 8,
    "start_time": "2021-10-26T11:50:47.607Z"
   },
   {
    "duration": 14,
    "start_time": "2021-10-26T11:50:47.616Z"
   },
   {
    "duration": 8,
    "start_time": "2021-10-26T11:50:47.637Z"
   },
   {
    "duration": 9,
    "start_time": "2021-10-26T11:50:47.648Z"
   },
   {
    "duration": 33,
    "start_time": "2021-10-26T11:50:47.659Z"
   },
   {
    "duration": 8,
    "start_time": "2021-10-26T11:50:47.694Z"
   },
   {
    "duration": 12,
    "start_time": "2021-10-26T11:50:47.703Z"
   },
   {
    "duration": 7,
    "start_time": "2021-10-26T11:50:47.717Z"
   },
   {
    "duration": 12,
    "start_time": "2021-10-26T11:50:47.725Z"
   },
   {
    "duration": 11,
    "start_time": "2021-10-26T11:50:47.738Z"
   },
   {
    "duration": 7,
    "start_time": "2021-10-26T11:50:47.750Z"
   },
   {
    "duration": 42,
    "start_time": "2021-10-26T11:50:47.759Z"
   },
   {
    "duration": 11,
    "start_time": "2021-10-26T11:50:47.802Z"
   },
   {
    "duration": 11,
    "start_time": "2021-10-26T11:50:47.814Z"
   },
   {
    "duration": 18,
    "start_time": "2021-10-26T11:50:47.826Z"
   },
   {
    "duration": 8,
    "start_time": "2021-10-26T11:50:47.845Z"
   },
   {
    "duration": 41,
    "start_time": "2021-10-26T11:50:47.855Z"
   },
   {
    "duration": 13,
    "start_time": "2021-10-26T11:50:47.897Z"
   },
   {
    "duration": 15,
    "start_time": "2021-10-26T11:50:47.912Z"
   },
   {
    "duration": 3,
    "start_time": "2021-10-26T11:50:47.929Z"
   },
   {
    "duration": 9,
    "start_time": "2021-10-26T11:50:47.934Z"
   },
   {
    "duration": 3,
    "start_time": "2021-10-26T11:50:47.944Z"
   },
   {
    "duration": 9,
    "start_time": "2021-10-26T11:50:47.949Z"
   },
   {
    "duration": 10,
    "start_time": "2021-10-26T11:50:47.959Z"
   },
   {
    "duration": 14,
    "start_time": "2021-10-26T11:50:47.992Z"
   },
   {
    "duration": 16,
    "start_time": "2021-10-26T11:50:48.008Z"
   },
   {
    "duration": 16,
    "start_time": "2021-10-26T11:50:48.026Z"
   },
   {
    "duration": 15,
    "start_time": "2021-10-26T11:50:48.043Z"
   },
   {
    "duration": 5,
    "start_time": "2021-10-26T11:50:48.060Z"
   },
   {
    "duration": 8,
    "start_time": "2021-10-26T11:50:48.067Z"
   },
   {
    "duration": 4,
    "start_time": "2021-10-26T11:50:48.091Z"
   },
   {
    "duration": 5,
    "start_time": "2021-10-26T11:50:48.097Z"
   },
   {
    "duration": 15,
    "start_time": "2021-10-26T11:50:48.104Z"
   },
   {
    "duration": 15,
    "start_time": "2021-10-26T11:50:48.121Z"
   },
   {
    "duration": 11,
    "start_time": "2021-10-26T11:50:48.137Z"
   },
   {
    "duration": 10,
    "start_time": "2021-10-26T11:50:48.149Z"
   },
   {
    "duration": 9,
    "start_time": "2021-10-26T11:50:48.191Z"
   },
   {
    "duration": 16,
    "start_time": "2021-10-26T11:50:48.201Z"
   },
   {
    "duration": 18,
    "start_time": "2021-10-26T11:50:48.218Z"
   },
   {
    "duration": 7,
    "start_time": "2021-10-26T11:50:48.238Z"
   },
   {
    "duration": 8,
    "start_time": "2021-10-26T11:50:48.247Z"
   },
   {
    "duration": 8,
    "start_time": "2021-10-26T11:50:48.257Z"
   },
   {
    "duration": 11,
    "start_time": "2021-10-26T11:50:48.267Z"
   },
   {
    "duration": 10,
    "start_time": "2021-10-26T11:50:48.291Z"
   },
   {
    "duration": 3,
    "start_time": "2021-10-26T11:50:48.303Z"
   },
   {
    "duration": 11,
    "start_time": "2021-10-26T11:50:48.308Z"
   },
   {
    "duration": 14,
    "start_time": "2021-10-26T11:50:48.321Z"
   },
   {
    "duration": 8,
    "start_time": "2021-10-26T11:50:48.336Z"
   },
   {
    "duration": 14,
    "start_time": "2021-10-26T11:50:48.345Z"
   },
   {
    "duration": 34,
    "start_time": "2021-10-26T11:50:48.360Z"
   },
   {
    "duration": 10,
    "start_time": "2021-10-26T11:50:48.395Z"
   },
   {
    "duration": 6,
    "start_time": "2021-10-26T11:50:48.406Z"
   },
   {
    "duration": 15,
    "start_time": "2021-10-26T11:50:48.413Z"
   },
   {
    "duration": 15,
    "start_time": "2021-10-26T11:50:48.430Z"
   },
   {
    "duration": 6,
    "start_time": "2021-10-26T11:50:48.447Z"
   },
   {
    "duration": 5,
    "start_time": "2021-10-26T11:50:48.454Z"
   },
   {
    "duration": 32,
    "start_time": "2021-10-26T11:50:48.460Z"
   },
   {
    "duration": 24,
    "start_time": "2021-10-26T11:50:48.494Z"
   },
   {
    "duration": 5,
    "start_time": "2021-10-26T11:50:48.520Z"
   },
   {
    "duration": 6,
    "start_time": "2021-10-26T11:50:48.527Z"
   },
   {
    "duration": 10,
    "start_time": "2021-10-26T11:50:48.534Z"
   },
   {
    "duration": 17,
    "start_time": "2021-10-26T11:50:48.546Z"
   },
   {
    "duration": 6,
    "start_time": "2021-10-26T11:50:48.565Z"
   },
   {
    "duration": 3,
    "start_time": "2021-10-26T11:50:48.591Z"
   },
   {
    "duration": 18,
    "start_time": "2021-10-26T11:50:48.596Z"
   },
   {
    "duration": 16,
    "start_time": "2021-10-26T11:50:48.616Z"
   },
   {
    "duration": 3,
    "start_time": "2021-10-26T11:50:48.633Z"
   },
   {
    "duration": 18,
    "start_time": "2021-10-26T11:50:48.638Z"
   },
   {
    "duration": 2,
    "start_time": "2021-10-26T11:50:48.658Z"
   },
   {
    "duration": 10,
    "start_time": "2021-10-26T11:50:48.662Z"
   },
   {
    "duration": 5,
    "start_time": "2021-10-26T11:50:48.691Z"
   },
   {
    "duration": 15,
    "start_time": "2021-10-26T11:50:48.698Z"
   },
   {
    "duration": 2,
    "start_time": "2021-10-26T11:50:48.715Z"
   },
   {
    "duration": 17,
    "start_time": "2021-10-26T11:50:48.719Z"
   },
   {
    "duration": 15,
    "start_time": "2021-10-26T11:50:48.737Z"
   },
   {
    "duration": 3,
    "start_time": "2021-10-26T11:50:48.753Z"
   },
   {
    "duration": 9,
    "start_time": "2021-10-26T11:50:48.758Z"
   },
   {
    "duration": 45,
    "start_time": "2021-10-26T11:50:48.768Z"
   },
   {
    "duration": 29,
    "start_time": "2021-10-26T11:50:48.814Z"
   },
   {
    "duration": 4,
    "start_time": "2021-10-26T11:50:48.845Z"
   },
   {
    "duration": 45,
    "start_time": "2021-10-26T11:50:48.851Z"
   },
   {
    "duration": 28,
    "start_time": "2021-10-26T11:50:48.898Z"
   },
   {
    "duration": 24,
    "start_time": "2021-10-26T11:50:48.928Z"
   },
   {
    "duration": 51,
    "start_time": "2021-10-26T11:50:48.953Z"
   },
   {
    "duration": 20,
    "start_time": "2021-10-26T11:50:49.006Z"
   },
   {
    "duration": 27,
    "start_time": "2021-10-26T11:50:49.028Z"
   },
   {
    "duration": 42,
    "start_time": "2021-10-26T11:50:49.056Z"
   },
   {
    "duration": 5,
    "start_time": "2021-10-26T11:50:49.100Z"
   },
   {
    "duration": 38,
    "start_time": "2021-10-26T11:50:49.106Z"
   },
   {
    "duration": 22,
    "start_time": "2021-10-26T11:50:49.145Z"
   },
   {
    "duration": 48,
    "start_time": "2021-10-26T11:50:49.168Z"
   },
   {
    "duration": 26,
    "start_time": "2021-10-26T11:50:49.217Z"
   },
   {
    "duration": 52,
    "start_time": "2021-10-26T11:50:49.244Z"
   },
   {
    "duration": 8,
    "start_time": "2021-10-26T11:50:49.298Z"
   },
   {
    "duration": 16,
    "start_time": "2021-10-26T11:50:49.308Z"
   },
   {
    "duration": 15,
    "start_time": "2021-10-26T11:50:49.325Z"
   },
   {
    "duration": 4,
    "start_time": "2021-10-26T11:50:49.341Z"
   },
   {
    "duration": 9,
    "start_time": "2021-10-26T11:50:49.347Z"
   },
   {
    "duration": 40,
    "start_time": "2021-10-26T11:50:49.358Z"
   }
  ],
  "kernelspec": {
   "display_name": "Python 3",
   "language": "python",
   "name": "python3"
  },
  "language_info": {
   "codemirror_mode": {
    "name": "ipython",
    "version": 3
   },
   "file_extension": ".py",
   "mimetype": "text/x-python",
   "name": "python",
   "nbconvert_exporter": "python",
   "pygments_lexer": "ipython3",
   "version": "3.7.8"
  },
  "toc": {
   "base_numbering": 1,
   "nav_menu": {},
   "number_sections": true,
   "sideBar": true,
   "skip_h1_title": true,
   "title_cell": "Table of Contents",
   "title_sidebar": "Contents",
   "toc_cell": true,
   "toc_position": {},
   "toc_section_display": true,
   "toc_window_display": true
  }
 },
 "nbformat": 4,
 "nbformat_minor": 2
}
